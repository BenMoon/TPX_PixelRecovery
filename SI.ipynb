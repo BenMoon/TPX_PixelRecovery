{
 "cells": [
  {
   "cell_type": "markdown",
   "metadata": {},
   "source": [
    "# Supplementary information\n",
    "\n",
    "This notebook provides supplementary information for the manuscript: \"???\"\n"
   ]
  },
  {
   "attachments": {},
   "cell_type": "markdown",
   "metadata": {},
   "source": [
    "# imports and custom functions"
   ]
  },
  {
   "cell_type": "code",
   "execution_count": null,
   "metadata": {},
   "outputs": [],
   "source": [
    "import numpy as np\n",
    "import pandas as pd\n",
    "import holoviews as hv\n",
    "hv.extension('bokeh')\n",
    "from scipy.optimize import curve_fit\n",
    "from scipy.stats import binned_statistic_2d\n",
    "from tqdm import tqdm\n",
    "import yaml\n",
    "import xarray as xr\n",
    "import hvplot.xarray\n",
    "import urllib.request\n",
    "import panel.widgets as pnw"
   ]
  },
  {
   "cell_type": "code",
   "execution_count": null,
   "metadata": {},
   "outputs": [],
   "source": [
    "from holoviews import opts\n",
    "opts.defaults(\n",
    "    opts.Scatter(width=1200, height=400, tools=[\"hover\"], show_grid=True, size=8),\n",
    "    opts.Histogram(width=1000, height=400, tools=[\"hover\"], ),\n",
    "    opts.Image(frame_width=400, frame_height=400, tools=[\"hover\"], xlabel=\"ToT1 (ns)\", ylabel=\"ToT2 (ns)\", fontscale=1.5),\n",
    "    opts.Curve(width=800, height=500, tools=[\"hover\"], show_grid=True, fontscale=1.5),\n",
    "    opts.Points(width=1000, height=500, tools=[\"hover\"], show_grid=True)\n",
    ")"
   ]
  },
  {
   "attachments": {},
   "cell_type": "markdown",
   "metadata": {},
   "source": [
    "## custom functions"
   ]
  },
  {
   "cell_type": "code",
   "execution_count": null,
   "metadata": {},
   "outputs": [],
   "source": [
    "offset = -28\n",
    "def fit_single_scan(scan_nr: str) -> list:\n",
    "    global df_scans\n",
    "    model = lambda t, A, B, c: A * (1 - B * np.exp(-t / c))\n",
    "    loss = lambda t, A, B, c: model(t, A, B, c)[0] / A\n",
    "\n",
    "    # define our x-axis from the first scans\n",
    "    x_axe = np.float_(runNrs[\"scan0100\"][\"delays\"]) - 1\n",
    "\n",
    "    # fetch data\n",
    "    df = df_scans.query(f\"`scan name` == '{scan_nr}'\")\n",
    "\n",
    "    # omit nans\n",
    "    y = df[~df['ToT2 (ns)'].isna()]['ToT2 (ns)']\n",
    "    if len(y) > -offset:\n",
    "        y = y[offset:]\n",
    "    x = x_axe[-len(y):]\n",
    "    # unequal starting for fit\n",
    "    #y = y[4:]\n",
    "    #x = x_axe[-(len(y)):]\n",
    "    #assert len(y) == len(x)\n",
    "\n",
    "    p0 = [y[-6:].mean(), 1, 8]\n",
    "    popt, _ = curve_fit(\n",
    "        model,\n",
    "        x, y,\n",
    "        p0=p0,\n",
    "        maxfev=5000,\n",
    "        bounds=((50, 1e-2, 1), (2150, 1, 15)),\n",
    "    )\n",
    "\n",
    "    return [\n",
    "        popt[2],  # recovery time\n",
    "        df['ToT1 (ns)'][-6:].mean(),  # mean ToT1\n",
    "        y[-6:].mean(),  # mean ToT2\n",
    "        (popt[0] - model(np.array([2]), *popt))[0],  # absolute loss 2 µs\n",
    "        (popt[0] - model(np.array([3]), *popt))[0],  # absolute loss 3 µs\n",
    "        (popt[0] - model(np.array([4]), *popt))[0],  # absolute loss 4 µs\n",
    "        (1 - loss(np.array([2]), *popt)) * 100,  # relative loss 2 µs\n",
    "        (1 - loss(np.array([3]), *popt)) * 100,  # relative loss 3 µs\n",
    "        (1 - loss(np.array([4]), *popt)) * 100,  # relative loss 4 µs\n",
    "        (1 - loss(np.array([5]), *popt)) * 100,\n",
    "        (1 - loss(np.array([6]), *popt)) * 100,\n",
    "        (1 - loss(np.array([7]), *popt)) * 100,\n",
    "        (1 - loss(np.array([8]), *popt)) * 100,\n",
    "        (1 - loss(np.array([9]), *popt)) * 100,\n",
    "        (1 - loss(np.array([10]), *popt)) * 100,\n",
    "    ]"
   ]
  },
  {
   "cell_type": "code",
   "execution_count": null,
   "metadata": {},
   "outputs": [],
   "source": [
    "get_x_axis_from_bins = lambda x_bins: 0.5 * (x_bins[1:] + x_bins[:-1])"
   ]
  },
  {
   "attachments": {},
   "cell_type": "markdown",
   "metadata": {},
   "source": [
    "# load data"
   ]
  },
  {
   "cell_type": "code",
   "execution_count": null,
   "metadata": {},
   "outputs": [],
   "source": [
    "with urllib.request.urlopen(\"https://syncandshare.desy.de/index.php/s/zgPcWZMyBGcQ5MC/download/TOT_scans.yaml\") as f:\n",
    "    runNrs = yaml.safe_load(f)"
   ]
  },
  {
   "cell_type": "code",
   "execution_count": null,
   "metadata": {},
   "outputs": [],
   "source": [
    "tot1s = {i['tot1'] for i in runNrs.values()}\n",
    "tot2s = {i['tot2'] for i in runNrs.values()}"
   ]
  },
  {
   "cell_type": "markdown",
   "metadata": {},
   "source": [
    "#scan_data = pd.read_parquet('https://syncandshare.desy.de/index.php/s/KRA42M7YimM3PAP/download/scan_data.parq')\n",
    "scan_data = pd.read_parquet('data/scan_data.parq')\n",
    "scan_data"
   ]
  },
  {
   "cell_type": "code",
   "execution_count": null,
   "metadata": {},
   "outputs": [],
   "source": [
    "df_scans = pd.read_parquet('https://syncandshare.desy.de/index.php/s/Dw3Nf2PQ59QppYH/download/df_scans.parq')\n",
    "#df_scans = pd.read_parquet('data/df_scans.parq')"
   ]
  },
  {
   "attachments": {},
   "cell_type": "markdown",
   "metadata": {},
   "source": [
    "## convert single traces to matrix"
   ]
  },
  {
   "cell_type": "code",
   "execution_count": null,
   "metadata": {},
   "outputs": [],
   "source": [
    "tot1_tot2 = [(*fit_single_scan(scan), scan) for scan in tqdm(runNrs.keys())]\n",
    "tot1_tot2 = pd.DataFrame(\n",
    "    tot1_tot2,\n",
    "    columns=[\n",
    "        \"recovery\",\n",
    "        \"ToT1\",\n",
    "        \"ToT2\",\n",
    "        \"absolute loss 2µs\",\n",
    "        \"absolute loss 3µs\",\n",
    "        \"absolute loss 4µs\",\n",
    "        \"relativ loss 2µs\",\n",
    "        \"relativ loss 3µs\",\n",
    "        \"relativ loss 4µs\",\n",
    "        \"relativ loss 5µs\",\n",
    "        \"relativ loss 6µs\",\n",
    "        \"relativ loss 7µs\",\n",
    "        \"relativ loss 8µs\",\n",
    "        \"relativ loss 9µs\",\n",
    "        \"relativ loss 10µs\",\n",
    "        \"scan\",\n",
    "    ],\n",
    ")\n",
    "tot1_tot2[\"ToT1 / ToT2\"] = tot1_tot2[\"ToT1\"] / tot1_tot2[\"ToT2\"]\n",
    "tot1_tot2[\"ToT2 / ToT1\"] = tot1_tot2[\"ToT2\"] / tot1_tot2[\"ToT1\"]\n",
    "tot1_tot2"
   ]
  },
  {
   "attachments": {},
   "cell_type": "markdown",
   "metadata": {},
   "source": [
    "# Plots\n",
    "## Single trace\n",
    "\n",
    "- yellow mostly straigt line: ToT1\n",
    "- blue dots: values for ToT2\n",
    "- green curve of the dots\n",
    "- vertical blue line: average ToT1 of first 6 values + 475 ns \n",
    "- (TODO: is the 475 the time of the super pixel or from the discriminator)"
   ]
  },
  {
   "cell_type": "code",
   "execution_count": null,
   "metadata": {},
   "outputs": [],
   "source": [
    "a = 7\n",
    "def load_tot_curves(tot1, tot2, **kwargs):\n",
    "    global df_scans, a\n",
    "    # define our x-axis from the first scans\n",
    "    x_axe = np.float_(runNrs[\"scan0100\"][\"delays\"]) - 1\n",
    "    model = lambda tau, A, B, c: A * (1 - B * np.exp(-tau / c))\n",
    "\n",
    "    # get scan_nr for ToT combination\n",
    "    scan_nr = [k for k, v in runNrs.items() if v['tot1'] == tot1 and v['tot2'] == tot2]\n",
    "\n",
    "    # for few ToT combinations, there are multiple scans; just take the first one\n",
    "    scan_nr = scan_nr[0] if scan_nr else 'scan0278'\n",
    "    df = df_scans.query(f'`scan name` == \"{scan_nr}\"')\n",
    "\n",
    "    # omit nans\n",
    "    y = df[~df['ToT2 (ns)'].isna()]['ToT2 (ns)']\n",
    "    if len(y) > -offset:\n",
    "        y = y[offset:]\n",
    "    x = x_axe[-len(y):]\n",
    "    p0 = [df['ToT2 (ns)'][-6:].mean(), 1, 1]\n",
    "    try:\n",
    "        popt, _ = curve_fit(model, x, y, p0=p0)\n",
    "    except:\n",
    "        popt = p0\n",
    "\n",
    "    return hv.Overlay(\n",
    "            hv.Curve((x_axe, df['ToT2 (ns)']), label='ToT of 2nd LED')\n",
    "            * hv.Scatter((x_axe, df['ToT2 (ns)']), label='ToT of 2nd LED').opts(size=5)\n",
    "            * hv.Curve(\n",
    "                (x, model(x, *popt)),\n",
    "                label=f\"A(1-B exp(-t/c)):\\nA={popt[0]:.1f}, B={popt[1]:.2f}, c={popt[2]:.2f}\",).opts(color='green')\n",
    "            * hv.ErrorBars(np.column_stack([x_axe, df['ToT2 (ns)'], df['ToT2 error']]))\n",
    "            * hv.Curve((x_axe, df['ToT1 (ns)']), label=f\"ToT of 1st LED\") \n",
    "            #* hv.VLine((df['ToT1 (ns)'][:6].mean()+475)*1e-3).opts(color='blue')  # first 6 TOT1s (blue)\n",
    "            * hv.VLine((df['ToT1 (ns)'][-10:].mean()+475)*1e-3).opts(color='red')  # last 10 TOT1s (red)\n",
    "            * hv.HLine(df['ToT1 (ns)'].iloc[0] - df['ToT1 (ns)'][-10:].mean())#.opts(line_width=1)\n",
    "            ).opts(legend_position=\"bottom\", framewise=True).opts(\n",
    "                opts.Curve(\n",
    "                xlabel=\"delay (µs)\",\n",
    "                ylabel=\"mean ToT (ns)\",\n",
    "                title=f'{scan_nr}, IKrum={runNrs[scan_nr][\"IKrum\"]}',\n",
    "                xlim=(0.5, None),\n",
    "                logx=True,\n",
    "                framewise=True\n",
    "        ))\n",
    "\n",
    "dmap = hv.DynamicMap(load_tot_curves, kdims=['ToT1','ToT2'])\n",
    "dmap = dmap.redim.values(ToT1=tot1s, ToT2=tot2s)\n",
    "\n",
    "dmap.opts(framewise=True)"
   ]
  },
  {
   "cell_type": "code",
   "execution_count": null,
   "metadata": {},
   "outputs": [],
   "source": [
    "# quantify early ToT2\n",
    "\n",
    "x_axe = np.float_(runNrs[\"scan0100\"][\"delays\"]) - 1\n",
    "df_Δt = pd.DataFrame(columns=['ToT1 (ns)', 'ToT2 (ns)', 'Δt (ns)'])\n",
    "for scan_nr in tqdm(runNrs.keys()):\n",
    "    # get data \n",
    "    df = df_scans.query(f'`scan name` == \"{scan_nr}\"')\n",
    "    \n",
    "    df.reset_index(inplace=True, drop=True)\n",
    "    tot2_real = x_axe[df['ToT2 (ns)'].first_valid_index()] * 1e3\n",
    "\n",
    "    dead_time = np.median(df['ToT1 (ns)']) + 475\n",
    "    ToT1 = df['ToT1 (ns)'][-10:].mean()\n",
    "    ToT2 = df['ToT2 (ns)'][-10:].mean()\n",
    "    Δt = tot2_real - dead_time\n",
    "    Δt = 0. if ToT1 < 1000-475 else Δt\n",
    "    df_Δt = pd.concat((df_Δt, pd.DataFrame([[ToT1, ToT2, Δt]], columns=df_Δt.columns)))\n"
   ]
  },
  {
   "cell_type": "code",
   "execution_count": null,
   "metadata": {},
   "outputs": [],
   "source": [
    "xy_hist, x_bins, y_bins, binnumber = binned_statistic_2d(df_Δt['ToT1 (ns)'], df_Δt['ToT2 (ns)'], \n",
    "    df_Δt['Δt (ns)'], bins=(range(50, 2150, 100), range(50, 2150, 100)))\n",
    "a = hv.Image(xy_hist.T[::-1], bounds=[x_bins[0], y_bins[0], x_bins[-1], y_bins[-1]])\n",
    "a.opts(cmap='coolwarm', logz=False, colorbar=True, title='t(ToT2) (ns) - deadtime')\n",
    "\n",
    "x_hist, x_bins = np.histogram(df_Δt['Δt (ns)'], bins=15)\n",
    "x = get_x_axis_from_bins(x_bins) \n",
    "b = hv.Curve((x, x_hist))\n",
    "c = hv.Scatter((x, x_hist))\n",
    "b.opts(width=400, xlabel='t(ToT2) - Δt (ns)', ylabel='counts')\n",
    "\n",
    "(a + b * c).opts(shared_axes=False)"
   ]
  },
  {
   "attachments": {},
   "cell_type": "markdown",
   "metadata": {},
   "source": [
    "## Recovery time"
   ]
  },
  {
   "cell_type": "code",
   "execution_count": null,
   "metadata": {},
   "outputs": [],
   "source": [
    "xy_hist, x_bins, y_bins, binnumber = binned_statistic_2d(tot1_tot2['ToT1'], tot1_tot2['ToT2'], \n",
    "    tot1_tot2.recovery, bins=(range(50, 2150, 100), range(50, 2150, 100)))\n",
    "a = hv.Image(xy_hist.T[::-1], bounds=[x_bins[0], y_bins[0], x_bins[-1], y_bins[-1]])\n",
    "a.opts(cmap='coolwarm', logz=True, colorbar=True)\n",
    "\n",
    "x_hist, x_bins = np.histogram(tot1_tot2.recovery, bins=20)\n",
    "x = get_x_axis_from_bins(x_bins) \n",
    "b = hv.Curve((x, x_hist))\n",
    "c = hv.Scatter((x, x_hist))\n",
    "b.opts(width=400, xlabel='Recovery time (µs)', ylabel='counts')\n",
    "\n",
    "(a + b * c).opts(shared_axes=False)"
   ]
  },
  {
   "attachments": {},
   "cell_type": "markdown",
   "metadata": {},
   "source": [
    "## absolute loss"
   ]
  },
  {
   "cell_type": "code",
   "execution_count": null,
   "metadata": {},
   "outputs": [],
   "source": [
    "x_bins, y_bins = np.arange(50, 2150, 100), np.arange(50, 2150, 100)\n",
    "x = get_x_axis_from_bins(x_bins)\n",
    "y = get_x_axis_from_bins(y_bins)\n",
    "data = []\n",
    "dims = []\n",
    "gen = (col for col in tot1_tot2.columns if col.startswith(\"absolute\"))\n",
    "for col in gen:\n",
    "    data.append(\n",
    "        binned_statistic_2d(\n",
    "            tot1_tot2[\"ToT1\"],\n",
    "            tot1_tot2[\"ToT2\"],\n",
    "            tot1_tot2[col],\n",
    "            bins=(x_bins, y_bins),\n",
    "        )[0].T\n",
    "    )\n",
    "    dims.append(col)\n",
    "data = np.array(data)\n",
    "da = xr.DataArray(data, coords=[(\"Δt\", dims), (\"ToT1\", x), (\"ToT2\", y)])"
   ]
  },
  {
   "cell_type": "code",
   "execution_count": null,
   "metadata": {},
   "outputs": [],
   "source": [
    "da.hvplot(groupby='Δt', cmap='viridis')"
   ]
  },
  {
   "attachments": {},
   "cell_type": "markdown",
   "metadata": {},
   "source": [
    "## relativ loss"
   ]
  },
  {
   "cell_type": "code",
   "execution_count": null,
   "metadata": {},
   "outputs": [],
   "source": [
    "x_bins, y_bins = np.arange(50, 2150, 100), np.arange(50, 2150, 100)\n",
    "x = get_x_axis_from_bins(x_bins)\n",
    "y = get_x_axis_from_bins(y_bins)\n",
    "data = []\n",
    "dims = []\n",
    "gen = (col for col in tot1_tot2.columns if col.startswith(\"relativ\"))\n",
    "for col in gen:\n",
    "    data.append(\n",
    "        binned_statistic_2d(\n",
    "            tot1_tot2[\"ToT1\"],\n",
    "            tot1_tot2[\"ToT2\"],\n",
    "            tot1_tot2[col],\n",
    "            bins=(x_bins, y_bins),\n",
    "        )[0].T\n",
    "    )\n",
    "    dims.append(col)\n",
    "data = np.array(data)\n",
    "da = xr.DataArray(data, coords=[(\"Δt\", dims), (\"ToT1\", x), (\"ToT2\", y)])"
   ]
  },
  {
   "cell_type": "code",
   "execution_count": null,
   "metadata": {},
   "outputs": [],
   "source": [
    "da.hvplot(groupby='Δt', cmap='viridis')"
   ]
  },
  {
   "cell_type": "markdown",
   "metadata": {},
   "source": [
    "# model"
   ]
  },
  {
   "attachments": {},
   "cell_type": "markdown",
   "metadata": {},
   "source": [
    "## step 0"
   ]
  },
  {
   "cell_type": "code",
   "execution_count": null,
   "metadata": {},
   "outputs": [],
   "source": [
    "xy_hist, x_bins, y_bins, binnumber = binned_statistic_2d(tot1_tot2['ToT1'], tot1_tot2['ToT2'], \n",
    "    #tot1_tot2['relativ loss 2µs'], bins=(range(50, 2150, 100), range(50, 2150, 100)))\n",
    "    tot1_tot2['relativ loss 3µs'], bins=(range(50, 2150, 100), range(50, 2150, 100)))\n",
    "x = get_x_axis_from_bins(x_bins)\n",
    "y = get_x_axis_from_bins(y_bins)"
   ]
  },
  {
   "cell_type": "code",
   "execution_count": null,
   "metadata": {},
   "outputs": [],
   "source": [
    "hv.Overlay(\n",
    "    hv.Curve((x, xy_hist[:, 14]), label=f\"ToT2={y_bins[14]+50}\") *\n",
    "    hv.Curve((x, xy_hist[:, 9]), label=f\"ToT2={y_bins[9]+50}\") *\n",
    "\thv.Curve((x, xy_hist[:, 4]), label=f\"ToT2={y_bins[4]+50}\") *\n",
    "\thv.Curve((x, xy_hist[:, 1]), label=f\"ToT2={y_bins[1]+50}\") *\n",
    "\thv.Curve((x, xy_hist[:, 0]), label=f\"ToT2={y_bins[0]+50}\") \n",
    ").opts(legend_position='top_left').opts(\n",
    "    opts.Curve(xlabel='ToT1 (ns)', ylabel='relativ loss')\n",
    ")\n",
    "#plt.xlabel('ToT1 (ns)')$ *\n",
    "#plt.ylabel('relativ loss')"
   ]
  },
  {
   "attachments": {},
   "cell_type": "markdown",
   "metadata": {},
   "source": [
    "## step 1\n",
    "take the TOT2(TOT1) for every Δt the relative loss is calculated for and fit the slope from a linear function"
   ]
  },
  {
   "cell_type": "code",
   "execution_count": null,
   "metadata": {},
   "outputs": [],
   "source": [
    "plots = []\n",
    "params = []\n",
    "for Δt in tqdm(range(2, 11)):\n",
    "    xy_hist, x_bins, y_bins, binnumber = binned_statistic_2d(tot1_tot2['ToT1'], tot1_tot2['ToT2'], \n",
    "                                                             tot1_tot2[f'relativ loss {Δt}µs'], bins=(range(50, 2150, 100), range(50, 2150, 100)))\n",
    "    ToT1 = x = get_x_axis_from_bins(x_bins)\n",
    "    y = get_x_axis_from_bins(y_bins)\n",
    "\n",
    "    for loss, ToT2 in zip(xy_hist.T, x):\n",
    "        model1 = lambda ToT1, m: m * ToT1\n",
    "        \n",
    "        mask = ~np.isnan(loss)\n",
    "        if mask.any() == True:\n",
    "            popt1, _ = curve_fit(model1, ToT1[mask], loss[mask])\n",
    "            params.append([Δt, ToT2, *popt1])\n",
    "\n",
    "            plots.append(hv.Curve((ToT1, loss), label=f'Δt = {Δt} µs, ToT2 = {ToT2:n}').opts(xlabel='ToT1 (ns)', ylabel=\"loss (%)\", width=400) * \n",
    "                         hv.Curve((ToT1, model1(ToT1, *popt1)), label=', '.join([f'{i:.2e}' for i in popt1])) #*\n",
    "                         #hv.Curve((ToT2, model2(ToT2, *popt2)), label=', '.join([f'{i:.2f}' for i in popt2]))\n",
    "                        )\n",
    "params_ToT2 = pd.DataFrame(params, columns=['Δt', 'ToT2', 'm',])\n"
   ]
  },
  {
   "attachments": {},
   "cell_type": "markdown",
   "metadata": {},
   "source": [
    "# step 2\n",
    "fit an exponetial decay for every TOT2 for the Δt"
   ]
  },
  {
   "cell_type": "code",
   "execution_count": null,
   "metadata": {},
   "outputs": [],
   "source": [
    "model = lambda x, A, c: A * np.exp(- x / c)\n",
    "\n",
    "plots = []\n",
    "params_expfit = []\n",
    "for key, df in params_ToT2.groupby(\"ToT2\")['Δt', 'm']:\n",
    "    popt, _ = curve_fit(model, df['Δt'], df['m'])\n",
    "    params_expfit.append([key, *popt])\n",
    "    \n",
    "    plots.append(hv.Curve(  (df['Δt'], df['m']), label=f'ToT2 = {key}').opts(xlabel='Δt (ns)', ylabel='slope') *\n",
    "                 hv.Scatter((df['Δt'], df['m']), label=f'ToT2 = {key}').opts(size=5)\n",
    "                )\n",
    "\n",
    "params_expfit = pd.DataFrame(params_expfit, columns=['ToT2', 'A', 'c'])\n",
    "hv.Overlay(plots[::2]).opts(legend_position='left', fontscale=1.5)"
   ]
  },
  {
   "attachments": {},
   "cell_type": "markdown",
   "metadata": {},
   "source": [
    "## step 3\n",
    "fit the model $\\frac{d}{ToT + B}+g$ from the previously extracted fit parameter $A$"
   ]
  },
  {
   "cell_type": "code",
   "execution_count": null,
   "metadata": {},
   "outputs": [],
   "source": [
    "model = lambda ToT, d, B, g: d / (ToT + B) + g\n",
    "popt, _ = curve_fit(model, params_expfit['ToT2'][1:], params_expfit['A'][1:], p0=[6, 39, 8e-3])\n",
    "x_axe = range(200, 2000)\n",
    "\n",
    "a = hv.Curve((params_expfit['ToT2'], params_expfit['c']), label=f'fit parameter c: median={params_expfit[\"c\"].median():.3f}')\n",
    "b = (hv.Curve((params_expfit['ToT2'], params_expfit['A']), label=f'fit parameter A').opts(xlabel='ToT2 (ns)', fontscale=1.5) *\n",
    "     hv.Scatter((params_expfit['ToT2'], params_expfit['A']), label=f'fit parameter A').opts(size=5) *\n",
    "     hv.Curve((x_axe, model(x_axe, *popt)), label=', '.join([f'{i:.2e}' for i in popt])))\n",
    "\n",
    "#hv.Layout(a + b).opts(shared_axes=False)\n",
    "b"
   ]
  },
  {
   "attachments": {},
   "cell_type": "markdown",
   "metadata": {},
   "source": [
    "## step 4\n",
    "all parameters are together for the model\n",
    "$$\n",
    "ToT_1 \\exp(-t / c) \\left(\\frac{d}{ToT_2 + B} + g\\right)\n",
    "$$"
   ]
  },
  {
   "cell_type": "code",
   "execution_count": null,
   "metadata": {},
   "outputs": [],
   "source": [
    "print(f'c = {params_expfit[\"c\"][2:].median():2f}')\n",
    "print(f'd = {popt[0]:.2f}')\n",
    "print(f'B = {popt[1]:.1f}')\n",
    "print(f'g = {popt[2]:.3f}')"
   ]
  },
  {
   "cell_type": "code",
   "execution_count": null,
   "metadata": {},
   "outputs": [],
   "source": [
    "d = popt[0]\n",
    "B = popt[1]\n",
    "g = popt[2]\n",
    "c = params_expfit[\"c\"].median()\n",
    "t = 2\n",
    "model = lambda ToT1, ToT2, t, d, g, B: ToT1 * np.exp(-t / c) * (d / (ToT2 + B) + g)\n",
    "\n",
    "\n",
    "ToT1 = list(range(100, 2050, 100))\n",
    "ToT2 = list(range(200, 2050, 100))\n",
    "H_model = np.array([model(i, ToT2, t, d, g, B) for i in ToT1]).T[::-1]\n",
    "#a = hv.Image(H_model, bounds=[ToT1[0]-50, ToT2[0]-50, ToT1[-1]+50, ToT2[-1]+50], label=f'model: {t} µs').opts(xlabel=\"ToT1 (ns)\", ylabel=\"ToT2 (ns)\")\n",
    "\n",
    "xy_exp, x_bins, y_bins, binnumber = binned_statistic_2d(tot1_tot2['ToT1'], tot1_tot2['ToT2'], \n",
    "    tot1_tot2[f'relativ loss {t}µs'], bins=(range(50, 2150, 100), range(150, 2150, 100)))\n",
    "H_exp = xy_exp.T[::-1]\n",
    "\n",
    "H_diff = H_exp - H_model\n",
    "#c = hv.Image(H_diff,\n",
    "#    bounds=(x_bins[0], y_bins[0], x_bins[-1], y_bins[-1])).opts(title=f\"differenence (%)at {t}µs\", cmap='coolwarm', shared_axes=False)\n",
    "\n",
    "print(f\"min. difference: {np.nanmin(H_diff):.2f}, max. difference: {np.nanmax(H_diff):.2f}\")\n",
    "#(a + b + c).opts(opts.Image(xlabel='ToT1 (ns)', ylabel='ToT2 (ns)', cmap='jet', colorbar=True, clim=(0, 65), fontscale=1.5))"
   ]
  },
  {
   "cell_type": "code",
   "execution_count": null,
   "metadata": {},
   "outputs": [],
   "source": [
    "ToT2[0]"
   ]
  },
  {
   "cell_type": "code",
   "execution_count": null,
   "metadata": {},
   "outputs": [],
   "source": [
    "axis_lim = [ToT1[0]-50, ToT2[0]-50, ToT1[-1]+50, ToT1[-1]+50]\n",
    "hv.Layout(hv.Image(H_model, bounds=axis_lim).opts(title='model', cmap=\"viridis\") + \n",
    "          hv.Image(H_exp, bounds=axis_lim).opts(title='experiment', cmap=\"viridis\") + \n",
    "          hv.Image(H_diff, bounds=axis_lim).opts(title='Δ(model, experiment)', cmap=\"coolwarm\")\n",
    "          ).opts(\n",
    "              opts.Image(colorbar=True, axiswise=True)\n",
    "          )"
   ]
  },
  {
   "cell_type": "code",
   "execution_count": null,
   "metadata": {},
   "outputs": [],
   "source": []
  }
 ],
 "metadata": {
  "kernelspec": {
   "display_name": "timepix",
   "language": "python",
   "name": "python3"
  },
  "language_info": {
   "codemirror_mode": {
    "name": "ipython",
    "version": 3
   },
   "file_extension": ".py",
   "mimetype": "text/x-python",
   "name": "python",
   "nbconvert_exporter": "python",
   "pygments_lexer": "ipython3",
   "version": "3.11.6"
  },
  "orig_nbformat": 4
 },
 "nbformat": 4,
 "nbformat_minor": 2
}
