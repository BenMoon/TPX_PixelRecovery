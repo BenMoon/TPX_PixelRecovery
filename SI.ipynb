{
 "cells": [
  {
   "cell_type": "markdown",
   "metadata": {},
   "source": [
    "# Supplementary information\n",
    "\n",
    "This notebook provides supplementary information for the manuscript: \"???\"\n"
   ]
  },
  {
   "attachments": {},
   "cell_type": "markdown",
   "metadata": {},
   "source": [
    "# imports and custom functions"
   ]
  },
  {
   "cell_type": "code",
   "execution_count": 95,
   "metadata": {},
   "outputs": [
    {
     "data": {
      "application/javascript": "(function(root) {\n  function now() {\n    return new Date();\n  }\n\n  var force = true;\n  var py_version = '3.1.1'.replace('rc', '-rc.').replace('.dev', '-dev.');\n  var is_dev = py_version.indexOf(\"+\") !== -1 || py_version.indexOf(\"-\") !== -1;\n  var reloading = false;\n  var Bokeh = root.Bokeh;\n  var bokeh_loaded = Bokeh != null && (Bokeh.version === py_version || (Bokeh.versions !== undefined && Bokeh.versions.has(py_version)));\n\n  if (typeof (root._bokeh_timeout) === \"undefined\" || force) {\n    root._bokeh_timeout = Date.now() + 5000;\n    root._bokeh_failed_load = false;\n  }\n\n  function run_callbacks() {\n    try {\n      root._bokeh_onload_callbacks.forEach(function(callback) {\n        if (callback != null)\n          callback();\n      });\n    } finally {\n      delete root._bokeh_onload_callbacks;\n    }\n    console.debug(\"Bokeh: all callbacks have finished\");\n  }\n\n  function load_libs(css_urls, js_urls, js_modules, js_exports, callback) {\n    if (css_urls == null) css_urls = [];\n    if (js_urls == null) js_urls = [];\n    if (js_modules == null) js_modules = [];\n    if (js_exports == null) js_exports = {};\n\n    root._bokeh_onload_callbacks.push(callback);\n\n    if (root._bokeh_is_loading > 0) {\n      console.debug(\"Bokeh: BokehJS is being loaded, scheduling callback at\", now());\n      return null;\n    }\n    if (js_urls.length === 0 && js_modules.length === 0 && Object.keys(js_exports).length === 0) {\n      run_callbacks();\n      return null;\n    }\n    if (!reloading) {\n      console.debug(\"Bokeh: BokehJS not loaded, scheduling load and callback at\", now());\n    }\n\n    function on_load() {\n      root._bokeh_is_loading--;\n      if (root._bokeh_is_loading === 0) {\n        console.debug(\"Bokeh: all BokehJS libraries/stylesheets loaded\");\n        run_callbacks()\n      }\n    }\n    window._bokeh_on_load = on_load\n\n    function on_error() {\n      console.error(\"failed to load \" + url);\n    }\n\n    var skip = [];\n    if (window.requirejs) {\n      window.requirejs.config({'packages': {}, 'paths': {'jspanel': 'https://cdn.jsdelivr.net/npm/jspanel4@4.12.0/dist/jspanel', 'jspanel-modal': 'https://cdn.jsdelivr.net/npm/jspanel4@4.12.0/dist/extensions/modal/jspanel.modal', 'jspanel-tooltip': 'https://cdn.jsdelivr.net/npm/jspanel4@4.12.0/dist/extensions/tooltip/jspanel.tooltip', 'jspanel-hint': 'https://cdn.jsdelivr.net/npm/jspanel4@4.12.0/dist/extensions/hint/jspanel.hint', 'jspanel-layout': 'https://cdn.jsdelivr.net/npm/jspanel4@4.12.0/dist/extensions/layout/jspanel.layout', 'jspanel-contextmenu': 'https://cdn.jsdelivr.net/npm/jspanel4@4.12.0/dist/extensions/contextmenu/jspanel.contextmenu', 'jspanel-dock': 'https://cdn.jsdelivr.net/npm/jspanel4@4.12.0/dist/extensions/dock/jspanel.dock', 'gridstack': 'https://cdn.jsdelivr.net/npm/gridstack@7.2.3/dist/gridstack-all', 'notyf': 'https://cdn.jsdelivr.net/npm/notyf@3/notyf.min'}, 'shim': {'jspanel': {'exports': 'jsPanel'}, 'gridstack': {'exports': 'GridStack'}}});\n      require([\"jspanel\"], function(jsPanel) {\n\twindow.jsPanel = jsPanel\n\ton_load()\n      })\n      require([\"jspanel-modal\"], function() {\n\ton_load()\n      })\n      require([\"jspanel-tooltip\"], function() {\n\ton_load()\n      })\n      require([\"jspanel-hint\"], function() {\n\ton_load()\n      })\n      require([\"jspanel-layout\"], function() {\n\ton_load()\n      })\n      require([\"jspanel-contextmenu\"], function() {\n\ton_load()\n      })\n      require([\"jspanel-dock\"], function() {\n\ton_load()\n      })\n      require([\"gridstack\"], function(GridStack) {\n\twindow.GridStack = GridStack\n\ton_load()\n      })\n      require([\"notyf\"], function() {\n\ton_load()\n      })\n      root._bokeh_is_loading = css_urls.length + 9;\n    } else {\n      root._bokeh_is_loading = css_urls.length + js_urls.length + js_modules.length + Object.keys(js_exports).length;\n    }\n\n    var existing_stylesheets = []\n    var links = document.getElementsByTagName('link')\n    for (var i = 0; i < links.length; i++) {\n      var link = links[i]\n      if (link.href != null) {\n\texisting_stylesheets.push(link.href)\n      }\n    }\n    for (var i = 0; i < css_urls.length; i++) {\n      var url = css_urls[i];\n      if (existing_stylesheets.indexOf(url) !== -1) {\n\ton_load()\n\tcontinue;\n      }\n      const element = document.createElement(\"link\");\n      element.onload = on_load;\n      element.onerror = on_error;\n      element.rel = \"stylesheet\";\n      element.type = \"text/css\";\n      element.href = url;\n      console.debug(\"Bokeh: injecting link tag for BokehJS stylesheet: \", url);\n      document.body.appendChild(element);\n    }    if (((window['jsPanel'] !== undefined) && (!(window['jsPanel'] instanceof HTMLElement))) || window.requirejs) {\n      var urls = ['https://cdn.holoviz.org/panel/1.1.1/dist/bundled/floatpanel/jspanel4@4.12.0/dist/jspanel.js', 'https://cdn.holoviz.org/panel/1.1.1/dist/bundled/floatpanel/jspanel4@4.12.0/dist/extensions/modal/jspanel.modal.js', 'https://cdn.holoviz.org/panel/1.1.1/dist/bundled/floatpanel/jspanel4@4.12.0/dist/extensions/tooltip/jspanel.tooltip.js', 'https://cdn.holoviz.org/panel/1.1.1/dist/bundled/floatpanel/jspanel4@4.12.0/dist/extensions/hint/jspanel.hint.js', 'https://cdn.holoviz.org/panel/1.1.1/dist/bundled/floatpanel/jspanel4@4.12.0/dist/extensions/layout/jspanel.layout.js', 'https://cdn.holoviz.org/panel/1.1.1/dist/bundled/floatpanel/jspanel4@4.12.0/dist/extensions/contextmenu/jspanel.contextmenu.js', 'https://cdn.holoviz.org/panel/1.1.1/dist/bundled/floatpanel/jspanel4@4.12.0/dist/extensions/dock/jspanel.dock.js'];\n      for (var i = 0; i < urls.length; i++) {\n        skip.push(urls[i])\n      }\n    }    if (((window['GridStack'] !== undefined) && (!(window['GridStack'] instanceof HTMLElement))) || window.requirejs) {\n      var urls = ['https://cdn.holoviz.org/panel/1.1.1/dist/bundled/gridstack/gridstack@7.2.3/dist/gridstack-all.js'];\n      for (var i = 0; i < urls.length; i++) {\n        skip.push(urls[i])\n      }\n    }    if (((window['Notyf'] !== undefined) && (!(window['Notyf'] instanceof HTMLElement))) || window.requirejs) {\n      var urls = ['https://cdn.holoviz.org/panel/1.1.1/dist/bundled/notificationarea/notyf@3/notyf.min.js'];\n      for (var i = 0; i < urls.length; i++) {\n        skip.push(urls[i])\n      }\n    }    var existing_scripts = []\n    var scripts = document.getElementsByTagName('script')\n    for (var i = 0; i < scripts.length; i++) {\n      var script = scripts[i]\n      if (script.src != null) {\n\texisting_scripts.push(script.src)\n      }\n    }\n    for (var i = 0; i < js_urls.length; i++) {\n      var url = js_urls[i];\n      if (skip.indexOf(url) !== -1 || existing_scripts.indexOf(url) !== -1) {\n\tif (!window.requirejs) {\n\t  on_load();\n\t}\n\tcontinue;\n      }\n      var element = document.createElement('script');\n      element.onload = on_load;\n      element.onerror = on_error;\n      element.async = false;\n      element.src = url;\n      console.debug(\"Bokeh: injecting script tag for BokehJS library: \", url);\n      document.head.appendChild(element);\n    }\n    for (var i = 0; i < js_modules.length; i++) {\n      var url = js_modules[i];\n      if (skip.indexOf(url) !== -1 || existing_scripts.indexOf(url) !== -1) {\n\tif (!window.requirejs) {\n\t  on_load();\n\t}\n\tcontinue;\n      }\n      var element = document.createElement('script');\n      element.onload = on_load;\n      element.onerror = on_error;\n      element.async = false;\n      element.src = url;\n      element.type = \"module\";\n      console.debug(\"Bokeh: injecting script tag for BokehJS library: \", url);\n      document.head.appendChild(element);\n    }\n    for (const name in js_exports) {\n      var url = js_exports[name];\n      if (skip.indexOf(url) >= 0 || root[name] != null) {\n\tif (!window.requirejs) {\n\t  on_load();\n\t}\n\tcontinue;\n      }\n      var element = document.createElement('script');\n      element.onerror = on_error;\n      element.async = false;\n      element.type = \"module\";\n      console.debug(\"Bokeh: injecting script tag for BokehJS library: \", url);\n      element.textContent = `\n      import ${name} from \"${url}\"\n      window.${name} = ${name}\n      window._bokeh_on_load()\n      `\n      document.head.appendChild(element);\n    }\n    if (!js_urls.length && !js_modules.length) {\n      on_load()\n    }\n  };\n\n  function inject_raw_css(css) {\n    const element = document.createElement(\"style\");\n    element.appendChild(document.createTextNode(css));\n    document.body.appendChild(element);\n  }\n\n  var js_urls = [\"https://cdn.bokeh.org/bokeh/release/bokeh-3.1.1.min.js\", \"https://cdn.bokeh.org/bokeh/release/bokeh-gl-3.1.1.min.js\", \"https://cdn.bokeh.org/bokeh/release/bokeh-widgets-3.1.1.min.js\", \"https://cdn.bokeh.org/bokeh/release/bokeh-tables-3.1.1.min.js\", \"https://cdn.holoviz.org/panel/1.1.1/dist/panel.min.js\"];\n  var js_modules = [];\n  var js_exports = {};\n  var css_urls = [];\n  var inline_js = [    function(Bokeh) {\n      Bokeh.set_log_level(\"info\");\n    },\nfunction(Bokeh) {} // ensure no trailing comma for IE\n  ];\n\n  function run_inline_js() {\n    if ((root.Bokeh !== undefined) || (force === true)) {\n      for (var i = 0; i < inline_js.length; i++) {\n        inline_js[i].call(root, root.Bokeh);\n      }\n      // Cache old bokeh versions\n      if (Bokeh != undefined && !reloading) {\n\tvar NewBokeh = root.Bokeh;\n\tif (Bokeh.versions === undefined) {\n\t  Bokeh.versions = new Map();\n\t}\n\tif (NewBokeh.version !== Bokeh.version) {\n\t  Bokeh.versions.set(NewBokeh.version, NewBokeh)\n\t}\n\troot.Bokeh = Bokeh;\n      }} else if (Date.now() < root._bokeh_timeout) {\n      setTimeout(run_inline_js, 100);\n    } else if (!root._bokeh_failed_load) {\n      console.log(\"Bokeh: BokehJS failed to load within specified timeout.\");\n      root._bokeh_failed_load = true;\n    }\n    root._bokeh_is_initializing = false\n  }\n\n  function load_or_wait() {\n    // Implement a backoff loop that tries to ensure we do not load multiple\n    // versions of Bokeh and its dependencies at the same time.\n    // In recent versions we use the root._bokeh_is_initializing flag\n    // to determine whether there is an ongoing attempt to initialize\n    // bokeh, however for backward compatibility we also try to ensure\n    // that we do not start loading a newer (Panel>=1.0 and Bokeh>3) version\n    // before older versions are fully initialized.\n    if (root._bokeh_is_initializing && Date.now() > root._bokeh_timeout) {\n      root._bokeh_is_initializing = false;\n      root._bokeh_onload_callbacks = undefined;\n      console.log(\"Bokeh: BokehJS was loaded multiple times but one version failed to initialize.\");\n      load_or_wait();\n    } else if (root._bokeh_is_initializing || (typeof root._bokeh_is_initializing === \"undefined\" && root._bokeh_onload_callbacks !== undefined)) {\n      setTimeout(load_or_wait, 100);\n    } else {\n      Bokeh = root.Bokeh;\n      bokeh_loaded = Bokeh != null && (Bokeh.version === py_version || (Bokeh.versions !== undefined && Bokeh.versions.has(py_version)));\n      root._bokeh_is_initializing = true\n      root._bokeh_onload_callbacks = []\n      if (!reloading && (!bokeh_loaded || is_dev)) {\n\troot.Bokeh = undefined;\n      }\n      load_libs(css_urls, js_urls, js_modules, js_exports, function() {\n\tconsole.debug(\"Bokeh: BokehJS plotting callback run at\", now());\n\trun_inline_js();\n      });\n    }\n  }\n  // Give older versions of the autoload script a head-start to ensure\n  // they initialize before we start loading newer version.\n  setTimeout(load_or_wait, 100)\n}(window));",
      "application/vnd.holoviews_load.v0+json": ""
     },
     "metadata": {},
     "output_type": "display_data"
    },
    {
     "data": {
      "application/javascript": "\nif ((window.PyViz === undefined) || (window.PyViz instanceof HTMLElement)) {\n  window.PyViz = {comms: {}, comm_status:{}, kernels:{}, receivers: {}, plot_index: []}\n}\n\n\n    function JupyterCommManager() {\n    }\n\n    JupyterCommManager.prototype.register_target = function(plot_id, comm_id, msg_handler) {\n      if (window.comm_manager || ((window.Jupyter !== undefined) && (Jupyter.notebook.kernel != null))) {\n        var comm_manager = window.comm_manager || Jupyter.notebook.kernel.comm_manager;\n        comm_manager.register_target(comm_id, function(comm) {\n          comm.on_msg(msg_handler);\n        });\n      } else if ((plot_id in window.PyViz.kernels) && (window.PyViz.kernels[plot_id])) {\n        window.PyViz.kernels[plot_id].registerCommTarget(comm_id, function(comm) {\n          comm.onMsg = msg_handler;\n        });\n      } else if (typeof google != 'undefined' && google.colab.kernel != null) {\n        google.colab.kernel.comms.registerTarget(comm_id, (comm) => {\n          var messages = comm.messages[Symbol.asyncIterator]();\n          function processIteratorResult(result) {\n            var message = result.value;\n            console.log(message)\n            var content = {data: message.data, comm_id};\n            var buffers = []\n            for (var buffer of message.buffers || []) {\n              buffers.push(new DataView(buffer))\n            }\n            var metadata = message.metadata || {};\n            var msg = {content, buffers, metadata}\n            msg_handler(msg);\n            return messages.next().then(processIteratorResult);\n          }\n          return messages.next().then(processIteratorResult);\n        })\n      }\n    }\n\n    JupyterCommManager.prototype.get_client_comm = function(plot_id, comm_id, msg_handler) {\n      if (comm_id in window.PyViz.comms) {\n        return window.PyViz.comms[comm_id];\n      } else if (window.comm_manager || ((window.Jupyter !== undefined) && (Jupyter.notebook.kernel != null))) {\n        var comm_manager = window.comm_manager || Jupyter.notebook.kernel.comm_manager;\n        var comm = comm_manager.new_comm(comm_id, {}, {}, {}, comm_id);\n        if (msg_handler) {\n          comm.on_msg(msg_handler);\n        }\n      } else if ((plot_id in window.PyViz.kernels) && (window.PyViz.kernels[plot_id])) {\n        var comm = window.PyViz.kernels[plot_id].connectToComm(comm_id);\n        comm.open();\n        if (msg_handler) {\n          comm.onMsg = msg_handler;\n        }\n      } else if (typeof google != 'undefined' && google.colab.kernel != null) {\n        var comm_promise = google.colab.kernel.comms.open(comm_id)\n        comm_promise.then((comm) => {\n          window.PyViz.comms[comm_id] = comm;\n          if (msg_handler) {\n            var messages = comm.messages[Symbol.asyncIterator]();\n            function processIteratorResult(result) {\n              var message = result.value;\n              var content = {data: message.data};\n              var metadata = message.metadata || {comm_id};\n              var msg = {content, metadata}\n              msg_handler(msg);\n              return messages.next().then(processIteratorResult);\n            }\n            return messages.next().then(processIteratorResult);\n          }\n        }) \n        var sendClosure = (data, metadata, buffers, disposeOnDone) => {\n          return comm_promise.then((comm) => {\n            comm.send(data, metadata, buffers, disposeOnDone);\n          });\n        };\n        var comm = {\n          send: sendClosure\n        };\n      }\n      window.PyViz.comms[comm_id] = comm;\n      return comm;\n    }\n    window.PyViz.comm_manager = new JupyterCommManager();\n    \n\n\nvar JS_MIME_TYPE = 'application/javascript';\nvar HTML_MIME_TYPE = 'text/html';\nvar EXEC_MIME_TYPE = 'application/vnd.holoviews_exec.v0+json';\nvar CLASS_NAME = 'output';\n\n/**\n * Render data to the DOM node\n */\nfunction render(props, node) {\n  var div = document.createElement(\"div\");\n  var script = document.createElement(\"script\");\n  node.appendChild(div);\n  node.appendChild(script);\n}\n\n/**\n * Handle when a new output is added\n */\nfunction handle_add_output(event, handle) {\n  var output_area = handle.output_area;\n  var output = handle.output;\n  if ((output.data == undefined) || (!output.data.hasOwnProperty(EXEC_MIME_TYPE))) {\n    return\n  }\n  var id = output.metadata[EXEC_MIME_TYPE][\"id\"];\n  var toinsert = output_area.element.find(\".\" + CLASS_NAME.split(' ')[0]);\n  if (id !== undefined) {\n    var nchildren = toinsert.length;\n    var html_node = toinsert[nchildren-1].children[0];\n    html_node.innerHTML = output.data[HTML_MIME_TYPE];\n    var scripts = [];\n    var nodelist = html_node.querySelectorAll(\"script\");\n    for (var i in nodelist) {\n      if (nodelist.hasOwnProperty(i)) {\n        scripts.push(nodelist[i])\n      }\n    }\n\n    scripts.forEach( function (oldScript) {\n      var newScript = document.createElement(\"script\");\n      var attrs = [];\n      var nodemap = oldScript.attributes;\n      for (var j in nodemap) {\n        if (nodemap.hasOwnProperty(j)) {\n          attrs.push(nodemap[j])\n        }\n      }\n      attrs.forEach(function(attr) { newScript.setAttribute(attr.name, attr.value) });\n      newScript.appendChild(document.createTextNode(oldScript.innerHTML));\n      oldScript.parentNode.replaceChild(newScript, oldScript);\n    });\n    if (JS_MIME_TYPE in output.data) {\n      toinsert[nchildren-1].children[1].textContent = output.data[JS_MIME_TYPE];\n    }\n    output_area._hv_plot_id = id;\n    if ((window.Bokeh !== undefined) && (id in Bokeh.index)) {\n      window.PyViz.plot_index[id] = Bokeh.index[id];\n    } else {\n      window.PyViz.plot_index[id] = null;\n    }\n  } else if (output.metadata[EXEC_MIME_TYPE][\"server_id\"] !== undefined) {\n    var bk_div = document.createElement(\"div\");\n    bk_div.innerHTML = output.data[HTML_MIME_TYPE];\n    var script_attrs = bk_div.children[0].attributes;\n    for (var i = 0; i < script_attrs.length; i++) {\n      toinsert[toinsert.length - 1].childNodes[1].setAttribute(script_attrs[i].name, script_attrs[i].value);\n    }\n    // store reference to server id on output_area\n    output_area._bokeh_server_id = output.metadata[EXEC_MIME_TYPE][\"server_id\"];\n  }\n}\n\n/**\n * Handle when an output is cleared or removed\n */\nfunction handle_clear_output(event, handle) {\n  var id = handle.cell.output_area._hv_plot_id;\n  var server_id = handle.cell.output_area._bokeh_server_id;\n  if (((id === undefined) || !(id in PyViz.plot_index)) && (server_id !== undefined)) { return; }\n  var comm = window.PyViz.comm_manager.get_client_comm(\"hv-extension-comm\", \"hv-extension-comm\", function () {});\n  if (server_id !== null) {\n    comm.send({event_type: 'server_delete', 'id': server_id});\n    return;\n  } else if (comm !== null) {\n    comm.send({event_type: 'delete', 'id': id});\n  }\n  delete PyViz.plot_index[id];\n  if ((window.Bokeh !== undefined) & (id in window.Bokeh.index)) {\n    var doc = window.Bokeh.index[id].model.document\n    doc.clear();\n    const i = window.Bokeh.documents.indexOf(doc);\n    if (i > -1) {\n      window.Bokeh.documents.splice(i, 1);\n    }\n  }\n}\n\n/**\n * Handle kernel restart event\n */\nfunction handle_kernel_cleanup(event, handle) {\n  delete PyViz.comms[\"hv-extension-comm\"];\n  window.PyViz.plot_index = {}\n}\n\n/**\n * Handle update_display_data messages\n */\nfunction handle_update_output(event, handle) {\n  handle_clear_output(event, {cell: {output_area: handle.output_area}})\n  handle_add_output(event, handle)\n}\n\nfunction register_renderer(events, OutputArea) {\n  function append_mime(data, metadata, element) {\n    // create a DOM node to render to\n    var toinsert = this.create_output_subarea(\n    metadata,\n    CLASS_NAME,\n    EXEC_MIME_TYPE\n    );\n    this.keyboard_manager.register_events(toinsert);\n    // Render to node\n    var props = {data: data, metadata: metadata[EXEC_MIME_TYPE]};\n    render(props, toinsert[0]);\n    element.append(toinsert);\n    return toinsert\n  }\n\n  events.on('output_added.OutputArea', handle_add_output);\n  events.on('output_updated.OutputArea', handle_update_output);\n  events.on('clear_output.CodeCell', handle_clear_output);\n  events.on('delete.Cell', handle_clear_output);\n  events.on('kernel_ready.Kernel', handle_kernel_cleanup);\n\n  OutputArea.prototype.register_mime_type(EXEC_MIME_TYPE, append_mime, {\n    safe: true,\n    index: 0\n  });\n}\n\nif (window.Jupyter !== undefined) {\n  try {\n    var events = require('base/js/events');\n    var OutputArea = require('notebook/js/outputarea').OutputArea;\n    if (OutputArea.prototype.mime_types().indexOf(EXEC_MIME_TYPE) == -1) {\n      register_renderer(events, OutputArea);\n    }\n  } catch(err) {\n  }\n}\n",
      "application/vnd.holoviews_load.v0+json": ""
     },
     "metadata": {},
     "output_type": "display_data"
    },
    {
     "data": {
      "text/html": [
       "<style>*[data-root-id],\n",
       "*[data-root-id] > * {\n",
       "  box-sizing: border-box;\n",
       "  font-family: var(--jp-ui-font-family);\n",
       "  font-size: var(--jp-ui-font-size1);\n",
       "  color: var(--vscode-editor-foreground, var(--jp-ui-font-color1));\n",
       "}\n",
       "\n",
       "/* Override VSCode background color */\n",
       ".cell-output-ipywidget-background:has(> .cell-output-ipywidget-background\n",
       "    > .lm-Widget\n",
       "    > *[data-root-id]),\n",
       ".cell-output-ipywidget-background:has(> .lm-Widget > *[data-root-id]) {\n",
       "  background-color: transparent !important;\n",
       "}\n",
       "</style>"
      ]
     },
     "metadata": {},
     "output_type": "display_data"
    },
    {
     "data": {
      "text/html": [
       "\n",
       "<div class=\"logo-block\">\n",
       "<img src='data:image/png;base64,iVBORw0KGgoAAAANSUhEUgAAAEAAAABACAYAAACqaXHeAAAABHNCSVQICAgIfAhkiAAAAAlwSFlz\n",
       "AAAB+wAAAfsBxc2miwAAABl0RVh0U29mdHdhcmUAd3d3Lmlua3NjYXBlLm9yZ5vuPBoAAA6zSURB\n",
       "VHic7ZtpeFRVmsf/5966taWqUlUJ2UioBBJiIBAwCZtog9IOgjqACsogKtqirT2ttt069nQ/zDzt\n",
       "tI4+CrJIREFaFgWhBXpUNhHZQoKBkIUASchWla1S+3ar7r1nPkDaCAnZKoQP/D7mnPOe9/xy76n3\n",
       "nFSAW9ziFoPFNED2LLK5wcyBDObkb8ZkxuaoSYlI6ZcOKq1eWFdedqNzGHQBk9RMEwFAASkk0Xw3\n",
       "ETacDNi2vtvc7L0ROdw0AjoSotQVkKSvHQz/wRO1lScGModBFbDMaNRN1A4tUBCS3lk7BWhQkgpD\n",
       "lG4852/+7DWr1R3uHAZVQDsbh6ZPN7CyxUrCzJMRouusj0ipRwD2uKm0Zn5d2dFwzX1TCGhnmdGo\n",
       "G62Nna+isiUqhkzuKrkQaJlPEv5mFl2fvGg2t/VnzkEV8F5ioioOEWkLG86fvbpthynjdhXYZziQ\n",
       "x1hC9J2NFyi8vCTt91Fh04KGip0AaG9zuCk2wQCVyoNU3Hjezee9bq92duzzTmxsRJoy+jEZZZYo\n",
       "GTKJ6SJngdJqAfRzpze0+jHreUtPc7gpBLQnIYK6BYp/uGhw9YK688eu7v95ysgshcg9qSLMo3JC\n",
       "4jqLKQFBgdKDPoQ+Pltb8dUyQLpeDjeVgI6EgLIQFT5tEl3rn2losHVsexbZ3EyT9wE1uGdkIPcy\n",
       "BGxn8QUq1QrA5nqW5i2tLqvrrM9NK6AdkVIvL9E9bZL/oyfMVd/jqvc8LylzRBKDJSzIExwhQzuL\n",
       "QYGQj4rHfFTc8mUdu3E7yoLtbTe9gI4EqVgVkug2i5+uXGo919ixbRog+3fTbQ8qJe4ZOYNfMoTI\n",
       "OoshUNosgO60AisX15aeI2PSIp5KiFLI9ubb1vV3Qb2ltwLakUCDAkWX7/nHKRmmGIl9VgYsUhJm\n",
       "2NXjKYADtM1ygne9QQDIXlk49FBstMKx66D1v4+XuQr7vqTe0VcBHQlRWiOCbmmSYe2SqtL6q5rJ\n",
       "zsTb7lKx3FKOYC4DoqyS/B5bvLPxvD9Qtf6saxYLQGJErmDOdOMr/zo96km1nElr8bmPOBwI9COv\n",
       "HnFPRIwmkSOv9kcAS4heRsidOkpeWBgZM+UBrTFAXNYL5Vf2ii9c1trNzpYdaoVil3WIc+wdk+gQ\n",
       "noie3ecCcxt9ITcLAPWt/laGEO/9U6PmzZkenTtsSMQ8uYywJVW+grCstAvCIaAdArAsIWkRDDs/\n",
       "KzLm2YcjY1Lv0UdW73HabE9n6V66cxSzfEmuJssTpKGVp+0vHq73FwL46eOjpMpbRAnNmJFrGJNu\n",
       "Ukf9Yrz+3rghiumCKNXXWPhLYcjxGsIpoCMsIRoFITkW8AuyM8jC1+/QLx4bozCEJIq38+1rtpR6\n",
       "V/yzb8eBlRb3fo5l783N0CWolAzJHaVNzkrTzlEp2bQ2q3TC5gn6wpnoQAmwSiGh2GitnTmVMc5O\n",
       "UyfKWUKCIsU7+fZDKwqdT6DDpvkzAX4/+AMFjk0tDp5GRXLpQ2MUmhgDp5gxQT8+Y7hyPsMi8uxF\n",
       "71H0oebujHALECjFKaW9Lm68n18wXp2kVzIcABytD5iXFzg+WVXkegpAsOOYziqo0OkK76GyquC3\n",
       "ltZAzMhhqlSNmmWTE5T6e3IN05ITFLM4GdN0vtZ3ob8Jh1NAKXFbm5PtLU/eqTSlGjkNAJjdgn/N\n",
       "aedXa0tdi7+t9G0FIF49rtMSEgAs1kDLkTPO7ebm4IUWeyh1bKomXqlgMG6kJmHcSM0clYLJ8XtR\n",
       "1GTnbV3F6I5wCGikAb402npp1h1s7LQUZZSMIfALFOuL3UUrfnS8+rez7v9qcold5tilgHbO1fjK\n",
       "9ubb17u9oshxzMiUBKXWqJNxd+fqb0tLVs4lILFnK71H0Ind7uiPgACVcFJlrb0tV6DzxqqTIhUM\n",
       "CwDf1/rrVhTa33/3pGPxJYdQ2l2cbgVcQSosdx8uqnDtbGjh9SlDVSMNWhlnilfqZk42Th2ZpLpf\n",
       "xrHec5e815zrr0dfBZSwzkZfqsv+1FS1KUknUwPARVvItfKUY+cn57yP7qv07UE3p8B2uhUwLk09\n",
       "e0SCOrK+hbdYHYLjRIl71wWzv9jpEoeOHhGRrJAzyEyNiJuUqX0g2sBN5kGK6y2Blp5M3lsB9Qh4\n",
       "y2Ja6x6+i0ucmKgwMATwhSjdUu49tKrQ/pvN5d53ml2CGwCmJipmKjgmyuaXzNeL2a0AkQ01Th5j\n",
       "2DktO3Jyk8f9vcOBQHV94OK+fPumJmvQHxJoWkaKWq9Vs+yUsbq0zGT1I4RgeH2b5wef7+c7bl8F\n",
       "eKgoHVVZa8ZPEORzR6sT1BzDUAD/d9F78e2Tzv99v8D+fLVTqAKAsbGamKey1Mt9Ann4eH3gTXTz\n",
       "idWtAJ8PQWOk7NzSeQn/OTHDuEikVF1R4z8BQCy+6D1aWRfY0tTGG2OM8rRoPaeIj5ZHzJxszElN\n",
       "VM8K8JS5WOfv8mzRnQAKoEhmt8gyPM4lU9SmBK1MCQBnW4KONT86v1hZ1PbwSXPw4JWussVjtH9Y\n",
       "NCoiL9UoH/6PSu8jFrfY2t36erQHXLIEakMi1SydmzB31h3GGXFDFNPaK8Rme9B79Ixrd0WN+1ij\n",
       "NRQ/doRmuFLBkHSTOm5GruG+pFjFdAmorG4IXH1Qua6ASniclfFtDYt+oUjKipPrCQB7QBQ2lrgP\n",
       "fFzm+9XWUtcqJ3/5vDLDpJ79XHZk3u8nGZ42qlj1+ydtbxysCezrydp6ugmipNJ7WBPB5tydY0jP\n",
       "HaVNzs3QzeE4ZpTbI+ZbnSFPbVOw9vsfnVvqWnirPyCNGD08IlqtYkh2hjZ5dErEQzoNm+6ykyOt\n",
       "Lt5/PQEuSRRKo22VkydK+vvS1XEKlhCJAnsqvcVvH7f/ZU2R67eXbMEGAMiIV5oWZWiWvz5Fv2xG\n",
       "sjqNJQRvn3Rs2lji/lNP19VjAQDgD7FHhujZB9OGqYxRkZxixgRDVlqS6uEOFaJUVu0rPFzctrnF\n",
       "JqijImVp8dEKVWyUXDk92zAuMZ6bFwpBU1HrOw6AdhQgUooChb0+ItMbWJitSo5Ws3IAOGEOtL53\n",
       "0vHZih9sC4vtofZ7Qu6523V/fmGcds1TY3V36pUsBwAbSlxnVh2xLfAD/IAIMDf7XYIkNmXfpp2l\n",
       "18rkAJAy9HKFaIr/qULkeQQKy9zf1JgDB2uaeFNGijo5QsUyacNUUTOnGO42xSnv4oOwpDi1zYkc\n",
       "efUc3I5Gk6PhyTuVKaOGyLUAYPGIoY9Pu/atL/L92+4q9wbflRJ2Trpm/jPjdBtfnqB/dIThcl8A\n",
       "KG7hbRuKnb8qsQsVvVlTrwQAQMUlf3kwJI24Z4JhPMtcfng5GcH49GsrxJpGvvHIaeem2ma+KSjQ\n",
       "lIwUdYyCY8j4dE1KzijNnIP2llF2wcXNnsoapw9XxsgYAl6k+KzUXbi2yP3KR2ecf6z3BFsBICdW\n",
       "nvnIaG3eHybqX7vbpEqUMT+9OL4Qpe8VON7dXuFd39v19FoAABRVePbGGuXTszO0P7tu6lghUonE\n",
       "llRdrhArLvmKdh9u29jcFiRRkfLUxBiFNiqSU9icoZQHo5mYBI1MBgBH6wMNb+U7Pnw337H4gi1Y\n",
       "ciWs+uks3Z9fztUvfzxTm9Ne8XXkvQLHNytOOZeiD4e0PgkAIAYCYknKUNUDSXEKzdWNpnil7r4p\n",
       "xqkjTarZMtk/K8TQ6Qve78qqvXurGwIJqcOUKfUWHsm8KGvxSP68YudXq4pcj39X49uOK2X142O0\n",
       "Tz5/u/7TVybqH0rSya6ZBwD21/gubbrgWdDgEOx9WUhfBaC2ibcEBYm7a7x+ukrBMNcEZggyR0TE\n",
       "T8zUPjikQ4VosQZbTpS4vqizBKvqmvjsqnpfzaZyx9JPiz1/bfGKdgD45XB1zoIMzYbfTdS/NClB\n",
       "Gct0USiY3YL/g0LHy/uq/Ef6uo5+n0R/vyhp17Klpge763f8rMu6YU/zrn2nml+2WtH+Z+5IAAFc\n",
       "2bUTdTDOSNa9+cQY7YLsOIXhevEkCvzph7a8laecz/Un/z4/Ae04XeL3UQb57IwU9ZDr9UuKVajv\n",
       "nxp1+1UVIo/LjztZkKH59fO3G/JemqCfmaCRqbqbd90ZZ8FfjtkfAyD0J/9+C2h1hDwsSxvGjNDc\n",
       "b4zk5NfrSwiQblLHzZhg+Jf4aPlUwpDqkQqa9nimbt1/TDH8OitGMaQnj+RJS6B1fbF7SY1TqO5v\n",
       "/v0WAADl1f7zokgS7s7VT2DZ7pegUjBM7mjtiDZbcN4j0YrHH0rXpCtY0qPX0cVL0rv5jv/ZXend\n",
       "0u/EESYBAFBU4T4Qa5TflZOhTe7pmKpaP8kCVUVw1+yhXfJWvn1P3hnXi33JsTN6PnP3hHZ8Z3/h\n",
       "aLHzmkNPuPj7Bc/F/Q38CwjTpSwQXgE4Vmwry9tpfq/ZFgqFMy4AVDtCvi8rvMvOmv0N4YwbVgEA\n",
       "sPM72/KVnzfspmH7HQGCRLG2yL1+z8XwvPcdCbsAANh+xPzstgMtxeGKt+6MK3/tacfvwhWvIwMi\n",
       "oKEBtm0H7W+UVfkc/Y1V0BhoPlDr/w1w/eu1vjIgAgDg22OtX6/eYfnEz/focrZTHAFR+PSs56/7\n",
       "q32nwpjazxgwAQCwcU/T62t3WL7r6/jVRa6/byp1rei+Z98ZUAEAhEPHPc8fKnTU9nbgtnOe8h0l\n",
       "9hcGIqmODLQAHCy2Xti6v/XNRivf43f4fFvIteu854+VHnR7q9tfBlwAAGz+pnndB9vM26UebAe8\n",
       "SLHujPOTPVW+rwY+sxskAAC2HrA8t2Vvc7ffP1r9o+vwR2dcr92InIAbKKC1FZ5tB1tf+/G8p8sv\n",
       "N/9Q5zd/XR34LYCwV5JdccMEAMDBk45DH243r/X4xGvqxFa/GNpS7n6rwOwNWwHVE26oAADYurf1\n",
       "zx/utOzt+DMKYM0p17YtZZ5VNzqfsB2HewG1WXE8PoZ7gOclbTIvynZf9JV+fqZtfgs/8F/Nu5rB\n",
       "EIBmJ+8QRMmpU7EzGRsf2FzuePqYRbzh/zE26EwdrT10f6r6o8HOYzCJB9Dpff8tbnGLG8L/A/WE\n",
       "roTBs2RqAAAAAElFTkSuQmCC'\n",
       "     style='height:25px; border-radius:12px; display: inline-block; float: left; vertical-align: middle'></img>\n",
       "\n",
       "\n",
       "  <img src='data:image/png;base64,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'\n",
       "       style='height:15px; border-radius:12px; display: inline-block; float: left'></img>\n",
       "  \n",
       "\n",
       "\n",
       "\n",
       "\n",
       "</div>\n"
      ]
     },
     "metadata": {},
     "output_type": "display_data"
    }
   ],
   "source": [
    "import numpy as np\n",
    "import pandas as pd\n",
    "import holoviews as hv\n",
    "hv.extension('bokeh')\n",
    "from scipy.optimize import curve_fit\n",
    "from scipy.stats import binned_statistic_2d\n",
    "from tqdm import tqdm\n",
    "import yaml\n",
    "import xarray as xr\n",
    "import hvplot.xarray\n",
    "import urllib.request\n",
    "import panel.widgets as pnw"
   ]
  },
  {
   "cell_type": "code",
   "execution_count": 96,
   "metadata": {},
   "outputs": [],
   "source": [
    "from holoviews import opts\n",
    "opts.defaults(\n",
    "    opts.Scatter(width=1200, height=400, tools=[\"hover\"], show_grid=True, size=8),\n",
    "    opts.Histogram(width=1000, height=400, tools=[\"hover\"], ),\n",
    "    opts.Image(frame_width=400, frame_height=400, tools=[\"hover\"], xlabel=\"ToT1 (ns)\", ylabel=\"ToT2 (ns)\", fontscale=1.5),\n",
    "    opts.Curve(width=1200, height=500, tools=[\"hover\"], show_grid=True, fontscale=1.5),\n",
    "    opts.Points(width=1000, height=500, tools=[\"hover\"], show_grid=True)\n",
    ")"
   ]
  },
  {
   "attachments": {},
   "cell_type": "markdown",
   "metadata": {},
   "source": [
    "## custom functions"
   ]
  },
  {
   "cell_type": "code",
   "execution_count": 97,
   "metadata": {},
   "outputs": [],
   "source": [
    "offset = -28\n",
    "def fit_single_scan(scan_nr: str) -> list:\n",
    "    global df_scans\n",
    "    model = lambda t, A, B, c: A * (1 - B * np.exp(-t / c))\n",
    "    loss = lambda t, A, B, c: model(t, A, B, c)[0] / A\n",
    "\n",
    "    # define our x-axis from the first scans\n",
    "    x_axe = np.float_(runNrs[\"scan0100\"][\"delays\"]) - 1\n",
    "\n",
    "    # fetch data\n",
    "    df = df_scans.query(f\"`scan name` == '{scan_nr}'\")\n",
    "\n",
    "    # omit nans\n",
    "    y = df[~df['ToT2 (ns)'].isna()]['ToT2 (ns)']\n",
    "    if len(y) > -offset:\n",
    "        y = y[offset:]\n",
    "    x = x_axe[-len(y):]\n",
    "    # unequal starting for fit\n",
    "    #y = y[4:]\n",
    "    #x = x_axe[-(len(y)):]\n",
    "    #assert len(y) == len(x)\n",
    "\n",
    "    p0 = [y[-6:].mean(), 1, 8]\n",
    "    popt, _ = curve_fit(\n",
    "        model,\n",
    "        x, y,\n",
    "        p0=p0,\n",
    "        maxfev=5000,\n",
    "        bounds=((50, 1e-2, 1), (2150, 1, 15)),\n",
    "    )\n",
    "\n",
    "    return [\n",
    "        popt[2],  # recovery time\n",
    "        df['ToT1 (ns)'][-6:].mean(),  # mean ToT1\n",
    "        y[-6:].mean(),  # mean ToT2\n",
    "        (popt[0] - model(np.array([2]), *popt))[0],  # absolute loss 2 µs\n",
    "        (popt[0] - model(np.array([3]), *popt))[0],  # absolute loss 3 µs\n",
    "        (popt[0] - model(np.array([4]), *popt))[0],  # absolute loss 4 µs\n",
    "        (1 - loss(np.array([2]), *popt)) * 100,  # relative loss 2 µs\n",
    "        (1 - loss(np.array([3]), *popt)) * 100,  # relative loss 3 µs\n",
    "        (1 - loss(np.array([4]), *popt)) * 100,  # relative loss 4 µs\n",
    "        (1 - loss(np.array([5]), *popt)) * 100,\n",
    "        (1 - loss(np.array([6]), *popt)) * 100,\n",
    "        (1 - loss(np.array([7]), *popt)) * 100,\n",
    "        (1 - loss(np.array([8]), *popt)) * 100,\n",
    "        (1 - loss(np.array([9]), *popt)) * 100,\n",
    "        (1 - loss(np.array([10]), *popt)) * 100,\n",
    "    ]"
   ]
  },
  {
   "cell_type": "code",
   "execution_count": 98,
   "metadata": {},
   "outputs": [],
   "source": [
    "get_x_axis_from_bins = lambda x_bins: 0.5 * (x_bins[1:] + x_bins[:-1])"
   ]
  },
  {
   "attachments": {},
   "cell_type": "markdown",
   "metadata": {},
   "source": [
    "# load data"
   ]
  },
  {
   "cell_type": "code",
   "execution_count": 99,
   "metadata": {},
   "outputs": [],
   "source": [
    "with urllib.request.urlopen(\"https://syncandshare.desy.de/index.php/s/zgPcWZMyBGcQ5MC/download/TOT_scans.yaml\") as f:\n",
    "    runNrs = yaml.safe_load(f)"
   ]
  },
  {
   "cell_type": "code",
   "execution_count": 100,
   "metadata": {},
   "outputs": [],
   "source": [
    "tot1s = set([i['tot1'] for i in runNrs.values()])\n",
    "tot2s = set([i['tot2'] for i in runNrs.values()])"
   ]
  },
  {
   "cell_type": "markdown",
   "metadata": {},
   "source": [
    "#scan_data = pd.read_parquet('https://syncandshare.desy.de/index.php/s/KRA42M7YimM3PAP/download/scan_data.parq')\n",
    "scan_data = pd.read_parquet('data/scan_data.parq')\n",
    "scan_data"
   ]
  },
  {
   "cell_type": "code",
   "execution_count": 101,
   "metadata": {},
   "outputs": [],
   "source": [
    "df_scans = pd.read_parquet('https://syncandshare.desy.de/index.php/s/Dw3Nf2PQ59QppYH/download/df_scans.parq')\n",
    "#df_scans = pd.read_parquet('data/df_scans.parq')"
   ]
  },
  {
   "attachments": {},
   "cell_type": "markdown",
   "metadata": {},
   "source": [
    "## convert single traces to matrix"
   ]
  },
  {
   "cell_type": "code",
   "execution_count": 102,
   "metadata": {},
   "outputs": [
    {
     "name": "stderr",
     "output_type": "stream",
     "text": [
      "100%|██████████| 412/412 [00:01<00:00, 353.71it/s]\n"
     ]
    },
    {
     "data": {
      "text/html": [
       "<div>\n",
       "<style scoped>\n",
       "    .dataframe tbody tr th:only-of-type {\n",
       "        vertical-align: middle;\n",
       "    }\n",
       "\n",
       "    .dataframe tbody tr th {\n",
       "        vertical-align: top;\n",
       "    }\n",
       "\n",
       "    .dataframe thead th {\n",
       "        text-align: right;\n",
       "    }\n",
       "</style>\n",
       "<table border=\"1\" class=\"dataframe\">\n",
       "  <thead>\n",
       "    <tr style=\"text-align: right;\">\n",
       "      <th></th>\n",
       "      <th>recovery</th>\n",
       "      <th>ToT1</th>\n",
       "      <th>ToT2</th>\n",
       "      <th>absolute loss 2µs</th>\n",
       "      <th>absolute loss 3µs</th>\n",
       "      <th>absolute loss 4µs</th>\n",
       "      <th>relativ loss 2µs</th>\n",
       "      <th>relativ loss 3µs</th>\n",
       "      <th>relativ loss 4µs</th>\n",
       "      <th>relativ loss 5µs</th>\n",
       "      <th>relativ loss 6µs</th>\n",
       "      <th>relativ loss 7µs</th>\n",
       "      <th>relativ loss 8µs</th>\n",
       "      <th>relativ loss 9µs</th>\n",
       "      <th>relativ loss 10µs</th>\n",
       "      <th>scan</th>\n",
       "      <th>ToT1 / ToT2</th>\n",
       "      <th>ToT2 / ToT1</th>\n",
       "    </tr>\n",
       "  </thead>\n",
       "  <tbody>\n",
       "    <tr>\n",
       "      <th>0</th>\n",
       "      <td>8.541351</td>\n",
       "      <td>110.218292</td>\n",
       "      <td>95.838674</td>\n",
       "      <td>5.779494</td>\n",
       "      <td>5.140954</td>\n",
       "      <td>4.572962</td>\n",
       "      <td>6.045242</td>\n",
       "      <td>5.377341</td>\n",
       "      <td>4.783232</td>\n",
       "      <td>4.254763</td>\n",
       "      <td>3.784681</td>\n",
       "      <td>3.366535</td>\n",
       "      <td>2.994588</td>\n",
       "      <td>2.663734</td>\n",
       "      <td>2.369435</td>\n",
       "      <td>scan0100</td>\n",
       "      <td>1.150040</td>\n",
       "      <td>0.869535</td>\n",
       "    </tr>\n",
       "    <tr>\n",
       "      <th>1</th>\n",
       "      <td>10.946572</td>\n",
       "      <td>109.101351</td>\n",
       "      <td>184.368724</td>\n",
       "      <td>5.544392</td>\n",
       "      <td>5.060342</td>\n",
       "      <td>4.618553</td>\n",
       "      <td>3.004662</td>\n",
       "      <td>2.742342</td>\n",
       "      <td>2.502924</td>\n",
       "      <td>2.284408</td>\n",
       "      <td>2.084969</td>\n",
       "      <td>1.902942</td>\n",
       "      <td>1.736807</td>\n",
       "      <td>1.585176</td>\n",
       "      <td>1.446783</td>\n",
       "      <td>scan0101</td>\n",
       "      <td>0.591756</td>\n",
       "      <td>1.689885</td>\n",
       "    </tr>\n",
       "    <tr>\n",
       "      <th>2</th>\n",
       "      <td>6.811040</td>\n",
       "      <td>110.070967</td>\n",
       "      <td>275.348234</td>\n",
       "      <td>5.135962</td>\n",
       "      <td>4.434641</td>\n",
       "      <td>3.829087</td>\n",
       "      <td>1.863216</td>\n",
       "      <td>1.608792</td>\n",
       "      <td>1.389110</td>\n",
       "      <td>1.199425</td>\n",
       "      <td>1.035643</td>\n",
       "      <td>0.894225</td>\n",
       "      <td>0.772117</td>\n",
       "      <td>0.666684</td>\n",
       "      <td>0.575648</td>\n",
       "      <td>scan0102</td>\n",
       "      <td>0.399752</td>\n",
       "      <td>2.501552</td>\n",
       "    </tr>\n",
       "    <tr>\n",
       "      <th>3</th>\n",
       "      <td>6.045174</td>\n",
       "      <td>110.373419</td>\n",
       "      <td>366.552883</td>\n",
       "      <td>4.658601</td>\n",
       "      <td>3.948335</td>\n",
       "      <td>3.346359</td>\n",
       "      <td>1.269682</td>\n",
       "      <td>1.076102</td>\n",
       "      <td>0.912036</td>\n",
       "      <td>0.772984</td>\n",
       "      <td>0.655132</td>\n",
       "      <td>0.555249</td>\n",
       "      <td>0.470594</td>\n",
       "      <td>0.398845</td>\n",
       "      <td>0.338036</td>\n",
       "      <td>scan0103</td>\n",
       "      <td>0.301112</td>\n",
       "      <td>3.321025</td>\n",
       "    </tr>\n",
       "    <tr>\n",
       "      <th>4</th>\n",
       "      <td>5.673082</td>\n",
       "      <td>109.339787</td>\n",
       "      <td>456.059330</td>\n",
       "      <td>3.203747</td>\n",
       "      <td>2.685992</td>\n",
       "      <td>2.251911</td>\n",
       "      <td>0.702899</td>\n",
       "      <td>0.589304</td>\n",
       "      <td>0.494067</td>\n",
       "      <td>0.414221</td>\n",
       "      <td>0.347279</td>\n",
       "      <td>0.291156</td>\n",
       "      <td>0.244102</td>\n",
       "      <td>0.204653</td>\n",
       "      <td>0.171579</td>\n",
       "      <td>scan0104</td>\n",
       "      <td>0.239749</td>\n",
       "      <td>4.171028</td>\n",
       "    </tr>\n",
       "    <tr>\n",
       "      <th>...</th>\n",
       "      <td>...</td>\n",
       "      <td>...</td>\n",
       "      <td>...</td>\n",
       "      <td>...</td>\n",
       "      <td>...</td>\n",
       "      <td>...</td>\n",
       "      <td>...</td>\n",
       "      <td>...</td>\n",
       "      <td>...</td>\n",
       "      <td>...</td>\n",
       "      <td>...</td>\n",
       "      <td>...</td>\n",
       "      <td>...</td>\n",
       "      <td>...</td>\n",
       "      <td>...</td>\n",
       "      <td>...</td>\n",
       "      <td>...</td>\n",
       "      <td>...</td>\n",
       "    </tr>\n",
       "    <tr>\n",
       "      <th>407</th>\n",
       "      <td>7.800385</td>\n",
       "      <td>1979.918792</td>\n",
       "      <td>1598.531834</td>\n",
       "      <td>329.641433</td>\n",
       "      <td>289.978476</td>\n",
       "      <td>255.087826</td>\n",
       "      <td>20.621760</td>\n",
       "      <td>18.140519</td>\n",
       "      <td>15.957824</td>\n",
       "      <td>14.037755</td>\n",
       "      <td>12.348711</td>\n",
       "      <td>10.862895</td>\n",
       "      <td>9.555855</td>\n",
       "      <td>8.406080</td>\n",
       "      <td>7.394648</td>\n",
       "      <td>scan0507</td>\n",
       "      <td>1.238586</td>\n",
       "      <td>0.807372</td>\n",
       "    </tr>\n",
       "    <tr>\n",
       "      <th>408</th>\n",
       "      <td>7.844471</td>\n",
       "      <td>1981.671597</td>\n",
       "      <td>1698.670732</td>\n",
       "      <td>343.756835</td>\n",
       "      <td>302.613436</td>\n",
       "      <td>266.394389</td>\n",
       "      <td>20.231601</td>\n",
       "      <td>17.810131</td>\n",
       "      <td>15.678481</td>\n",
       "      <td>13.801963</td>\n",
       "      <td>12.150040</td>\n",
       "      <td>10.695832</td>\n",
       "      <td>9.415675</td>\n",
       "      <td>8.288736</td>\n",
       "      <td>7.296678</td>\n",
       "      <td>scan0508</td>\n",
       "      <td>1.166601</td>\n",
       "      <td>0.857191</td>\n",
       "    </tr>\n",
       "    <tr>\n",
       "      <th>409</th>\n",
       "      <td>7.925330</td>\n",
       "      <td>1983.302672</td>\n",
       "      <td>1802.637679</td>\n",
       "      <td>361.127178</td>\n",
       "      <td>318.318506</td>\n",
       "      <td>280.584452</td>\n",
       "      <td>20.032525</td>\n",
       "      <td>17.657833</td>\n",
       "      <td>15.564641</td>\n",
       "      <td>13.719580</td>\n",
       "      <td>12.093236</td>\n",
       "      <td>10.659682</td>\n",
       "      <td>9.396064</td>\n",
       "      <td>8.282238</td>\n",
       "      <td>7.300446</td>\n",
       "      <td>scan0509</td>\n",
       "      <td>1.100223</td>\n",
       "      <td>0.908907</td>\n",
       "    </tr>\n",
       "    <tr>\n",
       "      <th>410</th>\n",
       "      <td>7.974022</td>\n",
       "      <td>1982.324999</td>\n",
       "      <td>1899.832321</td>\n",
       "      <td>376.690342</td>\n",
       "      <td>332.292711</td>\n",
       "      <td>293.127891</td>\n",
       "      <td>19.825650</td>\n",
       "      <td>17.488951</td>\n",
       "      <td>15.427661</td>\n",
       "      <td>13.609320</td>\n",
       "      <td>12.005293</td>\n",
       "      <td>10.590320</td>\n",
       "      <td>9.342119</td>\n",
       "      <td>8.241035</td>\n",
       "      <td>7.269727</td>\n",
       "      <td>scan0510</td>\n",
       "      <td>1.043421</td>\n",
       "      <td>0.958386</td>\n",
       "    </tr>\n",
       "    <tr>\n",
       "      <th>411</th>\n",
       "      <td>7.935466</td>\n",
       "      <td>1983.216390</td>\n",
       "      <td>1999.808771</td>\n",
       "      <td>394.205242</td>\n",
       "      <td>347.531447</td>\n",
       "      <td>306.383817</td>\n",
       "      <td>19.708375</td>\n",
       "      <td>17.374909</td>\n",
       "      <td>15.317724</td>\n",
       "      <td>13.504110</td>\n",
       "      <td>11.905227</td>\n",
       "      <td>10.495651</td>\n",
       "      <td>9.252969</td>\n",
       "      <td>8.157420</td>\n",
       "      <td>7.191584</td>\n",
       "      <td>scan0511</td>\n",
       "      <td>0.991703</td>\n",
       "      <td>1.008366</td>\n",
       "    </tr>\n",
       "  </tbody>\n",
       "</table>\n",
       "<p>412 rows × 18 columns</p>\n",
       "</div>"
      ],
      "text/plain": [
       "      recovery         ToT1         ToT2  absolute loss 2µs  \\\n",
       "0     8.541351   110.218292    95.838674           5.779494   \n",
       "1    10.946572   109.101351   184.368724           5.544392   \n",
       "2     6.811040   110.070967   275.348234           5.135962   \n",
       "3     6.045174   110.373419   366.552883           4.658601   \n",
       "4     5.673082   109.339787   456.059330           3.203747   \n",
       "..         ...          ...          ...                ...   \n",
       "407   7.800385  1979.918792  1598.531834         329.641433   \n",
       "408   7.844471  1981.671597  1698.670732         343.756835   \n",
       "409   7.925330  1983.302672  1802.637679         361.127178   \n",
       "410   7.974022  1982.324999  1899.832321         376.690342   \n",
       "411   7.935466  1983.216390  1999.808771         394.205242   \n",
       "\n",
       "     absolute loss 3µs  absolute loss 4µs  relativ loss 2µs  relativ loss 3µs  \\\n",
       "0             5.140954           4.572962          6.045242          5.377341   \n",
       "1             5.060342           4.618553          3.004662          2.742342   \n",
       "2             4.434641           3.829087          1.863216          1.608792   \n",
       "3             3.948335           3.346359          1.269682          1.076102   \n",
       "4             2.685992           2.251911          0.702899          0.589304   \n",
       "..                 ...                ...               ...               ...   \n",
       "407         289.978476         255.087826         20.621760         18.140519   \n",
       "408         302.613436         266.394389         20.231601         17.810131   \n",
       "409         318.318506         280.584452         20.032525         17.657833   \n",
       "410         332.292711         293.127891         19.825650         17.488951   \n",
       "411         347.531447         306.383817         19.708375         17.374909   \n",
       "\n",
       "     relativ loss 4µs  relativ loss 5µs  relativ loss 6µs  relativ loss 7µs  \\\n",
       "0            4.783232          4.254763          3.784681          3.366535   \n",
       "1            2.502924          2.284408          2.084969          1.902942   \n",
       "2            1.389110          1.199425          1.035643          0.894225   \n",
       "3            0.912036          0.772984          0.655132          0.555249   \n",
       "4            0.494067          0.414221          0.347279          0.291156   \n",
       "..                ...               ...               ...               ...   \n",
       "407         15.957824         14.037755         12.348711         10.862895   \n",
       "408         15.678481         13.801963         12.150040         10.695832   \n",
       "409         15.564641         13.719580         12.093236         10.659682   \n",
       "410         15.427661         13.609320         12.005293         10.590320   \n",
       "411         15.317724         13.504110         11.905227         10.495651   \n",
       "\n",
       "     relativ loss 8µs  relativ loss 9µs  relativ loss 10µs      scan  \\\n",
       "0            2.994588          2.663734           2.369435  scan0100   \n",
       "1            1.736807          1.585176           1.446783  scan0101   \n",
       "2            0.772117          0.666684           0.575648  scan0102   \n",
       "3            0.470594          0.398845           0.338036  scan0103   \n",
       "4            0.244102          0.204653           0.171579  scan0104   \n",
       "..                ...               ...                ...       ...   \n",
       "407          9.555855          8.406080           7.394648  scan0507   \n",
       "408          9.415675          8.288736           7.296678  scan0508   \n",
       "409          9.396064          8.282238           7.300446  scan0509   \n",
       "410          9.342119          8.241035           7.269727  scan0510   \n",
       "411          9.252969          8.157420           7.191584  scan0511   \n",
       "\n",
       "     ToT1 / ToT2  ToT2 / ToT1  \n",
       "0       1.150040     0.869535  \n",
       "1       0.591756     1.689885  \n",
       "2       0.399752     2.501552  \n",
       "3       0.301112     3.321025  \n",
       "4       0.239749     4.171028  \n",
       "..           ...          ...  \n",
       "407     1.238586     0.807372  \n",
       "408     1.166601     0.857191  \n",
       "409     1.100223     0.908907  \n",
       "410     1.043421     0.958386  \n",
       "411     0.991703     1.008366  \n",
       "\n",
       "[412 rows x 18 columns]"
      ]
     },
     "execution_count": 102,
     "metadata": {},
     "output_type": "execute_result"
    }
   ],
   "source": [
    "tot1_tot2 = []\n",
    "for scan in tqdm(runNrs.keys()):\n",
    "    tot1_tot2.append((*fit_single_scan(scan), scan))\n",
    "\n",
    "tot1_tot2 = pd.DataFrame(\n",
    "    tot1_tot2,\n",
    "    columns=[\n",
    "        \"recovery\",\n",
    "        \"ToT1\",\n",
    "        \"ToT2\",\n",
    "        \"absolute loss 2µs\",\n",
    "        \"absolute loss 3µs\",\n",
    "        \"absolute loss 4µs\",\n",
    "        \"relativ loss 2µs\",\n",
    "        \"relativ loss 3µs\",\n",
    "        \"relativ loss 4µs\",\n",
    "        \"relativ loss 5µs\",\n",
    "        \"relativ loss 6µs\",\n",
    "        \"relativ loss 7µs\",\n",
    "        \"relativ loss 8µs\",\n",
    "        \"relativ loss 9µs\",\n",
    "        \"relativ loss 10µs\",\n",
    "        \"scan\",\n",
    "    ],\n",
    ")\n",
    "tot1_tot2[\"ToT1 / ToT2\"] = tot1_tot2[\"ToT1\"] / tot1_tot2[\"ToT2\"]\n",
    "tot1_tot2[\"ToT2 / ToT1\"] = tot1_tot2[\"ToT2\"] / tot1_tot2[\"ToT1\"]\n",
    "tot1_tot2"
   ]
  },
  {
   "attachments": {},
   "cell_type": "markdown",
   "metadata": {},
   "source": [
    "# Plots\n",
    "## Single trace\n",
    "\n",
    "- yellow mostly straigt line: ToT1\n",
    "- blue dots: values for ToT2\n",
    "- green curve of the dots\n",
    "- vertical blue line: average ToT1 of first 6 values + 475 ns"
   ]
  },
  {
   "cell_type": "code",
   "execution_count": 103,
   "metadata": {},
   "outputs": [
    {
     "data": {
      "application/vnd.jupyter.widget-view+json": {
       "model_id": "efbc80d411b5428489a94cf0a6d3b5df",
       "version_major": 2,
       "version_minor": 0
      },
      "text/plain": [
       "BokehModel(combine_events=True, render_bundle={'docs_json': {'7f4b8ab5-823c-4b8e-b4ed-35768462a67f': {'version…"
      ]
     },
     "execution_count": 103,
     "metadata": {},
     "output_type": "execute_result"
    }
   ],
   "source": [
    "def load_tot_curves(tot1, tot2, **kwargs):\n",
    "    global df_scans\n",
    "    # define our x-axis from the first scans\n",
    "    x_axe = np.float_(runNrs[\"scan0100\"][\"delays\"]) - 1\n",
    "    model = lambda tau, A, B, c: A * (1 - B * np.exp(-tau / c))\n",
    "\n",
    "    # get scan_nr for ToT combination\n",
    "    scan_nr = [k for k, v in runNrs.items() if v['tot1'] == tot1 and v['tot2'] == tot2]\n",
    "    \n",
    "    # for few ToT combinations, there are multiple scans; just take the first one\n",
    "    if len(scan_nr) > 0:\n",
    "        scan_nr = scan_nr[0]\n",
    "    else:\n",
    "        scan_nr = 'scan0278'\n",
    "    df = df_scans.query(f'`scan name` == \"{scan_nr}\"')\n",
    "\n",
    "    # omit nans\n",
    "    y = df[~df['ToT2 (ns)'].isna()]['ToT2 (ns)']\n",
    "    if len(y) > -offset:\n",
    "        y = y[offset:]\n",
    "    x = x_axe[-len(y):]\n",
    "    p0 = [df['ToT2 (ns)'][-6:].mean(), 1, 1]\n",
    "    try:\n",
    "        popt, _ = curve_fit(model, x, y, p0=p0)\n",
    "    except:\n",
    "        popt = p0\n",
    "\n",
    "    return hv.Overlay(\n",
    "            hv.Curve((x_axe, df['ToT2 (ns)']), label='ToT of 2nd LED') *\n",
    "            hv.Scatter((x_axe, df['ToT2 (ns)']), label='ToT of 2nd LED').opts(size=5) *\n",
    "            hv.Curve(\n",
    "                (x, model(x, *popt)),\n",
    "                label=f\"A(1-B exp(-t/c)): A={popt[0]:.1f}, B={popt[1]:.2f}, c={popt[2]:.2f}\",).opts(color='green') *\n",
    "            hv.ErrorBars(np.column_stack([x_axe, df['ToT2 (ns)'], df['ToT2 error']])) #*\n",
    "            * hv.Curve((x_axe, df['ToT1 (ns)']), label=f\"ToT of 1st LED\") \n",
    "            * hv.VLine((df['ToT1 (ns)'][:5].mean()+475)*1e-3)\n",
    "            ).opts(legend_position=\"bottom_right\", framewise=True).opts(\n",
    "                opts.Curve(\n",
    "                xlabel=\"delay (µs)\",\n",
    "                ylabel=\"mean ToT (ns)\",\n",
    "                title=f'{scan_nr}, IKrum={runNrs[scan_nr][\"IKrum\"]}',\n",
    "                xlim=(0.5, None),\n",
    "                logx=True,\n",
    "                framewise=True\n",
    "        )).opts(legend_position=\"right\")\n",
    "\n",
    "dmap = hv.DynamicMap(load_tot_curves, kdims=['ToT1','ToT2'])\n",
    "dmap = dmap.redim.values(ToT1=tot1s, ToT2=tot2s)\n",
    "\n",
    "dmap.opts(framewise=True)"
   ]
  },
  {
   "attachments": {},
   "cell_type": "markdown",
   "metadata": {},
   "source": [
    "## Recovery time"
   ]
  },
  {
   "cell_type": "code",
   "execution_count": 104,
   "metadata": {},
   "outputs": [
    {
     "data": {},
     "metadata": {},
     "output_type": "display_data"
    },
    {
     "data": {
      "application/vnd.holoviews_exec.v0+json": "",
      "text/html": [
       "<div id='p23970'>\n",
       "  <div id=\"f5051bd7-ce6a-4ff1-9d90-3554c3ae8ff6\" data-root-id=\"p23970\" style=\"display: contents;\"></div>\n",
       "</div>\n",
       "<script type=\"application/javascript\">(function(root) {\n",
       "  var docs_json = {\"e82edd65-e6ce-421a-96cb-75f3c9db05e1\":{\"version\":\"3.1.1\",\"title\":\"Bokeh Application\",\"defs\":[{\"type\":\"model\",\"name\":\"ReactiveHTML1\"},{\"type\":\"model\",\"name\":\"FlexBox1\",\"properties\":[{\"name\":\"align_content\",\"kind\":\"Any\",\"default\":\"flex-start\"},{\"name\":\"align_items\",\"kind\":\"Any\",\"default\":\"flex-start\"},{\"name\":\"flex_direction\",\"kind\":\"Any\",\"default\":\"row\"},{\"name\":\"flex_wrap\",\"kind\":\"Any\",\"default\":\"wrap\"},{\"name\":\"justify_content\",\"kind\":\"Any\",\"default\":\"flex-start\"}]},{\"type\":\"model\",\"name\":\"FloatPanel1\",\"properties\":[{\"name\":\"config\",\"kind\":\"Any\",\"default\":{\"type\":\"map\"}},{\"name\":\"contained\",\"kind\":\"Any\",\"default\":true},{\"name\":\"position\",\"kind\":\"Any\",\"default\":\"right-top\"},{\"name\":\"offsetx\",\"kind\":\"Any\",\"default\":null},{\"name\":\"offsety\",\"kind\":\"Any\",\"default\":null},{\"name\":\"theme\",\"kind\":\"Any\",\"default\":\"primary\"},{\"name\":\"status\",\"kind\":\"Any\",\"default\":\"normalized\"}]},{\"type\":\"model\",\"name\":\"GridStack1\",\"properties\":[{\"name\":\"mode\",\"kind\":\"Any\",\"default\":\"warn\"},{\"name\":\"ncols\",\"kind\":\"Any\",\"default\":null},{\"name\":\"nrows\",\"kind\":\"Any\",\"default\":null},{\"name\":\"allow_resize\",\"kind\":\"Any\",\"default\":true},{\"name\":\"allow_drag\",\"kind\":\"Any\",\"default\":true},{\"name\":\"state\",\"kind\":\"Any\",\"default\":[]}]},{\"type\":\"model\",\"name\":\"drag1\",\"properties\":[{\"name\":\"slider_width\",\"kind\":\"Any\",\"default\":5},{\"name\":\"slider_color\",\"kind\":\"Any\",\"default\":\"black\"},{\"name\":\"value\",\"kind\":\"Any\",\"default\":50}]},{\"type\":\"model\",\"name\":\"click1\",\"properties\":[{\"name\":\"terminal_output\",\"kind\":\"Any\",\"default\":\"\"},{\"name\":\"debug_name\",\"kind\":\"Any\",\"default\":\"\"},{\"name\":\"clears\",\"kind\":\"Any\",\"default\":0}]},{\"type\":\"model\",\"name\":\"FastWrapper1\",\"properties\":[{\"name\":\"object\",\"kind\":\"Any\",\"default\":null},{\"name\":\"style\",\"kind\":\"Any\",\"default\":null}]},{\"type\":\"model\",\"name\":\"NotificationAreaBase1\",\"properties\":[{\"name\":\"position\",\"kind\":\"Any\",\"default\":\"bottom-right\"},{\"name\":\"_clear\",\"kind\":\"Any\",\"default\":0}]},{\"type\":\"model\",\"name\":\"NotificationArea1\",\"properties\":[{\"name\":\"notifications\",\"kind\":\"Any\",\"default\":[]},{\"name\":\"position\",\"kind\":\"Any\",\"default\":\"bottom-right\"},{\"name\":\"_clear\",\"kind\":\"Any\",\"default\":0},{\"name\":\"types\",\"kind\":\"Any\",\"default\":[{\"type\":\"map\",\"entries\":[[\"type\",\"warning\"],[\"background\",\"#ffc107\"],[\"icon\",{\"type\":\"map\",\"entries\":[[\"className\",\"fas fa-exclamation-triangle\"],[\"tagName\",\"i\"],[\"color\",\"white\"]]}]]},{\"type\":\"map\",\"entries\":[[\"type\",\"info\"],[\"background\",\"#007bff\"],[\"icon\",{\"type\":\"map\",\"entries\":[[\"className\",\"fas fa-info-circle\"],[\"tagName\",\"i\"],[\"color\",\"white\"]]}]]}]}]},{\"type\":\"model\",\"name\":\"Notification\",\"properties\":[{\"name\":\"background\",\"kind\":\"Any\",\"default\":null},{\"name\":\"duration\",\"kind\":\"Any\",\"default\":3000},{\"name\":\"icon\",\"kind\":\"Any\",\"default\":null},{\"name\":\"message\",\"kind\":\"Any\",\"default\":\"\"},{\"name\":\"notification_type\",\"kind\":\"Any\",\"default\":null},{\"name\":\"_destroyed\",\"kind\":\"Any\",\"default\":false}]},{\"type\":\"model\",\"name\":\"TemplateActions1\",\"properties\":[{\"name\":\"open_modal\",\"kind\":\"Any\",\"default\":0},{\"name\":\"close_modal\",\"kind\":\"Any\",\"default\":0}]},{\"type\":\"model\",\"name\":\"BootstrapTemplateActions1\",\"properties\":[{\"name\":\"open_modal\",\"kind\":\"Any\",\"default\":0},{\"name\":\"close_modal\",\"kind\":\"Any\",\"default\":0}]},{\"type\":\"model\",\"name\":\"MaterialTemplateActions1\",\"properties\":[{\"name\":\"open_modal\",\"kind\":\"Any\",\"default\":0},{\"name\":\"close_modal\",\"kind\":\"Any\",\"default\":0}]}],\"roots\":[{\"type\":\"object\",\"name\":\"Row\",\"id\":\"p23970\",\"attributes\":{\"name\":\"Row62970\",\"tags\":[\"embedded\"],\"stylesheets\":[\"\\n:host(.pn-loading.pn-arc):before, .pn-loading.pn-arc:before {\\n  background-image: url(\\\"data:image/svg+xml;base64,PHN2ZyB4bWxucz0iaHR0cDovL3d3dy53My5vcmcvMjAwMC9zdmciIHN0eWxlPSJtYXJnaW46IGF1dG87IGJhY2tncm91bmQ6IG5vbmU7IGRpc3BsYXk6IGJsb2NrOyBzaGFwZS1yZW5kZXJpbmc6IGF1dG87IiB2aWV3Qm94PSIwIDAgMTAwIDEwMCIgcHJlc2VydmVBc3BlY3RSYXRpbz0ieE1pZFlNaWQiPiAgPGNpcmNsZSBjeD0iNTAiIGN5PSI1MCIgZmlsbD0ibm9uZSIgc3Ryb2tlPSIjYzNjM2MzIiBzdHJva2Utd2lkdGg9IjEwIiByPSIzNSIgc3Ryb2tlLWRhc2hhcnJheT0iMTY0LjkzMzYxNDMxMzQ2NDE1IDU2Ljk3Nzg3MTQzNzgyMTM4Ij4gICAgPGFuaW1hdGVUcmFuc2Zvcm0gYXR0cmlidXRlTmFtZT0idHJhbnNmb3JtIiB0eXBlPSJyb3RhdGUiIHJlcGVhdENvdW50PSJpbmRlZmluaXRlIiBkdXI9IjFzIiB2YWx1ZXM9IjAgNTAgNTA7MzYwIDUwIDUwIiBrZXlUaW1lcz0iMDsxIj48L2FuaW1hdGVUcmFuc2Zvcm0+ICA8L2NpcmNsZT48L3N2Zz4=\\\");\\n  background-size: auto calc(min(50%, 400px));\\n}\",{\"type\":\"object\",\"name\":\"ImportedStyleSheet\",\"id\":\"p23973\",\"attributes\":{\"url\":\"https://cdn.holoviz.org/panel/1.1.1/dist/css/loading.css\"}},{\"type\":\"object\",\"name\":\"ImportedStyleSheet\",\"id\":\"p24268\",\"attributes\":{\"url\":\"https://cdn.holoviz.org/panel/1.1.1/dist/css/listpanel.css\"}},{\"type\":\"object\",\"name\":\"ImportedStyleSheet\",\"id\":\"p23971\",\"attributes\":{\"url\":\"https://cdn.holoviz.org/panel/1.1.1/dist/bundled/theme/default.css\"}},{\"type\":\"object\",\"name\":\"ImportedStyleSheet\",\"id\":\"p23972\",\"attributes\":{\"url\":\"https://cdn.holoviz.org/panel/1.1.1/dist/bundled/theme/native.css\"}}],\"margin\":0,\"sizing_mode\":\"stretch_width\",\"align\":\"start\",\"children\":[{\"type\":\"object\",\"name\":\"Spacer\",\"id\":\"p23974\",\"attributes\":{\"name\":\"HSpacer62981\",\"stylesheets\":[\"\\n:host(.pn-loading.pn-arc):before, .pn-loading.pn-arc:before {\\n  background-image: url(\\\"data:image/svg+xml;base64,PHN2ZyB4bWxucz0iaHR0cDovL3d3dy53My5vcmcvMjAwMC9zdmciIHN0eWxlPSJtYXJnaW46IGF1dG87IGJhY2tncm91bmQ6IG5vbmU7IGRpc3BsYXk6IGJsb2NrOyBzaGFwZS1yZW5kZXJpbmc6IGF1dG87IiB2aWV3Qm94PSIwIDAgMTAwIDEwMCIgcHJlc2VydmVBc3BlY3RSYXRpbz0ieE1pZFlNaWQiPiAgPGNpcmNsZSBjeD0iNTAiIGN5PSI1MCIgZmlsbD0ibm9uZSIgc3Ryb2tlPSIjYzNjM2MzIiBzdHJva2Utd2lkdGg9IjEwIiByPSIzNSIgc3Ryb2tlLWRhc2hhcnJheT0iMTY0LjkzMzYxNDMxMzQ2NDE1IDU2Ljk3Nzg3MTQzNzgyMTM4Ij4gICAgPGFuaW1hdGVUcmFuc2Zvcm0gYXR0cmlidXRlTmFtZT0idHJhbnNmb3JtIiB0eXBlPSJyb3RhdGUiIHJlcGVhdENvdW50PSJpbmRlZmluaXRlIiBkdXI9IjFzIiB2YWx1ZXM9IjAgNTAgNTA7MzYwIDUwIDUwIiBrZXlUaW1lcz0iMDsxIj48L2FuaW1hdGVUcmFuc2Zvcm0+ICA8L2NpcmNsZT48L3N2Zz4=\\\");\\n  background-size: auto calc(min(50%, 400px));\\n}\",{\"id\":\"p23973\"},{\"id\":\"p23971\"},{\"id\":\"p23972\"}],\"margin\":0,\"sizing_mode\":\"stretch_width\",\"align\":\"start\"}},{\"type\":\"object\",\"name\":\"GridPlot\",\"id\":\"p24186\",\"attributes\":{\"rows\":null,\"cols\":null,\"toolbar\":{\"type\":\"object\",\"name\":\"Toolbar\",\"id\":\"p24232\",\"attributes\":{\"tools\":[{\"type\":\"object\",\"name\":\"ToolProxy\",\"id\":\"p24226\",\"attributes\":{\"tools\":[{\"type\":\"object\",\"name\":\"HoverTool\",\"id\":\"p23977\",\"attributes\":{\"tags\":[\"hv_created\"],\"renderers\":[{\"type\":\"object\",\"name\":\"GlyphRenderer\",\"id\":\"p24036\",\"attributes\":{\"data_source\":{\"type\":\"object\",\"name\":\"ColumnDataSource\",\"id\":\"p24023\",\"attributes\":{\"selected\":{\"type\":\"object\",\"name\":\"Selection\",\"id\":\"p24024\",\"attributes\":{\"indices\":[],\"line_indices\":[]}},\"selection_policy\":{\"type\":\"object\",\"name\":\"UnionRenderers\",\"id\":\"p24025\"},\"data\":{\"type\":\"map\",\"entries\":[[\"x\",[50.0]],[\"y\",[50.0]],[\"dw\",[2000.0]],[\"dh\",[2000.0]],[\"image\",[{\"type\":\"ndarray\",\"array\":{\"type\":\"bytes\",\"data\":\"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\"},\"shape\":[20,20],\"dtype\":\"float64\",\"order\":\"little\"}]]]}}},\"view\":{\"type\":\"object\",\"name\":\"CDSView\",\"id\":\"p24037\",\"attributes\":{\"filter\":{\"type\":\"object\",\"name\":\"AllIndices\",\"id\":\"p24038\"}}},\"glyph\":{\"type\":\"object\",\"name\":\"Image\",\"id\":\"p24030\",\"attributes\":{\"tags\":[\"apply_ranges\"],\"x\":{\"type\":\"field\",\"field\":\"x\"},\"y\":{\"type\":\"field\",\"field\":\"y\"},\"dw\":{\"type\":\"field\",\"field\":\"dw\"},\"dh\":{\"type\":\"field\",\"field\":\"dh\"},\"image\":{\"type\":\"field\",\"field\":\"image\"},\"color_mapper\":{\"type\":\"object\",\"name\":\"LogColorMapper\",\"id\":\"p24022\",\"attributes\":{\"palette\":[\"#3a4cc0\",\"#3b4dc1\",\"#3c4fc3\",\"#3e51c4\",\"#3f53c6\",\"#4054c7\",\"#4156c9\",\"#4258ca\",\"#435acc\",\"#455bcd\",\"#465dcf\",\"#475fd0\",\"#4860d1\",\"#4962d3\",\"#4b64d4\",\"#4c66d6\",\"#4d67d7\",\"#4e69d8\",\"#506bda\",\"#516cdb\",\"#526edc\",\"#5370dd\",\"#5571de\",\"#5673e0\",\"#5775e1\",\"#5876e2\",\"#5a78e3\",\"#5b79e4\",\"#5c7be5\",\"#5d7de6\",\"#5f7ee7\",\"#6080e8\",\"#6182ea\",\"#6383ea\",\"#6485eb\",\"#6586ec\",\"#6788ed\",\"#6889ee\",\"#698bef\",\"#6b8df0\",\"#6c8ef1\",\"#6d90f1\",\"#6f91f2\",\"#7093f3\",\"#7194f4\",\"#7395f4\",\"#7497f5\",\"#7598f6\",\"#779af6\",\"#789bf7\",\"#7a9df8\",\"#7b9ef8\",\"#7ca0f9\",\"#7ea1f9\",\"#7fa2fa\",\"#80a4fa\",\"#82a5fb\",\"#83a6fb\",\"#85a8fb\",\"#86a9fc\",\"#87aafc\",\"#89acfc\",\"#8aadfd\",\"#8baefd\",\"#8daffd\",\"#8eb1fd\",\"#90b2fe\",\"#91b3fe\",\"#92b4fe\",\"#94b5fe\",\"#95b7fe\",\"#97b8fe\",\"#98b9fe\",\"#99bafe\",\"#9bbbfe\",\"#9cbcfe\",\"#9dbdfe\",\"#9fbefe\",\"#a0bffe\",\"#a2c0fe\",\"#a3c1fe\",\"#a4c2fe\",\"#a6c3fd\",\"#a7c4fd\",\"#a8c5fd\",\"#aac6fd\",\"#abc7fc\",\"#acc8fc\",\"#aec9fc\",\"#afcafb\",\"#b0cbfb\",\"#b2cbfb\",\"#b3ccfa\",\"#b4cdfa\",\"#b6cef9\",\"#b7cff9\",\"#b8cff8\",\"#b9d0f8\",\"#bbd1f7\",\"#bcd1f6\",\"#bdd2f6\",\"#bed3f5\",\"#c0d3f5\",\"#c1d4f4\",\"#c2d4f3\",\"#c3d5f2\",\"#c5d5f2\",\"#c6d6f1\",\"#c7d6f0\",\"#c8d7ef\",\"#c9d7ee\",\"#cad8ee\",\"#ccd8ed\",\"#cdd9ec\",\"#ced9eb\",\"#cfd9ea\",\"#d0dae9\",\"#d1dae8\",\"#d2dae7\",\"#d3dbe6\",\"#d5dbe5\",\"#d6dbe4\",\"#d7dbe2\",\"#d8dbe1\",\"#d9dce0\",\"#dadcdf\",\"#dbdcde\",\"#dcdcdd\",\"#dddcdb\",\"#dedbda\",\"#dfdbd9\",\"#e0dad7\",\"#e1dad6\",\"#e2d9d4\",\"#e3d9d3\",\"#e4d8d1\",\"#e5d8d0\",\"#e6d7cf\",\"#e7d6cd\",\"#e7d6cc\",\"#e8d5ca\",\"#e9d4c9\",\"#ead3c7\",\"#ebd3c6\",\"#ecd2c4\",\"#ecd1c3\",\"#edd0c1\",\"#edcfc0\",\"#eecfbe\",\"#efcebc\",\"#efcdbb\",\"#f0ccb9\",\"#f1cbb8\",\"#f1cab6\",\"#f2c9b5\",\"#f2c8b3\",\"#f2c7b2\",\"#f3c6b0\",\"#f3c5af\",\"#f4c4ad\",\"#f4c3ab\",\"#f4c2aa\",\"#f5c1a8\",\"#f5c0a7\",\"#f5bfa5\",\"#f6bda4\",\"#f6bca2\",\"#f6bba0\",\"#f6ba9f\",\"#f6b99d\",\"#f6b79c\",\"#f6b69a\",\"#f7b598\",\"#f7b397\",\"#f7b295\",\"#f7b194\",\"#f7b092\",\"#f7ae91\",\"#f7ad8f\",\"#f6ab8d\",\"#f6aa8c\",\"#f6a98a\",\"#f6a789\",\"#f6a687\",\"#f6a486\",\"#f6a384\",\"#f5a182\",\"#f5a081\",\"#f59e7f\",\"#f49d7e\",\"#f49b7c\",\"#f49a7b\",\"#f39879\",\"#f39678\",\"#f39576\",\"#f29375\",\"#f29173\",\"#f19072\",\"#f18e70\",\"#f08d6f\",\"#f08b6d\",\"#ef896c\",\"#ee876a\",\"#ee8669\",\"#ed8467\",\"#ec8266\",\"#ec8064\",\"#eb7f63\",\"#ea7d61\",\"#ea7b60\",\"#e9795e\",\"#e8775d\",\"#e7755c\",\"#e6745a\",\"#e67259\",\"#e57057\",\"#e46e56\",\"#e36c54\",\"#e26a53\",\"#e16852\",\"#e06650\",\"#df644f\",\"#de624e\",\"#dd604c\",\"#dc5e4b\",\"#db5c4a\",\"#da5a48\",\"#d95847\",\"#d85646\",\"#d75444\",\"#d65243\",\"#d44f42\",\"#d34d40\",\"#d24b3f\",\"#d1493e\",\"#cf463d\",\"#ce443c\",\"#cd423a\",\"#cc3f39\",\"#ca3d38\",\"#c93b37\",\"#c83835\",\"#c63534\",\"#c53233\",\"#c43032\",\"#c22d31\",\"#c12a30\",\"#bf282e\",\"#be232d\",\"#bc1f2c\",\"#bb1a2b\",\"#b9162a\",\"#b81129\",\"#b60d28\",\"#b50827\",\"#b30326\"],\"nan_color\":\"rgba(0, 0, 0, 0)\",\"low\":1.0000000000000002,\"high\":14.999999999999998}}}},\"selection_glyph\":{\"type\":\"object\",\"name\":\"Image\",\"id\":\"p24042\",\"attributes\":{\"tags\":[\"apply_ranges\"],\"x\":{\"type\":\"field\",\"field\":\"x\"},\"y\":{\"type\":\"field\",\"field\":\"y\"},\"dw\":{\"type\":\"field\",\"field\":\"dw\"},\"dh\":{\"type\":\"field\",\"field\":\"dh\"},\"global_alpha\":{\"type\":\"value\",\"value\":1.0},\"image\":{\"type\":\"field\",\"field\":\"image\"},\"color_mapper\":{\"id\":\"p24022\"}}},\"nonselection_glyph\":{\"type\":\"object\",\"name\":\"Image\",\"id\":\"p24032\",\"attributes\":{\"tags\":[\"apply_ranges\"],\"x\":{\"type\":\"field\",\"field\":\"x\"},\"y\":{\"type\":\"field\",\"field\":\"y\"},\"dw\":{\"type\":\"field\",\"field\":\"dw\"},\"dh\":{\"type\":\"field\",\"field\":\"dh\"},\"global_alpha\":{\"type\":\"value\",\"value\":0.1},\"image\":{\"type\":\"field\",\"field\":\"image\"},\"color_mapper\":{\"id\":\"p24022\"}}},\"muted_glyph\":{\"type\":\"object\",\"name\":\"Image\",\"id\":\"p24034\",\"attributes\":{\"tags\":[\"apply_ranges\"],\"x\":{\"type\":\"field\",\"field\":\"x\"},\"y\":{\"type\":\"field\",\"field\":\"y\"},\"dw\":{\"type\":\"field\",\"field\":\"dw\"},\"dh\":{\"type\":\"field\",\"field\":\"dh\"},\"global_alpha\":{\"type\":\"value\",\"value\":0.2},\"image\":{\"type\":\"field\",\"field\":\"image\"},\"color_mapper\":{\"id\":\"p24022\"}}}}}],\"tooltips\":[[\"x\",\"$x\"],[\"y\",\"$y\"],[\"z\",\"@image\"]]}},{\"type\":\"object\",\"name\":\"HoverTool\",\"id\":\"p24056\",\"attributes\":{\"tags\":[\"hv_created\"],\"renderers\":[{\"type\":\"object\",\"name\":\"GlyphRenderer\",\"id\":\"p24120\",\"attributes\":{\"data_source\":{\"type\":\"object\",\"name\":\"ColumnDataSource\",\"id\":\"p24110\",\"attributes\":{\"selected\":{\"type\":\"object\",\"name\":\"Selection\",\"id\":\"p24111\",\"attributes\":{\"indices\":[],\"line_indices\":[]}},\"selection_policy\":{\"type\":\"object\",\"name\":\"UnionRenderers\",\"id\":\"p24112\"},\"data\":{\"type\":\"map\",\"entries\":[[\"x\",{\"type\":\"ndarray\",\"array\":{\"type\":\"bytes\",\"data\":\"mpmZmZmZ9T9nZmZmZmYAQAAAAAAAAAZAmZmZmZmZC0CamZmZmZkQQGZmZmZmZhNAMjMzMzMzFkAAAAAAAAAZQMzMzMzMzBtAmpmZmZmZHkAzMzMzM7MgQJmZmZmZGSJAAAAAAACAI0BmZmZmZuYkQMzMzMzMTCZAMzMzMzOzJ0CZmZmZmRkpQAAAAAAAgCpAZmZmZmbmK0DMzMzMzEwtQA==\"},\"shape\":[20],\"dtype\":\"float64\",\"order\":\"little\"}],[\"y\",{\"type\":\"ndarray\",\"array\":{\"type\":\"bytes\",\"data\":\"BAAAAAAAAAAAAAAAAQAAAAAAAAABAAAAAwAAAAQAAAAMAAAApwAAAK8AAAARAAAADAAAAAIAAAACAAAAAgAAAAAAAAAAAAAAAAAAAAoAAAA=\"},\"shape\":[20],\"dtype\":\"int32\",\"order\":\"little\"}]]}}},\"view\":{\"type\":\"object\",\"name\":\"CDSView\",\"id\":\"p24121\",\"attributes\":{\"filter\":{\"type\":\"object\",\"name\":\"AllIndices\",\"id\":\"p24122\"}}},\"glyph\":{\"type\":\"object\",\"name\":\"Line\",\"id\":\"p24117\",\"attributes\":{\"tags\":[\"apply_ranges\"],\"x\":{\"type\":\"field\",\"field\":\"x\"},\"y\":{\"type\":\"field\",\"field\":\"y\"},\"line_color\":\"#30a2da\",\"line_width\":2}},\"selection_glyph\":{\"type\":\"object\",\"name\":\"Line\",\"id\":\"p24123\",\"attributes\":{\"tags\":[\"apply_ranges\"],\"x\":{\"type\":\"field\",\"field\":\"x\"},\"y\":{\"type\":\"field\",\"field\":\"y\"},\"line_color\":\"#30a2da\",\"line_width\":2}},\"nonselection_glyph\":{\"type\":\"object\",\"name\":\"Line\",\"id\":\"p24118\",\"attributes\":{\"tags\":[\"apply_ranges\"],\"x\":{\"type\":\"field\",\"field\":\"x\"},\"y\":{\"type\":\"field\",\"field\":\"y\"},\"line_color\":\"#30a2da\",\"line_alpha\":0.1,\"line_width\":2}},\"muted_glyph\":{\"type\":\"object\",\"name\":\"Line\",\"id\":\"p24119\",\"attributes\":{\"tags\":[\"apply_ranges\"],\"x\":{\"type\":\"field\",\"field\":\"x\"},\"y\":{\"type\":\"field\",\"field\":\"y\"},\"line_color\":\"#30a2da\",\"line_alpha\":0.2,\"line_width\":2}}}},{\"type\":\"object\",\"name\":\"GlyphRenderer\",\"id\":\"p24134\",\"attributes\":{\"data_source\":{\"type\":\"object\",\"name\":\"ColumnDataSource\",\"id\":\"p24124\",\"attributes\":{\"selected\":{\"type\":\"object\",\"name\":\"Selection\",\"id\":\"p24125\",\"attributes\":{\"indices\":[],\"line_indices\":[]}},\"selection_policy\":{\"type\":\"object\",\"name\":\"UnionRenderers\",\"id\":\"p24126\"},\"data\":{\"type\":\"map\",\"entries\":[[\"x\",{\"type\":\"ndarray\",\"array\":{\"type\":\"bytes\",\"data\":\"mpmZmZmZ9T9nZmZmZmYAQAAAAAAAAAZAmZmZmZmZC0CamZmZmZkQQGZmZmZmZhNAMjMzMzMzFkAAAAAAAAAZQMzMzMzMzBtAmpmZmZmZHkAzMzMzM7MgQJmZmZmZGSJAAAAAAACAI0BmZmZmZuYkQMzMzMzMTCZAMzMzMzOzJ0CZmZmZmRkpQAAAAAAAgCpAZmZmZmbmK0DMzMzMzEwtQA==\"},\"shape\":[20],\"dtype\":\"float64\",\"order\":\"little\"}],[\"y\",{\"type\":\"ndarray\",\"array\":{\"type\":\"bytes\",\"data\":\"BAAAAAAAAAAAAAAAAQAAAAAAAAABAAAAAwAAAAQAAAAMAAAApwAAAK8AAAARAAAADAAAAAIAAAACAAAAAgAAAAAAAAAAAAAAAAAAAAoAAAA=\"},\"shape\":[20],\"dtype\":\"int32\",\"order\":\"little\"}]]}}},\"view\":{\"type\":\"object\",\"name\":\"CDSView\",\"id\":\"p24135\",\"attributes\":{\"filter\":{\"type\":\"object\",\"name\":\"AllIndices\",\"id\":\"p24136\"}}},\"glyph\":{\"type\":\"object\",\"name\":\"Scatter\",\"id\":\"p24131\",\"attributes\":{\"tags\":[\"apply_ranges\"],\"x\":{\"type\":\"field\",\"field\":\"x\"},\"y\":{\"type\":\"field\",\"field\":\"y\"},\"size\":{\"type\":\"value\",\"value\":8},\"line_color\":{\"type\":\"value\",\"value\":\"#30a2da\"},\"fill_color\":{\"type\":\"value\",\"value\":\"#30a2da\"},\"hatch_color\":{\"type\":\"value\",\"value\":\"#30a2da\"}}},\"selection_glyph\":{\"type\":\"object\",\"name\":\"Scatter\",\"id\":\"p24137\",\"attributes\":{\"tags\":[\"apply_ranges\"],\"x\":{\"type\":\"field\",\"field\":\"x\"},\"y\":{\"type\":\"field\",\"field\":\"y\"},\"size\":{\"type\":\"value\",\"value\":8},\"angle\":{\"type\":\"value\",\"value\":0.0},\"line_color\":{\"type\":\"value\",\"value\":\"#30a2da\"},\"line_alpha\":{\"type\":\"value\",\"value\":1.0},\"line_width\":{\"type\":\"value\",\"value\":1},\"line_join\":{\"type\":\"value\",\"value\":\"bevel\"},\"line_cap\":{\"type\":\"value\",\"value\":\"butt\"},\"line_dash\":{\"type\":\"value\",\"value\":[]},\"line_dash_offset\":{\"type\":\"value\",\"value\":0},\"fill_color\":{\"type\":\"value\",\"value\":\"#30a2da\"},\"fill_alpha\":{\"type\":\"value\",\"value\":1.0},\"hatch_color\":{\"type\":\"value\",\"value\":\"#30a2da\"},\"hatch_alpha\":{\"type\":\"value\",\"value\":1.0},\"hatch_scale\":{\"type\":\"value\",\"value\":12.0},\"hatch_pattern\":{\"type\":\"value\",\"value\":null},\"hatch_weight\":{\"type\":\"value\",\"value\":1.0},\"marker\":{\"type\":\"value\",\"value\":\"circle\"}}},\"nonselection_glyph\":{\"type\":\"object\",\"name\":\"Scatter\",\"id\":\"p24132\",\"attributes\":{\"tags\":[\"apply_ranges\"],\"x\":{\"type\":\"field\",\"field\":\"x\"},\"y\":{\"type\":\"field\",\"field\":\"y\"},\"size\":{\"type\":\"value\",\"value\":8},\"line_color\":{\"type\":\"value\",\"value\":\"#30a2da\"},\"line_alpha\":{\"type\":\"value\",\"value\":0.1},\"fill_color\":{\"type\":\"value\",\"value\":\"#30a2da\"},\"fill_alpha\":{\"type\":\"value\",\"value\":0.1},\"hatch_color\":{\"type\":\"value\",\"value\":\"#30a2da\"},\"hatch_alpha\":{\"type\":\"value\",\"value\":0.1}}},\"muted_glyph\":{\"type\":\"object\",\"name\":\"Scatter\",\"id\":\"p24133\",\"attributes\":{\"tags\":[\"apply_ranges\"],\"x\":{\"type\":\"field\",\"field\":\"x\"},\"y\":{\"type\":\"field\",\"field\":\"y\"},\"size\":{\"type\":\"value\",\"value\":8},\"line_color\":{\"type\":\"value\",\"value\":\"#30a2da\"},\"line_alpha\":{\"type\":\"value\",\"value\":0.2},\"fill_color\":{\"type\":\"value\",\"value\":\"#30a2da\"},\"fill_alpha\":{\"type\":\"value\",\"value\":0.2},\"hatch_color\":{\"type\":\"value\",\"value\":\"#30a2da\"},\"hatch_alpha\":{\"type\":\"value\",\"value\":0.2}}}}}],\"tooltips\":[[\"x\",\"@{x}\"],[\"y\",\"@{y}\"]]}}]}},{\"type\":\"object\",\"name\":\"SaveTool\",\"id\":\"p24227\"},{\"type\":\"object\",\"name\":\"ToolProxy\",\"id\":\"p24228\",\"attributes\":{\"tools\":[{\"type\":\"object\",\"name\":\"PanTool\",\"id\":\"p24009\"},{\"type\":\"object\",\"name\":\"PanTool\",\"id\":\"p24089\"}]}},{\"type\":\"object\",\"name\":\"ToolProxy\",\"id\":\"p24229\",\"attributes\":{\"tools\":[{\"type\":\"object\",\"name\":\"WheelZoomTool\",\"id\":\"p24010\"},{\"type\":\"object\",\"name\":\"WheelZoomTool\",\"id\":\"p24090\"}]}},{\"type\":\"object\",\"name\":\"ToolProxy\",\"id\":\"p24230\",\"attributes\":{\"tools\":[{\"type\":\"object\",\"name\":\"BoxZoomTool\",\"id\":\"p24011\",\"attributes\":{\"overlay\":{\"type\":\"object\",\"name\":\"BoxAnnotation\",\"id\":\"p24012\",\"attributes\":{\"syncable\":false,\"level\":\"overlay\",\"visible\":false,\"left_units\":\"canvas\",\"right_units\":\"canvas\",\"bottom_units\":\"canvas\",\"top_units\":\"canvas\",\"line_color\":\"black\",\"line_alpha\":1.0,\"line_width\":2,\"line_dash\":[4,4],\"fill_color\":\"lightgrey\",\"fill_alpha\":0.5}}}},{\"type\":\"object\",\"name\":\"BoxZoomTool\",\"id\":\"p24091\",\"attributes\":{\"overlay\":{\"type\":\"object\",\"name\":\"BoxAnnotation\",\"id\":\"p24092\",\"attributes\":{\"syncable\":false,\"level\":\"overlay\",\"visible\":false,\"left_units\":\"canvas\",\"right_units\":\"canvas\",\"bottom_units\":\"canvas\",\"top_units\":\"canvas\",\"line_color\":\"black\",\"line_alpha\":1.0,\"line_width\":2,\"line_dash\":[4,4],\"fill_color\":\"lightgrey\",\"fill_alpha\":0.5}}}}]}},{\"type\":\"object\",\"name\":\"ToolProxy\",\"id\":\"p24231\",\"attributes\":{\"tools\":[{\"type\":\"object\",\"name\":\"ResetTool\",\"id\":\"p24013\"},{\"type\":\"object\",\"name\":\"ResetTool\",\"id\":\"p24093\"}]}}]}},\"children\":[[{\"type\":\"object\",\"name\":\"Figure\",\"id\":\"p23978\",\"attributes\":{\"width\":null,\"height\":null,\"sizing_mode\":\"fixed\",\"align\":\"start\",\"x_range\":{\"type\":\"object\",\"name\":\"Range1d\",\"id\":\"p23975\",\"attributes\":{\"tags\":[[[\"x\",\"x\",null]]],\"start\":50.0,\"end\":2050.0,\"reset_start\":50.0,\"reset_end\":2050.0}},\"y_range\":{\"type\":\"object\",\"name\":\"Range1d\",\"id\":\"p23976\",\"attributes\":{\"tags\":[[[\"y\",\"y\",null]]],\"start\":50.0,\"end\":2050.0,\"reset_start\":50.0,\"reset_end\":2050.0}},\"x_scale\":{\"type\":\"object\",\"name\":\"LinearScale\",\"id\":\"p23990\"},\"y_scale\":{\"type\":\"object\",\"name\":\"LinearScale\",\"id\":\"p23992\"},\"title\":{\"type\":\"object\",\"name\":\"Title\",\"id\":\"p23981\",\"attributes\":{\"text_color\":\"black\",\"text_font_size\":\"18pt\"}},\"renderers\":[{\"id\":\"p24036\"}],\"toolbar\":{\"type\":\"object\",\"name\":\"Toolbar\",\"id\":\"p23983\",\"attributes\":{\"tools\":[{\"id\":\"p23977\"},{\"type\":\"object\",\"name\":\"SaveTool\",\"id\":\"p24008\"},{\"id\":\"p24009\"},{\"id\":\"p24010\"},{\"id\":\"p24011\"},{\"id\":\"p24013\"}],\"active_drag\":{\"id\":\"p24009\"},\"active_scroll\":{\"id\":\"p24010\"}}},\"toolbar_location\":null,\"left\":[{\"type\":\"object\",\"name\":\"LinearAxis\",\"id\":\"p24001\",\"attributes\":{\"ticker\":{\"type\":\"object\",\"name\":\"BasicTicker\",\"id\":\"p24004\",\"attributes\":{\"mantissas\":[1,2,5]}},\"formatter\":{\"type\":\"object\",\"name\":\"BasicTickFormatter\",\"id\":\"p24002\"},\"axis_label\":\"ToT2 (ns)\",\"axis_label_text_font_size\":\"19.5px\",\"major_label_policy\":{\"type\":\"object\",\"name\":\"AllLabels\",\"id\":\"p24003\"},\"major_label_text_font_size\":\"16.5px\"}}],\"right\":[{\"type\":\"object\",\"name\":\"ColorBar\",\"id\":\"p24040\",\"attributes\":{\"location\":[0,0],\"title_text_font_size\":\"19.5px\",\"ticker\":{\"type\":\"object\",\"name\":\"LogTicker\",\"id\":\"p24039\",\"attributes\":{\"mantissas\":[1,5]}},\"major_label_policy\":{\"type\":\"object\",\"name\":\"NoOverlap\",\"id\":\"p24041\"},\"major_label_text_font_size\":\"16.5px\",\"label_standoff\":8,\"major_tick_line_color\":\"black\",\"bar_line_color\":\"black\",\"color_mapper\":{\"id\":\"p24022\"}}}],\"below\":[{\"type\":\"object\",\"name\":\"LinearAxis\",\"id\":\"p23994\",\"attributes\":{\"ticker\":{\"type\":\"object\",\"name\":\"BasicTicker\",\"id\":\"p23997\",\"attributes\":{\"mantissas\":[1,2,5]}},\"formatter\":{\"type\":\"object\",\"name\":\"BasicTickFormatter\",\"id\":\"p23995\"},\"axis_label\":\"ToT1 (ns)\",\"axis_label_text_font_size\":\"19.5px\",\"major_label_policy\":{\"type\":\"object\",\"name\":\"AllLabels\",\"id\":\"p23996\"},\"major_label_text_font_size\":\"16.5px\"}}],\"center\":[{\"type\":\"object\",\"name\":\"Grid\",\"id\":\"p24000\",\"attributes\":{\"axis\":{\"id\":\"p23994\"},\"grid_line_color\":null}},{\"type\":\"object\",\"name\":\"Grid\",\"id\":\"p24007\",\"attributes\":{\"dimension\":1,\"axis\":{\"id\":\"p24001\"},\"grid_line_color\":null}}],\"frame_width\":400,\"frame_height\":400,\"min_border_top\":10,\"min_border_bottom\":10,\"min_border_left\":10,\"min_border_right\":10,\"output_backend\":\"webgl\"}},0,0],[{\"type\":\"object\",\"name\":\"Figure\",\"id\":\"p24058\",\"attributes\":{\"width\":400,\"height\":500,\"sizing_mode\":\"fixed\",\"align\":\"start\",\"x_range\":{\"type\":\"object\",\"name\":\"Range1d\",\"id\":\"p24054\",\"attributes\":{\"tags\":[[[\"x\",\"x\",null]]],\"start\":1.35,\"end\":14.649999999999999,\"reset_start\":1.35,\"reset_end\":14.649999999999999}},\"y_range\":{\"type\":\"object\",\"name\":\"Range1d\",\"id\":\"p24055\",\"attributes\":{\"tags\":[[[\"y\",\"y\",null]]],\"start\":-14.000000000000004,\"end\":189.0,\"reset_start\":-14.000000000000004,\"reset_end\":189.0}},\"x_scale\":{\"type\":\"object\",\"name\":\"LinearScale\",\"id\":\"p24070\"},\"y_scale\":{\"type\":\"object\",\"name\":\"LinearScale\",\"id\":\"p24072\"},\"title\":{\"type\":\"object\",\"name\":\"Title\",\"id\":\"p24061\",\"attributes\":{\"text_color\":\"black\",\"text_font_size\":\"18pt\"}},\"renderers\":[{\"id\":\"p24120\"},{\"id\":\"p24134\"}],\"toolbar\":{\"type\":\"object\",\"name\":\"Toolbar\",\"id\":\"p24063\",\"attributes\":{\"tools\":[{\"id\":\"p24056\"},{\"type\":\"object\",\"name\":\"SaveTool\",\"id\":\"p24088\"},{\"id\":\"p24089\"},{\"id\":\"p24090\"},{\"id\":\"p24091\"},{\"id\":\"p24093\"}],\"active_drag\":{\"id\":\"p24089\"},\"active_scroll\":{\"id\":\"p24090\"}}},\"toolbar_location\":null,\"left\":[{\"type\":\"object\",\"name\":\"LinearAxis\",\"id\":\"p24081\",\"attributes\":{\"ticker\":{\"type\":\"object\",\"name\":\"BasicTicker\",\"id\":\"p24084\",\"attributes\":{\"mantissas\":[1,2,5]}},\"formatter\":{\"type\":\"object\",\"name\":\"BasicTickFormatter\",\"id\":\"p24082\"},\"axis_label\":\"counts\",\"axis_label_text_font_size\":\"19.5px\",\"major_label_policy\":{\"type\":\"object\",\"name\":\"AllLabels\",\"id\":\"p24083\"},\"major_label_text_font_size\":\"16.5px\"}}],\"below\":[{\"type\":\"object\",\"name\":\"LinearAxis\",\"id\":\"p24074\",\"attributes\":{\"ticker\":{\"type\":\"object\",\"name\":\"BasicTicker\",\"id\":\"p24077\",\"attributes\":{\"mantissas\":[1,2,5]}},\"formatter\":{\"type\":\"object\",\"name\":\"BasicTickFormatter\",\"id\":\"p24075\"},\"axis_label\":\"Recovery time (\\u00b5s)\",\"axis_label_text_font_size\":\"19.5px\",\"major_label_policy\":{\"type\":\"object\",\"name\":\"AllLabels\",\"id\":\"p24076\"},\"major_label_text_font_size\":\"16.5px\"}}],\"center\":[{\"type\":\"object\",\"name\":\"Grid\",\"id\":\"p24080\",\"attributes\":{\"axis\":{\"id\":\"p24074\"},\"ticker\":{\"id\":\"p24077\"}}},{\"type\":\"object\",\"name\":\"Grid\",\"id\":\"p24087\",\"attributes\":{\"dimension\":1,\"axis\":{\"id\":\"p24081\"},\"ticker\":{\"id\":\"p24084\"}}}],\"min_border_top\":10,\"min_border_bottom\":10,\"min_border_left\":10,\"min_border_right\":10,\"output_backend\":\"webgl\"}},0,1]]}},{\"type\":\"object\",\"name\":\"Spacer\",\"id\":\"p24266\",\"attributes\":{\"name\":\"HSpacer62984\",\"stylesheets\":[\"\\n:host(.pn-loading.pn-arc):before, .pn-loading.pn-arc:before {\\n  background-image: url(\\\"data:image/svg+xml;base64,PHN2ZyB4bWxucz0iaHR0cDovL3d3dy53My5vcmcvMjAwMC9zdmciIHN0eWxlPSJtYXJnaW46IGF1dG87IGJhY2tncm91bmQ6IG5vbmU7IGRpc3BsYXk6IGJsb2NrOyBzaGFwZS1yZW5kZXJpbmc6IGF1dG87IiB2aWV3Qm94PSIwIDAgMTAwIDEwMCIgcHJlc2VydmVBc3BlY3RSYXRpbz0ieE1pZFlNaWQiPiAgPGNpcmNsZSBjeD0iNTAiIGN5PSI1MCIgZmlsbD0ibm9uZSIgc3Ryb2tlPSIjYzNjM2MzIiBzdHJva2Utd2lkdGg9IjEwIiByPSIzNSIgc3Ryb2tlLWRhc2hhcnJheT0iMTY0LjkzMzYxNDMxMzQ2NDE1IDU2Ljk3Nzg3MTQzNzgyMTM4Ij4gICAgPGFuaW1hdGVUcmFuc2Zvcm0gYXR0cmlidXRlTmFtZT0idHJhbnNmb3JtIiB0eXBlPSJyb3RhdGUiIHJlcGVhdENvdW50PSJpbmRlZmluaXRlIiBkdXI9IjFzIiB2YWx1ZXM9IjAgNTAgNTA7MzYwIDUwIDUwIiBrZXlUaW1lcz0iMDsxIj48L2FuaW1hdGVUcmFuc2Zvcm0+ICA8L2NpcmNsZT48L3N2Zz4=\\\");\\n  background-size: auto calc(min(50%, 400px));\\n}\",{\"id\":\"p23973\"},{\"id\":\"p23971\"},{\"id\":\"p23972\"}],\"margin\":0,\"sizing_mode\":\"stretch_width\",\"align\":\"start\"}}]}}],\"callbacks\":{\"type\":\"map\"}}};\n",
       "  var render_items = [{\"docid\":\"e82edd65-e6ce-421a-96cb-75f3c9db05e1\",\"roots\":{\"p23970\":\"f5051bd7-ce6a-4ff1-9d90-3554c3ae8ff6\"},\"root_ids\":[\"p23970\"]}];\n",
       "  var docs = Object.values(docs_json)\n",
       "  if (!docs) {\n",
       "    return\n",
       "  }\n",
       "  const py_version = docs[0].version.replace('rc', '-rc.').replace('.dev', '-dev.')\n",
       "  const is_dev = py_version.indexOf(\"+\") !== -1 || py_version.indexOf(\"-\") !== -1\n",
       "  function embed_document(root) {\n",
       "    var Bokeh = get_bokeh(root)\n",
       "    Bokeh.embed.embed_items_notebook(docs_json, render_items);\n",
       "    for (const render_item of render_items) {\n",
       "      for (const root_id of render_item.root_ids) {\n",
       "\tconst id_el = document.getElementById(root_id)\n",
       "\tif (id_el.children.length && (id_el.children[0].className === 'bk-root')) {\n",
       "\t  const root_el = id_el.children[0]\n",
       "\t  root_el.id = root_el.id + '-rendered'\n",
       "\t}\n",
       "      }\n",
       "    }\n",
       "  }\n",
       "  function get_bokeh(root) {\n",
       "    if (root.Bokeh === undefined) {\n",
       "      return null\n",
       "    } else if (root.Bokeh.version !== py_version && !is_dev) {\n",
       "      if (root.Bokeh.versions === undefined || !root.Bokeh.versions.has(py_version)) {\n",
       "\treturn null\n",
       "      }\n",
       "      return root.Bokeh.versions.get(py_version);\n",
       "    } else if (root.Bokeh.version === py_version) {\n",
       "      return root.Bokeh\n",
       "    }\n",
       "    return null\n",
       "  }\n",
       "  function is_loaded(root) {\n",
       "    var Bokeh = get_bokeh(root)\n",
       "    return (Bokeh != null && Bokeh.Panel !== undefined)\n",
       "  }\n",
       "  if (is_loaded(root)) {\n",
       "    embed_document(root);\n",
       "  } else {\n",
       "    var attempts = 0;\n",
       "    var timer = setInterval(function(root) {\n",
       "      if (is_loaded(root)) {\n",
       "        clearInterval(timer);\n",
       "        embed_document(root);\n",
       "      } else if (document.readyState == \"complete\") {\n",
       "        attempts++;\n",
       "        if (attempts > 200) {\n",
       "          clearInterval(timer);\n",
       "\t  var Bokeh = get_bokeh(root)\n",
       "\t  if (Bokeh == null || Bokeh.Panel == null) {\n",
       "            console.warn(\"Panel: ERROR: Unable to run Panel code because Bokeh or Panel library is missing\");\n",
       "\t  } else {\n",
       "\t    console.warn(\"Panel: WARNING: Attempting to render but not all required libraries could be resolved.\")\n",
       "\t    embed_document(root)\n",
       "\t  }\n",
       "        }\n",
       "      }\n",
       "    }, 25, root)\n",
       "  }\n",
       "})(window);</script>"
      ],
      "text/plain": [
       ":Layout\n",
       "   .Image.I   :Image   [x,y]   (z)\n",
       "   .Overlay.I :Overlay\n",
       "      .Curve.I   :Curve   [x]   (y)\n",
       "      .Scatter.I :Scatter   [x]   (y)"
      ]
     },
     "execution_count": 104,
     "metadata": {
      "application/vnd.holoviews_exec.v0+json": {
       "id": "p23970"
      }
     },
     "output_type": "execute_result"
    }
   ],
   "source": [
    "xy_hist, x_bins, y_bins, binnumber = binned_statistic_2d(tot1_tot2['ToT1'], tot1_tot2['ToT2'], \n",
    "    tot1_tot2.recovery, bins=(range(50, 2150, 100), range(50, 2150, 100)))\n",
    "a = hv.Image(xy_hist.T[::-1], bounds=[x_bins[0], y_bins[0], x_bins[-1], y_bins[-1]])\n",
    "a.opts(cmap='coolwarm', logz=True, colorbar=True)\n",
    "\n",
    "x_hist, x_bins = np.histogram(tot1_tot2.recovery, bins=20)\n",
    "x = get_x_axis_from_bins(x_bins) \n",
    "b = hv.Curve((x, x_hist))\n",
    "c = hv.Scatter((x, x_hist))\n",
    "b.opts(width=400, xlabel='Recovery time (µs)', ylabel='counts')\n",
    "\n",
    "(a + b * c).opts(shared_axes=False)"
   ]
  },
  {
   "attachments": {},
   "cell_type": "markdown",
   "metadata": {},
   "source": [
    "## absolute loss"
   ]
  },
  {
   "cell_type": "code",
   "execution_count": 105,
   "metadata": {},
   "outputs": [],
   "source": [
    "x_bins, y_bins = np.arange(50, 2150, 100), np.arange(50, 2150, 100)\n",
    "x = get_x_axis_from_bins(x_bins)\n",
    "y = get_x_axis_from_bins(y_bins)\n",
    "data = []\n",
    "dims = []\n",
    "gen = (col for col in tot1_tot2.columns if col.startswith(\"absolute\"))\n",
    "for col in gen:\n",
    "    data.append(\n",
    "        binned_statistic_2d(\n",
    "            tot1_tot2[\"ToT1\"],\n",
    "            tot1_tot2[\"ToT2\"],\n",
    "            tot1_tot2[col],\n",
    "            bins=(x_bins, y_bins),\n",
    "        )[0].T\n",
    "    )\n",
    "    dims.append(col)\n",
    "data = np.array(data)\n",
    "da = xr.DataArray(data, coords=[(\"Δt\", dims), (\"ToT1\", x), (\"ToT2\", y)])"
   ]
  },
  {
   "cell_type": "code",
   "execution_count": 106,
   "metadata": {},
   "outputs": [
    {
     "data": {
      "application/vnd.jupyter.widget-view+json": {
       "model_id": "53664cdc6b7c4e699238758228660f8b",
       "version_major": 2,
       "version_minor": 0
      },
      "text/plain": [
       "BokehModel(combine_events=True, render_bundle={'docs_json': {'8278f82a-1b59-4247-9376-f71d58cc8ccd': {'version…"
      ]
     },
     "execution_count": 106,
     "metadata": {},
     "output_type": "execute_result"
    }
   ],
   "source": [
    "da.hvplot(groupby='Δt', cmap='viridis')"
   ]
  },
  {
   "attachments": {},
   "cell_type": "markdown",
   "metadata": {},
   "source": [
    "## relativ loss"
   ]
  },
  {
   "cell_type": "code",
   "execution_count": 107,
   "metadata": {},
   "outputs": [],
   "source": [
    "x_bins, y_bins = np.arange(50, 2150, 100), np.arange(50, 2150, 100)\n",
    "x = get_x_axis_from_bins(x_bins)\n",
    "y = get_x_axis_from_bins(y_bins)\n",
    "data = []\n",
    "dims = []\n",
    "gen = (col for col in tot1_tot2.columns if col.startswith(\"relativ\"))\n",
    "for col in gen:\n",
    "    data.append(\n",
    "        binned_statistic_2d(\n",
    "            tot1_tot2[\"ToT1\"],\n",
    "            tot1_tot2[\"ToT2\"],\n",
    "            tot1_tot2[col],\n",
    "            bins=(x_bins, y_bins),\n",
    "        )[0].T\n",
    "    )\n",
    "    dims.append(col)\n",
    "data = np.array(data)\n",
    "da = xr.DataArray(data, coords=[(\"Δt\", dims), (\"ToT1\", x), (\"ToT2\", y)])"
   ]
  },
  {
   "cell_type": "code",
   "execution_count": 108,
   "metadata": {},
   "outputs": [
    {
     "data": {
      "application/vnd.jupyter.widget-view+json": {
       "model_id": "dd907abf5dcc42f6ad3daf180f2cee80",
       "version_major": 2,
       "version_minor": 0
      },
      "text/plain": [
       "BokehModel(combine_events=True, render_bundle={'docs_json': {'dae166ed-f825-4d40-9420-503f274ed4ba': {'version…"
      ]
     },
     "execution_count": 108,
     "metadata": {},
     "output_type": "execute_result"
    }
   ],
   "source": [
    "da.hvplot(groupby='Δt', cmap='viridis')"
   ]
  },
  {
   "cell_type": "markdown",
   "metadata": {},
   "source": [
    "# model"
   ]
  },
  {
   "attachments": {},
   "cell_type": "markdown",
   "metadata": {},
   "source": [
    "## step 0"
   ]
  },
  {
   "cell_type": "code",
   "execution_count": 109,
   "metadata": {},
   "outputs": [],
   "source": [
    "xy_hist, x_bins, y_bins, binnumber = binned_statistic_2d(tot1_tot2['ToT1'], tot1_tot2['ToT2'], \n",
    "    #tot1_tot2['relativ loss 2µs'], bins=(range(50, 2150, 100), range(50, 2150, 100)))\n",
    "    tot1_tot2['relativ loss 3µs'], bins=(range(50, 2150, 100), range(50, 2150, 100)))\n",
    "x = get_x_axis_from_bins(x_bins)\n",
    "y = get_x_axis_from_bins(y_bins)"
   ]
  },
  {
   "cell_type": "code",
   "execution_count": 110,
   "metadata": {},
   "outputs": [
    {
     "data": {},
     "metadata": {},
     "output_type": "display_data"
    },
    {
     "data": {
      "application/vnd.holoviews_exec.v0+json": "",
      "text/html": [
       "<div id='p24787'>\n",
       "  <div id=\"c4e60ab2-5d49-428a-be16-8fe3cd5bb0d8\" data-root-id=\"p24787\" style=\"display: contents;\"></div>\n",
       "</div>\n",
       "<script type=\"application/javascript\">(function(root) {\n",
       "  var docs_json = {\"4f5aa53d-477c-476b-a28f-1e6e38e4d787\":{\"version\":\"3.1.1\",\"title\":\"Bokeh Application\",\"defs\":[{\"type\":\"model\",\"name\":\"ReactiveHTML1\"},{\"type\":\"model\",\"name\":\"FlexBox1\",\"properties\":[{\"name\":\"align_content\",\"kind\":\"Any\",\"default\":\"flex-start\"},{\"name\":\"align_items\",\"kind\":\"Any\",\"default\":\"flex-start\"},{\"name\":\"flex_direction\",\"kind\":\"Any\",\"default\":\"row\"},{\"name\":\"flex_wrap\",\"kind\":\"Any\",\"default\":\"wrap\"},{\"name\":\"justify_content\",\"kind\":\"Any\",\"default\":\"flex-start\"}]},{\"type\":\"model\",\"name\":\"FloatPanel1\",\"properties\":[{\"name\":\"config\",\"kind\":\"Any\",\"default\":{\"type\":\"map\"}},{\"name\":\"contained\",\"kind\":\"Any\",\"default\":true},{\"name\":\"position\",\"kind\":\"Any\",\"default\":\"right-top\"},{\"name\":\"offsetx\",\"kind\":\"Any\",\"default\":null},{\"name\":\"offsety\",\"kind\":\"Any\",\"default\":null},{\"name\":\"theme\",\"kind\":\"Any\",\"default\":\"primary\"},{\"name\":\"status\",\"kind\":\"Any\",\"default\":\"normalized\"}]},{\"type\":\"model\",\"name\":\"GridStack1\",\"properties\":[{\"name\":\"mode\",\"kind\":\"Any\",\"default\":\"warn\"},{\"name\":\"ncols\",\"kind\":\"Any\",\"default\":null},{\"name\":\"nrows\",\"kind\":\"Any\",\"default\":null},{\"name\":\"allow_resize\",\"kind\":\"Any\",\"default\":true},{\"name\":\"allow_drag\",\"kind\":\"Any\",\"default\":true},{\"name\":\"state\",\"kind\":\"Any\",\"default\":[]}]},{\"type\":\"model\",\"name\":\"drag1\",\"properties\":[{\"name\":\"slider_width\",\"kind\":\"Any\",\"default\":5},{\"name\":\"slider_color\",\"kind\":\"Any\",\"default\":\"black\"},{\"name\":\"value\",\"kind\":\"Any\",\"default\":50}]},{\"type\":\"model\",\"name\":\"click1\",\"properties\":[{\"name\":\"terminal_output\",\"kind\":\"Any\",\"default\":\"\"},{\"name\":\"debug_name\",\"kind\":\"Any\",\"default\":\"\"},{\"name\":\"clears\",\"kind\":\"Any\",\"default\":0}]},{\"type\":\"model\",\"name\":\"FastWrapper1\",\"properties\":[{\"name\":\"object\",\"kind\":\"Any\",\"default\":null},{\"name\":\"style\",\"kind\":\"Any\",\"default\":null}]},{\"type\":\"model\",\"name\":\"NotificationAreaBase1\",\"properties\":[{\"name\":\"position\",\"kind\":\"Any\",\"default\":\"bottom-right\"},{\"name\":\"_clear\",\"kind\":\"Any\",\"default\":0}]},{\"type\":\"model\",\"name\":\"NotificationArea1\",\"properties\":[{\"name\":\"notifications\",\"kind\":\"Any\",\"default\":[]},{\"name\":\"position\",\"kind\":\"Any\",\"default\":\"bottom-right\"},{\"name\":\"_clear\",\"kind\":\"Any\",\"default\":0},{\"name\":\"types\",\"kind\":\"Any\",\"default\":[{\"type\":\"map\",\"entries\":[[\"type\",\"warning\"],[\"background\",\"#ffc107\"],[\"icon\",{\"type\":\"map\",\"entries\":[[\"className\",\"fas fa-exclamation-triangle\"],[\"tagName\",\"i\"],[\"color\",\"white\"]]}]]},{\"type\":\"map\",\"entries\":[[\"type\",\"info\"],[\"background\",\"#007bff\"],[\"icon\",{\"type\":\"map\",\"entries\":[[\"className\",\"fas fa-info-circle\"],[\"tagName\",\"i\"],[\"color\",\"white\"]]}]]}]}]},{\"type\":\"model\",\"name\":\"Notification\",\"properties\":[{\"name\":\"background\",\"kind\":\"Any\",\"default\":null},{\"name\":\"duration\",\"kind\":\"Any\",\"default\":3000},{\"name\":\"icon\",\"kind\":\"Any\",\"default\":null},{\"name\":\"message\",\"kind\":\"Any\",\"default\":\"\"},{\"name\":\"notification_type\",\"kind\":\"Any\",\"default\":null},{\"name\":\"_destroyed\",\"kind\":\"Any\",\"default\":false}]},{\"type\":\"model\",\"name\":\"TemplateActions1\",\"properties\":[{\"name\":\"open_modal\",\"kind\":\"Any\",\"default\":0},{\"name\":\"close_modal\",\"kind\":\"Any\",\"default\":0}]},{\"type\":\"model\",\"name\":\"BootstrapTemplateActions1\",\"properties\":[{\"name\":\"open_modal\",\"kind\":\"Any\",\"default\":0},{\"name\":\"close_modal\",\"kind\":\"Any\",\"default\":0}]},{\"type\":\"model\",\"name\":\"MaterialTemplateActions1\",\"properties\":[{\"name\":\"open_modal\",\"kind\":\"Any\",\"default\":0},{\"name\":\"close_modal\",\"kind\":\"Any\",\"default\":0}]}],\"roots\":[{\"type\":\"object\",\"name\":\"Row\",\"id\":\"p24787\",\"attributes\":{\"name\":\"Row63427\",\"tags\":[\"embedded\"],\"stylesheets\":[\"\\n:host(.pn-loading.pn-arc):before, .pn-loading.pn-arc:before {\\n  background-image: url(\\\"data:image/svg+xml;base64,PHN2ZyB4bWxucz0iaHR0cDovL3d3dy53My5vcmcvMjAwMC9zdmciIHN0eWxlPSJtYXJnaW46IGF1dG87IGJhY2tncm91bmQ6IG5vbmU7IGRpc3BsYXk6IGJsb2NrOyBzaGFwZS1yZW5kZXJpbmc6IGF1dG87IiB2aWV3Qm94PSIwIDAgMTAwIDEwMCIgcHJlc2VydmVBc3BlY3RSYXRpbz0ieE1pZFlNaWQiPiAgPGNpcmNsZSBjeD0iNTAiIGN5PSI1MCIgZmlsbD0ibm9uZSIgc3Ryb2tlPSIjYzNjM2MzIiBzdHJva2Utd2lkdGg9IjEwIiByPSIzNSIgc3Ryb2tlLWRhc2hhcnJheT0iMTY0LjkzMzYxNDMxMzQ2NDE1IDU2Ljk3Nzg3MTQzNzgyMTM4Ij4gICAgPGFuaW1hdGVUcmFuc2Zvcm0gYXR0cmlidXRlTmFtZT0idHJhbnNmb3JtIiB0eXBlPSJyb3RhdGUiIHJlcGVhdENvdW50PSJpbmRlZmluaXRlIiBkdXI9IjFzIiB2YWx1ZXM9IjAgNTAgNTA7MzYwIDUwIDUwIiBrZXlUaW1lcz0iMDsxIj48L2FuaW1hdGVUcmFuc2Zvcm0+ICA8L2NpcmNsZT48L3N2Zz4=\\\");\\n  background-size: auto calc(min(50%, 400px));\\n}\",{\"type\":\"object\",\"name\":\"ImportedStyleSheet\",\"id\":\"p24790\",\"attributes\":{\"url\":\"https://cdn.holoviz.org/panel/1.1.1/dist/css/loading.css\"}},{\"type\":\"object\",\"name\":\"ImportedStyleSheet\",\"id\":\"p24967\",\"attributes\":{\"url\":\"https://cdn.holoviz.org/panel/1.1.1/dist/css/listpanel.css\"}},{\"type\":\"object\",\"name\":\"ImportedStyleSheet\",\"id\":\"p24788\",\"attributes\":{\"url\":\"https://cdn.holoviz.org/panel/1.1.1/dist/bundled/theme/default.css\"}},{\"type\":\"object\",\"name\":\"ImportedStyleSheet\",\"id\":\"p24789\",\"attributes\":{\"url\":\"https://cdn.holoviz.org/panel/1.1.1/dist/bundled/theme/native.css\"}}],\"min_width\":1200,\"margin\":0,\"sizing_mode\":\"stretch_width\",\"align\":\"start\",\"children\":[{\"type\":\"object\",\"name\":\"Spacer\",\"id\":\"p24791\",\"attributes\":{\"name\":\"HSpacer63438\",\"stylesheets\":[\"\\n:host(.pn-loading.pn-arc):before, .pn-loading.pn-arc:before {\\n  background-image: url(\\\"data:image/svg+xml;base64,PHN2ZyB4bWxucz0iaHR0cDovL3d3dy53My5vcmcvMjAwMC9zdmciIHN0eWxlPSJtYXJnaW46IGF1dG87IGJhY2tncm91bmQ6IG5vbmU7IGRpc3BsYXk6IGJsb2NrOyBzaGFwZS1yZW5kZXJpbmc6IGF1dG87IiB2aWV3Qm94PSIwIDAgMTAwIDEwMCIgcHJlc2VydmVBc3BlY3RSYXRpbz0ieE1pZFlNaWQiPiAgPGNpcmNsZSBjeD0iNTAiIGN5PSI1MCIgZmlsbD0ibm9uZSIgc3Ryb2tlPSIjYzNjM2MzIiBzdHJva2Utd2lkdGg9IjEwIiByPSIzNSIgc3Ryb2tlLWRhc2hhcnJheT0iMTY0LjkzMzYxNDMxMzQ2NDE1IDU2Ljk3Nzg3MTQzNzgyMTM4Ij4gICAgPGFuaW1hdGVUcmFuc2Zvcm0gYXR0cmlidXRlTmFtZT0idHJhbnNmb3JtIiB0eXBlPSJyb3RhdGUiIHJlcGVhdENvdW50PSJpbmRlZmluaXRlIiBkdXI9IjFzIiB2YWx1ZXM9IjAgNTAgNTA7MzYwIDUwIDUwIiBrZXlUaW1lcz0iMDsxIj48L2FuaW1hdGVUcmFuc2Zvcm0+ICA8L2NpcmNsZT48L3N2Zz4=\\\");\\n  background-size: auto calc(min(50%, 400px));\\n}\",{\"id\":\"p24790\"},{\"id\":\"p24788\"},{\"id\":\"p24789\"}],\"margin\":0,\"sizing_mode\":\"stretch_width\",\"align\":\"start\"}},{\"type\":\"object\",\"name\":\"Figure\",\"id\":\"p24799\",\"attributes\":{\"width\":1200,\"height\":500,\"margin\":[5,10],\"sizing_mode\":\"fixed\",\"align\":\"start\",\"x_range\":{\"type\":\"object\",\"name\":\"Range1d\",\"id\":\"p24792\",\"attributes\":{\"tags\":[[[\"x\",\"x\",null]]],\"start\":100.0,\"end\":2000.0,\"reset_start\":100.0,\"reset_end\":2000.0}},\"y_range\":{\"type\":\"object\",\"name\":\"Range1d\",\"id\":\"p24793\",\"attributes\":{\"tags\":[[[\"y\",\"y\",null]]],\"start\":-5.544143445768186,\"end\":69.2940796591463,\"reset_start\":-5.544143445768186,\"reset_end\":69.2940796591463}},\"x_scale\":{\"type\":\"object\",\"name\":\"LinearScale\",\"id\":\"p24811\"},\"y_scale\":{\"type\":\"object\",\"name\":\"LinearScale\",\"id\":\"p24813\"},\"title\":{\"type\":\"object\",\"name\":\"Title\",\"id\":\"p24802\",\"attributes\":{\"text_color\":\"black\",\"text_font_size\":\"18pt\"}},\"renderers\":[{\"type\":\"object\",\"name\":\"GlyphRenderer\",\"id\":\"p24861\",\"attributes\":{\"data_source\":{\"type\":\"object\",\"name\":\"ColumnDataSource\",\"id\":\"p24851\",\"attributes\":{\"selected\":{\"type\":\"object\",\"name\":\"Selection\",\"id\":\"p24852\",\"attributes\":{\"indices\":[],\"line_indices\":[]}},\"selection_policy\":{\"type\":\"object\",\"name\":\"UnionRenderers\",\"id\":\"p24853\"},\"data\":{\"type\":\"map\",\"entries\":[[\"x\",{\"type\":\"ndarray\",\"array\":{\"type\":\"bytes\",\"data\":\"AAAAAAAAWUAAAAAAAABpQAAAAAAAwHJAAAAAAAAAeUAAAAAAAEB/QAAAAAAAwIJAAAAAAADghUAAAAAAAACJQAAAAAAAIIxAAAAAAABAj0AAAAAAADCRQAAAAAAAwJJAAAAAAABQlEAAAAAAAOCVQAAAAAAAcJdAAAAAAAAAmUAAAAAAAJCaQAAAAAAAIJxAAAAAAACwnUAAAAAAAECfQA==\"},\"shape\":[20],\"dtype\":\"float64\",\"order\":\"little\"}],[\"y\",{\"type\":\"ndarray\",\"array\":{\"type\":\"bytes\",\"data\":\"8Jg+7O8n5j/8e8adwnrtP3BE0QGLCfs/SWu9JRKHBUDLoa+4rCAMQDzbHtIV5hFAODGTz0qyFUBqDq5nv0sZQNBr8YNQJB1AH/H+PNioIECmDW2lWs4hQBiDdPyS/CNA10FTkFeWJUBOWWJVM9InQP/kYP8txClAhKvcliUVLECG0rowIa8tQNzkQVPj6y9ANiZ/rOMTMUBc96ga6j4yQA==\"},\"shape\":[20],\"dtype\":\"float64\",\"order\":\"little\"}]]}}},\"view\":{\"type\":\"object\",\"name\":\"CDSView\",\"id\":\"p24862\",\"attributes\":{\"filter\":{\"type\":\"object\",\"name\":\"AllIndices\",\"id\":\"p24863\"}}},\"glyph\":{\"type\":\"object\",\"name\":\"Line\",\"id\":\"p24858\",\"attributes\":{\"tags\":[\"apply_ranges\"],\"x\":{\"type\":\"field\",\"field\":\"x\"},\"y\":{\"type\":\"field\",\"field\":\"y\"},\"line_color\":\"#30a2da\",\"line_width\":2}},\"selection_glyph\":{\"type\":\"object\",\"name\":\"Line\",\"id\":\"p24866\",\"attributes\":{\"tags\":[\"apply_ranges\"],\"x\":{\"type\":\"field\",\"field\":\"x\"},\"y\":{\"type\":\"field\",\"field\":\"y\"},\"line_color\":\"#30a2da\",\"line_width\":2}},\"nonselection_glyph\":{\"type\":\"object\",\"name\":\"Line\",\"id\":\"p24859\",\"attributes\":{\"tags\":[\"apply_ranges\"],\"x\":{\"type\":\"field\",\"field\":\"x\"},\"y\":{\"type\":\"field\",\"field\":\"y\"},\"line_color\":\"#30a2da\",\"line_alpha\":0.1,\"line_width\":2}},\"muted_glyph\":{\"type\":\"object\",\"name\":\"Line\",\"id\":\"p24860\",\"attributes\":{\"tags\":[\"apply_ranges\"],\"x\":{\"type\":\"field\",\"field\":\"x\"},\"y\":{\"type\":\"field\",\"field\":\"y\"},\"line_color\":\"#30a2da\",\"line_alpha\":0.2,\"line_width\":2}}}},{\"type\":\"object\",\"name\":\"GlyphRenderer\",\"id\":\"p24877\",\"attributes\":{\"data_source\":{\"type\":\"object\",\"name\":\"ColumnDataSource\",\"id\":\"p24867\",\"attributes\":{\"selected\":{\"type\":\"object\",\"name\":\"Selection\",\"id\":\"p24868\",\"attributes\":{\"indices\":[],\"line_indices\":[]}},\"selection_policy\":{\"type\":\"object\",\"name\":\"UnionRenderers\",\"id\":\"p24869\"},\"data\":{\"type\":\"map\",\"entries\":[[\"x\",{\"type\":\"ndarray\",\"array\":{\"type\":\"bytes\",\"data\":\"AAAAAAAAWUAAAAAAAABpQAAAAAAAwHJAAAAAAAAAeUAAAAAAAEB/QAAAAAAAwIJAAAAAAADghUAAAAAAAACJQAAAAAAAIIxAAAAAAABAj0AAAAAAADCRQAAAAAAAwJJAAAAAAABQlEAAAAAAAOCVQAAAAAAAcJdAAAAAAAAAmUAAAAAAAJCaQAAAAAAAIJxAAAAAAACwnUAAAAAAAECfQA==\"},\"shape\":[20],\"dtype\":\"float64\",\"order\":\"little\"}],[\"y\",{\"type\":\"ndarray\",\"array\":{\"type\":\"bytes\",\"data\":\"InMPM2lF8D/ejNZ2tE3zP+jCfQ2d7v8/NIUKMbFMB0AHtLqtobwOQDZixBXr7BJArV3QBCtMF0C3x1085zQbQAkmTHYCFCBAZAqMcIz9IUCObrMewxUjQFRuJvGLfSVAq4imUdinJ0D10UHL5+0pQC53TWhwHCxAWcKdq2aJLkDbx/0t1iMwQFI+1PW6PTFA4zEcfbVzMkCer9zePY0zQA==\"},\"shape\":[20],\"dtype\":\"float64\",\"order\":\"little\"}]]}}},\"view\":{\"type\":\"object\",\"name\":\"CDSView\",\"id\":\"p24878\",\"attributes\":{\"filter\":{\"type\":\"object\",\"name\":\"AllIndices\",\"id\":\"p24879\"}}},\"glyph\":{\"type\":\"object\",\"name\":\"Line\",\"id\":\"p24874\",\"attributes\":{\"tags\":[\"apply_ranges\"],\"x\":{\"type\":\"field\",\"field\":\"x\"},\"y\":{\"type\":\"field\",\"field\":\"y\"},\"line_color\":\"#fc4f30\",\"line_width\":2}},\"selection_glyph\":{\"type\":\"object\",\"name\":\"Line\",\"id\":\"p24881\",\"attributes\":{\"tags\":[\"apply_ranges\"],\"x\":{\"type\":\"field\",\"field\":\"x\"},\"y\":{\"type\":\"field\",\"field\":\"y\"},\"line_color\":\"#fc4f30\",\"line_width\":2}},\"nonselection_glyph\":{\"type\":\"object\",\"name\":\"Line\",\"id\":\"p24875\",\"attributes\":{\"tags\":[\"apply_ranges\"],\"x\":{\"type\":\"field\",\"field\":\"x\"},\"y\":{\"type\":\"field\",\"field\":\"y\"},\"line_color\":\"#fc4f30\",\"line_alpha\":0.1,\"line_width\":2}},\"muted_glyph\":{\"type\":\"object\",\"name\":\"Line\",\"id\":\"p24876\",\"attributes\":{\"tags\":[\"apply_ranges\"],\"x\":{\"type\":\"field\",\"field\":\"x\"},\"y\":{\"type\":\"field\",\"field\":\"y\"},\"line_color\":\"#fc4f30\",\"line_alpha\":0.2,\"line_width\":2}}}},{\"type\":\"object\",\"name\":\"GlyphRenderer\",\"id\":\"p24892\",\"attributes\":{\"data_source\":{\"type\":\"object\",\"name\":\"ColumnDataSource\",\"id\":\"p24882\",\"attributes\":{\"selected\":{\"type\":\"object\",\"name\":\"Selection\",\"id\":\"p24883\",\"attributes\":{\"indices\":[],\"line_indices\":[]}},\"selection_policy\":{\"type\":\"object\",\"name\":\"UnionRenderers\",\"id\":\"p24884\"},\"data\":{\"type\":\"map\",\"entries\":[[\"x\",{\"type\":\"ndarray\",\"array\":{\"type\":\"bytes\",\"data\":\"AAAAAAAAWUAAAAAAAABpQAAAAAAAwHJAAAAAAAAAeUAAAAAAAEB/QAAAAAAAwIJAAAAAAADghUAAAAAAAACJQAAAAAAAIIxAAAAAAABAj0AAAAAAADCRQAAAAAAAwJJAAAAAAABQlEAAAAAAAOCVQAAAAAAAcJdAAAAAAAAAmUAAAAAAAJCaQAAAAAAAIJxAAAAAAACwnUAAAAAAAECfQA==\"},\"shape\":[20],\"dtype\":\"float64\",\"order\":\"little\"}],[\"y\",{\"type\":\"ndarray\",\"array\":{\"type\":\"bytes\",\"data\":\"ZuEcAXfl8D/u9Hbih472P0nko1odbQJASEk8oFLTC0DgfT6vWVwSQKqgLYZ1pxhAOtL+e3i2HEDxYfxCndQgQN20c5DwUiNAADqU82WYJUBpTeT3pWUnQCnh0Ozu3ilAtAuqgOSPLEDdQap+0lgvQJLpm1ubATFAfN7JwYRjMkBcTZT5WWgzQIzF3BxbwzRAyLEWUKFUNkDIOyMEHBU4QA==\"},\"shape\":[20],\"dtype\":\"float64\",\"order\":\"little\"}]]}}},\"view\":{\"type\":\"object\",\"name\":\"CDSView\",\"id\":\"p24893\",\"attributes\":{\"filter\":{\"type\":\"object\",\"name\":\"AllIndices\",\"id\":\"p24894\"}}},\"glyph\":{\"type\":\"object\",\"name\":\"Line\",\"id\":\"p24889\",\"attributes\":{\"tags\":[\"apply_ranges\"],\"x\":{\"type\":\"field\",\"field\":\"x\"},\"y\":{\"type\":\"field\",\"field\":\"y\"},\"line_color\":\"#e5ae38\",\"line_width\":2}},\"selection_glyph\":{\"type\":\"object\",\"name\":\"Line\",\"id\":\"p24896\",\"attributes\":{\"tags\":[\"apply_ranges\"],\"x\":{\"type\":\"field\",\"field\":\"x\"},\"y\":{\"type\":\"field\",\"field\":\"y\"},\"line_color\":\"#e5ae38\",\"line_width\":2}},\"nonselection_glyph\":{\"type\":\"object\",\"name\":\"Line\",\"id\":\"p24890\",\"attributes\":{\"tags\":[\"apply_ranges\"],\"x\":{\"type\":\"field\",\"field\":\"x\"},\"y\":{\"type\":\"field\",\"field\":\"y\"},\"line_color\":\"#e5ae38\",\"line_alpha\":0.1,\"line_width\":2}},\"muted_glyph\":{\"type\":\"object\",\"name\":\"Line\",\"id\":\"p24891\",\"attributes\":{\"tags\":[\"apply_ranges\"],\"x\":{\"type\":\"field\",\"field\":\"x\"},\"y\":{\"type\":\"field\",\"field\":\"y\"},\"line_color\":\"#e5ae38\",\"line_alpha\":0.2,\"line_width\":2}}}},{\"type\":\"object\",\"name\":\"GlyphRenderer\",\"id\":\"p24907\",\"attributes\":{\"data_source\":{\"type\":\"object\",\"name\":\"ColumnDataSource\",\"id\":\"p24897\",\"attributes\":{\"selected\":{\"type\":\"object\",\"name\":\"Selection\",\"id\":\"p24898\",\"attributes\":{\"indices\":[],\"line_indices\":[]}},\"selection_policy\":{\"type\":\"object\",\"name\":\"UnionRenderers\",\"id\":\"p24899\"},\"data\":{\"type\":\"map\",\"entries\":[[\"x\",{\"type\":\"ndarray\",\"array\":{\"type\":\"bytes\",\"data\":\"AAAAAAAAWUAAAAAAAABpQAAAAAAAwHJAAAAAAAAAeUAAAAAAAEB/QAAAAAAAwIJAAAAAAADghUAAAAAAAACJQAAAAAAAIIxAAAAAAABAj0AAAAAAADCRQAAAAAAAwJJAAAAAAABQlEAAAAAAAOCVQAAAAAAAcJdAAAAAAAAAmUAAAAAAAJCaQAAAAAAAIJxAAAAAAACwnUAAAAAAAECfQA==\"},\"shape\":[20],\"dtype\":\"float64\",\"order\":\"little\"}],[\"y\",{\"type\":\"ndarray\",\"array\":{\"type\":\"bytes\",\"data\":\"BpmqPPPZA0CDVAfLKx8KQFcz5LVW8BZAArJ7IgucIEBSBqoHCSQnQClmT+C3qy1APnVZZSv8MUABt2qLZ0g0QPOnih10bThAmyGZl0UrO0AG07WK/sc9QIXwSZ6KaUBAv7HMWkcFQkDYQlEdNcJDQPb51OarCEVA+v7+6kqrRkDIaykOXvBHQDva7Gq2pElAIHQhRW2/S0Aw8UVa8alNQA==\"},\"shape\":[20],\"dtype\":\"float64\",\"order\":\"little\"}]]}}},\"view\":{\"type\":\"object\",\"name\":\"CDSView\",\"id\":\"p24908\",\"attributes\":{\"filter\":{\"type\":\"object\",\"name\":\"AllIndices\",\"id\":\"p24909\"}}},\"glyph\":{\"type\":\"object\",\"name\":\"Line\",\"id\":\"p24904\",\"attributes\":{\"tags\":[\"apply_ranges\"],\"x\":{\"type\":\"field\",\"field\":\"x\"},\"y\":{\"type\":\"field\",\"field\":\"y\"},\"line_color\":\"#6d904f\",\"line_width\":2}},\"selection_glyph\":{\"type\":\"object\",\"name\":\"Line\",\"id\":\"p24911\",\"attributes\":{\"tags\":[\"apply_ranges\"],\"x\":{\"type\":\"field\",\"field\":\"x\"},\"y\":{\"type\":\"field\",\"field\":\"y\"},\"line_color\":\"#6d904f\",\"line_width\":2}},\"nonselection_glyph\":{\"type\":\"object\",\"name\":\"Line\",\"id\":\"p24905\",\"attributes\":{\"tags\":[\"apply_ranges\"],\"x\":{\"type\":\"field\",\"field\":\"x\"},\"y\":{\"type\":\"field\",\"field\":\"y\"},\"line_color\":\"#6d904f\",\"line_alpha\":0.1,\"line_width\":2}},\"muted_glyph\":{\"type\":\"object\",\"name\":\"Line\",\"id\":\"p24906\",\"attributes\":{\"tags\":[\"apply_ranges\"],\"x\":{\"type\":\"field\",\"field\":\"x\"},\"y\":{\"type\":\"field\",\"field\":\"y\"},\"line_color\":\"#6d904f\",\"line_alpha\":0.2,\"line_width\":2}}}},{\"type\":\"object\",\"name\":\"GlyphRenderer\",\"id\":\"p24922\",\"attributes\":{\"data_source\":{\"type\":\"object\",\"name\":\"ColumnDataSource\",\"id\":\"p24912\",\"attributes\":{\"selected\":{\"type\":\"object\",\"name\":\"Selection\",\"id\":\"p24913\",\"attributes\":{\"indices\":[],\"line_indices\":[]}},\"selection_policy\":{\"type\":\"object\",\"name\":\"UnionRenderers\",\"id\":\"p24914\"},\"data\":{\"type\":\"map\",\"entries\":[[\"x\",{\"type\":\"ndarray\",\"array\":{\"type\":\"bytes\",\"data\":\"AAAAAAAAWUAAAAAAAABpQAAAAAAAwHJAAAAAAAAAeUAAAAAAAEB/QAAAAAAAwIJAAAAAAADghUAAAAAAAACJQAAAAAAAIIxAAAAAAABAj0AAAAAAADCRQAAAAAAAwJJAAAAAAABQlEAAAAAAAOCVQAAAAAAAcJdAAAAAAAAAmUAAAAAAAJCaQAAAAAAAIJxAAAAAAACwnUAAAAAAAECfQA==\"},\"shape\":[20],\"dtype\":\"float64\",\"order\":\"little\"}],[\"y\",{\"type\":\"ndarray\",\"array\":{\"type\":\"bytes\",\"data\":\"Ls+fft2aFECAHApD35kPQK4yl+KBqSJAOl9/NLmEJkDa/eDO8pQwQLnEhNZIzjRA7vO12PQUOUA7xOqDJeo7QLVsuOSltjxAtQepH3LPQUCT+nFhDmFCQCEo9FODB0VAwVCInT9sRkBG5lSiZUNHQKXoQCmdb0pA12i702RpTEB2KglQJzdMQGY83Nm8hU1AYks6KV6HT0DAK5racndMQA==\"},\"shape\":[20],\"dtype\":\"float64\",\"order\":\"little\"}]]}}},\"view\":{\"type\":\"object\",\"name\":\"CDSView\",\"id\":\"p24923\",\"attributes\":{\"filter\":{\"type\":\"object\",\"name\":\"AllIndices\",\"id\":\"p24924\"}}},\"glyph\":{\"type\":\"object\",\"name\":\"Line\",\"id\":\"p24919\",\"attributes\":{\"tags\":[\"apply_ranges\"],\"x\":{\"type\":\"field\",\"field\":\"x\"},\"y\":{\"type\":\"field\",\"field\":\"y\"},\"line_color\":\"#8b8b8b\",\"line_width\":2}},\"selection_glyph\":{\"type\":\"object\",\"name\":\"Line\",\"id\":\"p24926\",\"attributes\":{\"tags\":[\"apply_ranges\"],\"x\":{\"type\":\"field\",\"field\":\"x\"},\"y\":{\"type\":\"field\",\"field\":\"y\"},\"line_color\":\"#8b8b8b\",\"line_width\":2}},\"nonselection_glyph\":{\"type\":\"object\",\"name\":\"Line\",\"id\":\"p24920\",\"attributes\":{\"tags\":[\"apply_ranges\"],\"x\":{\"type\":\"field\",\"field\":\"x\"},\"y\":{\"type\":\"field\",\"field\":\"y\"},\"line_color\":\"#8b8b8b\",\"line_alpha\":0.1,\"line_width\":2}},\"muted_glyph\":{\"type\":\"object\",\"name\":\"Line\",\"id\":\"p24921\",\"attributes\":{\"tags\":[\"apply_ranges\"],\"x\":{\"type\":\"field\",\"field\":\"x\"},\"y\":{\"type\":\"field\",\"field\":\"y\"},\"line_color\":\"#8b8b8b\",\"line_alpha\":0.2,\"line_width\":2}}}}],\"toolbar\":{\"type\":\"object\",\"name\":\"Toolbar\",\"id\":\"p24804\",\"attributes\":{\"tools\":[{\"type\":\"object\",\"name\":\"HoverTool\",\"id\":\"p24794\",\"attributes\":{\"tags\":[\"hv_created\"],\"renderers\":[{\"id\":\"p24861\"},{\"id\":\"p24877\"},{\"id\":\"p24892\"},{\"id\":\"p24907\"},{\"id\":\"p24922\"}],\"tooltips\":[[\"x\",\"@{x}\"],[\"y\",\"@{y}\"]]}},{\"type\":\"object\",\"name\":\"SaveTool\",\"id\":\"p24829\"},{\"type\":\"object\",\"name\":\"PanTool\",\"id\":\"p24830\"},{\"type\":\"object\",\"name\":\"WheelZoomTool\",\"id\":\"p24831\"},{\"type\":\"object\",\"name\":\"BoxZoomTool\",\"id\":\"p24832\",\"attributes\":{\"overlay\":{\"type\":\"object\",\"name\":\"BoxAnnotation\",\"id\":\"p24833\",\"attributes\":{\"syncable\":false,\"level\":\"overlay\",\"visible\":false,\"left_units\":\"canvas\",\"right_units\":\"canvas\",\"bottom_units\":\"canvas\",\"top_units\":\"canvas\",\"line_color\":\"black\",\"line_alpha\":1.0,\"line_width\":2,\"line_dash\":[4,4],\"fill_color\":\"lightgrey\",\"fill_alpha\":0.5}}}},{\"type\":\"object\",\"name\":\"ResetTool\",\"id\":\"p24834\"}],\"active_drag\":{\"id\":\"p24830\"},\"active_scroll\":{\"id\":\"p24831\"}}},\"left\":[{\"type\":\"object\",\"name\":\"LinearAxis\",\"id\":\"p24822\",\"attributes\":{\"ticker\":{\"type\":\"object\",\"name\":\"BasicTicker\",\"id\":\"p24825\",\"attributes\":{\"mantissas\":[1,2,5]}},\"formatter\":{\"type\":\"object\",\"name\":\"BasicTickFormatter\",\"id\":\"p24823\"},\"axis_label\":\"relativ loss\",\"axis_label_text_font_size\":\"19.5px\",\"major_label_policy\":{\"type\":\"object\",\"name\":\"AllLabels\",\"id\":\"p24824\"},\"major_label_text_font_size\":\"16.5px\"}}],\"below\":[{\"type\":\"object\",\"name\":\"LinearAxis\",\"id\":\"p24815\",\"attributes\":{\"ticker\":{\"type\":\"object\",\"name\":\"BasicTicker\",\"id\":\"p24818\",\"attributes\":{\"mantissas\":[1,2,5]}},\"formatter\":{\"type\":\"object\",\"name\":\"BasicTickFormatter\",\"id\":\"p24816\"},\"axis_label\":\"ToT1 (ns)\",\"axis_label_text_font_size\":\"19.5px\",\"major_label_policy\":{\"type\":\"object\",\"name\":\"AllLabels\",\"id\":\"p24817\"},\"major_label_text_font_size\":\"16.5px\"}}],\"center\":[{\"type\":\"object\",\"name\":\"Grid\",\"id\":\"p24821\",\"attributes\":{\"axis\":{\"id\":\"p24815\"},\"ticker\":{\"id\":\"p24818\"}}},{\"type\":\"object\",\"name\":\"Grid\",\"id\":\"p24828\",\"attributes\":{\"dimension\":1,\"axis\":{\"id\":\"p24822\"},\"ticker\":{\"id\":\"p24825\"}}},{\"type\":\"object\",\"name\":\"Legend\",\"id\":\"p24864\",\"attributes\":{\"location\":\"top_left\",\"title_text_font_size\":\"19.5px\",\"click_policy\":\"mute\",\"label_text_font_size\":\"19.5px\",\"items\":[{\"type\":\"object\",\"name\":\"LegendItem\",\"id\":\"p24865\",\"attributes\":{\"label\":{\"type\":\"value\",\"value\":\"ToT2=1500.0\"},\"renderers\":[{\"id\":\"p24861\"}]}},{\"type\":\"object\",\"name\":\"LegendItem\",\"id\":\"p24880\",\"attributes\":{\"label\":{\"type\":\"value\",\"value\":\"ToT2=1000.0\"},\"renderers\":[{\"id\":\"p24877\"}]}},{\"type\":\"object\",\"name\":\"LegendItem\",\"id\":\"p24895\",\"attributes\":{\"label\":{\"type\":\"value\",\"value\":\"ToT2=500.0\"},\"renderers\":[{\"id\":\"p24892\"}]}},{\"type\":\"object\",\"name\":\"LegendItem\",\"id\":\"p24910\",\"attributes\":{\"label\":{\"type\":\"value\",\"value\":\"ToT2=200.0\"},\"renderers\":[{\"id\":\"p24907\"}]}},{\"type\":\"object\",\"name\":\"LegendItem\",\"id\":\"p24925\",\"attributes\":{\"label\":{\"type\":\"value\",\"value\":\"ToT2=100.0\"},\"renderers\":[{\"id\":\"p24922\"}]}}]}}],\"min_border_top\":10,\"min_border_bottom\":10,\"min_border_left\":10,\"min_border_right\":10,\"output_backend\":\"webgl\"}},{\"type\":\"object\",\"name\":\"Spacer\",\"id\":\"p24965\",\"attributes\":{\"name\":\"HSpacer63441\",\"stylesheets\":[\"\\n:host(.pn-loading.pn-arc):before, .pn-loading.pn-arc:before {\\n  background-image: url(\\\"data:image/svg+xml;base64,PHN2ZyB4bWxucz0iaHR0cDovL3d3dy53My5vcmcvMjAwMC9zdmciIHN0eWxlPSJtYXJnaW46IGF1dG87IGJhY2tncm91bmQ6IG5vbmU7IGRpc3BsYXk6IGJsb2NrOyBzaGFwZS1yZW5kZXJpbmc6IGF1dG87IiB2aWV3Qm94PSIwIDAgMTAwIDEwMCIgcHJlc2VydmVBc3BlY3RSYXRpbz0ieE1pZFlNaWQiPiAgPGNpcmNsZSBjeD0iNTAiIGN5PSI1MCIgZmlsbD0ibm9uZSIgc3Ryb2tlPSIjYzNjM2MzIiBzdHJva2Utd2lkdGg9IjEwIiByPSIzNSIgc3Ryb2tlLWRhc2hhcnJheT0iMTY0LjkzMzYxNDMxMzQ2NDE1IDU2Ljk3Nzg3MTQzNzgyMTM4Ij4gICAgPGFuaW1hdGVUcmFuc2Zvcm0gYXR0cmlidXRlTmFtZT0idHJhbnNmb3JtIiB0eXBlPSJyb3RhdGUiIHJlcGVhdENvdW50PSJpbmRlZmluaXRlIiBkdXI9IjFzIiB2YWx1ZXM9IjAgNTAgNTA7MzYwIDUwIDUwIiBrZXlUaW1lcz0iMDsxIj48L2FuaW1hdGVUcmFuc2Zvcm0+ICA8L2NpcmNsZT48L3N2Zz4=\\\");\\n  background-size: auto calc(min(50%, 400px));\\n}\",{\"id\":\"p24790\"},{\"id\":\"p24788\"},{\"id\":\"p24789\"}],\"margin\":0,\"sizing_mode\":\"stretch_width\",\"align\":\"start\"}}]}}],\"callbacks\":{\"type\":\"map\"}}};\n",
       "  var render_items = [{\"docid\":\"4f5aa53d-477c-476b-a28f-1e6e38e4d787\",\"roots\":{\"p24787\":\"c4e60ab2-5d49-428a-be16-8fe3cd5bb0d8\"},\"root_ids\":[\"p24787\"]}];\n",
       "  var docs = Object.values(docs_json)\n",
       "  if (!docs) {\n",
       "    return\n",
       "  }\n",
       "  const py_version = docs[0].version.replace('rc', '-rc.').replace('.dev', '-dev.')\n",
       "  const is_dev = py_version.indexOf(\"+\") !== -1 || py_version.indexOf(\"-\") !== -1\n",
       "  function embed_document(root) {\n",
       "    var Bokeh = get_bokeh(root)\n",
       "    Bokeh.embed.embed_items_notebook(docs_json, render_items);\n",
       "    for (const render_item of render_items) {\n",
       "      for (const root_id of render_item.root_ids) {\n",
       "\tconst id_el = document.getElementById(root_id)\n",
       "\tif (id_el.children.length && (id_el.children[0].className === 'bk-root')) {\n",
       "\t  const root_el = id_el.children[0]\n",
       "\t  root_el.id = root_el.id + '-rendered'\n",
       "\t}\n",
       "      }\n",
       "    }\n",
       "  }\n",
       "  function get_bokeh(root) {\n",
       "    if (root.Bokeh === undefined) {\n",
       "      return null\n",
       "    } else if (root.Bokeh.version !== py_version && !is_dev) {\n",
       "      if (root.Bokeh.versions === undefined || !root.Bokeh.versions.has(py_version)) {\n",
       "\treturn null\n",
       "      }\n",
       "      return root.Bokeh.versions.get(py_version);\n",
       "    } else if (root.Bokeh.version === py_version) {\n",
       "      return root.Bokeh\n",
       "    }\n",
       "    return null\n",
       "  }\n",
       "  function is_loaded(root) {\n",
       "    var Bokeh = get_bokeh(root)\n",
       "    return (Bokeh != null && Bokeh.Panel !== undefined)\n",
       "  }\n",
       "  if (is_loaded(root)) {\n",
       "    embed_document(root);\n",
       "  } else {\n",
       "    var attempts = 0;\n",
       "    var timer = setInterval(function(root) {\n",
       "      if (is_loaded(root)) {\n",
       "        clearInterval(timer);\n",
       "        embed_document(root);\n",
       "      } else if (document.readyState == \"complete\") {\n",
       "        attempts++;\n",
       "        if (attempts > 200) {\n",
       "          clearInterval(timer);\n",
       "\t  var Bokeh = get_bokeh(root)\n",
       "\t  if (Bokeh == null || Bokeh.Panel == null) {\n",
       "            console.warn(\"Panel: ERROR: Unable to run Panel code because Bokeh or Panel library is missing\");\n",
       "\t  } else {\n",
       "\t    console.warn(\"Panel: WARNING: Attempting to render but not all required libraries could be resolved.\")\n",
       "\t    embed_document(root)\n",
       "\t  }\n",
       "        }\n",
       "      }\n",
       "    }, 25, root)\n",
       "  }\n",
       "})(window);</script>"
      ],
      "text/plain": [
       ":Overlay\n",
       "   .Curve.ToT2_equals_1500_full_stop_0 :Curve   [x]   (y)\n",
       "   .Curve.ToT2_equals_1000_full_stop_0 :Curve   [x]   (y)\n",
       "   .Curve.ToT2_equals_500_full_stop_0  :Curve   [x]   (y)\n",
       "   .Curve.ToT2_equals_200_full_stop_0  :Curve   [x]   (y)\n",
       "   .Curve.ToT2_equals_100_full_stop_0  :Curve   [x]   (y)"
      ]
     },
     "execution_count": 110,
     "metadata": {
      "application/vnd.holoviews_exec.v0+json": {
       "id": "p24787"
      }
     },
     "output_type": "execute_result"
    }
   ],
   "source": [
    "hv.Overlay(\n",
    "    hv.Curve((x, xy_hist[:, 14]), label=f\"ToT2={y_bins[14]+50}\") *\n",
    "    hv.Curve((x, xy_hist[:, 9]), label=f\"ToT2={y_bins[9]+50}\") *\n",
    "\thv.Curve((x, xy_hist[:, 4]), label=f\"ToT2={y_bins[4]+50}\") *\n",
    "\thv.Curve((x, xy_hist[:, 1]), label=f\"ToT2={y_bins[1]+50}\") *\n",
    "\thv.Curve((x, xy_hist[:, 0]), label=f\"ToT2={y_bins[0]+50}\") \n",
    ").opts(legend_position='top_left').opts(\n",
    "    opts.Curve(xlabel='ToT1 (ns)', ylabel='relativ loss')\n",
    ")\n",
    "#plt.xlabel('ToT1 (ns)')$ *\n",
    "#plt.ylabel('relativ loss')"
   ]
  },
  {
   "attachments": {},
   "cell_type": "markdown",
   "metadata": {},
   "source": [
    "## step 1\n",
    "take the TOT2(TOT1) for every Δt the relative loss is calculated for and fit the slope from a linear function"
   ]
  },
  {
   "cell_type": "code",
   "execution_count": 111,
   "metadata": {},
   "outputs": [
    {
     "name": "stderr",
     "output_type": "stream",
     "text": [
      "100%|██████████| 9/9 [00:00<00:00, 22.84it/s]\n"
     ]
    }
   ],
   "source": [
    "plots = []\n",
    "params = []\n",
    "for Δt in tqdm(range(2, 11)):\n",
    "    xy_hist, x_bins, y_bins, binnumber = binned_statistic_2d(tot1_tot2['ToT1'], tot1_tot2['ToT2'], \n",
    "                                                             tot1_tot2[f'relativ loss {Δt}µs'], bins=(range(50, 2150, 100), range(50, 2150, 100)))\n",
    "    ToT1 = x = get_x_axis_from_bins(x_bins)\n",
    "    y = get_x_axis_from_bins(y_bins)\n",
    "\n",
    "    for loss, ToT2 in zip(xy_hist.T, x):\n",
    "        model1 = lambda ToT1, m: m * ToT1\n",
    "        \n",
    "        mask = ~np.isnan(loss)\n",
    "        if mask.any() == True:\n",
    "            popt1, _ = curve_fit(model1, ToT1[mask], loss[mask])\n",
    "            params.append([Δt, ToT2, *popt1])\n",
    "\n",
    "            plots.append(hv.Curve((ToT1, loss), label=f'Δt = {Δt} µs, ToT2 = {ToT2:n}').opts(xlabel='ToT1 (ns)', ylabel=\"loss (%)\", width=400) * \n",
    "                         hv.Curve((ToT1, model1(ToT1, *popt1)), label=', '.join([f'{i:.2e}' for i in popt1])) #*\n",
    "                         #hv.Curve((ToT2, model2(ToT2, *popt2)), label=', '.join([f'{i:.2f}' for i in popt2]))\n",
    "                        )\n",
    "params_ToT2 = pd.DataFrame(params, columns=['Δt', 'ToT2', 'm',])\n"
   ]
  },
  {
   "attachments": {},
   "cell_type": "markdown",
   "metadata": {},
   "source": [
    "# step 2\n",
    "fit an exponetial decay for every TOT2 for the Δt"
   ]
  },
  {
   "cell_type": "code",
   "execution_count": 112,
   "metadata": {},
   "outputs": [
    {
     "name": "stderr",
     "output_type": "stream",
     "text": [
      "/var/folders/cs/c4lgxx9j45x3bkbb8590h85r0000gp/T/ipykernel_40179/3666404399.py:5: FutureWarning: Indexing with multiple keys (implicitly converted to a tuple of keys) will be deprecated, use a list instead.\n",
      "  for key, df in params_ToT2.groupby(\"ToT2\")['Δt', 'm']:\n"
     ]
    },
    {
     "data": {},
     "metadata": {},
     "output_type": "display_data"
    },
    {
     "data": {
      "application/vnd.holoviews_exec.v0+json": "",
      "text/html": [
       "<div id='p25144'>\n",
       "  <div id=\"d3acd22f-1e19-4e9c-bb5a-66b8791c0e01\" data-root-id=\"p25144\" style=\"display: contents;\"></div>\n",
       "</div>\n",
       "<script type=\"application/javascript\">(function(root) {\n",
       "  var docs_json = {\"a85afa6a-9302-4b9d-a3ad-86e0f361242d\":{\"version\":\"3.1.1\",\"title\":\"Bokeh Application\",\"defs\":[{\"type\":\"model\",\"name\":\"ReactiveHTML1\"},{\"type\":\"model\",\"name\":\"FlexBox1\",\"properties\":[{\"name\":\"align_content\",\"kind\":\"Any\",\"default\":\"flex-start\"},{\"name\":\"align_items\",\"kind\":\"Any\",\"default\":\"flex-start\"},{\"name\":\"flex_direction\",\"kind\":\"Any\",\"default\":\"row\"},{\"name\":\"flex_wrap\",\"kind\":\"Any\",\"default\":\"wrap\"},{\"name\":\"justify_content\",\"kind\":\"Any\",\"default\":\"flex-start\"}]},{\"type\":\"model\",\"name\":\"FloatPanel1\",\"properties\":[{\"name\":\"config\",\"kind\":\"Any\",\"default\":{\"type\":\"map\"}},{\"name\":\"contained\",\"kind\":\"Any\",\"default\":true},{\"name\":\"position\",\"kind\":\"Any\",\"default\":\"right-top\"},{\"name\":\"offsetx\",\"kind\":\"Any\",\"default\":null},{\"name\":\"offsety\",\"kind\":\"Any\",\"default\":null},{\"name\":\"theme\",\"kind\":\"Any\",\"default\":\"primary\"},{\"name\":\"status\",\"kind\":\"Any\",\"default\":\"normalized\"}]},{\"type\":\"model\",\"name\":\"GridStack1\",\"properties\":[{\"name\":\"mode\",\"kind\":\"Any\",\"default\":\"warn\"},{\"name\":\"ncols\",\"kind\":\"Any\",\"default\":null},{\"name\":\"nrows\",\"kind\":\"Any\",\"default\":null},{\"name\":\"allow_resize\",\"kind\":\"Any\",\"default\":true},{\"name\":\"allow_drag\",\"kind\":\"Any\",\"default\":true},{\"name\":\"state\",\"kind\":\"Any\",\"default\":[]}]},{\"type\":\"model\",\"name\":\"drag1\",\"properties\":[{\"name\":\"slider_width\",\"kind\":\"Any\",\"default\":5},{\"name\":\"slider_color\",\"kind\":\"Any\",\"default\":\"black\"},{\"name\":\"value\",\"kind\":\"Any\",\"default\":50}]},{\"type\":\"model\",\"name\":\"click1\",\"properties\":[{\"name\":\"terminal_output\",\"kind\":\"Any\",\"default\":\"\"},{\"name\":\"debug_name\",\"kind\":\"Any\",\"default\":\"\"},{\"name\":\"clears\",\"kind\":\"Any\",\"default\":0}]},{\"type\":\"model\",\"name\":\"FastWrapper1\",\"properties\":[{\"name\":\"object\",\"kind\":\"Any\",\"default\":null},{\"name\":\"style\",\"kind\":\"Any\",\"default\":null}]},{\"type\":\"model\",\"name\":\"NotificationAreaBase1\",\"properties\":[{\"name\":\"position\",\"kind\":\"Any\",\"default\":\"bottom-right\"},{\"name\":\"_clear\",\"kind\":\"Any\",\"default\":0}]},{\"type\":\"model\",\"name\":\"NotificationArea1\",\"properties\":[{\"name\":\"notifications\",\"kind\":\"Any\",\"default\":[]},{\"name\":\"position\",\"kind\":\"Any\",\"default\":\"bottom-right\"},{\"name\":\"_clear\",\"kind\":\"Any\",\"default\":0},{\"name\":\"types\",\"kind\":\"Any\",\"default\":[{\"type\":\"map\",\"entries\":[[\"type\",\"warning\"],[\"background\",\"#ffc107\"],[\"icon\",{\"type\":\"map\",\"entries\":[[\"className\",\"fas fa-exclamation-triangle\"],[\"tagName\",\"i\"],[\"color\",\"white\"]]}]]},{\"type\":\"map\",\"entries\":[[\"type\",\"info\"],[\"background\",\"#007bff\"],[\"icon\",{\"type\":\"map\",\"entries\":[[\"className\",\"fas fa-info-circle\"],[\"tagName\",\"i\"],[\"color\",\"white\"]]}]]}]}]},{\"type\":\"model\",\"name\":\"Notification\",\"properties\":[{\"name\":\"background\",\"kind\":\"Any\",\"default\":null},{\"name\":\"duration\",\"kind\":\"Any\",\"default\":3000},{\"name\":\"icon\",\"kind\":\"Any\",\"default\":null},{\"name\":\"message\",\"kind\":\"Any\",\"default\":\"\"},{\"name\":\"notification_type\",\"kind\":\"Any\",\"default\":null},{\"name\":\"_destroyed\",\"kind\":\"Any\",\"default\":false}]},{\"type\":\"model\",\"name\":\"TemplateActions1\",\"properties\":[{\"name\":\"open_modal\",\"kind\":\"Any\",\"default\":0},{\"name\":\"close_modal\",\"kind\":\"Any\",\"default\":0}]},{\"type\":\"model\",\"name\":\"BootstrapTemplateActions1\",\"properties\":[{\"name\":\"open_modal\",\"kind\":\"Any\",\"default\":0},{\"name\":\"close_modal\",\"kind\":\"Any\",\"default\":0}]},{\"type\":\"model\",\"name\":\"MaterialTemplateActions1\",\"properties\":[{\"name\":\"open_modal\",\"kind\":\"Any\",\"default\":0},{\"name\":\"close_modal\",\"kind\":\"Any\",\"default\":0}]}],\"roots\":[{\"type\":\"object\",\"name\":\"Row\",\"id\":\"p25144\",\"attributes\":{\"name\":\"Row68469\",\"tags\":[\"embedded\"],\"stylesheets\":[\"\\n:host(.pn-loading.pn-arc):before, .pn-loading.pn-arc:before {\\n  background-image: url(\\\"data:image/svg+xml;base64,PHN2ZyB4bWxucz0iaHR0cDovL3d3dy53My5vcmcvMjAwMC9zdmciIHN0eWxlPSJtYXJnaW46IGF1dG87IGJhY2tncm91bmQ6IG5vbmU7IGRpc3BsYXk6IGJsb2NrOyBzaGFwZS1yZW5kZXJpbmc6IGF1dG87IiB2aWV3Qm94PSIwIDAgMTAwIDEwMCIgcHJlc2VydmVBc3BlY3RSYXRpbz0ieE1pZFlNaWQiPiAgPGNpcmNsZSBjeD0iNTAiIGN5PSI1MCIgZmlsbD0ibm9uZSIgc3Ryb2tlPSIjYzNjM2MzIiBzdHJva2Utd2lkdGg9IjEwIiByPSIzNSIgc3Ryb2tlLWRhc2hhcnJheT0iMTY0LjkzMzYxNDMxMzQ2NDE1IDU2Ljk3Nzg3MTQzNzgyMTM4Ij4gICAgPGFuaW1hdGVUcmFuc2Zvcm0gYXR0cmlidXRlTmFtZT0idHJhbnNmb3JtIiB0eXBlPSJyb3RhdGUiIHJlcGVhdENvdW50PSJpbmRlZmluaXRlIiBkdXI9IjFzIiB2YWx1ZXM9IjAgNTAgNTA7MzYwIDUwIDUwIiBrZXlUaW1lcz0iMDsxIj48L2FuaW1hdGVUcmFuc2Zvcm0+ICA8L2NpcmNsZT48L3N2Zz4=\\\");\\n  background-size: auto calc(min(50%, 400px));\\n}\",{\"type\":\"object\",\"name\":\"ImportedStyleSheet\",\"id\":\"p25147\",\"attributes\":{\"url\":\"https://cdn.holoviz.org/panel/1.1.1/dist/css/loading.css\"}},{\"type\":\"object\",\"name\":\"ImportedStyleSheet\",\"id\":\"p25629\",\"attributes\":{\"url\":\"https://cdn.holoviz.org/panel/1.1.1/dist/css/listpanel.css\"}},{\"type\":\"object\",\"name\":\"ImportedStyleSheet\",\"id\":\"p25145\",\"attributes\":{\"url\":\"https://cdn.holoviz.org/panel/1.1.1/dist/bundled/theme/default.css\"}},{\"type\":\"object\",\"name\":\"ImportedStyleSheet\",\"id\":\"p25146\",\"attributes\":{\"url\":\"https://cdn.holoviz.org/panel/1.1.1/dist/bundled/theme/native.css\"}}],\"min_width\":1200,\"margin\":0,\"sizing_mode\":\"stretch_width\",\"align\":\"start\",\"children\":[{\"type\":\"object\",\"name\":\"Spacer\",\"id\":\"p25148\",\"attributes\":{\"name\":\"HSpacer68480\",\"stylesheets\":[\"\\n:host(.pn-loading.pn-arc):before, .pn-loading.pn-arc:before {\\n  background-image: url(\\\"data:image/svg+xml;base64,PHN2ZyB4bWxucz0iaHR0cDovL3d3dy53My5vcmcvMjAwMC9zdmciIHN0eWxlPSJtYXJnaW46IGF1dG87IGJhY2tncm91bmQ6IG5vbmU7IGRpc3BsYXk6IGJsb2NrOyBzaGFwZS1yZW5kZXJpbmc6IGF1dG87IiB2aWV3Qm94PSIwIDAgMTAwIDEwMCIgcHJlc2VydmVBc3BlY3RSYXRpbz0ieE1pZFlNaWQiPiAgPGNpcmNsZSBjeD0iNTAiIGN5PSI1MCIgZmlsbD0ibm9uZSIgc3Ryb2tlPSIjYzNjM2MzIiBzdHJva2Utd2lkdGg9IjEwIiByPSIzNSIgc3Ryb2tlLWRhc2hhcnJheT0iMTY0LjkzMzYxNDMxMzQ2NDE1IDU2Ljk3Nzg3MTQzNzgyMTM4Ij4gICAgPGFuaW1hdGVUcmFuc2Zvcm0gYXR0cmlidXRlTmFtZT0idHJhbnNmb3JtIiB0eXBlPSJyb3RhdGUiIHJlcGVhdENvdW50PSJpbmRlZmluaXRlIiBkdXI9IjFzIiB2YWx1ZXM9IjAgNTAgNTA7MzYwIDUwIDUwIiBrZXlUaW1lcz0iMDsxIj48L2FuaW1hdGVUcmFuc2Zvcm0+ICA8L2NpcmNsZT48L3N2Zz4=\\\");\\n  background-size: auto calc(min(50%, 400px));\\n}\",{\"id\":\"p25147\"},{\"id\":\"p25145\"},{\"id\":\"p25146\"}],\"margin\":0,\"sizing_mode\":\"stretch_width\",\"align\":\"start\"}},{\"type\":\"object\",\"name\":\"Figure\",\"id\":\"p25171\",\"attributes\":{\"width\":1200,\"height\":500,\"margin\":[5,10],\"sizing_mode\":\"fixed\",\"align\":\"start\",\"x_range\":{\"type\":\"object\",\"name\":\"Range1d\",\"id\":\"p25149\",\"attributes\":{\"tags\":[[[\"x\",\"x\",null]]],\"start\":2.0,\"end\":10.0,\"reset_start\":2.0,\"reset_end\":10.0}},\"y_range\":{\"type\":\"object\",\"name\":\"Range1d\",\"id\":\"p25150\",\"attributes\":{\"tags\":[[[\"y\",\"y\",null]]],\"start\":0.00011506749822416413,\"end\":0.0402049710294553,\"reset_start\":0.00011506749822416413,\"reset_end\":0.0402049710294553}},\"x_scale\":{\"type\":\"object\",\"name\":\"LinearScale\",\"id\":\"p25183\"},\"y_scale\":{\"type\":\"object\",\"name\":\"LinearScale\",\"id\":\"p25185\"},\"title\":{\"type\":\"object\",\"name\":\"Title\",\"id\":\"p25174\",\"attributes\":{\"text_color\":\"black\",\"text_font_size\":\"18pt\"}},\"renderers\":[{\"type\":\"object\",\"name\":\"GlyphRenderer\",\"id\":\"p25233\",\"attributes\":{\"data_source\":{\"type\":\"object\",\"name\":\"ColumnDataSource\",\"id\":\"p25223\",\"attributes\":{\"selected\":{\"type\":\"object\",\"name\":\"Selection\",\"id\":\"p25224\",\"attributes\":{\"indices\":[],\"line_indices\":[]}},\"selection_policy\":{\"type\":\"object\",\"name\":\"UnionRenderers\",\"id\":\"p25225\"},\"data\":{\"type\":\"map\",\"entries\":[[\"x\",{\"type\":\"ndarray\",\"array\":{\"type\":\"bytes\",\"data\":\"AgAAAAMAAAAEAAAABQAAAAYAAAAHAAAACAAAAAkAAAAKAAAA\"},\"shape\":[9],\"dtype\":\"int32\",\"order\":\"little\"}],[\"y\",{\"type\":\"ndarray\",\"array\":{\"type\":\"bytes\",\"data\":\"cLuneNvfoj+poGzIDfigPxdP0RBUhJ4/+/I/SQdymz8YTfQs8q+YP0NjDTvKNZY/QA/mHSP8kz9ATxogV/yRP8D6FSdyMJA/\"},\"shape\":[9],\"dtype\":\"float64\",\"order\":\"little\"}]]}}},\"view\":{\"type\":\"object\",\"name\":\"CDSView\",\"id\":\"p25234\",\"attributes\":{\"filter\":{\"type\":\"object\",\"name\":\"AllIndices\",\"id\":\"p25235\"}}},\"glyph\":{\"type\":\"object\",\"name\":\"Line\",\"id\":\"p25230\",\"attributes\":{\"tags\":[\"apply_ranges\"],\"x\":{\"type\":\"field\",\"field\":\"x\"},\"y\":{\"type\":\"field\",\"field\":\"y\"},\"line_color\":\"#30a2da\",\"line_width\":2}},\"selection_glyph\":{\"type\":\"object\",\"name\":\"Line\",\"id\":\"p25238\",\"attributes\":{\"tags\":[\"apply_ranges\"],\"x\":{\"type\":\"field\",\"field\":\"x\"},\"y\":{\"type\":\"field\",\"field\":\"y\"},\"line_color\":\"#30a2da\",\"line_width\":2}},\"nonselection_glyph\":{\"type\":\"object\",\"name\":\"Line\",\"id\":\"p25231\",\"attributes\":{\"tags\":[\"apply_ranges\"],\"x\":{\"type\":\"field\",\"field\":\"x\"},\"y\":{\"type\":\"field\",\"field\":\"y\"},\"line_color\":\"#30a2da\",\"line_alpha\":0.1,\"line_width\":2}},\"muted_glyph\":{\"type\":\"object\",\"name\":\"Line\",\"id\":\"p25232\",\"attributes\":{\"tags\":[\"apply_ranges\"],\"x\":{\"type\":\"field\",\"field\":\"x\"},\"y\":{\"type\":\"field\",\"field\":\"y\"},\"line_color\":\"#30a2da\",\"line_alpha\":0.2,\"line_width\":2}}}},{\"type\":\"object\",\"name\":\"GlyphRenderer\",\"id\":\"p25249\",\"attributes\":{\"data_source\":{\"type\":\"object\",\"name\":\"ColumnDataSource\",\"id\":\"p25239\",\"attributes\":{\"selected\":{\"type\":\"object\",\"name\":\"Selection\",\"id\":\"p25240\",\"attributes\":{\"indices\":[],\"line_indices\":[]}},\"selection_policy\":{\"type\":\"object\",\"name\":\"UnionRenderers\",\"id\":\"p25241\"},\"data\":{\"type\":\"map\",\"entries\":[[\"x\",{\"type\":\"ndarray\",\"array\":{\"type\":\"bytes\",\"data\":\"AgAAAAMAAAAEAAAABQAAAAYAAAAHAAAACAAAAAkAAAAKAAAA\"},\"shape\":[9],\"dtype\":\"int32\",\"order\":\"little\"}],[\"y\",{\"type\":\"ndarray\",\"array\":{\"type\":\"bytes\",\"data\":\"cLuneNvfoj+poGzIDfigPxdP0RBUhJ4/+/I/SQdymz8YTfQs8q+YP0NjDTvKNZY/QA/mHSP8kz9ATxogV/yRP8D6FSdyMJA/\"},\"shape\":[9],\"dtype\":\"float64\",\"order\":\"little\"}]]}}},\"view\":{\"type\":\"object\",\"name\":\"CDSView\",\"id\":\"p25250\",\"attributes\":{\"filter\":{\"type\":\"object\",\"name\":\"AllIndices\",\"id\":\"p25251\"}}},\"glyph\":{\"type\":\"object\",\"name\":\"Scatter\",\"id\":\"p25246\",\"attributes\":{\"tags\":[\"apply_ranges\"],\"x\":{\"type\":\"field\",\"field\":\"x\"},\"y\":{\"type\":\"field\",\"field\":\"y\"},\"size\":{\"type\":\"value\",\"value\":5},\"line_color\":{\"type\":\"value\",\"value\":\"#30a2da\"},\"fill_color\":{\"type\":\"value\",\"value\":\"#30a2da\"},\"hatch_color\":{\"type\":\"value\",\"value\":\"#30a2da\"}}},\"selection_glyph\":{\"type\":\"object\",\"name\":\"Scatter\",\"id\":\"p25252\",\"attributes\":{\"tags\":[\"apply_ranges\"],\"x\":{\"type\":\"field\",\"field\":\"x\"},\"y\":{\"type\":\"field\",\"field\":\"y\"},\"size\":{\"type\":\"value\",\"value\":5},\"angle\":{\"type\":\"value\",\"value\":0.0},\"line_color\":{\"type\":\"value\",\"value\":\"#30a2da\"},\"line_alpha\":{\"type\":\"value\",\"value\":1.0},\"line_width\":{\"type\":\"value\",\"value\":1},\"line_join\":{\"type\":\"value\",\"value\":\"bevel\"},\"line_cap\":{\"type\":\"value\",\"value\":\"butt\"},\"line_dash\":{\"type\":\"value\",\"value\":[]},\"line_dash_offset\":{\"type\":\"value\",\"value\":0},\"fill_color\":{\"type\":\"value\",\"value\":\"#30a2da\"},\"fill_alpha\":{\"type\":\"value\",\"value\":1.0},\"hatch_color\":{\"type\":\"value\",\"value\":\"#30a2da\"},\"hatch_alpha\":{\"type\":\"value\",\"value\":1.0},\"hatch_scale\":{\"type\":\"value\",\"value\":12.0},\"hatch_pattern\":{\"type\":\"value\",\"value\":null},\"hatch_weight\":{\"type\":\"value\",\"value\":1.0},\"marker\":{\"type\":\"value\",\"value\":\"circle\"}}},\"nonselection_glyph\":{\"type\":\"object\",\"name\":\"Scatter\",\"id\":\"p25247\",\"attributes\":{\"tags\":[\"apply_ranges\"],\"x\":{\"type\":\"field\",\"field\":\"x\"},\"y\":{\"type\":\"field\",\"field\":\"y\"},\"size\":{\"type\":\"value\",\"value\":5},\"line_color\":{\"type\":\"value\",\"value\":\"#30a2da\"},\"line_alpha\":{\"type\":\"value\",\"value\":0.1},\"fill_color\":{\"type\":\"value\",\"value\":\"#30a2da\"},\"fill_alpha\":{\"type\":\"value\",\"value\":0.1},\"hatch_color\":{\"type\":\"value\",\"value\":\"#30a2da\"},\"hatch_alpha\":{\"type\":\"value\",\"value\":0.1}}},\"muted_glyph\":{\"type\":\"object\",\"name\":\"Scatter\",\"id\":\"p25248\",\"attributes\":{\"tags\":[\"apply_ranges\"],\"x\":{\"type\":\"field\",\"field\":\"x\"},\"y\":{\"type\":\"field\",\"field\":\"y\"},\"size\":{\"type\":\"value\",\"value\":5},\"line_color\":{\"type\":\"value\",\"value\":\"#30a2da\"},\"line_alpha\":{\"type\":\"value\",\"value\":0.2},\"fill_color\":{\"type\":\"value\",\"value\":\"#30a2da\"},\"fill_alpha\":{\"type\":\"value\",\"value\":0.2},\"hatch_color\":{\"type\":\"value\",\"value\":\"#30a2da\"},\"hatch_alpha\":{\"type\":\"value\",\"value\":0.2}}}}},{\"type\":\"object\",\"name\":\"GlyphRenderer\",\"id\":\"p25263\",\"attributes\":{\"data_source\":{\"type\":\"object\",\"name\":\"ColumnDataSource\",\"id\":\"p25253\",\"attributes\":{\"selected\":{\"type\":\"object\",\"name\":\"Selection\",\"id\":\"p25254\",\"attributes\":{\"indices\":[],\"line_indices\":[]}},\"selection_policy\":{\"type\":\"object\",\"name\":\"UnionRenderers\",\"id\":\"p25255\"},\"data\":{\"type\":\"map\",\"entries\":[[\"x\",{\"type\":\"ndarray\",\"array\":{\"type\":\"bytes\",\"data\":\"AgAAAAMAAAAEAAAABQAAAAYAAAAHAAAACAAAAAkAAAAKAAAA\"},\"shape\":[9],\"dtype\":\"int32\",\"order\":\"little\"}],[\"y\",{\"type\":\"ndarray\",\"array\":{\"type\":\"bytes\",\"data\":\"IHcgpOkhkj9zdVwCBOKPPwCiOQLiB4w/ZJexsgCliD8M9X/t8KqFP4CRoTQDDYM/WE2bahHAgD9jgEVAnnR9P/WpNFo/5nk/\"},\"shape\":[9],\"dtype\":\"float64\",\"order\":\"little\"}]]}}},\"view\":{\"type\":\"object\",\"name\":\"CDSView\",\"id\":\"p25264\",\"attributes\":{\"filter\":{\"type\":\"object\",\"name\":\"AllIndices\",\"id\":\"p25265\"}}},\"glyph\":{\"type\":\"object\",\"name\":\"Line\",\"id\":\"p25260\",\"attributes\":{\"tags\":[\"apply_ranges\"],\"x\":{\"type\":\"field\",\"field\":\"x\"},\"y\":{\"type\":\"field\",\"field\":\"y\"},\"line_color\":\"#fc4f30\",\"line_width\":2}},\"selection_glyph\":{\"type\":\"object\",\"name\":\"Line\",\"id\":\"p25267\",\"attributes\":{\"tags\":[\"apply_ranges\"],\"x\":{\"type\":\"field\",\"field\":\"x\"},\"y\":{\"type\":\"field\",\"field\":\"y\"},\"line_color\":\"#fc4f30\",\"line_width\":2}},\"nonselection_glyph\":{\"type\":\"object\",\"name\":\"Line\",\"id\":\"p25261\",\"attributes\":{\"tags\":[\"apply_ranges\"],\"x\":{\"type\":\"field\",\"field\":\"x\"},\"y\":{\"type\":\"field\",\"field\":\"y\"},\"line_color\":\"#fc4f30\",\"line_alpha\":0.1,\"line_width\":2}},\"muted_glyph\":{\"type\":\"object\",\"name\":\"Line\",\"id\":\"p25262\",\"attributes\":{\"tags\":[\"apply_ranges\"],\"x\":{\"type\":\"field\",\"field\":\"x\"},\"y\":{\"type\":\"field\",\"field\":\"y\"},\"line_color\":\"#fc4f30\",\"line_alpha\":0.2,\"line_width\":2}}}},{\"type\":\"object\",\"name\":\"GlyphRenderer\",\"id\":\"p25278\",\"attributes\":{\"data_source\":{\"type\":\"object\",\"name\":\"ColumnDataSource\",\"id\":\"p25268\",\"attributes\":{\"selected\":{\"type\":\"object\",\"name\":\"Selection\",\"id\":\"p25269\",\"attributes\":{\"indices\":[],\"line_indices\":[]}},\"selection_policy\":{\"type\":\"object\",\"name\":\"UnionRenderers\",\"id\":\"p25270\"},\"data\":{\"type\":\"map\",\"entries\":[[\"x\",{\"type\":\"ndarray\",\"array\":{\"type\":\"bytes\",\"data\":\"AgAAAAMAAAAEAAAABQAAAAYAAAAHAAAACAAAAAkAAAAKAAAA\"},\"shape\":[9],\"dtype\":\"int32\",\"order\":\"little\"}],[\"y\",{\"type\":\"ndarray\",\"array\":{\"type\":\"bytes\",\"data\":\"IHcgpOkhkj9zdVwCBOKPPwCiOQLiB4w/ZJexsgCliD8M9X/t8KqFP4CRoTQDDYM/WE2bahHAgD9jgEVAnnR9P/WpNFo/5nk/\"},\"shape\":[9],\"dtype\":\"float64\",\"order\":\"little\"}]]}}},\"view\":{\"type\":\"object\",\"name\":\"CDSView\",\"id\":\"p25279\",\"attributes\":{\"filter\":{\"type\":\"object\",\"name\":\"AllIndices\",\"id\":\"p25280\"}}},\"glyph\":{\"type\":\"object\",\"name\":\"Scatter\",\"id\":\"p25275\",\"attributes\":{\"tags\":[\"apply_ranges\"],\"x\":{\"type\":\"field\",\"field\":\"x\"},\"y\":{\"type\":\"field\",\"field\":\"y\"},\"size\":{\"type\":\"value\",\"value\":5},\"line_color\":{\"type\":\"value\",\"value\":\"#fc4f30\"},\"fill_color\":{\"type\":\"value\",\"value\":\"#fc4f30\"},\"hatch_color\":{\"type\":\"value\",\"value\":\"#fc4f30\"}}},\"selection_glyph\":{\"type\":\"object\",\"name\":\"Scatter\",\"id\":\"p25281\",\"attributes\":{\"tags\":[\"apply_ranges\"],\"x\":{\"type\":\"field\",\"field\":\"x\"},\"y\":{\"type\":\"field\",\"field\":\"y\"},\"size\":{\"type\":\"value\",\"value\":5},\"angle\":{\"type\":\"value\",\"value\":0.0},\"line_color\":{\"type\":\"value\",\"value\":\"#fc4f30\"},\"line_alpha\":{\"type\":\"value\",\"value\":1.0},\"line_width\":{\"type\":\"value\",\"value\":1},\"line_join\":{\"type\":\"value\",\"value\":\"bevel\"},\"line_cap\":{\"type\":\"value\",\"value\":\"butt\"},\"line_dash\":{\"type\":\"value\",\"value\":[]},\"line_dash_offset\":{\"type\":\"value\",\"value\":0},\"fill_color\":{\"type\":\"value\",\"value\":\"#fc4f30\"},\"fill_alpha\":{\"type\":\"value\",\"value\":1.0},\"hatch_color\":{\"type\":\"value\",\"value\":\"#fc4f30\"},\"hatch_alpha\":{\"type\":\"value\",\"value\":1.0},\"hatch_scale\":{\"type\":\"value\",\"value\":12.0},\"hatch_pattern\":{\"type\":\"value\",\"value\":null},\"hatch_weight\":{\"type\":\"value\",\"value\":1.0},\"marker\":{\"type\":\"value\",\"value\":\"circle\"}}},\"nonselection_glyph\":{\"type\":\"object\",\"name\":\"Scatter\",\"id\":\"p25276\",\"attributes\":{\"tags\":[\"apply_ranges\"],\"x\":{\"type\":\"field\",\"field\":\"x\"},\"y\":{\"type\":\"field\",\"field\":\"y\"},\"size\":{\"type\":\"value\",\"value\":5},\"line_color\":{\"type\":\"value\",\"value\":\"#fc4f30\"},\"line_alpha\":{\"type\":\"value\",\"value\":0.1},\"fill_color\":{\"type\":\"value\",\"value\":\"#fc4f30\"},\"fill_alpha\":{\"type\":\"value\",\"value\":0.1},\"hatch_color\":{\"type\":\"value\",\"value\":\"#fc4f30\"},\"hatch_alpha\":{\"type\":\"value\",\"value\":0.1}}},\"muted_glyph\":{\"type\":\"object\",\"name\":\"Scatter\",\"id\":\"p25277\",\"attributes\":{\"tags\":[\"apply_ranges\"],\"x\":{\"type\":\"field\",\"field\":\"x\"},\"y\":{\"type\":\"field\",\"field\":\"y\"},\"size\":{\"type\":\"value\",\"value\":5},\"line_color\":{\"type\":\"value\",\"value\":\"#fc4f30\"},\"line_alpha\":{\"type\":\"value\",\"value\":0.2},\"fill_color\":{\"type\":\"value\",\"value\":\"#fc4f30\"},\"fill_alpha\":{\"type\":\"value\",\"value\":0.2},\"hatch_color\":{\"type\":\"value\",\"value\":\"#fc4f30\"},\"hatch_alpha\":{\"type\":\"value\",\"value\":0.2}}}}},{\"type\":\"object\",\"name\":\"GlyphRenderer\",\"id\":\"p25292\",\"attributes\":{\"data_source\":{\"type\":\"object\",\"name\":\"ColumnDataSource\",\"id\":\"p25282\",\"attributes\":{\"selected\":{\"type\":\"object\",\"name\":\"Selection\",\"id\":\"p25283\",\"attributes\":{\"indices\":[],\"line_indices\":[]}},\"selection_policy\":{\"type\":\"object\",\"name\":\"UnionRenderers\",\"id\":\"p25284\"},\"data\":{\"type\":\"map\",\"entries\":[[\"x\",{\"type\":\"ndarray\",\"array\":{\"type\":\"bytes\",\"data\":\"AgAAAAMAAAAEAAAABQAAAAYAAAAHAAAACAAAAAkAAAAKAAAA\"},\"shape\":[9],\"dtype\":\"int32\",\"order\":\"little\"}],[\"y\",{\"type\":\"ndarray\",\"array\":{\"type\":\"bytes\",\"data\":\"ALFYSBo1ij8AqkVf/SeHP7IZ9BvcdYQ/wPFKQBwUgj8ANZEDwPJ/P4BtBz7COnw/cqq9iqDxeD9Xa+CHcAp2PwAe6DbJeXM/\"},\"shape\":[9],\"dtype\":\"float64\",\"order\":\"little\"}]]}}},\"view\":{\"type\":\"object\",\"name\":\"CDSView\",\"id\":\"p25293\",\"attributes\":{\"filter\":{\"type\":\"object\",\"name\":\"AllIndices\",\"id\":\"p25294\"}}},\"glyph\":{\"type\":\"object\",\"name\":\"Line\",\"id\":\"p25289\",\"attributes\":{\"tags\":[\"apply_ranges\"],\"x\":{\"type\":\"field\",\"field\":\"x\"},\"y\":{\"type\":\"field\",\"field\":\"y\"},\"line_color\":\"#e5ae38\",\"line_width\":2}},\"selection_glyph\":{\"type\":\"object\",\"name\":\"Line\",\"id\":\"p25296\",\"attributes\":{\"tags\":[\"apply_ranges\"],\"x\":{\"type\":\"field\",\"field\":\"x\"},\"y\":{\"type\":\"field\",\"field\":\"y\"},\"line_color\":\"#e5ae38\",\"line_width\":2}},\"nonselection_glyph\":{\"type\":\"object\",\"name\":\"Line\",\"id\":\"p25290\",\"attributes\":{\"tags\":[\"apply_ranges\"],\"x\":{\"type\":\"field\",\"field\":\"x\"},\"y\":{\"type\":\"field\",\"field\":\"y\"},\"line_color\":\"#e5ae38\",\"line_alpha\":0.1,\"line_width\":2}},\"muted_glyph\":{\"type\":\"object\",\"name\":\"Line\",\"id\":\"p25291\",\"attributes\":{\"tags\":[\"apply_ranges\"],\"x\":{\"type\":\"field\",\"field\":\"x\"},\"y\":{\"type\":\"field\",\"field\":\"y\"},\"line_color\":\"#e5ae38\",\"line_alpha\":0.2,\"line_width\":2}}}},{\"type\":\"object\",\"name\":\"GlyphRenderer\",\"id\":\"p25307\",\"attributes\":{\"data_source\":{\"type\":\"object\",\"name\":\"ColumnDataSource\",\"id\":\"p25297\",\"attributes\":{\"selected\":{\"type\":\"object\",\"name\":\"Selection\",\"id\":\"p25298\",\"attributes\":{\"indices\":[],\"line_indices\":[]}},\"selection_policy\":{\"type\":\"object\",\"name\":\"UnionRenderers\",\"id\":\"p25299\"},\"data\":{\"type\":\"map\",\"entries\":[[\"x\",{\"type\":\"ndarray\",\"array\":{\"type\":\"bytes\",\"data\":\"AgAAAAMAAAAEAAAABQAAAAYAAAAHAAAACAAAAAkAAAAKAAAA\"},\"shape\":[9],\"dtype\":\"int32\",\"order\":\"little\"}],[\"y\",{\"type\":\"ndarray\",\"array\":{\"type\":\"bytes\",\"data\":\"ALFYSBo1ij8AqkVf/SeHP7IZ9BvcdYQ/wPFKQBwUgj8ANZEDwPJ/P4BtBz7COnw/cqq9iqDxeD9Xa+CHcAp2PwAe6DbJeXM/\"},\"shape\":[9],\"dtype\":\"float64\",\"order\":\"little\"}]]}}},\"view\":{\"type\":\"object\",\"name\":\"CDSView\",\"id\":\"p25308\",\"attributes\":{\"filter\":{\"type\":\"object\",\"name\":\"AllIndices\",\"id\":\"p25309\"}}},\"glyph\":{\"type\":\"object\",\"name\":\"Scatter\",\"id\":\"p25304\",\"attributes\":{\"tags\":[\"apply_ranges\"],\"x\":{\"type\":\"field\",\"field\":\"x\"},\"y\":{\"type\":\"field\",\"field\":\"y\"},\"size\":{\"type\":\"value\",\"value\":5},\"line_color\":{\"type\":\"value\",\"value\":\"#e5ae38\"},\"fill_color\":{\"type\":\"value\",\"value\":\"#e5ae38\"},\"hatch_color\":{\"type\":\"value\",\"value\":\"#e5ae38\"}}},\"selection_glyph\":{\"type\":\"object\",\"name\":\"Scatter\",\"id\":\"p25310\",\"attributes\":{\"tags\":[\"apply_ranges\"],\"x\":{\"type\":\"field\",\"field\":\"x\"},\"y\":{\"type\":\"field\",\"field\":\"y\"},\"size\":{\"type\":\"value\",\"value\":5},\"angle\":{\"type\":\"value\",\"value\":0.0},\"line_color\":{\"type\":\"value\",\"value\":\"#e5ae38\"},\"line_alpha\":{\"type\":\"value\",\"value\":1.0},\"line_width\":{\"type\":\"value\",\"value\":1},\"line_join\":{\"type\":\"value\",\"value\":\"bevel\"},\"line_cap\":{\"type\":\"value\",\"value\":\"butt\"},\"line_dash\":{\"type\":\"value\",\"value\":[]},\"line_dash_offset\":{\"type\":\"value\",\"value\":0},\"fill_color\":{\"type\":\"value\",\"value\":\"#e5ae38\"},\"fill_alpha\":{\"type\":\"value\",\"value\":1.0},\"hatch_color\":{\"type\":\"value\",\"value\":\"#e5ae38\"},\"hatch_alpha\":{\"type\":\"value\",\"value\":1.0},\"hatch_scale\":{\"type\":\"value\",\"value\":12.0},\"hatch_pattern\":{\"type\":\"value\",\"value\":null},\"hatch_weight\":{\"type\":\"value\",\"value\":1.0},\"marker\":{\"type\":\"value\",\"value\":\"circle\"}}},\"nonselection_glyph\":{\"type\":\"object\",\"name\":\"Scatter\",\"id\":\"p25305\",\"attributes\":{\"tags\":[\"apply_ranges\"],\"x\":{\"type\":\"field\",\"field\":\"x\"},\"y\":{\"type\":\"field\",\"field\":\"y\"},\"size\":{\"type\":\"value\",\"value\":5},\"line_color\":{\"type\":\"value\",\"value\":\"#e5ae38\"},\"line_alpha\":{\"type\":\"value\",\"value\":0.1},\"fill_color\":{\"type\":\"value\",\"value\":\"#e5ae38\"},\"fill_alpha\":{\"type\":\"value\",\"value\":0.1},\"hatch_color\":{\"type\":\"value\",\"value\":\"#e5ae38\"},\"hatch_alpha\":{\"type\":\"value\",\"value\":0.1}}},\"muted_glyph\":{\"type\":\"object\",\"name\":\"Scatter\",\"id\":\"p25306\",\"attributes\":{\"tags\":[\"apply_ranges\"],\"x\":{\"type\":\"field\",\"field\":\"x\"},\"y\":{\"type\":\"field\",\"field\":\"y\"},\"size\":{\"type\":\"value\",\"value\":5},\"line_color\":{\"type\":\"value\",\"value\":\"#e5ae38\"},\"line_alpha\":{\"type\":\"value\",\"value\":0.2},\"fill_color\":{\"type\":\"value\",\"value\":\"#e5ae38\"},\"fill_alpha\":{\"type\":\"value\",\"value\":0.2},\"hatch_color\":{\"type\":\"value\",\"value\":\"#e5ae38\"},\"hatch_alpha\":{\"type\":\"value\",\"value\":0.2}}}}},{\"type\":\"object\",\"name\":\"GlyphRenderer\",\"id\":\"p25321\",\"attributes\":{\"data_source\":{\"type\":\"object\",\"name\":\"ColumnDataSource\",\"id\":\"p25311\",\"attributes\":{\"selected\":{\"type\":\"object\",\"name\":\"Selection\",\"id\":\"p25312\",\"attributes\":{\"indices\":[],\"line_indices\":[]}},\"selection_policy\":{\"type\":\"object\",\"name\":\"UnionRenderers\",\"id\":\"p25313\"},\"data\":{\"type\":\"map\",\"entries\":[[\"x\",{\"type\":\"ndarray\",\"array\":{\"type\":\"bytes\",\"data\":\"AgAAAAMAAAAEAAAABQAAAAYAAAAHAAAACAAAAAkAAAAKAAAA\"},\"shape\":[9],\"dtype\":\"int32\",\"order\":\"little\"}],[\"y\",{\"type\":\"ndarray\",\"array\":{\"type\":\"bytes\",\"data\":\"sp7w/XrKhz8QlDqWpwSFPwA1lKqlkYI/wHECisdngD/dkxO3A/18PwBlodmSnHk/AAjII+qgdj+AgPssRv5zP4oQeqlDqnE/\"},\"shape\":[9],\"dtype\":\"float64\",\"order\":\"little\"}]]}}},\"view\":{\"type\":\"object\",\"name\":\"CDSView\",\"id\":\"p25322\",\"attributes\":{\"filter\":{\"type\":\"object\",\"name\":\"AllIndices\",\"id\":\"p25323\"}}},\"glyph\":{\"type\":\"object\",\"name\":\"Line\",\"id\":\"p25318\",\"attributes\":{\"tags\":[\"apply_ranges\"],\"x\":{\"type\":\"field\",\"field\":\"x\"},\"y\":{\"type\":\"field\",\"field\":\"y\"},\"line_color\":\"#6d904f\",\"line_width\":2}},\"selection_glyph\":{\"type\":\"object\",\"name\":\"Line\",\"id\":\"p25325\",\"attributes\":{\"tags\":[\"apply_ranges\"],\"x\":{\"type\":\"field\",\"field\":\"x\"},\"y\":{\"type\":\"field\",\"field\":\"y\"},\"line_color\":\"#6d904f\",\"line_width\":2}},\"nonselection_glyph\":{\"type\":\"object\",\"name\":\"Line\",\"id\":\"p25319\",\"attributes\":{\"tags\":[\"apply_ranges\"],\"x\":{\"type\":\"field\",\"field\":\"x\"},\"y\":{\"type\":\"field\",\"field\":\"y\"},\"line_color\":\"#6d904f\",\"line_alpha\":0.1,\"line_width\":2}},\"muted_glyph\":{\"type\":\"object\",\"name\":\"Line\",\"id\":\"p25320\",\"attributes\":{\"tags\":[\"apply_ranges\"],\"x\":{\"type\":\"field\",\"field\":\"x\"},\"y\":{\"type\":\"field\",\"field\":\"y\"},\"line_color\":\"#6d904f\",\"line_alpha\":0.2,\"line_width\":2}}}},{\"type\":\"object\",\"name\":\"GlyphRenderer\",\"id\":\"p25336\",\"attributes\":{\"data_source\":{\"type\":\"object\",\"name\":\"ColumnDataSource\",\"id\":\"p25326\",\"attributes\":{\"selected\":{\"type\":\"object\",\"name\":\"Selection\",\"id\":\"p25327\",\"attributes\":{\"indices\":[],\"line_indices\":[]}},\"selection_policy\":{\"type\":\"object\",\"name\":\"UnionRenderers\",\"id\":\"p25328\"},\"data\":{\"type\":\"map\",\"entries\":[[\"x\",{\"type\":\"ndarray\",\"array\":{\"type\":\"bytes\",\"data\":\"AgAAAAMAAAAEAAAABQAAAAYAAAAHAAAACAAAAAkAAAAKAAAA\"},\"shape\":[9],\"dtype\":\"int32\",\"order\":\"little\"}],[\"y\",{\"type\":\"ndarray\",\"array\":{\"type\":\"bytes\",\"data\":\"sp7w/XrKhz8QlDqWpwSFPwA1lKqlkYI/wHECisdngD/dkxO3A/18PwBlodmSnHk/AAjII+qgdj+AgPssRv5zP4oQeqlDqnE/\"},\"shape\":[9],\"dtype\":\"float64\",\"order\":\"little\"}]]}}},\"view\":{\"type\":\"object\",\"name\":\"CDSView\",\"id\":\"p25337\",\"attributes\":{\"filter\":{\"type\":\"object\",\"name\":\"AllIndices\",\"id\":\"p25338\"}}},\"glyph\":{\"type\":\"object\",\"name\":\"Scatter\",\"id\":\"p25333\",\"attributes\":{\"tags\":[\"apply_ranges\"],\"x\":{\"type\":\"field\",\"field\":\"x\"},\"y\":{\"type\":\"field\",\"field\":\"y\"},\"size\":{\"type\":\"value\",\"value\":5},\"line_color\":{\"type\":\"value\",\"value\":\"#6d904f\"},\"fill_color\":{\"type\":\"value\",\"value\":\"#6d904f\"},\"hatch_color\":{\"type\":\"value\",\"value\":\"#6d904f\"}}},\"selection_glyph\":{\"type\":\"object\",\"name\":\"Scatter\",\"id\":\"p25339\",\"attributes\":{\"tags\":[\"apply_ranges\"],\"x\":{\"type\":\"field\",\"field\":\"x\"},\"y\":{\"type\":\"field\",\"field\":\"y\"},\"size\":{\"type\":\"value\",\"value\":5},\"angle\":{\"type\":\"value\",\"value\":0.0},\"line_color\":{\"type\":\"value\",\"value\":\"#6d904f\"},\"line_alpha\":{\"type\":\"value\",\"value\":1.0},\"line_width\":{\"type\":\"value\",\"value\":1},\"line_join\":{\"type\":\"value\",\"value\":\"bevel\"},\"line_cap\":{\"type\":\"value\",\"value\":\"butt\"},\"line_dash\":{\"type\":\"value\",\"value\":[]},\"line_dash_offset\":{\"type\":\"value\",\"value\":0},\"fill_color\":{\"type\":\"value\",\"value\":\"#6d904f\"},\"fill_alpha\":{\"type\":\"value\",\"value\":1.0},\"hatch_color\":{\"type\":\"value\",\"value\":\"#6d904f\"},\"hatch_alpha\":{\"type\":\"value\",\"value\":1.0},\"hatch_scale\":{\"type\":\"value\",\"value\":12.0},\"hatch_pattern\":{\"type\":\"value\",\"value\":null},\"hatch_weight\":{\"type\":\"value\",\"value\":1.0},\"marker\":{\"type\":\"value\",\"value\":\"circle\"}}},\"nonselection_glyph\":{\"type\":\"object\",\"name\":\"Scatter\",\"id\":\"p25334\",\"attributes\":{\"tags\":[\"apply_ranges\"],\"x\":{\"type\":\"field\",\"field\":\"x\"},\"y\":{\"type\":\"field\",\"field\":\"y\"},\"size\":{\"type\":\"value\",\"value\":5},\"line_color\":{\"type\":\"value\",\"value\":\"#6d904f\"},\"line_alpha\":{\"type\":\"value\",\"value\":0.1},\"fill_color\":{\"type\":\"value\",\"value\":\"#6d904f\"},\"fill_alpha\":{\"type\":\"value\",\"value\":0.1},\"hatch_color\":{\"type\":\"value\",\"value\":\"#6d904f\"},\"hatch_alpha\":{\"type\":\"value\",\"value\":0.1}}},\"muted_glyph\":{\"type\":\"object\",\"name\":\"Scatter\",\"id\":\"p25335\",\"attributes\":{\"tags\":[\"apply_ranges\"],\"x\":{\"type\":\"field\",\"field\":\"x\"},\"y\":{\"type\":\"field\",\"field\":\"y\"},\"size\":{\"type\":\"value\",\"value\":5},\"line_color\":{\"type\":\"value\",\"value\":\"#6d904f\"},\"line_alpha\":{\"type\":\"value\",\"value\":0.2},\"fill_color\":{\"type\":\"value\",\"value\":\"#6d904f\"},\"fill_alpha\":{\"type\":\"value\",\"value\":0.2},\"hatch_color\":{\"type\":\"value\",\"value\":\"#6d904f\"},\"hatch_alpha\":{\"type\":\"value\",\"value\":0.2}}}}},{\"type\":\"object\",\"name\":\"GlyphRenderer\",\"id\":\"p25350\",\"attributes\":{\"data_source\":{\"type\":\"object\",\"name\":\"ColumnDataSource\",\"id\":\"p25340\",\"attributes\":{\"selected\":{\"type\":\"object\",\"name\":\"Selection\",\"id\":\"p25341\",\"attributes\":{\"indices\":[],\"line_indices\":[]}},\"selection_policy\":{\"type\":\"object\",\"name\":\"UnionRenderers\",\"id\":\"p25342\"},\"data\":{\"type\":\"map\",\"entries\":[[\"x\",{\"type\":\"ndarray\",\"array\":{\"type\":\"bytes\",\"data\":\"AgAAAAMAAAAEAAAABQAAAAYAAAAHAAAACAAAAAkAAAAKAAAA\"},\"shape\":[9],\"dtype\":\"int32\",\"order\":\"little\"}],[\"y\",{\"type\":\"ndarray\",\"array\":{\"type\":\"bytes\",\"data\":\"wJs3Im9Khj+QYv0cra6DPzQvntcZYYE/AGmKdRmxfj9JTjr03xl7P+nBK7VA7nc/mowhhKEhdT8AkdY34qhyP47ZkmAwenA/\"},\"shape\":[9],\"dtype\":\"float64\",\"order\":\"little\"}]]}}},\"view\":{\"type\":\"object\",\"name\":\"CDSView\",\"id\":\"p25351\",\"attributes\":{\"filter\":{\"type\":\"object\",\"name\":\"AllIndices\",\"id\":\"p25352\"}}},\"glyph\":{\"type\":\"object\",\"name\":\"Line\",\"id\":\"p25347\",\"attributes\":{\"tags\":[\"apply_ranges\"],\"x\":{\"type\":\"field\",\"field\":\"x\"},\"y\":{\"type\":\"field\",\"field\":\"y\"},\"line_color\":\"#8b8b8b\",\"line_width\":2}},\"selection_glyph\":{\"type\":\"object\",\"name\":\"Line\",\"id\":\"p25354\",\"attributes\":{\"tags\":[\"apply_ranges\"],\"x\":{\"type\":\"field\",\"field\":\"x\"},\"y\":{\"type\":\"field\",\"field\":\"y\"},\"line_color\":\"#8b8b8b\",\"line_width\":2}},\"nonselection_glyph\":{\"type\":\"object\",\"name\":\"Line\",\"id\":\"p25348\",\"attributes\":{\"tags\":[\"apply_ranges\"],\"x\":{\"type\":\"field\",\"field\":\"x\"},\"y\":{\"type\":\"field\",\"field\":\"y\"},\"line_color\":\"#8b8b8b\",\"line_alpha\":0.1,\"line_width\":2}},\"muted_glyph\":{\"type\":\"object\",\"name\":\"Line\",\"id\":\"p25349\",\"attributes\":{\"tags\":[\"apply_ranges\"],\"x\":{\"type\":\"field\",\"field\":\"x\"},\"y\":{\"type\":\"field\",\"field\":\"y\"},\"line_color\":\"#8b8b8b\",\"line_alpha\":0.2,\"line_width\":2}}}},{\"type\":\"object\",\"name\":\"GlyphRenderer\",\"id\":\"p25365\",\"attributes\":{\"data_source\":{\"type\":\"object\",\"name\":\"ColumnDataSource\",\"id\":\"p25355\",\"attributes\":{\"selected\":{\"type\":\"object\",\"name\":\"Selection\",\"id\":\"p25356\",\"attributes\":{\"indices\":[],\"line_indices\":[]}},\"selection_policy\":{\"type\":\"object\",\"name\":\"UnionRenderers\",\"id\":\"p25357\"},\"data\":{\"type\":\"map\",\"entries\":[[\"x\",{\"type\":\"ndarray\",\"array\":{\"type\":\"bytes\",\"data\":\"AgAAAAMAAAAEAAAABQAAAAYAAAAHAAAACAAAAAkAAAAKAAAA\"},\"shape\":[9],\"dtype\":\"int32\",\"order\":\"little\"}],[\"y\",{\"type\":\"ndarray\",\"array\":{\"type\":\"bytes\",\"data\":\"wJs3Im9Khj+QYv0cra6DPzQvntcZYYE/AGmKdRmxfj9JTjr03xl7P+nBK7VA7nc/mowhhKEhdT8AkdY34qhyP47ZkmAwenA/\"},\"shape\":[9],\"dtype\":\"float64\",\"order\":\"little\"}]]}}},\"view\":{\"type\":\"object\",\"name\":\"CDSView\",\"id\":\"p25366\",\"attributes\":{\"filter\":{\"type\":\"object\",\"name\":\"AllIndices\",\"id\":\"p25367\"}}},\"glyph\":{\"type\":\"object\",\"name\":\"Scatter\",\"id\":\"p25362\",\"attributes\":{\"tags\":[\"apply_ranges\"],\"x\":{\"type\":\"field\",\"field\":\"x\"},\"y\":{\"type\":\"field\",\"field\":\"y\"},\"size\":{\"type\":\"value\",\"value\":5},\"line_color\":{\"type\":\"value\",\"value\":\"#8b8b8b\"},\"fill_color\":{\"type\":\"value\",\"value\":\"#8b8b8b\"},\"hatch_color\":{\"type\":\"value\",\"value\":\"#8b8b8b\"}}},\"selection_glyph\":{\"type\":\"object\",\"name\":\"Scatter\",\"id\":\"p25368\",\"attributes\":{\"tags\":[\"apply_ranges\"],\"x\":{\"type\":\"field\",\"field\":\"x\"},\"y\":{\"type\":\"field\",\"field\":\"y\"},\"size\":{\"type\":\"value\",\"value\":5},\"angle\":{\"type\":\"value\",\"value\":0.0},\"line_color\":{\"type\":\"value\",\"value\":\"#8b8b8b\"},\"line_alpha\":{\"type\":\"value\",\"value\":1.0},\"line_width\":{\"type\":\"value\",\"value\":1},\"line_join\":{\"type\":\"value\",\"value\":\"bevel\"},\"line_cap\":{\"type\":\"value\",\"value\":\"butt\"},\"line_dash\":{\"type\":\"value\",\"value\":[]},\"line_dash_offset\":{\"type\":\"value\",\"value\":0},\"fill_color\":{\"type\":\"value\",\"value\":\"#8b8b8b\"},\"fill_alpha\":{\"type\":\"value\",\"value\":1.0},\"hatch_color\":{\"type\":\"value\",\"value\":\"#8b8b8b\"},\"hatch_alpha\":{\"type\":\"value\",\"value\":1.0},\"hatch_scale\":{\"type\":\"value\",\"value\":12.0},\"hatch_pattern\":{\"type\":\"value\",\"value\":null},\"hatch_weight\":{\"type\":\"value\",\"value\":1.0},\"marker\":{\"type\":\"value\",\"value\":\"circle\"}}},\"nonselection_glyph\":{\"type\":\"object\",\"name\":\"Scatter\",\"id\":\"p25363\",\"attributes\":{\"tags\":[\"apply_ranges\"],\"x\":{\"type\":\"field\",\"field\":\"x\"},\"y\":{\"type\":\"field\",\"field\":\"y\"},\"size\":{\"type\":\"value\",\"value\":5},\"line_color\":{\"type\":\"value\",\"value\":\"#8b8b8b\"},\"line_alpha\":{\"type\":\"value\",\"value\":0.1},\"fill_color\":{\"type\":\"value\",\"value\":\"#8b8b8b\"},\"fill_alpha\":{\"type\":\"value\",\"value\":0.1},\"hatch_color\":{\"type\":\"value\",\"value\":\"#8b8b8b\"},\"hatch_alpha\":{\"type\":\"value\",\"value\":0.1}}},\"muted_glyph\":{\"type\":\"object\",\"name\":\"Scatter\",\"id\":\"p25364\",\"attributes\":{\"tags\":[\"apply_ranges\"],\"x\":{\"type\":\"field\",\"field\":\"x\"},\"y\":{\"type\":\"field\",\"field\":\"y\"},\"size\":{\"type\":\"value\",\"value\":5},\"line_color\":{\"type\":\"value\",\"value\":\"#8b8b8b\"},\"line_alpha\":{\"type\":\"value\",\"value\":0.2},\"fill_color\":{\"type\":\"value\",\"value\":\"#8b8b8b\"},\"fill_alpha\":{\"type\":\"value\",\"value\":0.2},\"hatch_color\":{\"type\":\"value\",\"value\":\"#8b8b8b\"},\"hatch_alpha\":{\"type\":\"value\",\"value\":0.2}}}}},{\"type\":\"object\",\"name\":\"GlyphRenderer\",\"id\":\"p25379\",\"attributes\":{\"data_source\":{\"type\":\"object\",\"name\":\"ColumnDataSource\",\"id\":\"p25369\",\"attributes\":{\"selected\":{\"type\":\"object\",\"name\":\"Selection\",\"id\":\"p25370\",\"attributes\":{\"indices\":[],\"line_indices\":[]}},\"selection_policy\":{\"type\":\"object\",\"name\":\"UnionRenderers\",\"id\":\"p25371\"},\"data\":{\"type\":\"map\",\"entries\":[[\"x\",{\"type\":\"ndarray\",\"array\":{\"type\":\"bytes\",\"data\":\"AgAAAAMAAAAEAAAABQAAAAYAAAAHAAAACAAAAAkAAAAKAAAA\"},\"shape\":[9],\"dtype\":\"int32\",\"order\":\"little\"}],[\"y\",{\"type\":\"ndarray\",\"array\":{\"type\":\"bytes\",\"data\":\"AJnvFfFOhT9TucYOE9OCP4T9zllboYA/AJ78QUdifT/FNhjmj/V5P4ACuTIR73Y/6hPF6t5CdD+A4obvcOZxPwDmVWXzoG8/\"},\"shape\":[9],\"dtype\":\"float64\",\"order\":\"little\"}]]}}},\"view\":{\"type\":\"object\",\"name\":\"CDSView\",\"id\":\"p25380\",\"attributes\":{\"filter\":{\"type\":\"object\",\"name\":\"AllIndices\",\"id\":\"p25381\"}}},\"glyph\":{\"type\":\"object\",\"name\":\"Line\",\"id\":\"p25376\",\"attributes\":{\"tags\":[\"apply_ranges\"],\"x\":{\"type\":\"field\",\"field\":\"x\"},\"y\":{\"type\":\"field\",\"field\":\"y\"},\"line_color\":\"#17becf\",\"line_width\":2}},\"selection_glyph\":{\"type\":\"object\",\"name\":\"Line\",\"id\":\"p25383\",\"attributes\":{\"tags\":[\"apply_ranges\"],\"x\":{\"type\":\"field\",\"field\":\"x\"},\"y\":{\"type\":\"field\",\"field\":\"y\"},\"line_color\":\"#17becf\",\"line_width\":2}},\"nonselection_glyph\":{\"type\":\"object\",\"name\":\"Line\",\"id\":\"p25377\",\"attributes\":{\"tags\":[\"apply_ranges\"],\"x\":{\"type\":\"field\",\"field\":\"x\"},\"y\":{\"type\":\"field\",\"field\":\"y\"},\"line_color\":\"#17becf\",\"line_alpha\":0.1,\"line_width\":2}},\"muted_glyph\":{\"type\":\"object\",\"name\":\"Line\",\"id\":\"p25378\",\"attributes\":{\"tags\":[\"apply_ranges\"],\"x\":{\"type\":\"field\",\"field\":\"x\"},\"y\":{\"type\":\"field\",\"field\":\"y\"},\"line_color\":\"#17becf\",\"line_alpha\":0.2,\"line_width\":2}}}},{\"type\":\"object\",\"name\":\"GlyphRenderer\",\"id\":\"p25394\",\"attributes\":{\"data_source\":{\"type\":\"object\",\"name\":\"ColumnDataSource\",\"id\":\"p25384\",\"attributes\":{\"selected\":{\"type\":\"object\",\"name\":\"Selection\",\"id\":\"p25385\",\"attributes\":{\"indices\":[],\"line_indices\":[]}},\"selection_policy\":{\"type\":\"object\",\"name\":\"UnionRenderers\",\"id\":\"p25386\"},\"data\":{\"type\":\"map\",\"entries\":[[\"x\",{\"type\":\"ndarray\",\"array\":{\"type\":\"bytes\",\"data\":\"AgAAAAMAAAAEAAAABQAAAAYAAAAHAAAACAAAAAkAAAAKAAAA\"},\"shape\":[9],\"dtype\":\"int32\",\"order\":\"little\"}],[\"y\",{\"type\":\"ndarray\",\"array\":{\"type\":\"bytes\",\"data\":\"AJnvFfFOhT9TucYOE9OCP4T9zllboYA/AJ78QUdifT/FNhjmj/V5P4ACuTIR73Y/6hPF6t5CdD+A4obvcOZxPwDmVWXzoG8/\"},\"shape\":[9],\"dtype\":\"float64\",\"order\":\"little\"}]]}}},\"view\":{\"type\":\"object\",\"name\":\"CDSView\",\"id\":\"p25395\",\"attributes\":{\"filter\":{\"type\":\"object\",\"name\":\"AllIndices\",\"id\":\"p25396\"}}},\"glyph\":{\"type\":\"object\",\"name\":\"Scatter\",\"id\":\"p25391\",\"attributes\":{\"tags\":[\"apply_ranges\"],\"x\":{\"type\":\"field\",\"field\":\"x\"},\"y\":{\"type\":\"field\",\"field\":\"y\"},\"size\":{\"type\":\"value\",\"value\":5},\"line_color\":{\"type\":\"value\",\"value\":\"#17becf\"},\"fill_color\":{\"type\":\"value\",\"value\":\"#17becf\"},\"hatch_color\":{\"type\":\"value\",\"value\":\"#17becf\"}}},\"selection_glyph\":{\"type\":\"object\",\"name\":\"Scatter\",\"id\":\"p25397\",\"attributes\":{\"tags\":[\"apply_ranges\"],\"x\":{\"type\":\"field\",\"field\":\"x\"},\"y\":{\"type\":\"field\",\"field\":\"y\"},\"size\":{\"type\":\"value\",\"value\":5},\"angle\":{\"type\":\"value\",\"value\":0.0},\"line_color\":{\"type\":\"value\",\"value\":\"#17becf\"},\"line_alpha\":{\"type\":\"value\",\"value\":1.0},\"line_width\":{\"type\":\"value\",\"value\":1},\"line_join\":{\"type\":\"value\",\"value\":\"bevel\"},\"line_cap\":{\"type\":\"value\",\"value\":\"butt\"},\"line_dash\":{\"type\":\"value\",\"value\":[]},\"line_dash_offset\":{\"type\":\"value\",\"value\":0},\"fill_color\":{\"type\":\"value\",\"value\":\"#17becf\"},\"fill_alpha\":{\"type\":\"value\",\"value\":1.0},\"hatch_color\":{\"type\":\"value\",\"value\":\"#17becf\"},\"hatch_alpha\":{\"type\":\"value\",\"value\":1.0},\"hatch_scale\":{\"type\":\"value\",\"value\":12.0},\"hatch_pattern\":{\"type\":\"value\",\"value\":null},\"hatch_weight\":{\"type\":\"value\",\"value\":1.0},\"marker\":{\"type\":\"value\",\"value\":\"circle\"}}},\"nonselection_glyph\":{\"type\":\"object\",\"name\":\"Scatter\",\"id\":\"p25392\",\"attributes\":{\"tags\":[\"apply_ranges\"],\"x\":{\"type\":\"field\",\"field\":\"x\"},\"y\":{\"type\":\"field\",\"field\":\"y\"},\"size\":{\"type\":\"value\",\"value\":5},\"line_color\":{\"type\":\"value\",\"value\":\"#17becf\"},\"line_alpha\":{\"type\":\"value\",\"value\":0.1},\"fill_color\":{\"type\":\"value\",\"value\":\"#17becf\"},\"fill_alpha\":{\"type\":\"value\",\"value\":0.1},\"hatch_color\":{\"type\":\"value\",\"value\":\"#17becf\"},\"hatch_alpha\":{\"type\":\"value\",\"value\":0.1}}},\"muted_glyph\":{\"type\":\"object\",\"name\":\"Scatter\",\"id\":\"p25393\",\"attributes\":{\"tags\":[\"apply_ranges\"],\"x\":{\"type\":\"field\",\"field\":\"x\"},\"y\":{\"type\":\"field\",\"field\":\"y\"},\"size\":{\"type\":\"value\",\"value\":5},\"line_color\":{\"type\":\"value\",\"value\":\"#17becf\"},\"line_alpha\":{\"type\":\"value\",\"value\":0.2},\"fill_color\":{\"type\":\"value\",\"value\":\"#17becf\"},\"fill_alpha\":{\"type\":\"value\",\"value\":0.2},\"hatch_color\":{\"type\":\"value\",\"value\":\"#17becf\"},\"hatch_alpha\":{\"type\":\"value\",\"value\":0.2}}}}},{\"type\":\"object\",\"name\":\"GlyphRenderer\",\"id\":\"p25408\",\"attributes\":{\"data_source\":{\"type\":\"object\",\"name\":\"ColumnDataSource\",\"id\":\"p25398\",\"attributes\":{\"selected\":{\"type\":\"object\",\"name\":\"Selection\",\"id\":\"p25399\",\"attributes\":{\"indices\":[],\"line_indices\":[]}},\"selection_policy\":{\"type\":\"object\",\"name\":\"UnionRenderers\",\"id\":\"p25400\"},\"data\":{\"type\":\"map\",\"entries\":[[\"x\",{\"type\":\"ndarray\",\"array\":{\"type\":\"bytes\",\"data\":\"AgAAAAMAAAAEAAAABQAAAAYAAAAHAAAACAAAAAkAAAAKAAAA\"},\"shape\":[9],\"dtype\":\"int32\",\"order\":\"little\"}],[\"y\",{\"type\":\"ndarray\",\"array\":{\"type\":\"bytes\",\"data\":\"gN9AeL6XhD9An2pKUSyCP4BaUS78CYA/ABfmC/1PfD+AV1ynZP14P1roEWzEDnY/49yGrFB4cz8Aq2rRpi9xPwAq3SNAV24/\"},\"shape\":[9],\"dtype\":\"float64\",\"order\":\"little\"}]]}}},\"view\":{\"type\":\"object\",\"name\":\"CDSView\",\"id\":\"p25409\",\"attributes\":{\"filter\":{\"type\":\"object\",\"name\":\"AllIndices\",\"id\":\"p25410\"}}},\"glyph\":{\"type\":\"object\",\"name\":\"Line\",\"id\":\"p25405\",\"attributes\":{\"tags\":[\"apply_ranges\"],\"x\":{\"type\":\"field\",\"field\":\"x\"},\"y\":{\"type\":\"field\",\"field\":\"y\"},\"line_color\":\"#9467bd\",\"line_width\":2}},\"selection_glyph\":{\"type\":\"object\",\"name\":\"Line\",\"id\":\"p25412\",\"attributes\":{\"tags\":[\"apply_ranges\"],\"x\":{\"type\":\"field\",\"field\":\"x\"},\"y\":{\"type\":\"field\",\"field\":\"y\"},\"line_color\":\"#9467bd\",\"line_width\":2}},\"nonselection_glyph\":{\"type\":\"object\",\"name\":\"Line\",\"id\":\"p25406\",\"attributes\":{\"tags\":[\"apply_ranges\"],\"x\":{\"type\":\"field\",\"field\":\"x\"},\"y\":{\"type\":\"field\",\"field\":\"y\"},\"line_color\":\"#9467bd\",\"line_alpha\":0.1,\"line_width\":2}},\"muted_glyph\":{\"type\":\"object\",\"name\":\"Line\",\"id\":\"p25407\",\"attributes\":{\"tags\":[\"apply_ranges\"],\"x\":{\"type\":\"field\",\"field\":\"x\"},\"y\":{\"type\":\"field\",\"field\":\"y\"},\"line_color\":\"#9467bd\",\"line_alpha\":0.2,\"line_width\":2}}}},{\"type\":\"object\",\"name\":\"GlyphRenderer\",\"id\":\"p25423\",\"attributes\":{\"data_source\":{\"type\":\"object\",\"name\":\"ColumnDataSource\",\"id\":\"p25413\",\"attributes\":{\"selected\":{\"type\":\"object\",\"name\":\"Selection\",\"id\":\"p25414\",\"attributes\":{\"indices\":[],\"line_indices\":[]}},\"selection_policy\":{\"type\":\"object\",\"name\":\"UnionRenderers\",\"id\":\"p25415\"},\"data\":{\"type\":\"map\",\"entries\":[[\"x\",{\"type\":\"ndarray\",\"array\":{\"type\":\"bytes\",\"data\":\"AgAAAAMAAAAEAAAABQAAAAYAAAAHAAAACAAAAAkAAAAKAAAA\"},\"shape\":[9],\"dtype\":\"int32\",\"order\":\"little\"}],[\"y\",{\"type\":\"ndarray\",\"array\":{\"type\":\"bytes\",\"data\":\"gN9AeL6XhD9An2pKUSyCP4BaUS78CYA/ABfmC/1PfD+AV1ynZP14P1roEWzEDnY/49yGrFB4cz8Aq2rRpi9xPwAq3SNAV24/\"},\"shape\":[9],\"dtype\":\"float64\",\"order\":\"little\"}]]}}},\"view\":{\"type\":\"object\",\"name\":\"CDSView\",\"id\":\"p25424\",\"attributes\":{\"filter\":{\"type\":\"object\",\"name\":\"AllIndices\",\"id\":\"p25425\"}}},\"glyph\":{\"type\":\"object\",\"name\":\"Scatter\",\"id\":\"p25420\",\"attributes\":{\"tags\":[\"apply_ranges\"],\"x\":{\"type\":\"field\",\"field\":\"x\"},\"y\":{\"type\":\"field\",\"field\":\"y\"},\"size\":{\"type\":\"value\",\"value\":5},\"line_color\":{\"type\":\"value\",\"value\":\"#9467bd\"},\"fill_color\":{\"type\":\"value\",\"value\":\"#9467bd\"},\"hatch_color\":{\"type\":\"value\",\"value\":\"#9467bd\"}}},\"selection_glyph\":{\"type\":\"object\",\"name\":\"Scatter\",\"id\":\"p25426\",\"attributes\":{\"tags\":[\"apply_ranges\"],\"x\":{\"type\":\"field\",\"field\":\"x\"},\"y\":{\"type\":\"field\",\"field\":\"y\"},\"size\":{\"type\":\"value\",\"value\":5},\"angle\":{\"type\":\"value\",\"value\":0.0},\"line_color\":{\"type\":\"value\",\"value\":\"#9467bd\"},\"line_alpha\":{\"type\":\"value\",\"value\":1.0},\"line_width\":{\"type\":\"value\",\"value\":1},\"line_join\":{\"type\":\"value\",\"value\":\"bevel\"},\"line_cap\":{\"type\":\"value\",\"value\":\"butt\"},\"line_dash\":{\"type\":\"value\",\"value\":[]},\"line_dash_offset\":{\"type\":\"value\",\"value\":0},\"fill_color\":{\"type\":\"value\",\"value\":\"#9467bd\"},\"fill_alpha\":{\"type\":\"value\",\"value\":1.0},\"hatch_color\":{\"type\":\"value\",\"value\":\"#9467bd\"},\"hatch_alpha\":{\"type\":\"value\",\"value\":1.0},\"hatch_scale\":{\"type\":\"value\",\"value\":12.0},\"hatch_pattern\":{\"type\":\"value\",\"value\":null},\"hatch_weight\":{\"type\":\"value\",\"value\":1.0},\"marker\":{\"type\":\"value\",\"value\":\"circle\"}}},\"nonselection_glyph\":{\"type\":\"object\",\"name\":\"Scatter\",\"id\":\"p25421\",\"attributes\":{\"tags\":[\"apply_ranges\"],\"x\":{\"type\":\"field\",\"field\":\"x\"},\"y\":{\"type\":\"field\",\"field\":\"y\"},\"size\":{\"type\":\"value\",\"value\":5},\"line_color\":{\"type\":\"value\",\"value\":\"#9467bd\"},\"line_alpha\":{\"type\":\"value\",\"value\":0.1},\"fill_color\":{\"type\":\"value\",\"value\":\"#9467bd\"},\"fill_alpha\":{\"type\":\"value\",\"value\":0.1},\"hatch_color\":{\"type\":\"value\",\"value\":\"#9467bd\"},\"hatch_alpha\":{\"type\":\"value\",\"value\":0.1}}},\"muted_glyph\":{\"type\":\"object\",\"name\":\"Scatter\",\"id\":\"p25422\",\"attributes\":{\"tags\":[\"apply_ranges\"],\"x\":{\"type\":\"field\",\"field\":\"x\"},\"y\":{\"type\":\"field\",\"field\":\"y\"},\"size\":{\"type\":\"value\",\"value\":5},\"line_color\":{\"type\":\"value\",\"value\":\"#9467bd\"},\"line_alpha\":{\"type\":\"value\",\"value\":0.2},\"fill_color\":{\"type\":\"value\",\"value\":\"#9467bd\"},\"fill_alpha\":{\"type\":\"value\",\"value\":0.2},\"hatch_color\":{\"type\":\"value\",\"value\":\"#9467bd\"},\"hatch_alpha\":{\"type\":\"value\",\"value\":0.2}}}}},{\"type\":\"object\",\"name\":\"GlyphRenderer\",\"id\":\"p25437\",\"attributes\":{\"data_source\":{\"type\":\"object\",\"name\":\"ColumnDataSource\",\"id\":\"p25427\",\"attributes\":{\"selected\":{\"type\":\"object\",\"name\":\"Selection\",\"id\":\"p25428\",\"attributes\":{\"indices\":[],\"line_indices\":[]}},\"selection_policy\":{\"type\":\"object\",\"name\":\"UnionRenderers\",\"id\":\"p25429\"},\"data\":{\"type\":\"map\",\"entries\":[[\"x\",{\"type\":\"ndarray\",\"array\":{\"type\":\"bytes\",\"data\":\"AgAAAAMAAAAEAAAABQAAAAYAAAAHAAAACAAAAAkAAAAKAAAA\"},\"shape\":[9],\"dtype\":\"int32\",\"order\":\"little\"}],[\"y\",{\"type\":\"ndarray\",\"array\":{\"type\":\"bytes\",\"data\":\"KCxbKqL8gz8AgMZ+6KOBP4A75HxLJX8/AHTfeot/ez/cxM5Cbkd4PwBxF1zrb3U/E+bCOKDtcj+A0d8pi7ZwPwCg4KO1g20/\"},\"shape\":[9],\"dtype\":\"float64\",\"order\":\"little\"}]]}}},\"view\":{\"type\":\"object\",\"name\":\"CDSView\",\"id\":\"p25438\",\"attributes\":{\"filter\":{\"type\":\"object\",\"name\":\"AllIndices\",\"id\":\"p25439\"}}},\"glyph\":{\"type\":\"object\",\"name\":\"Line\",\"id\":\"p25434\",\"attributes\":{\"tags\":[\"apply_ranges\"],\"x\":{\"type\":\"field\",\"field\":\"x\"},\"y\":{\"type\":\"field\",\"field\":\"y\"},\"line_color\":\"#d62728\",\"line_width\":2}},\"selection_glyph\":{\"type\":\"object\",\"name\":\"Line\",\"id\":\"p25441\",\"attributes\":{\"tags\":[\"apply_ranges\"],\"x\":{\"type\":\"field\",\"field\":\"x\"},\"y\":{\"type\":\"field\",\"field\":\"y\"},\"line_color\":\"#d62728\",\"line_width\":2}},\"nonselection_glyph\":{\"type\":\"object\",\"name\":\"Line\",\"id\":\"p25435\",\"attributes\":{\"tags\":[\"apply_ranges\"],\"x\":{\"type\":\"field\",\"field\":\"x\"},\"y\":{\"type\":\"field\",\"field\":\"y\"},\"line_color\":\"#d62728\",\"line_alpha\":0.1,\"line_width\":2}},\"muted_glyph\":{\"type\":\"object\",\"name\":\"Line\",\"id\":\"p25436\",\"attributes\":{\"tags\":[\"apply_ranges\"],\"x\":{\"type\":\"field\",\"field\":\"x\"},\"y\":{\"type\":\"field\",\"field\":\"y\"},\"line_color\":\"#d62728\",\"line_alpha\":0.2,\"line_width\":2}}}},{\"type\":\"object\",\"name\":\"GlyphRenderer\",\"id\":\"p25452\",\"attributes\":{\"data_source\":{\"type\":\"object\",\"name\":\"ColumnDataSource\",\"id\":\"p25442\",\"attributes\":{\"selected\":{\"type\":\"object\",\"name\":\"Selection\",\"id\":\"p25443\",\"attributes\":{\"indices\":[],\"line_indices\":[]}},\"selection_policy\":{\"type\":\"object\",\"name\":\"UnionRenderers\",\"id\":\"p25444\"},\"data\":{\"type\":\"map\",\"entries\":[[\"x\",{\"type\":\"ndarray\",\"array\":{\"type\":\"bytes\",\"data\":\"AgAAAAMAAAAEAAAABQAAAAYAAAAHAAAACAAAAAkAAAAKAAAA\"},\"shape\":[9],\"dtype\":\"int32\",\"order\":\"little\"}],[\"y\",{\"type\":\"ndarray\",\"array\":{\"type\":\"bytes\",\"data\":\"KCxbKqL8gz8AgMZ+6KOBP4A75HxLJX8/AHTfeot/ez/cxM5Cbkd4PwBxF1zrb3U/E+bCOKDtcj+A0d8pi7ZwPwCg4KO1g20/\"},\"shape\":[9],\"dtype\":\"float64\",\"order\":\"little\"}]]}}},\"view\":{\"type\":\"object\",\"name\":\"CDSView\",\"id\":\"p25453\",\"attributes\":{\"filter\":{\"type\":\"object\",\"name\":\"AllIndices\",\"id\":\"p25454\"}}},\"glyph\":{\"type\":\"object\",\"name\":\"Scatter\",\"id\":\"p25449\",\"attributes\":{\"tags\":[\"apply_ranges\"],\"x\":{\"type\":\"field\",\"field\":\"x\"},\"y\":{\"type\":\"field\",\"field\":\"y\"},\"size\":{\"type\":\"value\",\"value\":5},\"line_color\":{\"type\":\"value\",\"value\":\"#d62728\"},\"fill_color\":{\"type\":\"value\",\"value\":\"#d62728\"},\"hatch_color\":{\"type\":\"value\",\"value\":\"#d62728\"}}},\"selection_glyph\":{\"type\":\"object\",\"name\":\"Scatter\",\"id\":\"p25455\",\"attributes\":{\"tags\":[\"apply_ranges\"],\"x\":{\"type\":\"field\",\"field\":\"x\"},\"y\":{\"type\":\"field\",\"field\":\"y\"},\"size\":{\"type\":\"value\",\"value\":5},\"angle\":{\"type\":\"value\",\"value\":0.0},\"line_color\":{\"type\":\"value\",\"value\":\"#d62728\"},\"line_alpha\":{\"type\":\"value\",\"value\":1.0},\"line_width\":{\"type\":\"value\",\"value\":1},\"line_join\":{\"type\":\"value\",\"value\":\"bevel\"},\"line_cap\":{\"type\":\"value\",\"value\":\"butt\"},\"line_dash\":{\"type\":\"value\",\"value\":[]},\"line_dash_offset\":{\"type\":\"value\",\"value\":0},\"fill_color\":{\"type\":\"value\",\"value\":\"#d62728\"},\"fill_alpha\":{\"type\":\"value\",\"value\":1.0},\"hatch_color\":{\"type\":\"value\",\"value\":\"#d62728\"},\"hatch_alpha\":{\"type\":\"value\",\"value\":1.0},\"hatch_scale\":{\"type\":\"value\",\"value\":12.0},\"hatch_pattern\":{\"type\":\"value\",\"value\":null},\"hatch_weight\":{\"type\":\"value\",\"value\":1.0},\"marker\":{\"type\":\"value\",\"value\":\"circle\"}}},\"nonselection_glyph\":{\"type\":\"object\",\"name\":\"Scatter\",\"id\":\"p25450\",\"attributes\":{\"tags\":[\"apply_ranges\"],\"x\":{\"type\":\"field\",\"field\":\"x\"},\"y\":{\"type\":\"field\",\"field\":\"y\"},\"size\":{\"type\":\"value\",\"value\":5},\"line_color\":{\"type\":\"value\",\"value\":\"#d62728\"},\"line_alpha\":{\"type\":\"value\",\"value\":0.1},\"fill_color\":{\"type\":\"value\",\"value\":\"#d62728\"},\"fill_alpha\":{\"type\":\"value\",\"value\":0.1},\"hatch_color\":{\"type\":\"value\",\"value\":\"#d62728\"},\"hatch_alpha\":{\"type\":\"value\",\"value\":0.1}}},\"muted_glyph\":{\"type\":\"object\",\"name\":\"Scatter\",\"id\":\"p25451\",\"attributes\":{\"tags\":[\"apply_ranges\"],\"x\":{\"type\":\"field\",\"field\":\"x\"},\"y\":{\"type\":\"field\",\"field\":\"y\"},\"size\":{\"type\":\"value\",\"value\":5},\"line_color\":{\"type\":\"value\",\"value\":\"#d62728\"},\"line_alpha\":{\"type\":\"value\",\"value\":0.2},\"fill_color\":{\"type\":\"value\",\"value\":\"#d62728\"},\"fill_alpha\":{\"type\":\"value\",\"value\":0.2},\"hatch_color\":{\"type\":\"value\",\"value\":\"#d62728\"},\"hatch_alpha\":{\"type\":\"value\",\"value\":0.2}}}}},{\"type\":\"object\",\"name\":\"GlyphRenderer\",\"id\":\"p25466\",\"attributes\":{\"data_source\":{\"type\":\"object\",\"name\":\"ColumnDataSource\",\"id\":\"p25456\",\"attributes\":{\"selected\":{\"type\":\"object\",\"name\":\"Selection\",\"id\":\"p25457\",\"attributes\":{\"indices\":[],\"line_indices\":[]}},\"selection_policy\":{\"type\":\"object\",\"name\":\"UnionRenderers\",\"id\":\"p25458\"},\"data\":{\"type\":\"map\",\"entries\":[[\"x\",{\"type\":\"ndarray\",\"array\":{\"type\":\"bytes\",\"data\":\"AgAAAAMAAAAEAAAABQAAAAYAAAAHAAAACAAAAAkAAAAKAAAA\"},\"shape\":[9],\"dtype\":\"int32\",\"order\":\"little\"}],[\"y\",{\"type\":\"ndarray\",\"array\":{\"type\":\"bytes\",\"data\":\"5BwZS2aJgz8AY97adjmBP4DHym5FX34/ALxTRjXHej+TbkF2F5x3P4DAsP0C0XQ/4ExB1JZacj+AL9Bfyy5wPygRqu2SiWw/\"},\"shape\":[9],\"dtype\":\"float64\",\"order\":\"little\"}]]}}},\"view\":{\"type\":\"object\",\"name\":\"CDSView\",\"id\":\"p25467\",\"attributes\":{\"filter\":{\"type\":\"object\",\"name\":\"AllIndices\",\"id\":\"p25468\"}}},\"glyph\":{\"type\":\"object\",\"name\":\"Line\",\"id\":\"p25463\",\"attributes\":{\"tags\":[\"apply_ranges\"],\"x\":{\"type\":\"field\",\"field\":\"x\"},\"y\":{\"type\":\"field\",\"field\":\"y\"},\"line_color\":\"#1f77b4\",\"line_width\":2}},\"selection_glyph\":{\"type\":\"object\",\"name\":\"Line\",\"id\":\"p25470\",\"attributes\":{\"tags\":[\"apply_ranges\"],\"x\":{\"type\":\"field\",\"field\":\"x\"},\"y\":{\"type\":\"field\",\"field\":\"y\"},\"line_color\":\"#1f77b4\",\"line_width\":2}},\"nonselection_glyph\":{\"type\":\"object\",\"name\":\"Line\",\"id\":\"p25464\",\"attributes\":{\"tags\":[\"apply_ranges\"],\"x\":{\"type\":\"field\",\"field\":\"x\"},\"y\":{\"type\":\"field\",\"field\":\"y\"},\"line_color\":\"#1f77b4\",\"line_alpha\":0.1,\"line_width\":2}},\"muted_glyph\":{\"type\":\"object\",\"name\":\"Line\",\"id\":\"p25465\",\"attributes\":{\"tags\":[\"apply_ranges\"],\"x\":{\"type\":\"field\",\"field\":\"x\"},\"y\":{\"type\":\"field\",\"field\":\"y\"},\"line_color\":\"#1f77b4\",\"line_alpha\":0.2,\"line_width\":2}}}},{\"type\":\"object\",\"name\":\"GlyphRenderer\",\"id\":\"p25481\",\"attributes\":{\"data_source\":{\"type\":\"object\",\"name\":\"ColumnDataSource\",\"id\":\"p25471\",\"attributes\":{\"selected\":{\"type\":\"object\",\"name\":\"Selection\",\"id\":\"p25472\",\"attributes\":{\"indices\":[],\"line_indices\":[]}},\"selection_policy\":{\"type\":\"object\",\"name\":\"UnionRenderers\",\"id\":\"p25473\"},\"data\":{\"type\":\"map\",\"entries\":[[\"x\",{\"type\":\"ndarray\",\"array\":{\"type\":\"bytes\",\"data\":\"AgAAAAMAAAAEAAAABQAAAAYAAAAHAAAACAAAAAkAAAAKAAAA\"},\"shape\":[9],\"dtype\":\"int32\",\"order\":\"little\"}],[\"y\",{\"type\":\"ndarray\",\"array\":{\"type\":\"bytes\",\"data\":\"5BwZS2aJgz8AY97adjmBP4DHym5FX34/ALxTRjXHej+TbkF2F5x3P4DAsP0C0XQ/4ExB1JZacj+AL9Bfyy5wPygRqu2SiWw/\"},\"shape\":[9],\"dtype\":\"float64\",\"order\":\"little\"}]]}}},\"view\":{\"type\":\"object\",\"name\":\"CDSView\",\"id\":\"p25482\",\"attributes\":{\"filter\":{\"type\":\"object\",\"name\":\"AllIndices\",\"id\":\"p25483\"}}},\"glyph\":{\"type\":\"object\",\"name\":\"Scatter\",\"id\":\"p25478\",\"attributes\":{\"tags\":[\"apply_ranges\"],\"x\":{\"type\":\"field\",\"field\":\"x\"},\"y\":{\"type\":\"field\",\"field\":\"y\"},\"size\":{\"type\":\"value\",\"value\":5},\"line_color\":{\"type\":\"value\",\"value\":\"#1f77b4\"},\"fill_color\":{\"type\":\"value\",\"value\":\"#1f77b4\"},\"hatch_color\":{\"type\":\"value\",\"value\":\"#1f77b4\"}}},\"selection_glyph\":{\"type\":\"object\",\"name\":\"Scatter\",\"id\":\"p25484\",\"attributes\":{\"tags\":[\"apply_ranges\"],\"x\":{\"type\":\"field\",\"field\":\"x\"},\"y\":{\"type\":\"field\",\"field\":\"y\"},\"size\":{\"type\":\"value\",\"value\":5},\"angle\":{\"type\":\"value\",\"value\":0.0},\"line_color\":{\"type\":\"value\",\"value\":\"#1f77b4\"},\"line_alpha\":{\"type\":\"value\",\"value\":1.0},\"line_width\":{\"type\":\"value\",\"value\":1},\"line_join\":{\"type\":\"value\",\"value\":\"bevel\"},\"line_cap\":{\"type\":\"value\",\"value\":\"butt\"},\"line_dash\":{\"type\":\"value\",\"value\":[]},\"line_dash_offset\":{\"type\":\"value\",\"value\":0},\"fill_color\":{\"type\":\"value\",\"value\":\"#1f77b4\"},\"fill_alpha\":{\"type\":\"value\",\"value\":1.0},\"hatch_color\":{\"type\":\"value\",\"value\":\"#1f77b4\"},\"hatch_alpha\":{\"type\":\"value\",\"value\":1.0},\"hatch_scale\":{\"type\":\"value\",\"value\":12.0},\"hatch_pattern\":{\"type\":\"value\",\"value\":null},\"hatch_weight\":{\"type\":\"value\",\"value\":1.0},\"marker\":{\"type\":\"value\",\"value\":\"circle\"}}},\"nonselection_glyph\":{\"type\":\"object\",\"name\":\"Scatter\",\"id\":\"p25479\",\"attributes\":{\"tags\":[\"apply_ranges\"],\"x\":{\"type\":\"field\",\"field\":\"x\"},\"y\":{\"type\":\"field\",\"field\":\"y\"},\"size\":{\"type\":\"value\",\"value\":5},\"line_color\":{\"type\":\"value\",\"value\":\"#1f77b4\"},\"line_alpha\":{\"type\":\"value\",\"value\":0.1},\"fill_color\":{\"type\":\"value\",\"value\":\"#1f77b4\"},\"fill_alpha\":{\"type\":\"value\",\"value\":0.1},\"hatch_color\":{\"type\":\"value\",\"value\":\"#1f77b4\"},\"hatch_alpha\":{\"type\":\"value\",\"value\":0.1}}},\"muted_glyph\":{\"type\":\"object\",\"name\":\"Scatter\",\"id\":\"p25480\",\"attributes\":{\"tags\":[\"apply_ranges\"],\"x\":{\"type\":\"field\",\"field\":\"x\"},\"y\":{\"type\":\"field\",\"field\":\"y\"},\"size\":{\"type\":\"value\",\"value\":5},\"line_color\":{\"type\":\"value\",\"value\":\"#1f77b4\"},\"line_alpha\":{\"type\":\"value\",\"value\":0.2},\"fill_color\":{\"type\":\"value\",\"value\":\"#1f77b4\"},\"fill_alpha\":{\"type\":\"value\",\"value\":0.2},\"hatch_color\":{\"type\":\"value\",\"value\":\"#1f77b4\"},\"hatch_alpha\":{\"type\":\"value\",\"value\":0.2}}}}},{\"type\":\"object\",\"name\":\"GlyphRenderer\",\"id\":\"p25495\",\"attributes\":{\"data_source\":{\"type\":\"object\",\"name\":\"ColumnDataSource\",\"id\":\"p25485\",\"attributes\":{\"selected\":{\"type\":\"object\",\"name\":\"Selection\",\"id\":\"p25486\",\"attributes\":{\"indices\":[],\"line_indices\":[]}},\"selection_policy\":{\"type\":\"object\",\"name\":\"UnionRenderers\",\"id\":\"p25487\"},\"data\":{\"type\":\"map\",\"entries\":[[\"x\",{\"type\":\"ndarray\",\"array\":{\"type\":\"bytes\",\"data\":\"AgAAAAMAAAAEAAAABQAAAAYAAAAHAAAACAAAAAkAAAAKAAAA\"},\"shape\":[9],\"dtype\":\"int32\",\"order\":\"little\"}],[\"y\",{\"type\":\"ndarray\",\"array\":{\"type\":\"bytes\",\"data\":\"wHNqKSwfgz8AlxL3LeOAP39XumYY1H0/gGZY2OpXej+AKOuVBER3P4CUuV80jHQ/AFAlBbYlcj8A2MSuBwdwP4wztlCIT2w/\"},\"shape\":[9],\"dtype\":\"float64\",\"order\":\"little\"}]]}}},\"view\":{\"type\":\"object\",\"name\":\"CDSView\",\"id\":\"p25496\",\"attributes\":{\"filter\":{\"type\":\"object\",\"name\":\"AllIndices\",\"id\":\"p25497\"}}},\"glyph\":{\"type\":\"object\",\"name\":\"Line\",\"id\":\"p25492\",\"attributes\":{\"tags\":[\"apply_ranges\"],\"x\":{\"type\":\"field\",\"field\":\"x\"},\"y\":{\"type\":\"field\",\"field\":\"y\"},\"line_color\":\"#e377c2\",\"line_width\":2}},\"selection_glyph\":{\"type\":\"object\",\"name\":\"Line\",\"id\":\"p25499\",\"attributes\":{\"tags\":[\"apply_ranges\"],\"x\":{\"type\":\"field\",\"field\":\"x\"},\"y\":{\"type\":\"field\",\"field\":\"y\"},\"line_color\":\"#e377c2\",\"line_width\":2}},\"nonselection_glyph\":{\"type\":\"object\",\"name\":\"Line\",\"id\":\"p25493\",\"attributes\":{\"tags\":[\"apply_ranges\"],\"x\":{\"type\":\"field\",\"field\":\"x\"},\"y\":{\"type\":\"field\",\"field\":\"y\"},\"line_color\":\"#e377c2\",\"line_alpha\":0.1,\"line_width\":2}},\"muted_glyph\":{\"type\":\"object\",\"name\":\"Line\",\"id\":\"p25494\",\"attributes\":{\"tags\":[\"apply_ranges\"],\"x\":{\"type\":\"field\",\"field\":\"x\"},\"y\":{\"type\":\"field\",\"field\":\"y\"},\"line_color\":\"#e377c2\",\"line_alpha\":0.2,\"line_width\":2}}}},{\"type\":\"object\",\"name\":\"GlyphRenderer\",\"id\":\"p25510\",\"attributes\":{\"data_source\":{\"type\":\"object\",\"name\":\"ColumnDataSource\",\"id\":\"p25500\",\"attributes\":{\"selected\":{\"type\":\"object\",\"name\":\"Selection\",\"id\":\"p25501\",\"attributes\":{\"indices\":[],\"line_indices\":[]}},\"selection_policy\":{\"type\":\"object\",\"name\":\"UnionRenderers\",\"id\":\"p25502\"},\"data\":{\"type\":\"map\",\"entries\":[[\"x\",{\"type\":\"ndarray\",\"array\":{\"type\":\"bytes\",\"data\":\"AgAAAAMAAAAEAAAABQAAAAYAAAAHAAAACAAAAAkAAAAKAAAA\"},\"shape\":[9],\"dtype\":\"int32\",\"order\":\"little\"}],[\"y\",{\"type\":\"ndarray\",\"array\":{\"type\":\"bytes\",\"data\":\"wHNqKSwfgz8AlxL3LeOAP39XumYY1H0/gGZY2OpXej+AKOuVBER3P4CUuV80jHQ/AFAlBbYlcj8A2MSuBwdwP4wztlCIT2w/\"},\"shape\":[9],\"dtype\":\"float64\",\"order\":\"little\"}]]}}},\"view\":{\"type\":\"object\",\"name\":\"CDSView\",\"id\":\"p25511\",\"attributes\":{\"filter\":{\"type\":\"object\",\"name\":\"AllIndices\",\"id\":\"p25512\"}}},\"glyph\":{\"type\":\"object\",\"name\":\"Scatter\",\"id\":\"p25507\",\"attributes\":{\"tags\":[\"apply_ranges\"],\"x\":{\"type\":\"field\",\"field\":\"x\"},\"y\":{\"type\":\"field\",\"field\":\"y\"},\"size\":{\"type\":\"value\",\"value\":5},\"line_color\":{\"type\":\"value\",\"value\":\"#e377c2\"},\"fill_color\":{\"type\":\"value\",\"value\":\"#e377c2\"},\"hatch_color\":{\"type\":\"value\",\"value\":\"#e377c2\"}}},\"selection_glyph\":{\"type\":\"object\",\"name\":\"Scatter\",\"id\":\"p25513\",\"attributes\":{\"tags\":[\"apply_ranges\"],\"x\":{\"type\":\"field\",\"field\":\"x\"},\"y\":{\"type\":\"field\",\"field\":\"y\"},\"size\":{\"type\":\"value\",\"value\":5},\"angle\":{\"type\":\"value\",\"value\":0.0},\"line_color\":{\"type\":\"value\",\"value\":\"#e377c2\"},\"line_alpha\":{\"type\":\"value\",\"value\":1.0},\"line_width\":{\"type\":\"value\",\"value\":1},\"line_join\":{\"type\":\"value\",\"value\":\"bevel\"},\"line_cap\":{\"type\":\"value\",\"value\":\"butt\"},\"line_dash\":{\"type\":\"value\",\"value\":[]},\"line_dash_offset\":{\"type\":\"value\",\"value\":0},\"fill_color\":{\"type\":\"value\",\"value\":\"#e377c2\"},\"fill_alpha\":{\"type\":\"value\",\"value\":1.0},\"hatch_color\":{\"type\":\"value\",\"value\":\"#e377c2\"},\"hatch_alpha\":{\"type\":\"value\",\"value\":1.0},\"hatch_scale\":{\"type\":\"value\",\"value\":12.0},\"hatch_pattern\":{\"type\":\"value\",\"value\":null},\"hatch_weight\":{\"type\":\"value\",\"value\":1.0},\"marker\":{\"type\":\"value\",\"value\":\"circle\"}}},\"nonselection_glyph\":{\"type\":\"object\",\"name\":\"Scatter\",\"id\":\"p25508\",\"attributes\":{\"tags\":[\"apply_ranges\"],\"x\":{\"type\":\"field\",\"field\":\"x\"},\"y\":{\"type\":\"field\",\"field\":\"y\"},\"size\":{\"type\":\"value\",\"value\":5},\"line_color\":{\"type\":\"value\",\"value\":\"#e377c2\"},\"line_alpha\":{\"type\":\"value\",\"value\":0.1},\"fill_color\":{\"type\":\"value\",\"value\":\"#e377c2\"},\"fill_alpha\":{\"type\":\"value\",\"value\":0.1},\"hatch_color\":{\"type\":\"value\",\"value\":\"#e377c2\"},\"hatch_alpha\":{\"type\":\"value\",\"value\":0.1}}},\"muted_glyph\":{\"type\":\"object\",\"name\":\"Scatter\",\"id\":\"p25509\",\"attributes\":{\"tags\":[\"apply_ranges\"],\"x\":{\"type\":\"field\",\"field\":\"x\"},\"y\":{\"type\":\"field\",\"field\":\"y\"},\"size\":{\"type\":\"value\",\"value\":5},\"line_color\":{\"type\":\"value\",\"value\":\"#e377c2\"},\"line_alpha\":{\"type\":\"value\",\"value\":0.2},\"fill_color\":{\"type\":\"value\",\"value\":\"#e377c2\"},\"fill_alpha\":{\"type\":\"value\",\"value\":0.2},\"hatch_color\":{\"type\":\"value\",\"value\":\"#e377c2\"},\"hatch_alpha\":{\"type\":\"value\",\"value\":0.2}}}}}],\"toolbar\":{\"type\":\"object\",\"name\":\"Toolbar\",\"id\":\"p25176\",\"attributes\":{\"tools\":[{\"type\":\"object\",\"name\":\"HoverTool\",\"id\":\"p25151\",\"attributes\":{\"tags\":[\"hv_created\"],\"renderers\":[{\"id\":\"p25233\"},{\"id\":\"p25249\"},{\"id\":\"p25263\"},{\"id\":\"p25278\"},{\"id\":\"p25292\"},{\"id\":\"p25307\"},{\"id\":\"p25321\"},{\"id\":\"p25336\"},{\"id\":\"p25350\"},{\"id\":\"p25365\"},{\"id\":\"p25379\"},{\"id\":\"p25394\"},{\"id\":\"p25408\"},{\"id\":\"p25423\"},{\"id\":\"p25437\"},{\"id\":\"p25452\"},{\"id\":\"p25466\"},{\"id\":\"p25481\"},{\"id\":\"p25495\"},{\"id\":\"p25510\"}],\"tooltips\":[[\"x\",\"@{x}\"],[\"y\",\"@{y}\"]]}},{\"type\":\"object\",\"name\":\"SaveTool\",\"id\":\"p25201\"},{\"type\":\"object\",\"name\":\"PanTool\",\"id\":\"p25202\"},{\"type\":\"object\",\"name\":\"WheelZoomTool\",\"id\":\"p25203\"},{\"type\":\"object\",\"name\":\"BoxZoomTool\",\"id\":\"p25204\",\"attributes\":{\"overlay\":{\"type\":\"object\",\"name\":\"BoxAnnotation\",\"id\":\"p25205\",\"attributes\":{\"syncable\":false,\"level\":\"overlay\",\"visible\":false,\"left_units\":\"canvas\",\"right_units\":\"canvas\",\"bottom_units\":\"canvas\",\"top_units\":\"canvas\",\"line_color\":\"black\",\"line_alpha\":1.0,\"line_width\":2,\"line_dash\":[4,4],\"fill_color\":\"lightgrey\",\"fill_alpha\":0.5}}}},{\"type\":\"object\",\"name\":\"ResetTool\",\"id\":\"p25206\"}],\"active_drag\":{\"id\":\"p25202\"},\"active_scroll\":{\"id\":\"p25203\"}}},\"left\":[{\"type\":\"object\",\"name\":\"LinearAxis\",\"id\":\"p25194\",\"attributes\":{\"ticker\":{\"type\":\"object\",\"name\":\"BasicTicker\",\"id\":\"p25197\",\"attributes\":{\"mantissas\":[1,2,5]}},\"formatter\":{\"type\":\"object\",\"name\":\"BasicTickFormatter\",\"id\":\"p25195\"},\"axis_label\":\"slope\",\"axis_label_text_font_size\":\"19.5px\",\"major_label_policy\":{\"type\":\"object\",\"name\":\"AllLabels\",\"id\":\"p25196\"},\"major_label_text_font_size\":\"16.5px\"}},{\"type\":\"object\",\"name\":\"Legend\",\"id\":\"p25236\",\"attributes\":{\"location\":[0,0],\"title_text_font_size\":\"19.5px\",\"click_policy\":\"mute\",\"label_text_font_size\":\"19.5px\",\"items\":[{\"type\":\"object\",\"name\":\"LegendItem\",\"id\":\"p25237\",\"attributes\":{\"label\":{\"type\":\"value\",\"value\":\"ToT2 = 100.0\"},\"renderers\":[{\"id\":\"p25233\"},{\"id\":\"p25249\"}]}},{\"type\":\"object\",\"name\":\"LegendItem\",\"id\":\"p25266\",\"attributes\":{\"label\":{\"type\":\"value\",\"value\":\"ToT2 = 300.0\"},\"renderers\":[{\"id\":\"p25263\"},{\"id\":\"p25278\"}]}},{\"type\":\"object\",\"name\":\"LegendItem\",\"id\":\"p25295\",\"attributes\":{\"label\":{\"type\":\"value\",\"value\":\"ToT2 = 500.0\"},\"renderers\":[{\"id\":\"p25292\"},{\"id\":\"p25307\"}]}},{\"type\":\"object\",\"name\":\"LegendItem\",\"id\":\"p25324\",\"attributes\":{\"label\":{\"type\":\"value\",\"value\":\"ToT2 = 700.0\"},\"renderers\":[{\"id\":\"p25321\"},{\"id\":\"p25336\"}]}},{\"type\":\"object\",\"name\":\"LegendItem\",\"id\":\"p25353\",\"attributes\":{\"label\":{\"type\":\"value\",\"value\":\"ToT2 = 900.0\"},\"renderers\":[{\"id\":\"p25350\"},{\"id\":\"p25365\"}]}},{\"type\":\"object\",\"name\":\"LegendItem\",\"id\":\"p25382\",\"attributes\":{\"label\":{\"type\":\"value\",\"value\":\"ToT2 = 1100.0\"},\"renderers\":[{\"id\":\"p25379\"},{\"id\":\"p25394\"}]}},{\"type\":\"object\",\"name\":\"LegendItem\",\"id\":\"p25411\",\"attributes\":{\"label\":{\"type\":\"value\",\"value\":\"ToT2 = 1300.0\"},\"renderers\":[{\"id\":\"p25408\"},{\"id\":\"p25423\"}]}},{\"type\":\"object\",\"name\":\"LegendItem\",\"id\":\"p25440\",\"attributes\":{\"label\":{\"type\":\"value\",\"value\":\"ToT2 = 1500.0\"},\"renderers\":[{\"id\":\"p25437\"},{\"id\":\"p25452\"}]}},{\"type\":\"object\",\"name\":\"LegendItem\",\"id\":\"p25469\",\"attributes\":{\"label\":{\"type\":\"value\",\"value\":\"ToT2 = 1700.0\"},\"renderers\":[{\"id\":\"p25466\"},{\"id\":\"p25481\"}]}},{\"type\":\"object\",\"name\":\"LegendItem\",\"id\":\"p25498\",\"attributes\":{\"label\":{\"type\":\"value\",\"value\":\"ToT2 = 1900.0\"},\"renderers\":[{\"id\":\"p25495\"},{\"id\":\"p25510\"}]}}]}}],\"below\":[{\"type\":\"object\",\"name\":\"LinearAxis\",\"id\":\"p25187\",\"attributes\":{\"ticker\":{\"type\":\"object\",\"name\":\"BasicTicker\",\"id\":\"p25190\",\"attributes\":{\"mantissas\":[1,2,5]}},\"formatter\":{\"type\":\"object\",\"name\":\"BasicTickFormatter\",\"id\":\"p25188\"},\"axis_label\":\"\\u0394t (ns)\",\"axis_label_text_font_size\":\"19.5px\",\"major_label_policy\":{\"type\":\"object\",\"name\":\"AllLabels\",\"id\":\"p25189\"},\"major_label_text_font_size\":\"16.5px\"}}],\"center\":[{\"type\":\"object\",\"name\":\"Grid\",\"id\":\"p25193\",\"attributes\":{\"axis\":{\"id\":\"p25187\"},\"ticker\":{\"id\":\"p25190\"}}},{\"type\":\"object\",\"name\":\"Grid\",\"id\":\"p25200\",\"attributes\":{\"dimension\":1,\"axis\":{\"id\":\"p25194\"},\"ticker\":{\"id\":\"p25197\"}}}],\"min_border_top\":10,\"min_border_bottom\":10,\"min_border_left\":10,\"min_border_right\":10,\"output_backend\":\"webgl\"}},{\"type\":\"object\",\"name\":\"Spacer\",\"id\":\"p25627\",\"attributes\":{\"name\":\"HSpacer68483\",\"stylesheets\":[\"\\n:host(.pn-loading.pn-arc):before, .pn-loading.pn-arc:before {\\n  background-image: url(\\\"data:image/svg+xml;base64,PHN2ZyB4bWxucz0iaHR0cDovL3d3dy53My5vcmcvMjAwMC9zdmciIHN0eWxlPSJtYXJnaW46IGF1dG87IGJhY2tncm91bmQ6IG5vbmU7IGRpc3BsYXk6IGJsb2NrOyBzaGFwZS1yZW5kZXJpbmc6IGF1dG87IiB2aWV3Qm94PSIwIDAgMTAwIDEwMCIgcHJlc2VydmVBc3BlY3RSYXRpbz0ieE1pZFlNaWQiPiAgPGNpcmNsZSBjeD0iNTAiIGN5PSI1MCIgZmlsbD0ibm9uZSIgc3Ryb2tlPSIjYzNjM2MzIiBzdHJva2Utd2lkdGg9IjEwIiByPSIzNSIgc3Ryb2tlLWRhc2hhcnJheT0iMTY0LjkzMzYxNDMxMzQ2NDE1IDU2Ljk3Nzg3MTQzNzgyMTM4Ij4gICAgPGFuaW1hdGVUcmFuc2Zvcm0gYXR0cmlidXRlTmFtZT0idHJhbnNmb3JtIiB0eXBlPSJyb3RhdGUiIHJlcGVhdENvdW50PSJpbmRlZmluaXRlIiBkdXI9IjFzIiB2YWx1ZXM9IjAgNTAgNTA7MzYwIDUwIDUwIiBrZXlUaW1lcz0iMDsxIj48L2FuaW1hdGVUcmFuc2Zvcm0+ICA8L2NpcmNsZT48L3N2Zz4=\\\");\\n  background-size: auto calc(min(50%, 400px));\\n}\",{\"id\":\"p25147\"},{\"id\":\"p25145\"},{\"id\":\"p25146\"}],\"margin\":0,\"sizing_mode\":\"stretch_width\",\"align\":\"start\"}}]}}],\"callbacks\":{\"type\":\"map\"}}};\n",
       "  var render_items = [{\"docid\":\"a85afa6a-9302-4b9d-a3ad-86e0f361242d\",\"roots\":{\"p25144\":\"d3acd22f-1e19-4e9c-bb5a-66b8791c0e01\"},\"root_ids\":[\"p25144\"]}];\n",
       "  var docs = Object.values(docs_json)\n",
       "  if (!docs) {\n",
       "    return\n",
       "  }\n",
       "  const py_version = docs[0].version.replace('rc', '-rc.').replace('.dev', '-dev.')\n",
       "  const is_dev = py_version.indexOf(\"+\") !== -1 || py_version.indexOf(\"-\") !== -1\n",
       "  function embed_document(root) {\n",
       "    var Bokeh = get_bokeh(root)\n",
       "    Bokeh.embed.embed_items_notebook(docs_json, render_items);\n",
       "    for (const render_item of render_items) {\n",
       "      for (const root_id of render_item.root_ids) {\n",
       "\tconst id_el = document.getElementById(root_id)\n",
       "\tif (id_el.children.length && (id_el.children[0].className === 'bk-root')) {\n",
       "\t  const root_el = id_el.children[0]\n",
       "\t  root_el.id = root_el.id + '-rendered'\n",
       "\t}\n",
       "      }\n",
       "    }\n",
       "  }\n",
       "  function get_bokeh(root) {\n",
       "    if (root.Bokeh === undefined) {\n",
       "      return null\n",
       "    } else if (root.Bokeh.version !== py_version && !is_dev) {\n",
       "      if (root.Bokeh.versions === undefined || !root.Bokeh.versions.has(py_version)) {\n",
       "\treturn null\n",
       "      }\n",
       "      return root.Bokeh.versions.get(py_version);\n",
       "    } else if (root.Bokeh.version === py_version) {\n",
       "      return root.Bokeh\n",
       "    }\n",
       "    return null\n",
       "  }\n",
       "  function is_loaded(root) {\n",
       "    var Bokeh = get_bokeh(root)\n",
       "    return (Bokeh != null && Bokeh.Panel !== undefined)\n",
       "  }\n",
       "  if (is_loaded(root)) {\n",
       "    embed_document(root);\n",
       "  } else {\n",
       "    var attempts = 0;\n",
       "    var timer = setInterval(function(root) {\n",
       "      if (is_loaded(root)) {\n",
       "        clearInterval(timer);\n",
       "        embed_document(root);\n",
       "      } else if (document.readyState == \"complete\") {\n",
       "        attempts++;\n",
       "        if (attempts > 200) {\n",
       "          clearInterval(timer);\n",
       "\t  var Bokeh = get_bokeh(root)\n",
       "\t  if (Bokeh == null || Bokeh.Panel == null) {\n",
       "            console.warn(\"Panel: ERROR: Unable to run Panel code because Bokeh or Panel library is missing\");\n",
       "\t  } else {\n",
       "\t    console.warn(\"Panel: WARNING: Attempting to render but not all required libraries could be resolved.\")\n",
       "\t    embed_document(root)\n",
       "\t  }\n",
       "        }\n",
       "      }\n",
       "    }, 25, root)\n",
       "  }\n",
       "})(window);</script>"
      ],
      "text/plain": [
       ":Overlay\n",
       "   .Curve.ToT2_equals_100_full_stop_0    :Curve   [x]   (y)\n",
       "   .Scatter.ToT2_equals_100_full_stop_0  :Scatter   [x]   (y)\n",
       "   .Curve.ToT2_equals_300_full_stop_0    :Curve   [x]   (y)\n",
       "   .Scatter.ToT2_equals_300_full_stop_0  :Scatter   [x]   (y)\n",
       "   .Curve.ToT2_equals_500_full_stop_0    :Curve   [x]   (y)\n",
       "   .Scatter.ToT2_equals_500_full_stop_0  :Scatter   [x]   (y)\n",
       "   .Curve.ToT2_equals_700_full_stop_0    :Curve   [x]   (y)\n",
       "   .Scatter.ToT2_equals_700_full_stop_0  :Scatter   [x]   (y)\n",
       "   .Curve.ToT2_equals_900_full_stop_0    :Curve   [x]   (y)\n",
       "   .Scatter.ToT2_equals_900_full_stop_0  :Scatter   [x]   (y)\n",
       "   .Curve.ToT2_equals_1100_full_stop_0   :Curve   [x]   (y)\n",
       "   .Scatter.ToT2_equals_1100_full_stop_0 :Scatter   [x]   (y)\n",
       "   .Curve.ToT2_equals_1300_full_stop_0   :Curve   [x]   (y)\n",
       "   .Scatter.ToT2_equals_1300_full_stop_0 :Scatter   [x]   (y)\n",
       "   .Curve.ToT2_equals_1500_full_stop_0   :Curve   [x]   (y)\n",
       "   .Scatter.ToT2_equals_1500_full_stop_0 :Scatter   [x]   (y)\n",
       "   .Curve.ToT2_equals_1700_full_stop_0   :Curve   [x]   (y)\n",
       "   .Scatter.ToT2_equals_1700_full_stop_0 :Scatter   [x]   (y)\n",
       "   .Curve.ToT2_equals_1900_full_stop_0   :Curve   [x]   (y)\n",
       "   .Scatter.ToT2_equals_1900_full_stop_0 :Scatter   [x]   (y)"
      ]
     },
     "execution_count": 112,
     "metadata": {
      "application/vnd.holoviews_exec.v0+json": {
       "id": "p25144"
      }
     },
     "output_type": "execute_result"
    }
   ],
   "source": [
    "model = lambda x, A, c: A * np.exp(- x / c)\n",
    "\n",
    "plots = []\n",
    "params_expfit = []\n",
    "for key, df in params_ToT2.groupby(\"ToT2\")['Δt', 'm']:\n",
    "    popt, _ = curve_fit(model, df['Δt'], df['m'])\n",
    "    params_expfit.append([key, *popt])\n",
    "    \n",
    "    plots.append(hv.Curve(  (df['Δt'], df['m']), label=f'ToT2 = {key}').opts(xlabel='Δt (ns)', ylabel='slope') *\n",
    "                 hv.Scatter((df['Δt'], df['m']), label=f'ToT2 = {key}').opts(size=5)\n",
    "                )\n",
    "\n",
    "params_expfit = pd.DataFrame(params_expfit, columns=['ToT2', 'A', 'c'])\n",
    "hv.Overlay(plots[::2]).opts(legend_position='left', fontscale=1.5)"
   ]
  },
  {
   "attachments": {},
   "cell_type": "markdown",
   "metadata": {},
   "source": [
    "## step 3\n",
    "fit the model $\\frac{d}{ToT + B}+g$ from the previously extracted fit parameter $A$"
   ]
  },
  {
   "cell_type": "code",
   "execution_count": 113,
   "metadata": {},
   "outputs": [
    {
     "data": {},
     "metadata": {},
     "output_type": "display_data"
    },
    {
     "data": {
      "application/vnd.holoviews_exec.v0+json": "",
      "text/html": [
       "<div id='p26211'>\n",
       "  <div id=\"f5c6e3c0-7c1a-43c8-80b9-197dae2dec0a\" data-root-id=\"p26211\" style=\"display: contents;\"></div>\n",
       "</div>\n",
       "<script type=\"application/javascript\">(function(root) {\n",
       "  var docs_json = {\"d5d206b2-20fc-4997-b46f-fb1fa5d84ab8\":{\"version\":\"3.1.1\",\"title\":\"Bokeh Application\",\"defs\":[{\"type\":\"model\",\"name\":\"ReactiveHTML1\"},{\"type\":\"model\",\"name\":\"FlexBox1\",\"properties\":[{\"name\":\"align_content\",\"kind\":\"Any\",\"default\":\"flex-start\"},{\"name\":\"align_items\",\"kind\":\"Any\",\"default\":\"flex-start\"},{\"name\":\"flex_direction\",\"kind\":\"Any\",\"default\":\"row\"},{\"name\":\"flex_wrap\",\"kind\":\"Any\",\"default\":\"wrap\"},{\"name\":\"justify_content\",\"kind\":\"Any\",\"default\":\"flex-start\"}]},{\"type\":\"model\",\"name\":\"FloatPanel1\",\"properties\":[{\"name\":\"config\",\"kind\":\"Any\",\"default\":{\"type\":\"map\"}},{\"name\":\"contained\",\"kind\":\"Any\",\"default\":true},{\"name\":\"position\",\"kind\":\"Any\",\"default\":\"right-top\"},{\"name\":\"offsetx\",\"kind\":\"Any\",\"default\":null},{\"name\":\"offsety\",\"kind\":\"Any\",\"default\":null},{\"name\":\"theme\",\"kind\":\"Any\",\"default\":\"primary\"},{\"name\":\"status\",\"kind\":\"Any\",\"default\":\"normalized\"}]},{\"type\":\"model\",\"name\":\"GridStack1\",\"properties\":[{\"name\":\"mode\",\"kind\":\"Any\",\"default\":\"warn\"},{\"name\":\"ncols\",\"kind\":\"Any\",\"default\":null},{\"name\":\"nrows\",\"kind\":\"Any\",\"default\":null},{\"name\":\"allow_resize\",\"kind\":\"Any\",\"default\":true},{\"name\":\"allow_drag\",\"kind\":\"Any\",\"default\":true},{\"name\":\"state\",\"kind\":\"Any\",\"default\":[]}]},{\"type\":\"model\",\"name\":\"drag1\",\"properties\":[{\"name\":\"slider_width\",\"kind\":\"Any\",\"default\":5},{\"name\":\"slider_color\",\"kind\":\"Any\",\"default\":\"black\"},{\"name\":\"value\",\"kind\":\"Any\",\"default\":50}]},{\"type\":\"model\",\"name\":\"click1\",\"properties\":[{\"name\":\"terminal_output\",\"kind\":\"Any\",\"default\":\"\"},{\"name\":\"debug_name\",\"kind\":\"Any\",\"default\":\"\"},{\"name\":\"clears\",\"kind\":\"Any\",\"default\":0}]},{\"type\":\"model\",\"name\":\"FastWrapper1\",\"properties\":[{\"name\":\"object\",\"kind\":\"Any\",\"default\":null},{\"name\":\"style\",\"kind\":\"Any\",\"default\":null}]},{\"type\":\"model\",\"name\":\"NotificationAreaBase1\",\"properties\":[{\"name\":\"position\",\"kind\":\"Any\",\"default\":\"bottom-right\"},{\"name\":\"_clear\",\"kind\":\"Any\",\"default\":0}]},{\"type\":\"model\",\"name\":\"NotificationArea1\",\"properties\":[{\"name\":\"notifications\",\"kind\":\"Any\",\"default\":[]},{\"name\":\"position\",\"kind\":\"Any\",\"default\":\"bottom-right\"},{\"name\":\"_clear\",\"kind\":\"Any\",\"default\":0},{\"name\":\"types\",\"kind\":\"Any\",\"default\":[{\"type\":\"map\",\"entries\":[[\"type\",\"warning\"],[\"background\",\"#ffc107\"],[\"icon\",{\"type\":\"map\",\"entries\":[[\"className\",\"fas fa-exclamation-triangle\"],[\"tagName\",\"i\"],[\"color\",\"white\"]]}]]},{\"type\":\"map\",\"entries\":[[\"type\",\"info\"],[\"background\",\"#007bff\"],[\"icon\",{\"type\":\"map\",\"entries\":[[\"className\",\"fas fa-info-circle\"],[\"tagName\",\"i\"],[\"color\",\"white\"]]}]]}]}]},{\"type\":\"model\",\"name\":\"Notification\",\"properties\":[{\"name\":\"background\",\"kind\":\"Any\",\"default\":null},{\"name\":\"duration\",\"kind\":\"Any\",\"default\":3000},{\"name\":\"icon\",\"kind\":\"Any\",\"default\":null},{\"name\":\"message\",\"kind\":\"Any\",\"default\":\"\"},{\"name\":\"notification_type\",\"kind\":\"Any\",\"default\":null},{\"name\":\"_destroyed\",\"kind\":\"Any\",\"default\":false}]},{\"type\":\"model\",\"name\":\"TemplateActions1\",\"properties\":[{\"name\":\"open_modal\",\"kind\":\"Any\",\"default\":0},{\"name\":\"close_modal\",\"kind\":\"Any\",\"default\":0}]},{\"type\":\"model\",\"name\":\"BootstrapTemplateActions1\",\"properties\":[{\"name\":\"open_modal\",\"kind\":\"Any\",\"default\":0},{\"name\":\"close_modal\",\"kind\":\"Any\",\"default\":0}]},{\"type\":\"model\",\"name\":\"MaterialTemplateActions1\",\"properties\":[{\"name\":\"open_modal\",\"kind\":\"Any\",\"default\":0},{\"name\":\"close_modal\",\"kind\":\"Any\",\"default\":0}]}],\"roots\":[{\"type\":\"object\",\"name\":\"Row\",\"id\":\"p26211\",\"attributes\":{\"name\":\"Row68916\",\"tags\":[\"embedded\"],\"stylesheets\":[\"\\n:host(.pn-loading.pn-arc):before, .pn-loading.pn-arc:before {\\n  background-image: url(\\\"data:image/svg+xml;base64,PHN2ZyB4bWxucz0iaHR0cDovL3d3dy53My5vcmcvMjAwMC9zdmciIHN0eWxlPSJtYXJnaW46IGF1dG87IGJhY2tncm91bmQ6IG5vbmU7IGRpc3BsYXk6IGJsb2NrOyBzaGFwZS1yZW5kZXJpbmc6IGF1dG87IiB2aWV3Qm94PSIwIDAgMTAwIDEwMCIgcHJlc2VydmVBc3BlY3RSYXRpbz0ieE1pZFlNaWQiPiAgPGNpcmNsZSBjeD0iNTAiIGN5PSI1MCIgZmlsbD0ibm9uZSIgc3Ryb2tlPSIjYzNjM2MzIiBzdHJva2Utd2lkdGg9IjEwIiByPSIzNSIgc3Ryb2tlLWRhc2hhcnJheT0iMTY0LjkzMzYxNDMxMzQ2NDE1IDU2Ljk3Nzg3MTQzNzgyMTM4Ij4gICAgPGFuaW1hdGVUcmFuc2Zvcm0gYXR0cmlidXRlTmFtZT0idHJhbnNmb3JtIiB0eXBlPSJyb3RhdGUiIHJlcGVhdENvdW50PSJpbmRlZmluaXRlIiBkdXI9IjFzIiB2YWx1ZXM9IjAgNTAgNTA7MzYwIDUwIDUwIiBrZXlUaW1lcz0iMDsxIj48L2FuaW1hdGVUcmFuc2Zvcm0+ICA8L2NpcmNsZT48L3N2Zz4=\\\");\\n  background-size: auto calc(min(50%, 400px));\\n}\",{\"type\":\"object\",\"name\":\"ImportedStyleSheet\",\"id\":\"p26214\",\"attributes\":{\"url\":\"https://cdn.holoviz.org/panel/1.1.1/dist/css/loading.css\"}},{\"type\":\"object\",\"name\":\"ImportedStyleSheet\",\"id\":\"p26348\",\"attributes\":{\"url\":\"https://cdn.holoviz.org/panel/1.1.1/dist/css/listpanel.css\"}},{\"type\":\"object\",\"name\":\"ImportedStyleSheet\",\"id\":\"p26212\",\"attributes\":{\"url\":\"https://cdn.holoviz.org/panel/1.1.1/dist/bundled/theme/default.css\"}},{\"type\":\"object\",\"name\":\"ImportedStyleSheet\",\"id\":\"p26213\",\"attributes\":{\"url\":\"https://cdn.holoviz.org/panel/1.1.1/dist/bundled/theme/native.css\"}}],\"min_width\":1200,\"margin\":0,\"sizing_mode\":\"stretch_width\",\"align\":\"start\",\"children\":[{\"type\":\"object\",\"name\":\"Spacer\",\"id\":\"p26215\",\"attributes\":{\"name\":\"HSpacer68926\",\"stylesheets\":[\"\\n:host(.pn-loading.pn-arc):before, .pn-loading.pn-arc:before {\\n  background-image: url(\\\"data:image/svg+xml;base64,PHN2ZyB4bWxucz0iaHR0cDovL3d3dy53My5vcmcvMjAwMC9zdmciIHN0eWxlPSJtYXJnaW46IGF1dG87IGJhY2tncm91bmQ6IG5vbmU7IGRpc3BsYXk6IGJsb2NrOyBzaGFwZS1yZW5kZXJpbmc6IGF1dG87IiB2aWV3Qm94PSIwIDAgMTAwIDEwMCIgcHJlc2VydmVBc3BlY3RSYXRpbz0ieE1pZFlNaWQiPiAgPGNpcmNsZSBjeD0iNTAiIGN5PSI1MCIgZmlsbD0ibm9uZSIgc3Ryb2tlPSIjYzNjM2MzIiBzdHJva2Utd2lkdGg9IjEwIiByPSIzNSIgc3Ryb2tlLWRhc2hhcnJheT0iMTY0LjkzMzYxNDMxMzQ2NDE1IDU2Ljk3Nzg3MTQzNzgyMTM4Ij4gICAgPGFuaW1hdGVUcmFuc2Zvcm0gYXR0cmlidXRlTmFtZT0idHJhbnNmb3JtIiB0eXBlPSJyb3RhdGUiIHJlcGVhdENvdW50PSJpbmRlZmluaXRlIiBkdXI9IjFzIiB2YWx1ZXM9IjAgNTAgNTA7MzYwIDUwIDUwIiBrZXlUaW1lcz0iMDsxIj48L2FuaW1hdGVUcmFuc2Zvcm0+ICA8L2NpcmNsZT48L3N2Zz4=\\\");\\n  background-size: auto calc(min(50%, 400px));\\n}\",{\"id\":\"p26214\"},{\"id\":\"p26212\"},{\"id\":\"p26213\"}],\"margin\":0,\"sizing_mode\":\"stretch_width\",\"align\":\"start\"}},{\"type\":\"object\",\"name\":\"Figure\",\"id\":\"p26221\",\"attributes\":{\"width\":1200,\"height\":500,\"margin\":[5,10],\"sizing_mode\":\"fixed\",\"align\":\"start\",\"x_range\":{\"type\":\"object\",\"name\":\"Range1d\",\"id\":\"p26216\",\"attributes\":{\"tags\":[[[\"x\",\"x\",null]]],\"start\":100.0,\"end\":2000.0,\"reset_start\":100.0,\"reset_end\":2000.0}},\"y_range\":{\"type\":\"object\",\"name\":\"Range1d\",\"id\":\"p26217\",\"attributes\":{\"tags\":[[[\"y\",\"y\",null]]],\"start\":0.008521883936485352,\"end\":0.04890530113257664,\"reset_start\":0.008521883936485352,\"reset_end\":0.04890530113257664}},\"x_scale\":{\"type\":\"object\",\"name\":\"LinearScale\",\"id\":\"p26233\"},\"y_scale\":{\"type\":\"object\",\"name\":\"LinearScale\",\"id\":\"p26235\"},\"title\":{\"type\":\"object\",\"name\":\"Title\",\"id\":\"p26224\",\"attributes\":{\"text_color\":\"black\",\"text_font_size\":\"18pt\"}},\"renderers\":[{\"type\":\"object\",\"name\":\"GlyphRenderer\",\"id\":\"p26283\",\"attributes\":{\"data_source\":{\"type\":\"object\",\"name\":\"ColumnDataSource\",\"id\":\"p26273\",\"attributes\":{\"selected\":{\"type\":\"object\",\"name\":\"Selection\",\"id\":\"p26274\",\"attributes\":{\"indices\":[],\"line_indices\":[]}},\"selection_policy\":{\"type\":\"object\",\"name\":\"UnionRenderers\",\"id\":\"p26275\"},\"data\":{\"type\":\"map\",\"entries\":[[\"x\",{\"type\":\"ndarray\",\"array\":{\"type\":\"bytes\",\"data\":\"AAAAAAAAWUAAAAAAAABpQAAAAAAAwHJAAAAAAAAAeUAAAAAAAEB/QAAAAAAAwIJAAAAAAADghUAAAAAAAACJQAAAAAAAIIxAAAAAAABAj0AAAAAAADCRQAAAAAAAwJJAAAAAAABQlEAAAAAAAOCVQAAAAAAAcJdAAAAAAAAAmUAAAAAAAJCaQAAAAAAAIJxAAAAAAACwnUAAAAAAAECfQA==\"},\"shape\":[20],\"dtype\":\"float64\",\"order\":\"little\"}],[\"y\",{\"type\":\"ndarray\",\"array\":{\"type\":\"bytes\",\"data\":\"LZLnYQVRpz+6IXB2utykP4MeuDa/dJc/MtDEDYMZkj9qZTBbjciQP/ExGo8Iio8/j+baW0t6jj/2IrSvUlyNP6LOWCWTlow/QtqaGP7Iiz8P9VzhDU2LPzvXH5Tvxoo/XIwGJ2Ruij+b24SMav2JP+jgzlLiook/G6xMUMlhiT++Rj78qyGJP67Apuk7yIg/TazQBd6DiD9cvZDGTFiIPw==\"},\"shape\":[20],\"dtype\":\"float64\",\"order\":\"little\"}]]}}},\"view\":{\"type\":\"object\",\"name\":\"CDSView\",\"id\":\"p26284\",\"attributes\":{\"filter\":{\"type\":\"object\",\"name\":\"AllIndices\",\"id\":\"p26285\"}}},\"glyph\":{\"type\":\"object\",\"name\":\"Line\",\"id\":\"p26280\",\"attributes\":{\"tags\":[\"apply_ranges\"],\"x\":{\"type\":\"field\",\"field\":\"x\"},\"y\":{\"type\":\"field\",\"field\":\"y\"},\"line_color\":\"#30a2da\",\"line_width\":2}},\"selection_glyph\":{\"type\":\"object\",\"name\":\"Line\",\"id\":\"p26288\",\"attributes\":{\"tags\":[\"apply_ranges\"],\"x\":{\"type\":\"field\",\"field\":\"x\"},\"y\":{\"type\":\"field\",\"field\":\"y\"},\"line_color\":\"#30a2da\",\"line_width\":2}},\"nonselection_glyph\":{\"type\":\"object\",\"name\":\"Line\",\"id\":\"p26281\",\"attributes\":{\"tags\":[\"apply_ranges\"],\"x\":{\"type\":\"field\",\"field\":\"x\"},\"y\":{\"type\":\"field\",\"field\":\"y\"},\"line_color\":\"#30a2da\",\"line_alpha\":0.1,\"line_width\":2}},\"muted_glyph\":{\"type\":\"object\",\"name\":\"Line\",\"id\":\"p26282\",\"attributes\":{\"tags\":[\"apply_ranges\"],\"x\":{\"type\":\"field\",\"field\":\"x\"},\"y\":{\"type\":\"field\",\"field\":\"y\"},\"line_color\":\"#30a2da\",\"line_alpha\":0.2,\"line_width\":2}}}},{\"type\":\"object\",\"name\":\"GlyphRenderer\",\"id\":\"p26299\",\"attributes\":{\"data_source\":{\"type\":\"object\",\"name\":\"ColumnDataSource\",\"id\":\"p26289\",\"attributes\":{\"selected\":{\"type\":\"object\",\"name\":\"Selection\",\"id\":\"p26290\",\"attributes\":{\"indices\":[],\"line_indices\":[]}},\"selection_policy\":{\"type\":\"object\",\"name\":\"UnionRenderers\",\"id\":\"p26291\"},\"data\":{\"type\":\"map\",\"entries\":[[\"x\",{\"type\":\"ndarray\",\"array\":{\"type\":\"bytes\",\"data\":\"AAAAAAAAWUAAAAAAAABpQAAAAAAAwHJAAAAAAAAAeUAAAAAAAEB/QAAAAAAAwIJAAAAAAADghUAAAAAAAACJQAAAAAAAIIxAAAAAAABAj0AAAAAAADCRQAAAAAAAwJJAAAAAAABQlEAAAAAAAOCVQAAAAAAAcJdAAAAAAAAAmUAAAAAAAJCaQAAAAAAAIJxAAAAAAACwnUAAAAAAAECfQA==\"},\"shape\":[20],\"dtype\":\"float64\",\"order\":\"little\"}],[\"y\",{\"type\":\"ndarray\",\"array\":{\"type\":\"bytes\",\"data\":\"LZLnYQVRpz+6IXB2utykP4MeuDa/dJc/MtDEDYMZkj9qZTBbjciQP/ExGo8Iio8/j+baW0t6jj/2IrSvUlyNP6LOWCWTlow/QtqaGP7Iiz8P9VzhDU2LPzvXH5Tvxoo/XIwGJ2Ruij+b24SMav2JP+jgzlLiook/G6xMUMlhiT++Rj78qyGJP67Apuk7yIg/TazQBd6DiD9cvZDGTFiIPw==\"},\"shape\":[20],\"dtype\":\"float64\",\"order\":\"little\"}]]}}},\"view\":{\"type\":\"object\",\"name\":\"CDSView\",\"id\":\"p26300\",\"attributes\":{\"filter\":{\"type\":\"object\",\"name\":\"AllIndices\",\"id\":\"p26301\"}}},\"glyph\":{\"type\":\"object\",\"name\":\"Scatter\",\"id\":\"p26296\",\"attributes\":{\"tags\":[\"apply_ranges\"],\"x\":{\"type\":\"field\",\"field\":\"x\"},\"y\":{\"type\":\"field\",\"field\":\"y\"},\"size\":{\"type\":\"value\",\"value\":5},\"line_color\":{\"type\":\"value\",\"value\":\"#30a2da\"},\"fill_color\":{\"type\":\"value\",\"value\":\"#30a2da\"},\"hatch_color\":{\"type\":\"value\",\"value\":\"#30a2da\"}}},\"selection_glyph\":{\"type\":\"object\",\"name\":\"Scatter\",\"id\":\"p26302\",\"attributes\":{\"tags\":[\"apply_ranges\"],\"x\":{\"type\":\"field\",\"field\":\"x\"},\"y\":{\"type\":\"field\",\"field\":\"y\"},\"size\":{\"type\":\"value\",\"value\":5},\"angle\":{\"type\":\"value\",\"value\":0.0},\"line_color\":{\"type\":\"value\",\"value\":\"#30a2da\"},\"line_alpha\":{\"type\":\"value\",\"value\":1.0},\"line_width\":{\"type\":\"value\",\"value\":1},\"line_join\":{\"type\":\"value\",\"value\":\"bevel\"},\"line_cap\":{\"type\":\"value\",\"value\":\"butt\"},\"line_dash\":{\"type\":\"value\",\"value\":[]},\"line_dash_offset\":{\"type\":\"value\",\"value\":0},\"fill_color\":{\"type\":\"value\",\"value\":\"#30a2da\"},\"fill_alpha\":{\"type\":\"value\",\"value\":1.0},\"hatch_color\":{\"type\":\"value\",\"value\":\"#30a2da\"},\"hatch_alpha\":{\"type\":\"value\",\"value\":1.0},\"hatch_scale\":{\"type\":\"value\",\"value\":12.0},\"hatch_pattern\":{\"type\":\"value\",\"value\":null},\"hatch_weight\":{\"type\":\"value\",\"value\":1.0},\"marker\":{\"type\":\"value\",\"value\":\"circle\"}}},\"nonselection_glyph\":{\"type\":\"object\",\"name\":\"Scatter\",\"id\":\"p26297\",\"attributes\":{\"tags\":[\"apply_ranges\"],\"x\":{\"type\":\"field\",\"field\":\"x\"},\"y\":{\"type\":\"field\",\"field\":\"y\"},\"size\":{\"type\":\"value\",\"value\":5},\"line_color\":{\"type\":\"value\",\"value\":\"#30a2da\"},\"line_alpha\":{\"type\":\"value\",\"value\":0.1},\"fill_color\":{\"type\":\"value\",\"value\":\"#30a2da\"},\"fill_alpha\":{\"type\":\"value\",\"value\":0.1},\"hatch_color\":{\"type\":\"value\",\"value\":\"#30a2da\"},\"hatch_alpha\":{\"type\":\"value\",\"value\":0.1}}},\"muted_glyph\":{\"type\":\"object\",\"name\":\"Scatter\",\"id\":\"p26298\",\"attributes\":{\"tags\":[\"apply_ranges\"],\"x\":{\"type\":\"field\",\"field\":\"x\"},\"y\":{\"type\":\"field\",\"field\":\"y\"},\"size\":{\"type\":\"value\",\"value\":5},\"line_color\":{\"type\":\"value\",\"value\":\"#30a2da\"},\"line_alpha\":{\"type\":\"value\",\"value\":0.2},\"fill_color\":{\"type\":\"value\",\"value\":\"#30a2da\"},\"fill_alpha\":{\"type\":\"value\",\"value\":0.2},\"hatch_color\":{\"type\":\"value\",\"value\":\"#30a2da\"},\"hatch_alpha\":{\"type\":\"value\",\"value\":0.2}}}}},{\"type\":\"object\",\"name\":\"GlyphRenderer\",\"id\":\"p26313\",\"attributes\":{\"data_source\":{\"type\":\"object\",\"name\":\"ColumnDataSource\",\"id\":\"p26303\",\"attributes\":{\"selected\":{\"type\":\"object\",\"name\":\"Selection\",\"id\":\"p26304\",\"attributes\":{\"indices\":[],\"line_indices\":[]}},\"selection_policy\":{\"type\":\"object\",\"name\":\"UnionRenderers\",\"id\":\"p26305\"},\"data\":{\"type\":\"map\",\"entries\":[[\"x\",{\"type\":\"ndarray\",\"array\":{\"type\":\"bytes\",\"data\":\"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\"},\"shape\":[1800],\"dtype\":\"int32\",\"order\":\"little\"}],[\"y\",{\"type\":\"ndarray\",\"array\":{\"type\":\"bytes\",\"data\":\"wUOAGQHcpD+3jqFftKCkPxYiqEgxZ6Q/WhujcWMvpD81DhWpN/mjP2XL7dibxKM/JhFl8n6Roz/P9Ybb0F+jP/cUSF6CL6M/Xxv8GIUAoz/BUw1wy9KiP9Rh14BIpqI/l3iKFfB6oj8rHP+ZtlCiPxnxZBGRJ6I/p0W5DHX/oT+N7vOhWNihP2rG2mMysqE/kKVtWvmMoT/oA977pGihP4utBiYtRaE/3AhZGIoioT8eZjZutAChPwCwrBml36A/OZ2OXlW/oD/1N+DNvp+gPy8ykUHbgKA/uBB/2KRioD/durnyFUWgP/xzBS4pKKA/l7CVYtkLoD+GNPk/Q+CfP/rcllT6qZ8/ImrA7s50nz+0J7tYuECfP1yQkzauDZ8/shWkgajbnj92tV+En6qeP+S4W9aLep4/0FaUWGZLnj9MRegxKB2eP0qUx8vK750/CHESz0fDnT+AsiQhmZedPxhKC+G4bJ0/AurgZKFCnT+WZE83TRmdP4p1MxW38Jw/ONBg69nInD+adITUsKGcP6ZwIxc3e5w/UlS0I2hVnD8ovdGSPzCcPxp6hCO5C5w/ZuKjudDnmz8sEktcgsSbP4bVYTTKoZs/hh84i6R/mz9m/TLJDV6bP9wHinQCPZs/A2UUMH8cmz8nfCS6gPyaPyeLcesD3Zo/CFoOtgW+mj+aVWwkg5+aP0hlalh5gZo/6dpuiuVjmj/05IsIxUaaP/P0rTUVKpo/TZTTiNMNmj+uKU6M/fGZP6k4C92Q1pk/KqzlKYu7mT/Hwv4y6qCZPxE6Hsmrhpk/wlsZzc1smT/UlEAvTlOZP6pD0+4qOpk/Bm95GWIhmT/0G8PK8QiZP8v8rCvY8Jg/dTcqchPZmD+OBLPgocGYP3Ls18WBqpg/amrZe7GTmD9GwUNoL32YP0nPjvv5Zpg/MrLBsA9RmD9xDhoNbzuYPxLPtp8WJpg/DDZGAQURmD/AFrfTOPyXP0wW7cGw55c/ac93f2vTlz/+uEzIZ7+XP3Swg2Ckq5c/QgoWFCCYlz+iDKC22YSXP965JCPQcZc/uNDTOwJflz/26tHpbkyXP/aiAh0VOpc/oKrUy/Mnlz/Avg/zCRaXPwpjpJVWBJc/7VN9vNjylj8wnFJ2j+GWPys9ftd50JY/VFnS+Za/lj900XD85a6WP7ZFpANmnpY/QGy6OBaOlj/ir9/J9X2WP98J/OkDbpY/ZAqR0D9elj/0A5m5qE6WP2hOZ+U9P5Y/0paJmP4vlj/KMaob6iCWP3Rmc7v/EZY/rqhzyD4Dlj9juQKXpvSVP2ukJ3825pU/oJN/3O3XlT9MbyUOzMmVP0REmnbQu5U/fmiue/qtlT8oV2uGSaCVP349/gK9kpU/GDKjYFSFlT9wEJERD3iVP9Ty5YrsapU/BkWUROxdlT9AalC5DVGVP0TxfmZQRJU/llEjzLM3lT8LLc9sNyuVPxYRks3aHpU/WrPpdZ0SlT9kpbLvfgaVP0p7Gcd++pQ/cWGMipzulD+WHa3K1+KUP4V3Qxow15Q/DAYwDqXLlD+7XF89NsCUP0uXvUDjtJQ/ij8qs6uplD/Uimwxj56UPyrsJ1qNk5Q/RPjQzaWIlD/QmKIu2H2UP2SMkyAkc5Q/pjBMSYlolD9IlBxQB16UP4jO8t2dU5Q/CJpRnUxJlD/YMEc6Ez+UP6ZnZGLxNJQ/FAa0xOYqlD9VWrIR8yCUPy4GRfsVF5Q/pQOzNE8NlD+Q35xyngOUP3Yo9WoD+pM/HBD51H3wkz8sPilpDeeTP4vSQuGx3ZM/65U4+GrUkz8kVyxqOMuTPxJ0aPQZwpM/rIxZVQ+5kz8AX4hMGLCTP/LKk5o0p5M/mPwqAWSekz/wuwdDppWTPw7h6CP7jJM/euuMaGKEkz/su6zW23uTP0Vv9jRnc5M/6VkISwRrkz95ImzhsmKTPx77kcFyWpM/dvjLtUNSkz9YhUmJJUqTP5jyEggYQpM/CSIF/xo6kz/8S807LjKTP3De5IxRKpM/W3WNwYQikz8368ypxxqTP0qBaRYaE5M/7h7m2HsLkz87p37D7AOTP4dkJKls/JI/EIl6Xfv0kj9OxNK0mO2SP1TsKYRE5pI/yLokof7ekj/UnAzixteSP6SVzB2d0JI/7DLuK4HJkj//kpbkcsKSP/h7gyByu5I/l4MIuX60kj9GRwyImK2SP/yzBWi/ppI/eV35M/Ofkj+F5HbHM5mSP85rlv6AkpI/ABv2tdqLkj/Cr7fKQIWSPzYcfhqzfpI/qTJrgzF4kj8iXh3ku3GSP3RnrRtSa5I/jEasCfRkkj+k/yCOoV6SPxqMholaWJI/m87J3B5Skj9Zkkdp7kuSPw2VyhDJRZI/epuJta4/kj81kCU6nzmSP3Osp4GaM5I/mKp/b6Atkj9RAoLnsCeSP/4t5s3LIZI/LflEB/Ebkj/815Z4IBaSPxRHMgdaEJI/KDTKmJ0Kkj+qbmwT6wSSP44ggF1C/5E/8k7EXaP5kT9zYk77DfSRP/y2iB2C7pE/9DIxrP/okT+Q5VePhuORPx+sXa8W3pE/O97y9K/YkT+UABZJUtORP1J+EpX9zZE/yWh/wrHIkT95PT67bsORPxayeWk0vpE/jIaktwK5kT/TXHiQ2bORP3WW9N64rpE/oDddjqCpkT+uzzmKkKSRP/lmVL6In5E/5HG4FomakT/9yLF/kZWRPxKmy+WhkJE/KKbPNbqLkT8z0MRc2oaRP3eg7kcCgpE/cBjM5DF9kT850xYhaXiRP0Yewuqnc5E/Zhb6L+5ukT/vyCLfO2qRPwVZ1+aQZZE/2CjpNe1gkT/QBl+7UFyRP5JedGa7V5E/um2YJi1TkT9HfG3rpU6RP6EYyKQlSpE/HVeuQqxFkT/2FFe1OUGRP6g+Ke3NPJE/jhm72mg4kT/NkNFuCjSRP1eFX5qyL5E/FiGFTmErkT8bLY98FieRP8Vq9hXSIpE/2O9eDJQekT9shZdRXBqRP6gJmdcqFpE/OdSFkP8RkT+AHalu2g2RP1todmS7CZE/gu6IZKIFkT9zD6NhjwGRP8/BrU6C/ZA/Kge4Hnv5kD88YvbEefWQP2lPwjR+8ZA/ir+ZYYjtkD8AlR4/mOmQP/MiFsGt5ZA/uK5o28jhkD9b8yCC6d2QPzCna6kP2pA/fAOXRTvWkD8JThJLbNKQP8Nkba6izpA/L0tYZN7KkD/NuaJhH8eQP1CvO5tlw5A/ogMxBrG/kD+0/K6XAbyQPwXl/0RXuJA/6aOLA7K0kD9uV9fIEbGQP/TvhIp2rZA/Xc1SPuCpkD/OXRvaTqaQPwa+1FPCopA/NFuQoTqfkD9Tlnq5t5uQP/po2pE5mJA/nAsRIcCUkD82nZldS5GQP2DMCD7bjZA/vIEMuW+KkD+yi2vFCIeQP5NLBVqmg5A/62PRbUiAkD8saN/37nyQP5ONVu+ZeZA/O111S0l2kD92Z5ED/XKQP0D4Fg+1b5A/7syIZXFskD/uyn/+MWmQP7C3qtH2ZZA/qPHN1r9ikD9cKsMFjV+QP4cheVZeXJA/SWHzwDNZkD9S+0k9DVaQPxtHqcPqUpA/EKFRTMxPkD+5KpfPsUyQP9eL4UWbSZA/arSrp4hGkD+qn4PteUOQP+IXChBvQJA/MnvyB2g9kD8ugQLOZDqQP1kBEltlN5A/d7oKqGk0kD+4GuitcTGQP6wIt2V9LpA/Cq2VyIwrkD88PbPPnyiQP7jGT3S2JZA/Evu7r9AikD/W/Fh77h+QPxotmNAPHZA/yfn6qDQakD+qrBL+XBeQPw47gMmIFJA/Oxb0BLgRkD9+/C2q6g6QP+LK/LIgDJA/nk8+GVoJkD8UHd/WlgaQP4Jd2uXWA5A/Sqc5QBoBkD+yoynAwfyPP1OWI39V948/tdvIse/xjz+9r5xMkOyPP3iDPUQ3548/vqxkjeThjz/yFuYcmNyPP9T0r+dR148/bnPK4hHSjz8OblcD2MyPP0Qjkj6kx48/7OrOiXbCjz897XraTr2PP8zaGyYtuI8/kqVPYhGzjz/kOsyE+62PP1w+X4PrqI8/tsXtU+Gjjz+QFXTs3J6PPxJfBUPemY8/gn7LTeWUjz+tugYD8o+PPzKFDVkEi48/oztMRhyGjz9/6UTBOYGPP/kKj8BcfI8/lFDXOoV3jz+GY98ms3KPP+WqfXvmbY8/nBGdLx9pjz8ezTw6XWSPP9wkcJKgX48/djpeL+lajz+q0kEIN1aPP/AeaRSKUY8/1oc1S+JMjz8IeBukP0iPPwAoohaiQ48/dmpjmgk/jz9geQsndjqPP67DWLTnNY8/oLsbOl4xjz++pTaw2SyPP3tonQ5aKI8/YVxVTd8jjz/tHHVkaR+PP/hZJEz4Go8/uKmb/IsWjz9WWyRuJBKPPxpKGJnBDY8/IrHhdWMJjz+m//r8CQWPP8yt7ia1AI8/BhJX7GT8jj/zNt5FGfiOP8yxPSzS844/THk+mI/vjj8nvbiCUeuOP/K9k+QX544/mKXFtuLijj8+YFPysd6OP651UJCF2o4/L+PeiV3Wjj/h9S7YOdKOP4Ilf3Qazo4/re8bWP/Jjj+Rs1986MWOPwqOstrVwY4/NzaKbMe9jj922mkrvbmOP8394RC3tY4/wFWQFrWxjj+LqB82t62OP8urR2m9qY4/hOPMqceljj+TgYDx1aGOP35FQDronY4/qlz2ff6Zjj/uQpm2GJaOP4ejK942ko4/azq87liOjj/0tWXifoqOP+uYTrOoho4/7BypW9aCjj8eFbPVB3+OP0/RtRs9e44/UgEGKHZ3jj/KmAP1snOOPzSzGX3zb44/Uni+ujdsjj/iAHOof2iOP6Y7w0DLZI4/vNJFfhphjj9HEZxbbV2OP17JcdPDWY4/Uzp94B1Wjj869359e1KOP8PNQaXcTo4/V62aUkFLjj+CjmiAqUeOP6JalCkVRI4/4NMQSYRAjj9ofdrZ9jyOP+yD99ZsOY4/aaZ3O+Y1jj8tH3QCYzKOPyCNDyfjLo4/Ut11pGYrjj/CNNx17SeOP2vagJZ3JI4/iiGrAQUhjj8qVKuylR2OP+Sd2qQpGo4/3vaa08AWjj8MD1c6WxOOP6E5gtT4D44/w1iYnZkMjj9zyR2RPQmOP65Pn6rkBY4/yAKy5Y4Cjj8AOvM9PP+NPz55CK/s+40/G16fNKD4jT8KjW3KVvWNP8WeMGwQ8o0/3w2uFc3ujT+ZJLPCjOuNP9nqFG9P6I0/YhSwFhXljT8w72i13eGNPw5SK0ep3o0/V4vqx3fbjT/mT6EzSdiNPzqqUYYd1Y0/vukEvPTRjT9LksvQzs6NP8xLvcCry40/FtL4h4vIjT/m5KMibsWNPxI464xTwo0/2mMCwzu/jT9t1SPBJryNP5S/kIMUuY0/hAuRBgW2jT/eSXNG+LKNP86jjD/ur40/Ysw47uasjT/y8dlO4qmNP8av2F3gpo0/0P+jF+GjjT+ULLF45KCNPzbDe33qnY0/rIWFIvOajT8SXVZk/peNPyJMfD8MlY0/2GGLsBySjT8prB20L4+NP/Aq00ZFjI0/7MJRZV2JjT/uMEUMeIaNPx39XjiVg40/Ym5W5rSAjT/2fegS132NPwnL17r7eo0/kI7s2iJ4jT8uj/RvTHWNP0AVw3Z4co0/CN8w7KZvjT/wFBzN12yNP/A9aBYLao0/FzT+xEBnjT8mGczVeGSNP1BLxUWzYY0/F1riEfBejT9A+yA3L1yNP+j/g7JwWY0/sEkTgbRWjT8OwNuf+lONP6xF7wtDUY0/7K1kwo1OjT+DslfA2kuNPyvp6AIqSY0/drk9h3tGjT+1UoBKz0ONP/ih30klQY0/LUiPgn0+jT9QkMfx1zuNP7tlxZQ0OY0/hkrKaJM2jT8HThxr9DONP2IDBplXMY0/OnjW77wujT9tK+FsJCyNP/IDfg2OKY0/xkcJz/kmjT/1kuOuZySNP7POcarXIY0/jigdv0kfjT+7CVPqvRyNP2sOhSk0Go0/RP0oeqwXjT/lvrjZJhWNP4FVskWjEo0/kNSXuyEQjT+TWO84og2NP+3+QrskC40/0N0gQKkIjT82/BrFLwaNP/9Jx0e4A40/C5i/xUIBjT98kKE8z/6MP/yuDqpd/Iw/HTmsC+75jD/LNiNfgPeMP8pqIKIU9Yw/TktU0qryjD+f+nLtQvCMP9E/NPHc7Yw/jn9T23jrjD/stI+pFumMP1xqq1m25ow/pbJs6VfkjD/sIZ1W++GMP9bGCZ+g34w/sCODwEfdjD+wJ9248NqMP0Ao74Wb2Iw/VtqTJUjWjD/nS6mV9tOMP2DdENSm0Yw/LDuv3ljPjD9WV2yzDM2MPyZjM1DCyow/5MjysnnIjD+WJZzZMsaMP9dCJMLtw4w/uBCDaqrBjD+yn7PQaL+MP6QatPIovYw/3sCFzuq6jD894CxirriMP1LPsKtztow/lecbqTq0jD+qf3tYA7KMP67l37fNr4w/lFlcxZmtjD+SBwd/Z6uMP4wC+eI2qYw/pj5O7wenjD/DiyWi2qSMPyyQoPmuoow/MsPj84SgjD/hZxaPXJ6MP8OHYsk1nIw/qO30oBCajD9+IP0T7ZeMPzJerSDLlYw/o5Y6xaqTjD+UZtz/i5GMP7USzc5uj4w/tIJJMFONjD9UPJEiOYuMP5Re5qMgiYw/4JyNsgmHjD9KOs5M9ISMP9UE8nDggow/vFBFHc6AjD/V8xZQvX6MP/BAuAeufIw/SwN9QqB6jD8Eerv+k3iMP6NTzDqJdow/oKkK9X90jD/++9MreHKMP+osiN1xcIw/ZXyJCG1ujD/0gzyraWyMP18yCMRnaow/d8dVUWdojD/mz5BRaGaMPwAhJ8NqZIw/rtSIpG5ijD9SRSj0c2CMP7cJerB6Xow/FPH014JcjD8K/xFpjFqMP7VnTGKXWIw/u4shwqNWjD9x9BCHsVSMP/pPnK/AUow/fG1HOtFQjD9POZgl406MP0G5FnD2TIw/2AhNGAtLjD+mVcccIUmMP5bbE3w4R4w/VeHCNFFFjD+utGZFa0OMP/ymk6yGQYw/ngngaKM/jD9zKuR4wT2MP1xQOtvgO4w/yrd+jgE6jD9Oj0+RIziMPzP0TOJGNow/Hu8YgGs0jD+2cFdpkTKMP1JOrpy4MIw/sD7FGOEujD+v1kXcCi2MPxWG2+U1K4w/VpQzNGIpjD9mHf3FjyeMP48O6Zm+JYw/UCOqru4jjD9A4vQCICKMP/qZf5VSIIw/DV4CZYYejD/yAzdwuxyMPwog2bXxGow/owKmNCkZjD8BtVzrYReMP272vdibFYw/TjmM+9YTjD88oItSExKMPyz7gdxQEIw/lMQ2mI8OjD+UHnOEzwyMPzDQAaAQC4w/gkKv6VIJjD/+fUlglgeMP7AnoALbBYw/jH6EzyAEjD+3WMnFZwKMP+AgQ+SvAIw/ldPHKfn+iz+m/C6VQ/2LP4i0USWP+4s/vp0K2dv5iz9I4jWvKfiLPxQxsaZ49os/frtbvsj0iz/IMhb1GfOLP5zFwkls8Ys/mx1Fu7/viz/gXIJIFO6LP5wbYfBp7Is/o2XJscDqiz8NuKSLGOmLP9b+3Xxx54s/f5JhhMvliz+6NR2hJuSLPxgTANKC4os/u7r6FeDgiz8MIP9rPt+LP3aXANOd3Ys/KdTzSf7biz/c5c7PX9qLP5g2iWPC2Is/fogbBCbXiz+j83+witWLP9zjsWfw04s/nxauKFfSiz/ZmHLyvtCLP9rE/sMnz4s/MUBTnJHNiz+e+XF6/MuLP/wmXl1oyos/NEMcRNXIiz80DLItQ8eLP+qAJhmyxYs/Pt+BBSLEiz8Yos3xksKLP2Z/FN0EwYs/H2Zixne/iz9YfMSs672LP1MdSY9gvIs/jtf/bNa6iz/kavlETbmLP6HGRxbFt4s/qAf+3z22iz+QdjCht7SLP9GF9Fgys4s/589gBq6xiz+GFY2oKrCLP8g7kj6oros/XkqKxyatiz/SaZBCpquLP7XhwK4mqos/6BY5C6ioiz/YiRdXKqeLP8XUe5GtpYs/C6qGuTGkiz9s0lnOtqKLP18rGM88oYs/YqXlusOfiz9OQueQS56LP7MTQ1DUnIs/LDkg+F2biz/F3qaH6JmLP1Y7AP5zmIs/7I5WWgCXiz8sIdWbjZWLP8A/qMEblIs/wjz9yqqSiz8wbQK3OpGLP1gn54TLj4s/VcHbM12Oiz+DjxHD74yLP/viujGDi4s/EggLfxeKiz/YRDaqrIiLP6LXcbJCh4s/hfXzltmFiz/qyPNWcYSLPxNwqfEJg4s/rPtNZqOBiz9bbRu0PYCLP1W2TNrYfos/8bUd2HR9iz9GOMusEXyLP7/0kleveos/wIyz1015iz9Aimws7XeLP3Je/lSNdos/ZGCqUC51iz+ry7Ie0HOLPwu/Wr5ycos/JDvmLhZxiz8gIZpvum+LP2YxvH9fbos/SgqTXgVtiz/KJmYLrGuLPzvdfYVTaos/Dl4jzPtoiz+IsqDepGeLP367QLxOZos/HTBPZPlkiz+onBjWpGOLPz9h6hBRYos/p7ASFP5giz8Uj+Deq1+LP/bQo3BaXos/wxmtyAldiz/M2k3muVuLPwxS2MhqWos/AImfbxxZiz95U/fZzleLP3dONAeCVos/BN+r9jVViz8PMbSn6lOLP0s2pBmgUos/EKXTS1ZRiz8895o9DVCLPxlpU+7ETos/QvhWXX1Niz+NYgCKNkyLP/Mkq3PwSos/fHqzGatJiz8vW3Z7ZkiLPwB7UZgiR4s/wEijb99Fiz8X7coAnUSLP25JKEtbQ4s/8vYbThpCiz+CRQcJ2kCLP7Q6THuaP4s/xpBNpFs+iz+mtW6DHT2LP+3JExjgO4s/3p+hYaM6iz9wun1fZzmLP0pMDhEsOIs/1Da6dfE2iz82CemMtzWLP2T/AlZ+NIs/LwFx0EUziz9JoZz7DTKLP1wc8NbWMIs/E1jWYaAviz804rqbai6LP6rvCYQ1LYs/o1swGgEsiz+fpptdzSqLP431uU2aKYs/4hD66Wcoiz+2Y8sxNieLP976nSQFJos/DoTiwdQkiz/0TAoJpSOLP1tCh/l1Ios/T+/Lkkchiz9AfEvUGSCLPySueb3sHos/o+XKTcAdiz89HrSElByLP3LtqmFpG4s/8IEl5D4aiz+7opoLFRmLP2GugdfrF4s/IppSR8MWiz8n8YVamxWLP67TlBB0FIs/Qvb4aE0Tiz/toCxjJxKLP2uuqv4BEYs/aIvuOt0Piz+yNXQXuQ6LP3Q7uJOVDYs/dbo3r3IMiz9NX3BpUAuLP6lk4MEuCos/hpIGuA0Jiz9wPWJL7QeLP8dFc3vNBos//ha6R64Fiz/gprevjwSLP9N07bJxA4s/IIndUFQCiz86dAqJNwGLPwJO91obAIs/GLUnxv/+ij8ezh/K5P2KPwlDZGbK/Io/akJ6mrD7ij++fudll/qKP74tMsh++Yo/rgfhwGb4ij+rRntPT/eKPwWmiHM49oo/imGRLCL1ij/iNB56DPSKP+BauFv38oo/14zp0OLxij/6ATzZzvCKP6puOnS774o/2ANwoajuij9ebmhglu2KP1jWr7CE7Io/gt7SkXPrij+Zo14DY+qKP7a74ART6Yo/sTXnlUPoij9/mAC2NOeKP5biu2Qm5oo/TomooRjlij9HeFZsC+SKP84QVsT+4oo/Pik4qfLhij9uDI4a5+CKPxF56Rfc34o/JqHcoNHeij9bKfq0x92KP3so1VO+3Io/2SYBfbXbij+8HRIwrdqKP8l2nGyl2Yo/eQs1Mp7Yij9+JHGAl9eKPzp55laR1oo/LC8rtYvVij9k2dWahtSKP/N3fQeC04o/YXe5+n3Sij8csCF0etGKP/VlTnN30Io/j0fY93TPij/WbVgBc86KP3xbaI9xzYo/avyhoXDMij8/pZ83cMuKP8gS/FBwyoo/eGlS7XDJij/mND4McsiKP0xnW61zx4o//VhG0HXGij/px5t0eMWKPxvX+Jl7xIo/NA77P3/Dij/wWEBmg8KKP6YGZwyIwYo/xckNMo3Aij9ft9PWkr+KP6RGWPqYvoo/a1A7nJ+9ij+1Dh28pryKPzEcnlmuu4o/xXNfdLa6ij8TcAIMv7mKPwDLKCDIuIo/P510sNG3ij/WXYi827aKP6rhBkTmtYo/DFuTRvG0ij89WdHD/LOKPwDIZLsIs4o/Ju/xLBWyij8Wch0YIrGKP2FPjHwvsIo/S+DjWT2vij9f2MmvS66KP/xE5H1arYo/5IzZw2msij/Sb1CBeauKPwYG8LWJqoo/279fYZqpij9YZUeDq6iKP8cVTxu9p4o/REcfKc+mij9WxmCs4aWKP4K1vKT0pIo/44zcEQikij/BGWrzG6OKPyZ+D0kwooo/dTB3EkWhij8J+0tPWqCKP8f7OP9vn4o/uqPpIYaeij+utgm3nJ2KP85KRb6znIo/NshIN8ubij+a6MAh45qKP9u2Wn37mYo/qI7DSRSZij8ZHKmGLZiKP1FbuTNHl4o/GJiiUGGWij+BbRPde5WKP4DFutiWlIo/lthHQ7KTij9qLWoczpKKP2yY0WPqkYo/ejsuGQeRij+AhTA8JJCKPxwyicxBj4o/QUnpyV+Oij/cHgI0fo2KP3pShQqdjIo/6c4kTbyLij/iyZL724qKP6/DgRX8iYo/zYakmhyJij+ZJ66KPYiKP/YDUuVeh4o/88JDqoCGij93VDfZooWKP+bw4HHFhIo/0hj1c+iDij+alCjfC4OKPyJ0MLMvgoo/dA7C71OBij9tAZOUeICKP24xWaGdf4o/BcnKFcN+ij+aOJ7x6H2KPx42ijQPfYo/t7xF3jV8ij9uDIjuXHuKP+KpCGWEeoo/811/Qax5ij9zNaSD1HiKP9eALyv9d4o/5dPZNyZ3ij9qBVypT3aKP+cub395dYo/Q6zMuaN0ij+AGy5YznOKP21cTVr5coo/V5DkvyRyij+/Ga6IUHGKPw2cZLR8cIo/RvvCQqlvij++W4Qz1m6KP84hZIYDboo/jPEdOzFtij9/rm1RX2yKP1Z7D8mNa4o/n7m/obxqij98CTvb62mKP2BJPnUbaYo/wZWGb0toij/VSNHJe2eKP0n624OsZoo/935knd1lij+o6CgWD2WKP8WF5+1AZIo/FuFeJHNjij98wU25pWKKP60pc6zYYYo/7FeO/Qthij/KxV6sP2CKP9wnpLhzX4o/gG0eIqheij+PwI3o3F2KPyWFsgsSXYo/WFlNi0dcij/2FB9nfVuKP0jJ6J6zWoo/zcBrMupZij/5fmkhIVmKP/a/o2tYWIo/ZHjcEJBXij8U1dUQyFaKP9I6UmsAVoo/HEYUIDlVij/qyt4uclSKP2vUdJerU4o/yaSZWeVSij/qtBB1H1KKPzS0nelZUYo/TYgEt5RQij/iTAndz0+KP2ZTcFsLT4o/2SL+MUdOij+Kd3dgg02KP9tCoea/TIo/CqtAxPxLij/uChv5OUuKP8bx9YR3Soo/9iKXZ7VJij/QlcSg80iKP1x1RDAySIo/HSDdFXFHij/XJ1VRsEaKP1ZRc+LvRYo/OZT+yC9Fij+yGr4EcESKP1hBeZWwQ4o/55b3evFCij8K3AC1MkKKPyoDXUN0QYo/LTDUJbZAij9JuC5c+D+KP8ghNeY6P4o/0iOww30+ij87pmj0wD2KP0rBJ3gEPYo/hL22Tkg8ij96E993jDuKP5BravPQOoo/zp0iwRU6ij+ksdHgWjmKP8DdQVKgOIo/04c9FeY3ij9eRI8pLDeKP4XWAY9yNoo/1C9gRbk1ij8UcHVMADWKPxLlDKRHNIo/cgryS48zij98ifBD1zKKP+c41IsfMoo/rxxpI2gxij/aZXsKsTCKP1Jy10D6L4o/rcxJxkMvij/8K5+ajS6KP6RzpL3XLYo/I7MmLyItij/nJfPubCyKPx4z1/y3K4o/hW2gWAMrij88kxwCTyqKP5ONGfmaKYo/4HBlPecoij9QfM7OMyiKP7YZI62AJ4o/Yd0x2M0mij/thclPGyaKPxT8uBNpJYo/h1LPI7ckij+5xdt/BSSKP7m7rSdUI4o/AsQUG6Miij9Ql+BZ8iGKP3cX4eNBIYo/ME/muJEgij/1ccDY4R+KP9TbP0MyH4o/QBE1+IIeij/svnD30x2KP5u5w0AlHYo/+f3+03Ycij9wsPOwyBuKP/8cc9caG4o/DrdOR20aij9HGVgAwBmKP2kFYQITGYo/JGQ7TWYYij/rRLnguReKP8/drLwNF4o/VYvo4GEWij9N0D5NthWKP6pVggELFYo/XuqF/V8Uij8qgxxBtROKP346GcwKE4o/UFBPnmASij/yKZK3thGKP+xRtRcNEYo/2neMvmMQij89cOurug+KP1s0pt8RD4o/GOKQWWkOij/Ou38ZwQ2KPyYoRx8ZDYo/97G7anEMij8dCLL7yQuKP1X9/tEiC4o/Foh37XsKij9vwvBN1QmKP9/pP/MuCYo/Nl863YgIij9nprUL4weKP3Bmh349B4o/KWmFNZgGij8sm4Uw8wWKP6kLXm9OBYo/R+zk8akEij/9kPC3BQSKP/NvV8FhA4o/WyHwDb4Cij9SX5GdGgKKP7kFEnB3AYo/FxJJhdQAij9yow3dMQCKPzL6NneP/4k/+XecU+3+iT+HnxVyS/6JP5UUetKp/Yk/tJuhdAj9iT8qGmRYZ/yJP9SVmX3G+4k/BTUa5CX7iT9gPr6LhfqJP70YXnTl+Yk/BkvSnUX5iT8WfPMHpviJP5tymrIG+Ik/8hSgnWf3iT8Jad3IyPaJP0SUKzQq9ok/U9tj34v1iT8col/K7fSJP5Zr+PRP9Ik/rtkHX7LziT8irWcIFfOJP2jF8fB38ok/jSCAGNvxiT8U2+x+PvGJP90vEiSi8Ik/AHjKBwbwiT+0KvApau+JPy7dXYrO7ok/hULuKDPuiT+SK3wFmO2JP9SG4h/97Ik/UmD8d2LsiT9/4aQNyOuJPxlRt+At64k/ERMP8ZPqiT9pqIc++umJPxqv/Mhg6Yk/+OFJkMfoiT+SGEuULuiJPxtH3NSV54k/Rn7ZUf3miT8z6x4LZeaJP0vXiADN5Yk/KajzMTXliT963zufneSJP+caPkgG5Ik/9BPXLG/jiT/pn+NM2OKJP7KvQKhB4ok/yU/LPqvhiT8WqGAQFeGJP9n73Rx/4Ik/iqkgZOnfiT/FKgbmU9+JPycUbKK+3ok/OxUwmSneiT9c+C/KlN2JP5yiSTUA3Yk/qRNb2mvciT+0ZUK519uJP1fN3dFD24k/fJkLJLDaiT8/M6qvHNqJP90dmHSJ2Yk/kvazcvbYiT+GdNypY9iJP69o8BnR14k/vb3Owj7XiT/9d1akrNaJP0C1Zr4a1ok/yazeEInViT8qr52b99SJPzQmg15m1Ik/3JRuWdXTiT8glz+MRNOJP/Xh1faz0ok/KEMRmSPSiT9LodFyk9GJP5z79oMD0Yk/7GlhzHPQiT+KHPFL5M+JPydchgJVz4k/xIkB8MXOiT+ZHkMUN86JP/urK2+ozYk/SNubABrNiT/PbXTIi8yJP7k8lsb9y4k/9Dji+m/LiT8aazll4sqJP1vzfAVVyok/ZgmO28fJiT9X/E3nOsmJP5oyniiuyIk/2SlgnyHIiT/ndnVLlceJP6XFvywJx4k/89ggQ33GiT+TinqO8cWJPxrLrg5mxYk/1qGfw9rEiT+5LC+tT8SJP0egP8vEw4k/fEezHTrDiT+6g2ykr8KJP7TMTV8lwok/VbA5TpvBiT+z0hJxEcGJP/Dtu8eHwIk/L9IXUv6/iT94ZQkQdb+JP6ejcwHsvok/WZ45JmO+iT/TfD5+2r2JP/F7ZQlSvYk/E+6Rx8m8iT8FO6e4QbyJP+7fiNy5u4k/Om8aMzK7iT+KkD+8qrqJP5oA3Hcjuok/NZHTZZy5iT8aKQqGFbmJP+3DY9iOuIk/I3LEXAi4iT/uWBATgreJPymyK/v7tok/R8z6FHa2iT8/CmJg8LWJP3fjRd1qtYk/tOOKi+W0iT8GqxVrYLSJP7btynvbs4k/MHSPvVaziT/4Gkgw0rKJP4zS2dNNsok/Xp8pqMmxiT+5mRytRbGJP7Htl+LBsIk/FNuASD6wiT9Stbzeuq+JP3LjMKU3r4k/+N/Cm7SuiT/cOFjCMa6JP3CP1hivrYk/VJgjnyytiT9hGyVVqqyJP5rzwDoorIk/GA/dT6ariT/8bl+UJKuJP1knLgijqok/J18vqyGqiT8uUEl9oKmJP/lGYn4fqYk/w6Jgrp6oiT9k1SoNHqiJP0Rjp5qdp4k/RuO8Vh2niT+8/lFBnaaJP1NxTVodpok/AQmWoZ2liT/5pRIXHqWJP5c6qrqepIk/UstDjB+kiT+obsaLoKOJPxRNGbkho4k/9KAjFKOiiT+GtsycJKKJP8rr+1KmoYk/fbCYNiihiT8EhopHqqCJP1v/uIUsoIk/CsEL8a6fiT8QgWqJMZ+JP9gGvU60nok/JSvrQDeeiT8H2Nxfup2JP8YIeqs9nYk/2cmqI8GciT/ROFfIRJyJP0+EZ5nIm4k/7uvDlkybiT88wFTA0JqJP6RiAhZVmok/Y0W1l9mZiT9261VFXpmJP5HozB7jmIk/BuECJGiYiT/CieBU7ZeJPzaoTrFyl4k/ShI2OfiWiT9Rrn/sfZaJP/lyFMsDlok/PGfd1ImViT9QosMJEJWJP51LsGmWlIk/rJqM9ByUiT8a10Gqo5OJP4VYuYoqk4k/h4bclbGSiT+f2JTLOJKJPyjWyyvAkYk/SxZrtkeRiT/uP1xrz5CJP6oJiUpXkIk/uznbU9+PiT/wpTyHZ4+JP6Qzl+Tvjok/q9fUa3iOiT9Flt8cAY6JPxKDofeJjYk/BMEE/BKNiT9RgvMpnIyJP2kIWIEljIk/4qMcAq+LiT9ytCusOIuJP9yob3/Ciok/6v7Se0yKiT9VQ0Ch1omJP8URou9giYk/uhTjZuuIiT+CBe4GdoiJPzCsrc8AiIk/id8MwYuHiT/8hPbaFoeJP5SQVR2ihok/6gQViC2GiT8Z8x8buYWJP7R6YdZEhYk/tMnEudCEiT90HDXFXISJP5q9nfjog4k/FQbqU3WDiT8JXQXXAYOJP8c324GOgok/wBlXVBuCiT92lGROqIGJP3hH7281gYk/SeDiuMKAiT9hGispUICJPxm/s8Ddf4k/o6Vof2t/iT/6sjVl+X6JP93ZBnKHfok/uxrIpRV+iT+vg2UApH2JP24wy4EyfYk/QErlKcF8iT/yB6D4T3yJP8ut5+3ee4k/gY2oCW57iT8uBs9L/XqJP0OER7SMeok/fYH+Qhx6iT/bhOD3q3mJP5Ii2tI7eYk/AvzX08t4iT+rv8b6W3iJPyApk0fsd4k/AAEqunx3iT/lHHhSDXeJP2BfahCedok/6Lft8y52iT/VIu/8v3WJP06pWytRdYk/Q2Egf+J0iT9kbSr4c3SJPxD9ZpYFdIk/UEzDWZdziT/KoyxCKXOJP7ZYkE+7cok/1czbgU1yiT9kbvzY33GJPxW431RycYk/AjFz9QRxiT+jbKS6l3CJP8QKYaQqcIk/e7eWsr1viT8dKzPlUG+JPzUqJDzkbok/eYVXt3duiT++GbtWC26JP/HPPBqfbYk/DZ3KATNtiT8OglINx2yJP+iLwjxbbIk/gNMIkO9riT+efRMHhGuJP+a60KEYa4k/zccuYK1qiT+O7BtCQmqJPyN9hkfXaYk/OdlccGxpiT8obI28AWmJP+isBiyXaIk/CB63vixoiT+kTY10wmeJP1zVd01YZ4k/TFplSe5miT/9jERohGaJP2MpBKoaZok/z/aSDrFliT/mx9+VR2WJP5h62T/eZIk/GvhuDHVkiT/XNI/7C2SJP2owKQ2jY4k/lfUrQTpjiT84moaX0WKJP0c/KBBpYok/wBAAqwBiiT+lRf1nmGGJP+4fD0cwYYk/iOwkSMhgiT9EAy5rYGCJP9HGGbD4X4k/taTXFpFfiT9CFVefKV+JP5Cbh0nCXok/bsVYFVteiT9hK7oC9F2JP5dwmxGNXYk/3ULsQSZdiT+bWpyTv1yJP8h6mwZZXIk/4nDZmvJbiT/mFEZQjFuJP0hJ0SYmW4k/5/pqHsBaiT8LIQM3WlqJP1i9iXD0WYk/xNvuyo5ZiT+VkiJGKVmJP1MCFeLDWIk/wVW2nl5YiT/YwfZ7+VeJP7qFxnmUV4k/rOoVmC9XiT8QRNXWylaJP1nv9DVmVok/BVRltQFWiT+V4xZVnVWJP4QZ+hQ5VYk/Qnv/9NRUiT8mmBf1cFSJP2wJMxUNVIk/KnJCValTiT9Lfza1RVOJP4Ln/zTiUok/R2uP1H5SiT/O1NWTG1KJP/z3w3K4UYk/ZrJKcVVRiT9D61qP8lCJP2eT5cyPUIk/OaXbKS1QiT+yJC6myk+JP0wfzkFoT4k/Aqys/AVPiT9F67rWo06JP/UG6s9BTok/WjIr6N9NiT8dqm8ffk2JPz20qHUcTYk/DqDH6rpMiT8rxr1+WUyJP3WIfDH4S4k/BVL1ApdLiT8rlxnzNUuJP2PV2gHVSok/TZMqL3RKiT+pYPp6E0qJP1DWO+WySYk/JpbgbVJJiT8fS9oU8kiJPyqpGtqRSIk/Nm2TvTFIiT8iXTa/0UeJP75H9d5xR4k/uwTCHBJHiT+sdI54skaJP/uATPJSRok/5BvuifNFiT9qQGU/lEWJP1byoxI1RYk/Lj6cA9ZEiT8qOUASd0SJPzQBgj4YRIk/3LxTiLlDiT9Vm6fvWkOJP2vUb3T8Qok/fqieFp5CiT98YCbWP0KJP9lN+bLhQYk/icoJrYNBiT/4OErEJUGJPwgErfjHQIk/A58kSmpAiT+chaO4DECJP+Q7HESvP4k/Q06B7FE/iT92UcWx9D6JP4Xi2pOXPok/vKa0kjo+iT+mS0Wu3T2JPwmHf+aAPYk/3BZWOyQ9iT9BwbusxzyJP4BUozprPIk/Aaf/5A48iT9Gl8OrsjuJP+ML4o5WO4k/ePNNjvo6iT+sRPqpnjqJPyj+2eFCOok/jCbgNec5iT9wzP+lizmJP1gGLDIwOYk/r/JX2tQ4iT/Et3aeeTiJP8CDe34eOIk/pIxZesM3iT9AEASSaDeJPy5UbsUNN4k/y6WLFLM2iT8zWk9/WDaJPzvOrAX+NYk/amaXp6M1iT/xjgJlSTWJP6y74T3vNIk/E2goMpU0iT8+F8pBOzSJP9dTumzhM4k/GLDssocziT/FxVQULjOJPyc25pDUMok/BKqUKHsyiT+b0VPbITKJP59kF6nIMYk/LyLTkW8xiT/U0HqVFjGJP3Y+ArS9MIk/XEBd7WQwiT8ks39BDDCJP716XbCzL4k/YoLqOVsviT+VvBreAi+JPxgj4pyqLok/6rY0dlIuiT9BgAZq+i2JP4COS3iiLYk/Ofj3oEotiT8j2//j8iyJPxVcV0GbLIk/AqfyuEMsiT/z7sVK7CuJPwBuxfaUK4k/UGXlvD0riT8NHRqd5iqJP2PkV5ePKok/eRGTqzgqiT9uAcDZ4SmJP08Y0yGLKYk/GsHAgzQpiT+wbX3/3SiJP9SW/ZSHKIk/KLw1RDEoiT8kZBoN2yeJPxMcoO+EJ4k/DHi76y4niT/xEmEB2SaJP2SOhTCDJok/yJIdeS0miT84zx3b1yWJP4X5elaCJYk/LM4p6ywliT9ZEB+Z1ySJP9mJT2CCJIk/HQuwQC0kiT8vazU62COJP7OH1EyDI4k/20SCeC4jiT9qjTO92SKJP6hS3RqFIok/Y4x0kTAiiT/mOO4g3CGJP/hcP8mHIYk/0gNdijMhiT8gPzxk3yCJP/gm0laLIIk/2dkTYjcgiT+ifPaF4x+JP5E6b8KPH4k/PUVzFzwfiT+Q1PeE6B6JP8Um8gqVHok/YYBXqUEeiT8xLB1g7h2JP0J7OC+bHYk/3sSeFkgdiT+MZkUW9RyJPwDEIS6iHIk/JUcpXk8ciT8MYFGm/BuJP++EjwaqG4k/KjLZflcbiT826iMPBRuJP6Y1ZbeyGok/IaOSd2AaiT9gx6FPDhqJPyY9iD+8GYk/QaU7R2oZiT99prFmGBmJP6rt353GGIk/kS287HQYiT/vHjxTIxiJP3aAVdHRF4k/xRb+ZoAXiT9krCsULxeJP74R1NjdFok/Ix3ttIwWiT+9qmyoOxaJP4+cSLPqFYk/cNp21ZkViT8HUu0OSRWJP8f2oV/4FIk/68GKx6cUiT9xsp1GVxSJPxfN0NwGFIk/VBwairYTiT9asG9OZhOJPwqfxykWE4k/9wMYHMYSiT9dAFcldhKJPyC7ekUmEok/xmB5fNYRiT91I0nKhhGJP+w64C43EYk/gOQ0qucQiT8dYz08mBCJPzn/7+RIEIk/1wZDpPkPiT+CzSx6qg+JP0Wso2ZbD4k/rAGeaQwPiT+9MRKDvQ6JP/il9rJuDok/S81B+R8OiT8ZHOpV0Q2JPy0M5siCDYk/vBwsUjQNiT9b0rLx5QyJPwW3cKeXDIk/DFpcc0kMiT8dUGxV+wuJPzozl02tC4k/tKLTW18LiT8qQxiAEQuJP4e+W7rDCok/+MOUCnYKiT/tB7pwKAqJPxVEwuzaCYk/WTekfo0JiT/apVYmQAmJP+tY0OPyCIk/Dh8It6UIiT/zy/SfWAiJP3A4jZ4LCIk/gkLIsr4HiT9FzZzccQeJP/PAARwlB4k/4ArucNgGiT93nVjbiwaJPzVwOFs/Bok/pn+E8PIFiT9izTObpgWJPwpgPVtaBYk/QEOYMA4FiT+rhzsbwgSJP+9CHht2BIk/qY83MCoEiT9sjX5a3gOJP8Bg6pmSA4k/GzNy7kYDiT/hMg1Y+wKJP12TstavAok/woxZamQCiT8iXPkSGQKJP3BDidDNAYk/eYkAo4IBiT/ieVaKNwGJPyZlgobsAIk/jqB7l6EAiT80hjm9VgCJP/x0s/cLAIk/kNDgRsH/iD9eAbmqdv+IP5Z0MyMs/4g/I5xHsOH+iD+t7uxRl/6IP5DnGghN/og/3gbJ0gL+iD9X0e6xuP2IP2rQg6Vu/Yg/L5J/rST9iD9jqdnJ2vyIP2qtifqQ/Ig/RjqHP0f8iD+V8MmY/fuIP5F1SQa0+4g/\"},\"shape\":[1800],\"dtype\":\"float64\",\"order\":\"little\"}]]}}},\"view\":{\"type\":\"object\",\"name\":\"CDSView\",\"id\":\"p26314\",\"attributes\":{\"filter\":{\"type\":\"object\",\"name\":\"AllIndices\",\"id\":\"p26315\"}}},\"glyph\":{\"type\":\"object\",\"name\":\"Line\",\"id\":\"p26310\",\"attributes\":{\"tags\":[\"apply_ranges\"],\"x\":{\"type\":\"field\",\"field\":\"x\"},\"y\":{\"type\":\"field\",\"field\":\"y\"},\"line_color\":\"#fc4f30\",\"line_width\":2}},\"selection_glyph\":{\"type\":\"object\",\"name\":\"Line\",\"id\":\"p26317\",\"attributes\":{\"tags\":[\"apply_ranges\"],\"x\":{\"type\":\"field\",\"field\":\"x\"},\"y\":{\"type\":\"field\",\"field\":\"y\"},\"line_color\":\"#fc4f30\",\"line_width\":2}},\"nonselection_glyph\":{\"type\":\"object\",\"name\":\"Line\",\"id\":\"p26311\",\"attributes\":{\"tags\":[\"apply_ranges\"],\"x\":{\"type\":\"field\",\"field\":\"x\"},\"y\":{\"type\":\"field\",\"field\":\"y\"},\"line_color\":\"#fc4f30\",\"line_alpha\":0.1,\"line_width\":2}},\"muted_glyph\":{\"type\":\"object\",\"name\":\"Line\",\"id\":\"p26312\",\"attributes\":{\"tags\":[\"apply_ranges\"],\"x\":{\"type\":\"field\",\"field\":\"x\"},\"y\":{\"type\":\"field\",\"field\":\"y\"},\"line_color\":\"#fc4f30\",\"line_alpha\":0.2,\"line_width\":2}}}}],\"toolbar\":{\"type\":\"object\",\"name\":\"Toolbar\",\"id\":\"p26226\",\"attributes\":{\"tools\":[{\"type\":\"object\",\"name\":\"HoverTool\",\"id\":\"p26218\",\"attributes\":{\"tags\":[\"hv_created\"],\"renderers\":[{\"id\":\"p26283\"},{\"id\":\"p26299\"},{\"id\":\"p26313\"}],\"tooltips\":[[\"x\",\"@{x}\"],[\"y\",\"@{y}\"]]}},{\"type\":\"object\",\"name\":\"SaveTool\",\"id\":\"p26251\"},{\"type\":\"object\",\"name\":\"PanTool\",\"id\":\"p26252\"},{\"type\":\"object\",\"name\":\"WheelZoomTool\",\"id\":\"p26253\"},{\"type\":\"object\",\"name\":\"BoxZoomTool\",\"id\":\"p26254\",\"attributes\":{\"overlay\":{\"type\":\"object\",\"name\":\"BoxAnnotation\",\"id\":\"p26255\",\"attributes\":{\"syncable\":false,\"level\":\"overlay\",\"visible\":false,\"left_units\":\"canvas\",\"right_units\":\"canvas\",\"bottom_units\":\"canvas\",\"top_units\":\"canvas\",\"line_color\":\"black\",\"line_alpha\":1.0,\"line_width\":2,\"line_dash\":[4,4],\"fill_color\":\"lightgrey\",\"fill_alpha\":0.5}}}},{\"type\":\"object\",\"name\":\"ResetTool\",\"id\":\"p26256\"}],\"active_drag\":{\"id\":\"p26252\"},\"active_scroll\":{\"id\":\"p26253\"}}},\"left\":[{\"type\":\"object\",\"name\":\"LinearAxis\",\"id\":\"p26244\",\"attributes\":{\"ticker\":{\"type\":\"object\",\"name\":\"BasicTicker\",\"id\":\"p26247\",\"attributes\":{\"mantissas\":[1,2,5]}},\"formatter\":{\"type\":\"object\",\"name\":\"BasicTickFormatter\",\"id\":\"p26245\"},\"axis_label\":\"y\",\"axis_label_text_font_size\":\"19.5px\",\"major_label_policy\":{\"type\":\"object\",\"name\":\"AllLabels\",\"id\":\"p26246\"},\"major_label_text_font_size\":\"16.5px\"}}],\"below\":[{\"type\":\"object\",\"name\":\"LinearAxis\",\"id\":\"p26237\",\"attributes\":{\"ticker\":{\"type\":\"object\",\"name\":\"BasicTicker\",\"id\":\"p26240\",\"attributes\":{\"mantissas\":[1,2,5]}},\"formatter\":{\"type\":\"object\",\"name\":\"BasicTickFormatter\",\"id\":\"p26238\"},\"axis_label\":\"ToT2 (ns)\",\"axis_label_text_font_size\":\"19.5px\",\"major_label_policy\":{\"type\":\"object\",\"name\":\"AllLabels\",\"id\":\"p26239\"},\"major_label_text_font_size\":\"16.5px\"}}],\"center\":[{\"type\":\"object\",\"name\":\"Grid\",\"id\":\"p26243\",\"attributes\":{\"axis\":{\"id\":\"p26237\"},\"ticker\":{\"id\":\"p26240\"}}},{\"type\":\"object\",\"name\":\"Grid\",\"id\":\"p26250\",\"attributes\":{\"dimension\":1,\"axis\":{\"id\":\"p26244\"},\"ticker\":{\"id\":\"p26247\"}}},{\"type\":\"object\",\"name\":\"Legend\",\"id\":\"p26286\",\"attributes\":{\"title_text_font_size\":\"19.5px\",\"click_policy\":\"mute\",\"label_text_font_size\":\"19.5px\",\"items\":[{\"type\":\"object\",\"name\":\"LegendItem\",\"id\":\"p26287\",\"attributes\":{\"label\":{\"type\":\"value\",\"value\":\"fit parameter A\"},\"renderers\":[{\"id\":\"p26283\"},{\"id\":\"p26299\"}]}},{\"type\":\"object\",\"name\":\"LegendItem\",\"id\":\"p26316\",\"attributes\":{\"label\":{\"type\":\"value\",\"value\":\"1.90e+00, -1.36e+02, 1.12e-02\"},\"renderers\":[{\"id\":\"p26313\"}]}}]}}],\"min_border_top\":10,\"min_border_bottom\":10,\"min_border_left\":10,\"min_border_right\":10,\"output_backend\":\"webgl\"}},{\"type\":\"object\",\"name\":\"Spacer\",\"id\":\"p26346\",\"attributes\":{\"name\":\"HSpacer68929\",\"stylesheets\":[\"\\n:host(.pn-loading.pn-arc):before, .pn-loading.pn-arc:before {\\n  background-image: url(\\\"data:image/svg+xml;base64,PHN2ZyB4bWxucz0iaHR0cDovL3d3dy53My5vcmcvMjAwMC9zdmciIHN0eWxlPSJtYXJnaW46IGF1dG87IGJhY2tncm91bmQ6IG5vbmU7IGRpc3BsYXk6IGJsb2NrOyBzaGFwZS1yZW5kZXJpbmc6IGF1dG87IiB2aWV3Qm94PSIwIDAgMTAwIDEwMCIgcHJlc2VydmVBc3BlY3RSYXRpbz0ieE1pZFlNaWQiPiAgPGNpcmNsZSBjeD0iNTAiIGN5PSI1MCIgZmlsbD0ibm9uZSIgc3Ryb2tlPSIjYzNjM2MzIiBzdHJva2Utd2lkdGg9IjEwIiByPSIzNSIgc3Ryb2tlLWRhc2hhcnJheT0iMTY0LjkzMzYxNDMxMzQ2NDE1IDU2Ljk3Nzg3MTQzNzgyMTM4Ij4gICAgPGFuaW1hdGVUcmFuc2Zvcm0gYXR0cmlidXRlTmFtZT0idHJhbnNmb3JtIiB0eXBlPSJyb3RhdGUiIHJlcGVhdENvdW50PSJpbmRlZmluaXRlIiBkdXI9IjFzIiB2YWx1ZXM9IjAgNTAgNTA7MzYwIDUwIDUwIiBrZXlUaW1lcz0iMDsxIj48L2FuaW1hdGVUcmFuc2Zvcm0+ICA8L2NpcmNsZT48L3N2Zz4=\\\");\\n  background-size: auto calc(min(50%, 400px));\\n}\",{\"id\":\"p26214\"},{\"id\":\"p26212\"},{\"id\":\"p26213\"}],\"margin\":0,\"sizing_mode\":\"stretch_width\",\"align\":\"start\"}}]}}],\"callbacks\":{\"type\":\"map\"}}};\n",
       "  var render_items = [{\"docid\":\"d5d206b2-20fc-4997-b46f-fb1fa5d84ab8\",\"roots\":{\"p26211\":\"f5c6e3c0-7c1a-43c8-80b9-197dae2dec0a\"},\"root_ids\":[\"p26211\"]}];\n",
       "  var docs = Object.values(docs_json)\n",
       "  if (!docs) {\n",
       "    return\n",
       "  }\n",
       "  const py_version = docs[0].version.replace('rc', '-rc.').replace('.dev', '-dev.')\n",
       "  const is_dev = py_version.indexOf(\"+\") !== -1 || py_version.indexOf(\"-\") !== -1\n",
       "  function embed_document(root) {\n",
       "    var Bokeh = get_bokeh(root)\n",
       "    Bokeh.embed.embed_items_notebook(docs_json, render_items);\n",
       "    for (const render_item of render_items) {\n",
       "      for (const root_id of render_item.root_ids) {\n",
       "\tconst id_el = document.getElementById(root_id)\n",
       "\tif (id_el.children.length && (id_el.children[0].className === 'bk-root')) {\n",
       "\t  const root_el = id_el.children[0]\n",
       "\t  root_el.id = root_el.id + '-rendered'\n",
       "\t}\n",
       "      }\n",
       "    }\n",
       "  }\n",
       "  function get_bokeh(root) {\n",
       "    if (root.Bokeh === undefined) {\n",
       "      return null\n",
       "    } else if (root.Bokeh.version !== py_version && !is_dev) {\n",
       "      if (root.Bokeh.versions === undefined || !root.Bokeh.versions.has(py_version)) {\n",
       "\treturn null\n",
       "      }\n",
       "      return root.Bokeh.versions.get(py_version);\n",
       "    } else if (root.Bokeh.version === py_version) {\n",
       "      return root.Bokeh\n",
       "    }\n",
       "    return null\n",
       "  }\n",
       "  function is_loaded(root) {\n",
       "    var Bokeh = get_bokeh(root)\n",
       "    return (Bokeh != null && Bokeh.Panel !== undefined)\n",
       "  }\n",
       "  if (is_loaded(root)) {\n",
       "    embed_document(root);\n",
       "  } else {\n",
       "    var attempts = 0;\n",
       "    var timer = setInterval(function(root) {\n",
       "      if (is_loaded(root)) {\n",
       "        clearInterval(timer);\n",
       "        embed_document(root);\n",
       "      } else if (document.readyState == \"complete\") {\n",
       "        attempts++;\n",
       "        if (attempts > 200) {\n",
       "          clearInterval(timer);\n",
       "\t  var Bokeh = get_bokeh(root)\n",
       "\t  if (Bokeh == null || Bokeh.Panel == null) {\n",
       "            console.warn(\"Panel: ERROR: Unable to run Panel code because Bokeh or Panel library is missing\");\n",
       "\t  } else {\n",
       "\t    console.warn(\"Panel: WARNING: Attempting to render but not all required libraries could be resolved.\")\n",
       "\t    embed_document(root)\n",
       "\t  }\n",
       "        }\n",
       "      }\n",
       "    }, 25, root)\n",
       "  }\n",
       "})(window);</script>"
      ],
      "text/plain": [
       ":Overlay\n",
       "   .Curve.Fit_parameter_A                                                                                            :Curve   [x]   (y)\n",
       "   .Scatter.Fit_parameter_A                                                                                          :Scatter   [x]   (y)\n",
       "   .Curve.A_1_full_stop_90e_plus_00_comma_hyphen_minus_1_full_stop_36e_plus_02_comma_1_full_stop_12e_hyphen_minus_02 :Curve   [x]   (y)"
      ]
     },
     "execution_count": 113,
     "metadata": {
      "application/vnd.holoviews_exec.v0+json": {
       "id": "p26211"
      }
     },
     "output_type": "execute_result"
    }
   ],
   "source": [
    "model = lambda ToT, d, B, g: d / (ToT + B) + g\n",
    "popt, _ = curve_fit(model, params_expfit['ToT2'][1:], params_expfit['A'][1:], p0=[6, 39, 8e-3])\n",
    "x_axe = range(200, 2000)\n",
    "\n",
    "a = hv.Curve((params_expfit['ToT2'], params_expfit['c']), label=f'fit parameter c: median={params_expfit[\"c\"].median():.3f}')\n",
    "b = (hv.Curve((params_expfit['ToT2'], params_expfit['A']), label=f'fit parameter A').opts(xlabel='ToT2 (ns)', fontscale=1.5) *\n",
    "     hv.Scatter((params_expfit['ToT2'], params_expfit['A']), label=f'fit parameter A').opts(size=5) *\n",
    "     hv.Curve((x_axe, model(x_axe, *popt)), label=', '.join([f'{i:.2e}' for i in popt])))\n",
    "\n",
    "#hv.Layout(a + b).opts(shared_axes=False)\n",
    "b"
   ]
  },
  {
   "attachments": {},
   "cell_type": "markdown",
   "metadata": {},
   "source": [
    "## step 4\n",
    "all parameters are together for the model\n",
    "$$\n",
    "ToT_1 \\exp(-t / c) \\left(\\frac{d}{ToT_2 + B} + g\\right)\n",
    "$$"
   ]
  },
  {
   "cell_type": "code",
   "execution_count": 114,
   "metadata": {},
   "outputs": [
    {
     "name": "stdout",
     "output_type": "stream",
     "text": [
      "c = 8.030214\n",
      "d = 1.90\n",
      "B = -135.7\n",
      "g = 0.011\n"
     ]
    }
   ],
   "source": [
    "print(f'c = {params_expfit[\"c\"][2:].median():2f}')\n",
    "print(f'd = {popt[0]:.2f}')\n",
    "print(f'B = {popt[1]:.1f}')\n",
    "print(f'g = {popt[2]:.3f}')"
   ]
  },
  {
   "cell_type": "code",
   "execution_count": 133,
   "metadata": {},
   "outputs": [
    {
     "name": "stdout",
     "output_type": "stream",
     "text": [
      "min. difference: -3.43, max. difference: 3.56\n"
     ]
    }
   ],
   "source": [
    "d = popt[0]\n",
    "B = popt[1]\n",
    "g = popt[2]\n",
    "c = params_expfit[\"c\"].median()\n",
    "t = 2\n",
    "model = lambda ToT1, ToT2, t, d, g, B: ToT1 * np.exp(-t / c) * (d / (ToT2 + B) + g)\n",
    "\n",
    "\n",
    "ToT1 = list(range(100, 2050, 100))\n",
    "ToT2 = list(range(200, 2050, 100))\n",
    "H_model = np.array([model(i, ToT2, t, d, g, B) for i in ToT1]).T[::-1]\n",
    "#a = hv.Image(H_model, bounds=[ToT1[0]-50, ToT2[0]-50, ToT1[-1]+50, ToT2[-1]+50], label=f'model: {t} µs').opts(xlabel=\"ToT1 (ns)\", ylabel=\"ToT2 (ns)\")\n",
    "\n",
    "xy_exp, x_bins, y_bins, binnumber = binned_statistic_2d(tot1_tot2['ToT1'], tot1_tot2['ToT2'], \n",
    "    tot1_tot2[f'relativ loss {t}µs'], bins=(range(50, 2150, 100), range(150, 2150, 100)))\n",
    "H_exp = xy_exp.T[::-1]\n",
    "\n",
    "H_diff = H_exp - H_model\n",
    "#c = hv.Image(H_diff,\n",
    "#    bounds=(x_bins[0], y_bins[0], x_bins[-1], y_bins[-1])).opts(title=f\"differenence (%)at {t}µs\", cmap='coolwarm', shared_axes=False)\n",
    "\n",
    "print(f\"min. difference: {np.nanmin(H_diff):.2f}, max. difference: {np.nanmax(H_diff):.2f}\")\n",
    "#(a + b + c).opts(opts.Image(xlabel='ToT1 (ns)', ylabel='ToT2 (ns)', cmap='jet', colorbar=True, clim=(0, 65), fontscale=1.5))"
   ]
  },
  {
   "cell_type": "code",
   "execution_count": 135,
   "metadata": {},
   "outputs": [
    {
     "data": {
      "text/plain": [
       "200"
      ]
     },
     "execution_count": 135,
     "metadata": {},
     "output_type": "execute_result"
    }
   ],
   "source": [
    "ToT2[0]"
   ]
  },
  {
   "cell_type": "code",
   "execution_count": 136,
   "metadata": {},
   "outputs": [
    {
     "data": {},
     "metadata": {},
     "output_type": "display_data"
    },
    {
     "data": {
      "application/vnd.holoviews_exec.v0+json": "",
      "text/html": [
       "<div id='p34775'>\n",
       "  <div id=\"a7944c51-c39f-4441-a9b7-90272521cd98\" data-root-id=\"p34775\" style=\"display: contents;\"></div>\n",
       "</div>\n",
       "<script type=\"application/javascript\">(function(root) {\n",
       "  var docs_json = {\"b9ee6811-1b4b-4529-8aaa-65fa85cec22f\":{\"version\":\"3.1.1\",\"title\":\"Bokeh Application\",\"defs\":[{\"type\":\"model\",\"name\":\"ReactiveHTML1\"},{\"type\":\"model\",\"name\":\"FlexBox1\",\"properties\":[{\"name\":\"align_content\",\"kind\":\"Any\",\"default\":\"flex-start\"},{\"name\":\"align_items\",\"kind\":\"Any\",\"default\":\"flex-start\"},{\"name\":\"flex_direction\",\"kind\":\"Any\",\"default\":\"row\"},{\"name\":\"flex_wrap\",\"kind\":\"Any\",\"default\":\"wrap\"},{\"name\":\"justify_content\",\"kind\":\"Any\",\"default\":\"flex-start\"}]},{\"type\":\"model\",\"name\":\"FloatPanel1\",\"properties\":[{\"name\":\"config\",\"kind\":\"Any\",\"default\":{\"type\":\"map\"}},{\"name\":\"contained\",\"kind\":\"Any\",\"default\":true},{\"name\":\"position\",\"kind\":\"Any\",\"default\":\"right-top\"},{\"name\":\"offsetx\",\"kind\":\"Any\",\"default\":null},{\"name\":\"offsety\",\"kind\":\"Any\",\"default\":null},{\"name\":\"theme\",\"kind\":\"Any\",\"default\":\"primary\"},{\"name\":\"status\",\"kind\":\"Any\",\"default\":\"normalized\"}]},{\"type\":\"model\",\"name\":\"GridStack1\",\"properties\":[{\"name\":\"mode\",\"kind\":\"Any\",\"default\":\"warn\"},{\"name\":\"ncols\",\"kind\":\"Any\",\"default\":null},{\"name\":\"nrows\",\"kind\":\"Any\",\"default\":null},{\"name\":\"allow_resize\",\"kind\":\"Any\",\"default\":true},{\"name\":\"allow_drag\",\"kind\":\"Any\",\"default\":true},{\"name\":\"state\",\"kind\":\"Any\",\"default\":[]}]},{\"type\":\"model\",\"name\":\"drag1\",\"properties\":[{\"name\":\"slider_width\",\"kind\":\"Any\",\"default\":5},{\"name\":\"slider_color\",\"kind\":\"Any\",\"default\":\"black\"},{\"name\":\"value\",\"kind\":\"Any\",\"default\":50}]},{\"type\":\"model\",\"name\":\"click1\",\"properties\":[{\"name\":\"terminal_output\",\"kind\":\"Any\",\"default\":\"\"},{\"name\":\"debug_name\",\"kind\":\"Any\",\"default\":\"\"},{\"name\":\"clears\",\"kind\":\"Any\",\"default\":0}]},{\"type\":\"model\",\"name\":\"FastWrapper1\",\"properties\":[{\"name\":\"object\",\"kind\":\"Any\",\"default\":null},{\"name\":\"style\",\"kind\":\"Any\",\"default\":null}]},{\"type\":\"model\",\"name\":\"NotificationAreaBase1\",\"properties\":[{\"name\":\"position\",\"kind\":\"Any\",\"default\":\"bottom-right\"},{\"name\":\"_clear\",\"kind\":\"Any\",\"default\":0}]},{\"type\":\"model\",\"name\":\"NotificationArea1\",\"properties\":[{\"name\":\"notifications\",\"kind\":\"Any\",\"default\":[]},{\"name\":\"position\",\"kind\":\"Any\",\"default\":\"bottom-right\"},{\"name\":\"_clear\",\"kind\":\"Any\",\"default\":0},{\"name\":\"types\",\"kind\":\"Any\",\"default\":[{\"type\":\"map\",\"entries\":[[\"type\",\"warning\"],[\"background\",\"#ffc107\"],[\"icon\",{\"type\":\"map\",\"entries\":[[\"className\",\"fas fa-exclamation-triangle\"],[\"tagName\",\"i\"],[\"color\",\"white\"]]}]]},{\"type\":\"map\",\"entries\":[[\"type\",\"info\"],[\"background\",\"#007bff\"],[\"icon\",{\"type\":\"map\",\"entries\":[[\"className\",\"fas fa-info-circle\"],[\"tagName\",\"i\"],[\"color\",\"white\"]]}]]}]}]},{\"type\":\"model\",\"name\":\"Notification\",\"properties\":[{\"name\":\"background\",\"kind\":\"Any\",\"default\":null},{\"name\":\"duration\",\"kind\":\"Any\",\"default\":3000},{\"name\":\"icon\",\"kind\":\"Any\",\"default\":null},{\"name\":\"message\",\"kind\":\"Any\",\"default\":\"\"},{\"name\":\"notification_type\",\"kind\":\"Any\",\"default\":null},{\"name\":\"_destroyed\",\"kind\":\"Any\",\"default\":false}]},{\"type\":\"model\",\"name\":\"TemplateActions1\",\"properties\":[{\"name\":\"open_modal\",\"kind\":\"Any\",\"default\":0},{\"name\":\"close_modal\",\"kind\":\"Any\",\"default\":0}]},{\"type\":\"model\",\"name\":\"BootstrapTemplateActions1\",\"properties\":[{\"name\":\"open_modal\",\"kind\":\"Any\",\"default\":0},{\"name\":\"close_modal\",\"kind\":\"Any\",\"default\":0}]},{\"type\":\"model\",\"name\":\"MaterialTemplateActions1\",\"properties\":[{\"name\":\"open_modal\",\"kind\":\"Any\",\"default\":0},{\"name\":\"close_modal\",\"kind\":\"Any\",\"default\":0}]}],\"roots\":[{\"type\":\"object\",\"name\":\"Row\",\"id\":\"p34775\",\"attributes\":{\"name\":\"Row85421\",\"tags\":[\"embedded\"],\"stylesheets\":[\"\\n:host(.pn-loading.pn-arc):before, .pn-loading.pn-arc:before {\\n  background-image: url(\\\"data:image/svg+xml;base64,PHN2ZyB4bWxucz0iaHR0cDovL3d3dy53My5vcmcvMjAwMC9zdmciIHN0eWxlPSJtYXJnaW46IGF1dG87IGJhY2tncm91bmQ6IG5vbmU7IGRpc3BsYXk6IGJsb2NrOyBzaGFwZS1yZW5kZXJpbmc6IGF1dG87IiB2aWV3Qm94PSIwIDAgMTAwIDEwMCIgcHJlc2VydmVBc3BlY3RSYXRpbz0ieE1pZFlNaWQiPiAgPGNpcmNsZSBjeD0iNTAiIGN5PSI1MCIgZmlsbD0ibm9uZSIgc3Ryb2tlPSIjYzNjM2MzIiBzdHJva2Utd2lkdGg9IjEwIiByPSIzNSIgc3Ryb2tlLWRhc2hhcnJheT0iMTY0LjkzMzYxNDMxMzQ2NDE1IDU2Ljk3Nzg3MTQzNzgyMTM4Ij4gICAgPGFuaW1hdGVUcmFuc2Zvcm0gYXR0cmlidXRlTmFtZT0idHJhbnNmb3JtIiB0eXBlPSJyb3RhdGUiIHJlcGVhdENvdW50PSJpbmRlZmluaXRlIiBkdXI9IjFzIiB2YWx1ZXM9IjAgNTAgNTA7MzYwIDUwIDUwIiBrZXlUaW1lcz0iMDsxIj48L2FuaW1hdGVUcmFuc2Zvcm0+ICA8L2NpcmNsZT48L3N2Zz4=\\\");\\n  background-size: auto calc(min(50%, 400px));\\n}\",{\"type\":\"object\",\"name\":\"ImportedStyleSheet\",\"id\":\"p34778\",\"attributes\":{\"url\":\"https://cdn.holoviz.org/panel/1.1.1/dist/css/loading.css\"}},{\"type\":\"object\",\"name\":\"ImportedStyleSheet\",\"id\":\"p35180\",\"attributes\":{\"url\":\"https://cdn.holoviz.org/panel/1.1.1/dist/css/listpanel.css\"}},{\"type\":\"object\",\"name\":\"ImportedStyleSheet\",\"id\":\"p34776\",\"attributes\":{\"url\":\"https://cdn.holoviz.org/panel/1.1.1/dist/bundled/theme/default.css\"}},{\"type\":\"object\",\"name\":\"ImportedStyleSheet\",\"id\":\"p34777\",\"attributes\":{\"url\":\"https://cdn.holoviz.org/panel/1.1.1/dist/bundled/theme/native.css\"}}],\"margin\":0,\"sizing_mode\":\"stretch_width\",\"align\":\"start\",\"children\":[{\"type\":\"object\",\"name\":\"Spacer\",\"id\":\"p34779\",\"attributes\":{\"name\":\"HSpacer85431\",\"stylesheets\":[\"\\n:host(.pn-loading.pn-arc):before, .pn-loading.pn-arc:before {\\n  background-image: url(\\\"data:image/svg+xml;base64,PHN2ZyB4bWxucz0iaHR0cDovL3d3dy53My5vcmcvMjAwMC9zdmciIHN0eWxlPSJtYXJnaW46IGF1dG87IGJhY2tncm91bmQ6IG5vbmU7IGRpc3BsYXk6IGJsb2NrOyBzaGFwZS1yZW5kZXJpbmc6IGF1dG87IiB2aWV3Qm94PSIwIDAgMTAwIDEwMCIgcHJlc2VydmVBc3BlY3RSYXRpbz0ieE1pZFlNaWQiPiAgPGNpcmNsZSBjeD0iNTAiIGN5PSI1MCIgZmlsbD0ibm9uZSIgc3Ryb2tlPSIjYzNjM2MzIiBzdHJva2Utd2lkdGg9IjEwIiByPSIzNSIgc3Ryb2tlLWRhc2hhcnJheT0iMTY0LjkzMzYxNDMxMzQ2NDE1IDU2Ljk3Nzg3MTQzNzgyMTM4Ij4gICAgPGFuaW1hdGVUcmFuc2Zvcm0gYXR0cmlidXRlTmFtZT0idHJhbnNmb3JtIiB0eXBlPSJyb3RhdGUiIHJlcGVhdENvdW50PSJpbmRlZmluaXRlIiBkdXI9IjFzIiB2YWx1ZXM9IjAgNTAgNTA7MzYwIDUwIDUwIiBrZXlUaW1lcz0iMDsxIj48L2FuaW1hdGVUcmFuc2Zvcm0+ICA8L2NpcmNsZT48L3N2Zz4=\\\");\\n  background-size: auto calc(min(50%, 400px));\\n}\",{\"id\":\"p34778\"},{\"id\":\"p34776\"},{\"id\":\"p34777\"}],\"margin\":0,\"sizing_mode\":\"stretch_width\",\"align\":\"start\"}},{\"type\":\"object\",\"name\":\"GridPlot\",\"id\":\"p35075\",\"attributes\":{\"rows\":null,\"cols\":null,\"toolbar\":{\"type\":\"object\",\"name\":\"Toolbar\",\"id\":\"p35134\",\"attributes\":{\"tools\":[{\"type\":\"object\",\"name\":\"ToolProxy\",\"id\":\"p35128\",\"attributes\":{\"tools\":[{\"type\":\"object\",\"name\":\"HoverTool\",\"id\":\"p34782\",\"attributes\":{\"tags\":[\"hv_created\"],\"renderers\":[{\"type\":\"object\",\"name\":\"GlyphRenderer\",\"id\":\"p34841\",\"attributes\":{\"data_source\":{\"type\":\"object\",\"name\":\"ColumnDataSource\",\"id\":\"p34828\",\"attributes\":{\"selected\":{\"type\":\"object\",\"name\":\"Selection\",\"id\":\"p34829\",\"attributes\":{\"indices\":[],\"line_indices\":[]}},\"selection_policy\":{\"type\":\"object\",\"name\":\"UnionRenderers\",\"id\":\"p34830\"},\"data\":{\"type\":\"map\",\"entries\":[[\"x\",[50]],[\"y\",[150]],[\"dw\",[2000]],[\"dh\",[1900]],[\"image\",[{\"type\":\"ndarray\",\"array\":{\"type\":\"bytes\",\"data\":\"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\"},\"shape\":[19,20],\"dtype\":\"float64\",\"order\":\"little\"}]]]}}},\"view\":{\"type\":\"object\",\"name\":\"CDSView\",\"id\":\"p34842\",\"attributes\":{\"filter\":{\"type\":\"object\",\"name\":\"AllIndices\",\"id\":\"p34843\"}}},\"glyph\":{\"type\":\"object\",\"name\":\"Image\",\"id\":\"p34835\",\"attributes\":{\"tags\":[\"apply_ranges\"],\"x\":{\"type\":\"field\",\"field\":\"x\"},\"y\":{\"type\":\"field\",\"field\":\"y\"},\"dw\":{\"type\":\"field\",\"field\":\"dw\"},\"dh\":{\"type\":\"field\",\"field\":\"dh\"},\"image\":{\"type\":\"field\",\"field\":\"image\"},\"color_mapper\":{\"type\":\"object\",\"name\":\"LinearColorMapper\",\"id\":\"p34827\",\"attributes\":{\"palette\":[\"#440154\",\"#440255\",\"#440357\",\"#450558\",\"#45065a\",\"#45085b\",\"#46095c\",\"#460b5e\",\"#460c5f\",\"#460e61\",\"#470f62\",\"#471163\",\"#471265\",\"#471466\",\"#471567\",\"#471669\",\"#47186a\",\"#48196b\",\"#481a6c\",\"#481c6e\",\"#481d6f\",\"#481e70\",\"#482071\",\"#482172\",\"#482273\",\"#482374\",\"#472575\",\"#472676\",\"#472777\",\"#472878\",\"#472a79\",\"#472b7a\",\"#472c7b\",\"#462d7c\",\"#462f7c\",\"#46307d\",\"#46317e\",\"#45327f\",\"#45347f\",\"#453580\",\"#453681\",\"#443781\",\"#443982\",\"#433a83\",\"#433b83\",\"#433c84\",\"#423d84\",\"#423e85\",\"#424085\",\"#414186\",\"#414286\",\"#404387\",\"#404487\",\"#3f4587\",\"#3f4788\",\"#3e4888\",\"#3e4989\",\"#3d4a89\",\"#3d4b89\",\"#3d4c89\",\"#3c4d8a\",\"#3c4e8a\",\"#3b508a\",\"#3b518a\",\"#3a528b\",\"#3a538b\",\"#39548b\",\"#39558b\",\"#38568b\",\"#38578c\",\"#37588c\",\"#37598c\",\"#365a8c\",\"#365b8c\",\"#355c8c\",\"#355d8c\",\"#345e8d\",\"#345f8d\",\"#33608d\",\"#33618d\",\"#32628d\",\"#32638d\",\"#31648d\",\"#31658d\",\"#31668d\",\"#30678d\",\"#30688d\",\"#2f698d\",\"#2f6a8d\",\"#2e6b8e\",\"#2e6c8e\",\"#2e6d8e\",\"#2d6e8e\",\"#2d6f8e\",\"#2c708e\",\"#2c718e\",\"#2c728e\",\"#2b738e\",\"#2b748e\",\"#2a758e\",\"#2a768e\",\"#2a778e\",\"#29788e\",\"#29798e\",\"#287a8e\",\"#287a8e\",\"#287b8e\",\"#277c8e\",\"#277d8e\",\"#277e8e\",\"#267f8e\",\"#26808e\",\"#26818e\",\"#25828e\",\"#25838d\",\"#24848d\",\"#24858d\",\"#24868d\",\"#23878d\",\"#23888d\",\"#23898d\",\"#22898d\",\"#228a8d\",\"#228b8d\",\"#218c8d\",\"#218d8c\",\"#218e8c\",\"#208f8c\",\"#20908c\",\"#20918c\",\"#1f928c\",\"#1f938b\",\"#1f948b\",\"#1f958b\",\"#1f968b\",\"#1e978a\",\"#1e988a\",\"#1e998a\",\"#1e998a\",\"#1e9a89\",\"#1e9b89\",\"#1e9c89\",\"#1e9d88\",\"#1e9e88\",\"#1e9f88\",\"#1ea087\",\"#1fa187\",\"#1fa286\",\"#1fa386\",\"#20a485\",\"#20a585\",\"#21a685\",\"#21a784\",\"#22a784\",\"#23a883\",\"#23a982\",\"#24aa82\",\"#25ab81\",\"#26ac81\",\"#27ad80\",\"#28ae7f\",\"#29af7f\",\"#2ab07e\",\"#2bb17d\",\"#2cb17d\",\"#2eb27c\",\"#2fb37b\",\"#30b47a\",\"#32b57a\",\"#33b679\",\"#35b778\",\"#36b877\",\"#38b976\",\"#39b976\",\"#3bba75\",\"#3dbb74\",\"#3ebc73\",\"#40bd72\",\"#42be71\",\"#44be70\",\"#45bf6f\",\"#47c06e\",\"#49c16d\",\"#4bc26c\",\"#4dc26b\",\"#4fc369\",\"#51c468\",\"#53c567\",\"#55c666\",\"#57c665\",\"#59c764\",\"#5bc862\",\"#5ec961\",\"#60c960\",\"#62ca5f\",\"#64cb5d\",\"#67cc5c\",\"#69cc5b\",\"#6bcd59\",\"#6dce58\",\"#70ce56\",\"#72cf55\",\"#74d054\",\"#77d052\",\"#79d151\",\"#7cd24f\",\"#7ed24e\",\"#81d34c\",\"#83d34b\",\"#86d449\",\"#88d547\",\"#8bd546\",\"#8dd644\",\"#90d643\",\"#92d741\",\"#95d73f\",\"#97d83e\",\"#9ad83c\",\"#9dd93a\",\"#9fd938\",\"#a2da37\",\"#a5da35\",\"#a7db33\",\"#aadb32\",\"#addc30\",\"#afdc2e\",\"#b2dd2c\",\"#b5dd2b\",\"#b7dd29\",\"#bade27\",\"#bdde26\",\"#bfdf24\",\"#c2df22\",\"#c5df21\",\"#c7e01f\",\"#cae01e\",\"#cde01d\",\"#cfe11c\",\"#d2e11b\",\"#d4e11a\",\"#d7e219\",\"#dae218\",\"#dce218\",\"#dfe318\",\"#e1e318\",\"#e4e318\",\"#e7e419\",\"#e9e419\",\"#ece41a\",\"#eee51b\",\"#f1e51c\",\"#f3e51e\",\"#f6e61f\",\"#f8e621\",\"#fae622\",\"#fde724\"],\"nan_color\":\"rgba(0, 0, 0, 0)\",\"low\":0.9510406518538913,\"high\":63.52751479177115}}}},\"selection_glyph\":{\"type\":\"object\",\"name\":\"Image\",\"id\":\"p34847\",\"attributes\":{\"tags\":[\"apply_ranges\"],\"x\":{\"type\":\"field\",\"field\":\"x\"},\"y\":{\"type\":\"field\",\"field\":\"y\"},\"dw\":{\"type\":\"field\",\"field\":\"dw\"},\"dh\":{\"type\":\"field\",\"field\":\"dh\"},\"global_alpha\":{\"type\":\"value\",\"value\":1.0},\"image\":{\"type\":\"field\",\"field\":\"image\"},\"color_mapper\":{\"id\":\"p34827\"}}},\"nonselection_glyph\":{\"type\":\"object\",\"name\":\"Image\",\"id\":\"p34837\",\"attributes\":{\"tags\":[\"apply_ranges\"],\"x\":{\"type\":\"field\",\"field\":\"x\"},\"y\":{\"type\":\"field\",\"field\":\"y\"},\"dw\":{\"type\":\"field\",\"field\":\"dw\"},\"dh\":{\"type\":\"field\",\"field\":\"dh\"},\"global_alpha\":{\"type\":\"value\",\"value\":0.1},\"image\":{\"type\":\"field\",\"field\":\"image\"},\"color_mapper\":{\"id\":\"p34827\"}}},\"muted_glyph\":{\"type\":\"object\",\"name\":\"Image\",\"id\":\"p34839\",\"attributes\":{\"tags\":[\"apply_ranges\"],\"x\":{\"type\":\"field\",\"field\":\"x\"},\"y\":{\"type\":\"field\",\"field\":\"y\"},\"dw\":{\"type\":\"field\",\"field\":\"dw\"},\"dh\":{\"type\":\"field\",\"field\":\"dh\"},\"global_alpha\":{\"type\":\"value\",\"value\":0.2},\"image\":{\"type\":\"field\",\"field\":\"image\"},\"color_mapper\":{\"id\":\"p34827\"}}}}}],\"tooltips\":[[\"x\",\"$x\"],[\"y\",\"$y\"],[\"z\",\"@image\"]]}},{\"type\":\"object\",\"name\":\"HoverTool\",\"id\":\"p34861\",\"attributes\":{\"tags\":[\"hv_created\"],\"renderers\":[{\"type\":\"object\",\"name\":\"GlyphRenderer\",\"id\":\"p34920\",\"attributes\":{\"data_source\":{\"type\":\"object\",\"name\":\"ColumnDataSource\",\"id\":\"p34907\",\"attributes\":{\"selected\":{\"type\":\"object\",\"name\":\"Selection\",\"id\":\"p34908\",\"attributes\":{\"indices\":[],\"line_indices\":[]}},\"selection_policy\":{\"type\":\"object\",\"name\":\"UnionRenderers\",\"id\":\"p34909\"},\"data\":{\"type\":\"map\",\"entries\":[[\"x\",[50]],[\"y\",[150]],[\"dw\",[2000]],[\"dh\",[1900]],[\"image\",[{\"type\":\"ndarray\",\"array\":{\"type\":\"bytes\",\"data\":\"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\"},\"shape\":[19,20],\"dtype\":\"float64\",\"order\":\"little\"}]]]}}},\"view\":{\"type\":\"object\",\"name\":\"CDSView\",\"id\":\"p34921\",\"attributes\":{\"filter\":{\"type\":\"object\",\"name\":\"AllIndices\",\"id\":\"p34922\"}}},\"glyph\":{\"type\":\"object\",\"name\":\"Image\",\"id\":\"p34914\",\"attributes\":{\"tags\":[\"apply_ranges\"],\"x\":{\"type\":\"field\",\"field\":\"x\"},\"y\":{\"type\":\"field\",\"field\":\"y\"},\"dw\":{\"type\":\"field\",\"field\":\"dw\"},\"dh\":{\"type\":\"field\",\"field\":\"dh\"},\"image\":{\"type\":\"field\",\"field\":\"image\"},\"color_mapper\":{\"type\":\"object\",\"name\":\"LinearColorMapper\",\"id\":\"p34906\",\"attributes\":{\"palette\":[\"#440154\",\"#440255\",\"#440357\",\"#450558\",\"#45065a\",\"#45085b\",\"#46095c\",\"#460b5e\",\"#460c5f\",\"#460e61\",\"#470f62\",\"#471163\",\"#471265\",\"#471466\",\"#471567\",\"#471669\",\"#47186a\",\"#48196b\",\"#481a6c\",\"#481c6e\",\"#481d6f\",\"#481e70\",\"#482071\",\"#482172\",\"#482273\",\"#482374\",\"#472575\",\"#472676\",\"#472777\",\"#472878\",\"#472a79\",\"#472b7a\",\"#472c7b\",\"#462d7c\",\"#462f7c\",\"#46307d\",\"#46317e\",\"#45327f\",\"#45347f\",\"#453580\",\"#453681\",\"#443781\",\"#443982\",\"#433a83\",\"#433b83\",\"#433c84\",\"#423d84\",\"#423e85\",\"#424085\",\"#414186\",\"#414286\",\"#404387\",\"#404487\",\"#3f4587\",\"#3f4788\",\"#3e4888\",\"#3e4989\",\"#3d4a89\",\"#3d4b89\",\"#3d4c89\",\"#3c4d8a\",\"#3c4e8a\",\"#3b508a\",\"#3b518a\",\"#3a528b\",\"#3a538b\",\"#39548b\",\"#39558b\",\"#38568b\",\"#38578c\",\"#37588c\",\"#37598c\",\"#365a8c\",\"#365b8c\",\"#355c8c\",\"#355d8c\",\"#345e8d\",\"#345f8d\",\"#33608d\",\"#33618d\",\"#32628d\",\"#32638d\",\"#31648d\",\"#31658d\",\"#31668d\",\"#30678d\",\"#30688d\",\"#2f698d\",\"#2f6a8d\",\"#2e6b8e\",\"#2e6c8e\",\"#2e6d8e\",\"#2d6e8e\",\"#2d6f8e\",\"#2c708e\",\"#2c718e\",\"#2c728e\",\"#2b738e\",\"#2b748e\",\"#2a758e\",\"#2a768e\",\"#2a778e\",\"#29788e\",\"#29798e\",\"#287a8e\",\"#287a8e\",\"#287b8e\",\"#277c8e\",\"#277d8e\",\"#277e8e\",\"#267f8e\",\"#26808e\",\"#26818e\",\"#25828e\",\"#25838d\",\"#24848d\",\"#24858d\",\"#24868d\",\"#23878d\",\"#23888d\",\"#23898d\",\"#22898d\",\"#228a8d\",\"#228b8d\",\"#218c8d\",\"#218d8c\",\"#218e8c\",\"#208f8c\",\"#20908c\",\"#20918c\",\"#1f928c\",\"#1f938b\",\"#1f948b\",\"#1f958b\",\"#1f968b\",\"#1e978a\",\"#1e988a\",\"#1e998a\",\"#1e998a\",\"#1e9a89\",\"#1e9b89\",\"#1e9c89\",\"#1e9d88\",\"#1e9e88\",\"#1e9f88\",\"#1ea087\",\"#1fa187\",\"#1fa286\",\"#1fa386\",\"#20a485\",\"#20a585\",\"#21a685\",\"#21a784\",\"#22a784\",\"#23a883\",\"#23a982\",\"#24aa82\",\"#25ab81\",\"#26ac81\",\"#27ad80\",\"#28ae7f\",\"#29af7f\",\"#2ab07e\",\"#2bb17d\",\"#2cb17d\",\"#2eb27c\",\"#2fb37b\",\"#30b47a\",\"#32b57a\",\"#33b679\",\"#35b778\",\"#36b877\",\"#38b976\",\"#39b976\",\"#3bba75\",\"#3dbb74\",\"#3ebc73\",\"#40bd72\",\"#42be71\",\"#44be70\",\"#45bf6f\",\"#47c06e\",\"#49c16d\",\"#4bc26c\",\"#4dc26b\",\"#4fc369\",\"#51c468\",\"#53c567\",\"#55c666\",\"#57c665\",\"#59c764\",\"#5bc862\",\"#5ec961\",\"#60c960\",\"#62ca5f\",\"#64cb5d\",\"#67cc5c\",\"#69cc5b\",\"#6bcd59\",\"#6dce58\",\"#70ce56\",\"#72cf55\",\"#74d054\",\"#77d052\",\"#79d151\",\"#7cd24f\",\"#7ed24e\",\"#81d34c\",\"#83d34b\",\"#86d449\",\"#88d547\",\"#8bd546\",\"#8dd644\",\"#90d643\",\"#92d741\",\"#95d73f\",\"#97d83e\",\"#9ad83c\",\"#9dd93a\",\"#9fd938\",\"#a2da37\",\"#a5da35\",\"#a7db33\",\"#aadb32\",\"#addc30\",\"#afdc2e\",\"#b2dd2c\",\"#b5dd2b\",\"#b7dd29\",\"#bade27\",\"#bdde26\",\"#bfdf24\",\"#c2df22\",\"#c5df21\",\"#c7e01f\",\"#cae01e\",\"#cde01d\",\"#cfe11c\",\"#d2e11b\",\"#d4e11a\",\"#d7e219\",\"#dae218\",\"#dce218\",\"#dfe318\",\"#e1e318\",\"#e4e318\",\"#e7e419\",\"#e9e419\",\"#ece41a\",\"#eee51b\",\"#f1e51c\",\"#f3e51e\",\"#f6e61f\",\"#f8e621\",\"#fae622\",\"#fde724\"],\"nan_color\":\"rgba(0, 0, 0, 0)\",\"low\":0.13533528323661503,\"high\":67.08834527392304}}}},\"selection_glyph\":{\"type\":\"object\",\"name\":\"Image\",\"id\":\"p34926\",\"attributes\":{\"tags\":[\"apply_ranges\"],\"x\":{\"type\":\"field\",\"field\":\"x\"},\"y\":{\"type\":\"field\",\"field\":\"y\"},\"dw\":{\"type\":\"field\",\"field\":\"dw\"},\"dh\":{\"type\":\"field\",\"field\":\"dh\"},\"global_alpha\":{\"type\":\"value\",\"value\":1.0},\"image\":{\"type\":\"field\",\"field\":\"image\"},\"color_mapper\":{\"id\":\"p34906\"}}},\"nonselection_glyph\":{\"type\":\"object\",\"name\":\"Image\",\"id\":\"p34916\",\"attributes\":{\"tags\":[\"apply_ranges\"],\"x\":{\"type\":\"field\",\"field\":\"x\"},\"y\":{\"type\":\"field\",\"field\":\"y\"},\"dw\":{\"type\":\"field\",\"field\":\"dw\"},\"dh\":{\"type\":\"field\",\"field\":\"dh\"},\"global_alpha\":{\"type\":\"value\",\"value\":0.1},\"image\":{\"type\":\"field\",\"field\":\"image\"},\"color_mapper\":{\"id\":\"p34906\"}}},\"muted_glyph\":{\"type\":\"object\",\"name\":\"Image\",\"id\":\"p34918\",\"attributes\":{\"tags\":[\"apply_ranges\"],\"x\":{\"type\":\"field\",\"field\":\"x\"},\"y\":{\"type\":\"field\",\"field\":\"y\"},\"dw\":{\"type\":\"field\",\"field\":\"dw\"},\"dh\":{\"type\":\"field\",\"field\":\"dh\"},\"global_alpha\":{\"type\":\"value\",\"value\":0.2},\"image\":{\"type\":\"field\",\"field\":\"image\"},\"color_mapper\":{\"id\":\"p34906\"}}}}}],\"tooltips\":[[\"x\",\"$x\"],[\"y\",\"$y\"],[\"z\",\"@image\"]]}},{\"type\":\"object\",\"name\":\"HoverTool\",\"id\":\"p34940\",\"attributes\":{\"tags\":[\"hv_created\"],\"renderers\":[{\"type\":\"object\",\"name\":\"GlyphRenderer\",\"id\":\"p34999\",\"attributes\":{\"data_source\":{\"type\":\"object\",\"name\":\"ColumnDataSource\",\"id\":\"p34986\",\"attributes\":{\"selected\":{\"type\":\"object\",\"name\":\"Selection\",\"id\":\"p34987\",\"attributes\":{\"indices\":[],\"line_indices\":[]}},\"selection_policy\":{\"type\":\"object\",\"name\":\"UnionRenderers\",\"id\":\"p34988\"},\"data\":{\"type\":\"map\",\"entries\":[[\"x\",[50]],[\"y\",[150]],[\"dw\",[2000]],[\"dh\",[1900]],[\"image\",[{\"type\":\"ndarray\",\"array\":{\"type\":\"bytes\",\"data\":\"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\"},\"shape\":[19,20],\"dtype\":\"float64\",\"order\":\"little\"}]]]}}},\"view\":{\"type\":\"object\",\"name\":\"CDSView\",\"id\":\"p35000\",\"attributes\":{\"filter\":{\"type\":\"object\",\"name\":\"AllIndices\",\"id\":\"p35001\"}}},\"glyph\":{\"type\":\"object\",\"name\":\"Image\",\"id\":\"p34993\",\"attributes\":{\"tags\":[\"apply_ranges\"],\"x\":{\"type\":\"field\",\"field\":\"x\"},\"y\":{\"type\":\"field\",\"field\":\"y\"},\"dw\":{\"type\":\"field\",\"field\":\"dw\"},\"dh\":{\"type\":\"field\",\"field\":\"dh\"},\"image\":{\"type\":\"field\",\"field\":\"image\"},\"color_mapper\":{\"type\":\"object\",\"name\":\"LinearColorMapper\",\"id\":\"p34985\",\"attributes\":{\"palette\":[\"#3a4cc0\",\"#3b4dc1\",\"#3c4fc3\",\"#3e51c4\",\"#3f53c6\",\"#4054c7\",\"#4156c9\",\"#4258ca\",\"#435acc\",\"#455bcd\",\"#465dcf\",\"#475fd0\",\"#4860d1\",\"#4962d3\",\"#4b64d4\",\"#4c66d6\",\"#4d67d7\",\"#4e69d8\",\"#506bda\",\"#516cdb\",\"#526edc\",\"#5370dd\",\"#5571de\",\"#5673e0\",\"#5775e1\",\"#5876e2\",\"#5a78e3\",\"#5b79e4\",\"#5c7be5\",\"#5d7de6\",\"#5f7ee7\",\"#6080e8\",\"#6182ea\",\"#6383ea\",\"#6485eb\",\"#6586ec\",\"#6788ed\",\"#6889ee\",\"#698bef\",\"#6b8df0\",\"#6c8ef1\",\"#6d90f1\",\"#6f91f2\",\"#7093f3\",\"#7194f4\",\"#7395f4\",\"#7497f5\",\"#7598f6\",\"#779af6\",\"#789bf7\",\"#7a9df8\",\"#7b9ef8\",\"#7ca0f9\",\"#7ea1f9\",\"#7fa2fa\",\"#80a4fa\",\"#82a5fb\",\"#83a6fb\",\"#85a8fb\",\"#86a9fc\",\"#87aafc\",\"#89acfc\",\"#8aadfd\",\"#8baefd\",\"#8daffd\",\"#8eb1fd\",\"#90b2fe\",\"#91b3fe\",\"#92b4fe\",\"#94b5fe\",\"#95b7fe\",\"#97b8fe\",\"#98b9fe\",\"#99bafe\",\"#9bbbfe\",\"#9cbcfe\",\"#9dbdfe\",\"#9fbefe\",\"#a0bffe\",\"#a2c0fe\",\"#a3c1fe\",\"#a4c2fe\",\"#a6c3fd\",\"#a7c4fd\",\"#a8c5fd\",\"#aac6fd\",\"#abc7fc\",\"#acc8fc\",\"#aec9fc\",\"#afcafb\",\"#b0cbfb\",\"#b2cbfb\",\"#b3ccfa\",\"#b4cdfa\",\"#b6cef9\",\"#b7cff9\",\"#b8cff8\",\"#b9d0f8\",\"#bbd1f7\",\"#bcd1f6\",\"#bdd2f6\",\"#bed3f5\",\"#c0d3f5\",\"#c1d4f4\",\"#c2d4f3\",\"#c3d5f2\",\"#c5d5f2\",\"#c6d6f1\",\"#c7d6f0\",\"#c8d7ef\",\"#c9d7ee\",\"#cad8ee\",\"#ccd8ed\",\"#cdd9ec\",\"#ced9eb\",\"#cfd9ea\",\"#d0dae9\",\"#d1dae8\",\"#d2dae7\",\"#d3dbe6\",\"#d5dbe5\",\"#d6dbe4\",\"#d7dbe2\",\"#d8dbe1\",\"#d9dce0\",\"#dadcdf\",\"#dbdcde\",\"#dcdcdd\",\"#dddcdb\",\"#dedbda\",\"#dfdbd9\",\"#e0dad7\",\"#e1dad6\",\"#e2d9d4\",\"#e3d9d3\",\"#e4d8d1\",\"#e5d8d0\",\"#e6d7cf\",\"#e7d6cd\",\"#e7d6cc\",\"#e8d5ca\",\"#e9d4c9\",\"#ead3c7\",\"#ebd3c6\",\"#ecd2c4\",\"#ecd1c3\",\"#edd0c1\",\"#edcfc0\",\"#eecfbe\",\"#efcebc\",\"#efcdbb\",\"#f0ccb9\",\"#f1cbb8\",\"#f1cab6\",\"#f2c9b5\",\"#f2c8b3\",\"#f2c7b2\",\"#f3c6b0\",\"#f3c5af\",\"#f4c4ad\",\"#f4c3ab\",\"#f4c2aa\",\"#f5c1a8\",\"#f5c0a7\",\"#f5bfa5\",\"#f6bda4\",\"#f6bca2\",\"#f6bba0\",\"#f6ba9f\",\"#f6b99d\",\"#f6b79c\",\"#f6b69a\",\"#f7b598\",\"#f7b397\",\"#f7b295\",\"#f7b194\",\"#f7b092\",\"#f7ae91\",\"#f7ad8f\",\"#f6ab8d\",\"#f6aa8c\",\"#f6a98a\",\"#f6a789\",\"#f6a687\",\"#f6a486\",\"#f6a384\",\"#f5a182\",\"#f5a081\",\"#f59e7f\",\"#f49d7e\",\"#f49b7c\",\"#f49a7b\",\"#f39879\",\"#f39678\",\"#f39576\",\"#f29375\",\"#f29173\",\"#f19072\",\"#f18e70\",\"#f08d6f\",\"#f08b6d\",\"#ef896c\",\"#ee876a\",\"#ee8669\",\"#ed8467\",\"#ec8266\",\"#ec8064\",\"#eb7f63\",\"#ea7d61\",\"#ea7b60\",\"#e9795e\",\"#e8775d\",\"#e7755c\",\"#e6745a\",\"#e67259\",\"#e57057\",\"#e46e56\",\"#e36c54\",\"#e26a53\",\"#e16852\",\"#e06650\",\"#df644f\",\"#de624e\",\"#dd604c\",\"#dc5e4b\",\"#db5c4a\",\"#da5a48\",\"#d95847\",\"#d85646\",\"#d75444\",\"#d65243\",\"#d44f42\",\"#d34d40\",\"#d24b3f\",\"#d1493e\",\"#cf463d\",\"#ce443c\",\"#cd423a\",\"#cc3f39\",\"#ca3d38\",\"#c93b37\",\"#c83835\",\"#c63534\",\"#c53233\",\"#c43032\",\"#c22d31\",\"#c12a30\",\"#bf282e\",\"#be232d\",\"#bc1f2c\",\"#bb1a2b\",\"#b9162a\",\"#b81129\",\"#b60d28\",\"#b50827\",\"#b30326\"],\"nan_color\":\"rgba(0, 0, 0, 0)\",\"low\":-3.4306710778691407,\"high\":3.560830482151893}}}},\"selection_glyph\":{\"type\":\"object\",\"name\":\"Image\",\"id\":\"p35005\",\"attributes\":{\"tags\":[\"apply_ranges\"],\"x\":{\"type\":\"field\",\"field\":\"x\"},\"y\":{\"type\":\"field\",\"field\":\"y\"},\"dw\":{\"type\":\"field\",\"field\":\"dw\"},\"dh\":{\"type\":\"field\",\"field\":\"dh\"},\"global_alpha\":{\"type\":\"value\",\"value\":1.0},\"image\":{\"type\":\"field\",\"field\":\"image\"},\"color_mapper\":{\"id\":\"p34985\"}}},\"nonselection_glyph\":{\"type\":\"object\",\"name\":\"Image\",\"id\":\"p34995\",\"attributes\":{\"tags\":[\"apply_ranges\"],\"x\":{\"type\":\"field\",\"field\":\"x\"},\"y\":{\"type\":\"field\",\"field\":\"y\"},\"dw\":{\"type\":\"field\",\"field\":\"dw\"},\"dh\":{\"type\":\"field\",\"field\":\"dh\"},\"global_alpha\":{\"type\":\"value\",\"value\":0.1},\"image\":{\"type\":\"field\",\"field\":\"image\"},\"color_mapper\":{\"id\":\"p34985\"}}},\"muted_glyph\":{\"type\":\"object\",\"name\":\"Image\",\"id\":\"p34997\",\"attributes\":{\"tags\":[\"apply_ranges\"],\"x\":{\"type\":\"field\",\"field\":\"x\"},\"y\":{\"type\":\"field\",\"field\":\"y\"},\"dw\":{\"type\":\"field\",\"field\":\"dw\"},\"dh\":{\"type\":\"field\",\"field\":\"dh\"},\"global_alpha\":{\"type\":\"value\",\"value\":0.2},\"image\":{\"type\":\"field\",\"field\":\"image\"},\"color_mapper\":{\"id\":\"p34985\"}}}}}],\"tooltips\":[[\"x\",\"$x\"],[\"y\",\"$y\"],[\"z\",\"@image\"]]}}]}},{\"type\":\"object\",\"name\":\"SaveTool\",\"id\":\"p35129\"},{\"type\":\"object\",\"name\":\"ToolProxy\",\"id\":\"p35130\",\"attributes\":{\"tools\":[{\"type\":\"object\",\"name\":\"PanTool\",\"id\":\"p34814\"},{\"type\":\"object\",\"name\":\"PanTool\",\"id\":\"p34893\"},{\"type\":\"object\",\"name\":\"PanTool\",\"id\":\"p34972\"}]}},{\"type\":\"object\",\"name\":\"ToolProxy\",\"id\":\"p35131\",\"attributes\":{\"tools\":[{\"type\":\"object\",\"name\":\"WheelZoomTool\",\"id\":\"p34815\"},{\"type\":\"object\",\"name\":\"WheelZoomTool\",\"id\":\"p34894\"},{\"type\":\"object\",\"name\":\"WheelZoomTool\",\"id\":\"p34973\"}]}},{\"type\":\"object\",\"name\":\"ToolProxy\",\"id\":\"p35132\",\"attributes\":{\"tools\":[{\"type\":\"object\",\"name\":\"BoxZoomTool\",\"id\":\"p34816\",\"attributes\":{\"overlay\":{\"type\":\"object\",\"name\":\"BoxAnnotation\",\"id\":\"p34817\",\"attributes\":{\"syncable\":false,\"level\":\"overlay\",\"visible\":false,\"left_units\":\"canvas\",\"right_units\":\"canvas\",\"bottom_units\":\"canvas\",\"top_units\":\"canvas\",\"line_color\":\"black\",\"line_alpha\":1.0,\"line_width\":2,\"line_dash\":[4,4],\"fill_color\":\"lightgrey\",\"fill_alpha\":0.5}}}},{\"type\":\"object\",\"name\":\"BoxZoomTool\",\"id\":\"p34895\",\"attributes\":{\"overlay\":{\"type\":\"object\",\"name\":\"BoxAnnotation\",\"id\":\"p34896\",\"attributes\":{\"syncable\":false,\"level\":\"overlay\",\"visible\":false,\"left_units\":\"canvas\",\"right_units\":\"canvas\",\"bottom_units\":\"canvas\",\"top_units\":\"canvas\",\"line_color\":\"black\",\"line_alpha\":1.0,\"line_width\":2,\"line_dash\":[4,4],\"fill_color\":\"lightgrey\",\"fill_alpha\":0.5}}}},{\"type\":\"object\",\"name\":\"BoxZoomTool\",\"id\":\"p34974\",\"attributes\":{\"overlay\":{\"type\":\"object\",\"name\":\"BoxAnnotation\",\"id\":\"p34975\",\"attributes\":{\"syncable\":false,\"level\":\"overlay\",\"visible\":false,\"left_units\":\"canvas\",\"right_units\":\"canvas\",\"bottom_units\":\"canvas\",\"top_units\":\"canvas\",\"line_color\":\"black\",\"line_alpha\":1.0,\"line_width\":2,\"line_dash\":[4,4],\"fill_color\":\"lightgrey\",\"fill_alpha\":0.5}}}}]}},{\"type\":\"object\",\"name\":\"ToolProxy\",\"id\":\"p35133\",\"attributes\":{\"tools\":[{\"type\":\"object\",\"name\":\"ResetTool\",\"id\":\"p34818\"},{\"type\":\"object\",\"name\":\"ResetTool\",\"id\":\"p34897\"},{\"type\":\"object\",\"name\":\"ResetTool\",\"id\":\"p34976\"}]}}]}},\"children\":[[{\"type\":\"object\",\"name\":\"Figure\",\"id\":\"p34783\",\"attributes\":{\"width\":null,\"height\":null,\"sizing_mode\":\"fixed\",\"align\":\"start\",\"x_range\":{\"type\":\"object\",\"name\":\"Range1d\",\"id\":\"p34780\",\"attributes\":{\"tags\":[[[\"x\",\"x\",null]]],\"start\":50.0,\"end\":2050.0,\"reset_start\":50.0,\"reset_end\":2050.0}},\"y_range\":{\"type\":\"object\",\"name\":\"Range1d\",\"id\":\"p34781\",\"attributes\":{\"tags\":[[[\"y\",\"y\",null]]],\"start\":150.0,\"end\":2050.0,\"reset_start\":150.0,\"reset_end\":2050.0}},\"x_scale\":{\"type\":\"object\",\"name\":\"LinearScale\",\"id\":\"p34795\"},\"y_scale\":{\"type\":\"object\",\"name\":\"LinearScale\",\"id\":\"p34797\"},\"title\":{\"type\":\"object\",\"name\":\"Title\",\"id\":\"p34786\",\"attributes\":{\"text\":\"model\",\"text_color\":\"black\",\"text_font_size\":\"18pt\"}},\"renderers\":[{\"id\":\"p34841\"}],\"toolbar\":{\"type\":\"object\",\"name\":\"Toolbar\",\"id\":\"p34788\",\"attributes\":{\"tools\":[{\"id\":\"p34782\"},{\"type\":\"object\",\"name\":\"SaveTool\",\"id\":\"p34813\"},{\"id\":\"p34814\"},{\"id\":\"p34815\"},{\"id\":\"p34816\"},{\"id\":\"p34818\"}],\"active_drag\":{\"id\":\"p34814\"},\"active_scroll\":{\"id\":\"p34815\"}}},\"toolbar_location\":null,\"left\":[{\"type\":\"object\",\"name\":\"LinearAxis\",\"id\":\"p34806\",\"attributes\":{\"ticker\":{\"type\":\"object\",\"name\":\"BasicTicker\",\"id\":\"p34809\",\"attributes\":{\"mantissas\":[1,2,5]}},\"formatter\":{\"type\":\"object\",\"name\":\"BasicTickFormatter\",\"id\":\"p34807\"},\"axis_label\":\"ToT2 (ns)\",\"axis_label_text_font_size\":\"19.5px\",\"major_label_policy\":{\"type\":\"object\",\"name\":\"AllLabels\",\"id\":\"p34808\"},\"major_label_text_font_size\":\"16.5px\"}}],\"right\":[{\"type\":\"object\",\"name\":\"ColorBar\",\"id\":\"p34845\",\"attributes\":{\"location\":[0,0],\"title_text_font_size\":\"19.5px\",\"ticker\":{\"type\":\"object\",\"name\":\"BasicTicker\",\"id\":\"p34844\",\"attributes\":{\"mantissas\":[1,2,5]}},\"major_label_policy\":{\"type\":\"object\",\"name\":\"NoOverlap\",\"id\":\"p34846\"},\"major_label_text_font_size\":\"16.5px\",\"label_standoff\":8,\"major_tick_line_color\":\"black\",\"bar_line_color\":\"black\",\"color_mapper\":{\"id\":\"p34827\"}}}],\"below\":[{\"type\":\"object\",\"name\":\"LinearAxis\",\"id\":\"p34799\",\"attributes\":{\"ticker\":{\"type\":\"object\",\"name\":\"BasicTicker\",\"id\":\"p34802\",\"attributes\":{\"mantissas\":[1,2,5]}},\"formatter\":{\"type\":\"object\",\"name\":\"BasicTickFormatter\",\"id\":\"p34800\"},\"axis_label\":\"ToT1 (ns)\",\"axis_label_text_font_size\":\"19.5px\",\"major_label_policy\":{\"type\":\"object\",\"name\":\"AllLabels\",\"id\":\"p34801\"},\"major_label_text_font_size\":\"16.5px\"}}],\"center\":[{\"type\":\"object\",\"name\":\"Grid\",\"id\":\"p34805\",\"attributes\":{\"axis\":{\"id\":\"p34799\"},\"grid_line_color\":null}},{\"type\":\"object\",\"name\":\"Grid\",\"id\":\"p34812\",\"attributes\":{\"dimension\":1,\"axis\":{\"id\":\"p34806\"},\"grid_line_color\":null}}],\"frame_width\":400,\"frame_height\":400,\"min_border_top\":10,\"min_border_bottom\":10,\"min_border_left\":10,\"min_border_right\":10,\"output_backend\":\"webgl\"}},0,0],[{\"type\":\"object\",\"name\":\"Figure\",\"id\":\"p34862\",\"attributes\":{\"width\":null,\"height\":null,\"sizing_mode\":\"fixed\",\"align\":\"start\",\"x_range\":{\"type\":\"object\",\"name\":\"Range1d\",\"id\":\"p34859\",\"attributes\":{\"tags\":[[[\"x\",\"x\",null]]],\"start\":50.0,\"end\":2050.0,\"reset_start\":50.0,\"reset_end\":2050.0}},\"y_range\":{\"type\":\"object\",\"name\":\"Range1d\",\"id\":\"p34860\",\"attributes\":{\"tags\":[[[\"y\",\"y\",null]]],\"start\":150.0,\"end\":2050.0,\"reset_start\":150.0,\"reset_end\":2050.0}},\"x_scale\":{\"type\":\"object\",\"name\":\"LinearScale\",\"id\":\"p34874\"},\"y_scale\":{\"type\":\"object\",\"name\":\"LinearScale\",\"id\":\"p34876\"},\"title\":{\"type\":\"object\",\"name\":\"Title\",\"id\":\"p34865\",\"attributes\":{\"text\":\"experiment\",\"text_color\":\"black\",\"text_font_size\":\"18pt\"}},\"renderers\":[{\"id\":\"p34920\"}],\"toolbar\":{\"type\":\"object\",\"name\":\"Toolbar\",\"id\":\"p34867\",\"attributes\":{\"tools\":[{\"id\":\"p34861\"},{\"type\":\"object\",\"name\":\"SaveTool\",\"id\":\"p34892\"},{\"id\":\"p34893\"},{\"id\":\"p34894\"},{\"id\":\"p34895\"},{\"id\":\"p34897\"}],\"active_drag\":{\"id\":\"p34893\"},\"active_scroll\":{\"id\":\"p34894\"}}},\"toolbar_location\":null,\"left\":[{\"type\":\"object\",\"name\":\"LinearAxis\",\"id\":\"p34885\",\"attributes\":{\"ticker\":{\"type\":\"object\",\"name\":\"BasicTicker\",\"id\":\"p34888\",\"attributes\":{\"mantissas\":[1,2,5]}},\"formatter\":{\"type\":\"object\",\"name\":\"BasicTickFormatter\",\"id\":\"p34886\"},\"axis_label\":\"ToT2 (ns)\",\"axis_label_text_font_size\":\"19.5px\",\"major_label_policy\":{\"type\":\"object\",\"name\":\"AllLabels\",\"id\":\"p34887\"},\"major_label_text_font_size\":\"16.5px\"}}],\"right\":[{\"type\":\"object\",\"name\":\"ColorBar\",\"id\":\"p34924\",\"attributes\":{\"location\":[0,0],\"title_text_font_size\":\"19.5px\",\"ticker\":{\"type\":\"object\",\"name\":\"BasicTicker\",\"id\":\"p34923\",\"attributes\":{\"mantissas\":[1,2,5]}},\"major_label_policy\":{\"type\":\"object\",\"name\":\"NoOverlap\",\"id\":\"p34925\"},\"major_label_text_font_size\":\"16.5px\",\"label_standoff\":8,\"major_tick_line_color\":\"black\",\"bar_line_color\":\"black\",\"color_mapper\":{\"id\":\"p34906\"}}}],\"below\":[{\"type\":\"object\",\"name\":\"LinearAxis\",\"id\":\"p34878\",\"attributes\":{\"ticker\":{\"type\":\"object\",\"name\":\"BasicTicker\",\"id\":\"p34881\",\"attributes\":{\"mantissas\":[1,2,5]}},\"formatter\":{\"type\":\"object\",\"name\":\"BasicTickFormatter\",\"id\":\"p34879\"},\"axis_label\":\"ToT1 (ns)\",\"axis_label_text_font_size\":\"19.5px\",\"major_label_policy\":{\"type\":\"object\",\"name\":\"AllLabels\",\"id\":\"p34880\"},\"major_label_text_font_size\":\"16.5px\"}}],\"center\":[{\"type\":\"object\",\"name\":\"Grid\",\"id\":\"p34884\",\"attributes\":{\"axis\":{\"id\":\"p34878\"},\"grid_line_color\":null}},{\"type\":\"object\",\"name\":\"Grid\",\"id\":\"p34891\",\"attributes\":{\"dimension\":1,\"axis\":{\"id\":\"p34885\"},\"grid_line_color\":null}}],\"frame_width\":400,\"frame_height\":400,\"min_border_top\":10,\"min_border_bottom\":10,\"min_border_left\":10,\"min_border_right\":10,\"output_backend\":\"webgl\"}},0,1],[{\"type\":\"object\",\"name\":\"Figure\",\"id\":\"p34941\",\"attributes\":{\"width\":null,\"height\":null,\"sizing_mode\":\"fixed\",\"align\":\"start\",\"x_range\":{\"type\":\"object\",\"name\":\"Range1d\",\"id\":\"p34938\",\"attributes\":{\"tags\":[[[\"x\",\"x\",null]]],\"start\":50.0,\"end\":2050.0,\"reset_start\":50.0,\"reset_end\":2050.0}},\"y_range\":{\"type\":\"object\",\"name\":\"Range1d\",\"id\":\"p34939\",\"attributes\":{\"tags\":[[[\"y\",\"y\",null]]],\"start\":150.0,\"end\":2050.0,\"reset_start\":150.0,\"reset_end\":2050.0}},\"x_scale\":{\"type\":\"object\",\"name\":\"LinearScale\",\"id\":\"p34953\"},\"y_scale\":{\"type\":\"object\",\"name\":\"LinearScale\",\"id\":\"p34955\"},\"title\":{\"type\":\"object\",\"name\":\"Title\",\"id\":\"p34944\",\"attributes\":{\"text\":\"\\u0394(model, experiment)\",\"text_color\":\"black\",\"text_font_size\":\"18pt\"}},\"renderers\":[{\"id\":\"p34999\"}],\"toolbar\":{\"type\":\"object\",\"name\":\"Toolbar\",\"id\":\"p34946\",\"attributes\":{\"tools\":[{\"id\":\"p34940\"},{\"type\":\"object\",\"name\":\"SaveTool\",\"id\":\"p34971\"},{\"id\":\"p34972\"},{\"id\":\"p34973\"},{\"id\":\"p34974\"},{\"id\":\"p34976\"}],\"active_drag\":{\"id\":\"p34972\"},\"active_scroll\":{\"id\":\"p34973\"}}},\"toolbar_location\":null,\"left\":[{\"type\":\"object\",\"name\":\"LinearAxis\",\"id\":\"p34964\",\"attributes\":{\"ticker\":{\"type\":\"object\",\"name\":\"BasicTicker\",\"id\":\"p34967\",\"attributes\":{\"mantissas\":[1,2,5]}},\"formatter\":{\"type\":\"object\",\"name\":\"BasicTickFormatter\",\"id\":\"p34965\"},\"axis_label\":\"ToT2 (ns)\",\"axis_label_text_font_size\":\"19.5px\",\"major_label_policy\":{\"type\":\"object\",\"name\":\"AllLabels\",\"id\":\"p34966\"},\"major_label_text_font_size\":\"16.5px\"}}],\"right\":[{\"type\":\"object\",\"name\":\"ColorBar\",\"id\":\"p35003\",\"attributes\":{\"location\":[0,0],\"title_text_font_size\":\"19.5px\",\"ticker\":{\"type\":\"object\",\"name\":\"BasicTicker\",\"id\":\"p35002\",\"attributes\":{\"mantissas\":[1,2,5]}},\"major_label_policy\":{\"type\":\"object\",\"name\":\"NoOverlap\",\"id\":\"p35004\"},\"major_label_text_font_size\":\"16.5px\",\"label_standoff\":8,\"major_tick_line_color\":\"black\",\"bar_line_color\":\"black\",\"color_mapper\":{\"id\":\"p34985\"}}}],\"below\":[{\"type\":\"object\",\"name\":\"LinearAxis\",\"id\":\"p34957\",\"attributes\":{\"ticker\":{\"type\":\"object\",\"name\":\"BasicTicker\",\"id\":\"p34960\",\"attributes\":{\"mantissas\":[1,2,5]}},\"formatter\":{\"type\":\"object\",\"name\":\"BasicTickFormatter\",\"id\":\"p34958\"},\"axis_label\":\"ToT1 (ns)\",\"axis_label_text_font_size\":\"19.5px\",\"major_label_policy\":{\"type\":\"object\",\"name\":\"AllLabels\",\"id\":\"p34959\"},\"major_label_text_font_size\":\"16.5px\"}}],\"center\":[{\"type\":\"object\",\"name\":\"Grid\",\"id\":\"p34963\",\"attributes\":{\"axis\":{\"id\":\"p34957\"},\"grid_line_color\":null}},{\"type\":\"object\",\"name\":\"Grid\",\"id\":\"p34970\",\"attributes\":{\"dimension\":1,\"axis\":{\"id\":\"p34964\"},\"grid_line_color\":null}}],\"frame_width\":400,\"frame_height\":400,\"min_border_top\":10,\"min_border_bottom\":10,\"min_border_left\":10,\"min_border_right\":10,\"output_backend\":\"webgl\"}},0,2]]}},{\"type\":\"object\",\"name\":\"Spacer\",\"id\":\"p35178\",\"attributes\":{\"name\":\"HSpacer85434\",\"stylesheets\":[\"\\n:host(.pn-loading.pn-arc):before, .pn-loading.pn-arc:before {\\n  background-image: url(\\\"data:image/svg+xml;base64,PHN2ZyB4bWxucz0iaHR0cDovL3d3dy53My5vcmcvMjAwMC9zdmciIHN0eWxlPSJtYXJnaW46IGF1dG87IGJhY2tncm91bmQ6IG5vbmU7IGRpc3BsYXk6IGJsb2NrOyBzaGFwZS1yZW5kZXJpbmc6IGF1dG87IiB2aWV3Qm94PSIwIDAgMTAwIDEwMCIgcHJlc2VydmVBc3BlY3RSYXRpbz0ieE1pZFlNaWQiPiAgPGNpcmNsZSBjeD0iNTAiIGN5PSI1MCIgZmlsbD0ibm9uZSIgc3Ryb2tlPSIjYzNjM2MzIiBzdHJva2Utd2lkdGg9IjEwIiByPSIzNSIgc3Ryb2tlLWRhc2hhcnJheT0iMTY0LjkzMzYxNDMxMzQ2NDE1IDU2Ljk3Nzg3MTQzNzgyMTM4Ij4gICAgPGFuaW1hdGVUcmFuc2Zvcm0gYXR0cmlidXRlTmFtZT0idHJhbnNmb3JtIiB0eXBlPSJyb3RhdGUiIHJlcGVhdENvdW50PSJpbmRlZmluaXRlIiBkdXI9IjFzIiB2YWx1ZXM9IjAgNTAgNTA7MzYwIDUwIDUwIiBrZXlUaW1lcz0iMDsxIj48L2FuaW1hdGVUcmFuc2Zvcm0+ICA8L2NpcmNsZT48L3N2Zz4=\\\");\\n  background-size: auto calc(min(50%, 400px));\\n}\",{\"id\":\"p34778\"},{\"id\":\"p34776\"},{\"id\":\"p34777\"}],\"margin\":0,\"sizing_mode\":\"stretch_width\",\"align\":\"start\"}}]}}],\"callbacks\":{\"type\":\"map\"}}};\n",
       "  var render_items = [{\"docid\":\"b9ee6811-1b4b-4529-8aaa-65fa85cec22f\",\"roots\":{\"p34775\":\"a7944c51-c39f-4441-a9b7-90272521cd98\"},\"root_ids\":[\"p34775\"]}];\n",
       "  var docs = Object.values(docs_json)\n",
       "  if (!docs) {\n",
       "    return\n",
       "  }\n",
       "  const py_version = docs[0].version.replace('rc', '-rc.').replace('.dev', '-dev.')\n",
       "  const is_dev = py_version.indexOf(\"+\") !== -1 || py_version.indexOf(\"-\") !== -1\n",
       "  function embed_document(root) {\n",
       "    var Bokeh = get_bokeh(root)\n",
       "    Bokeh.embed.embed_items_notebook(docs_json, render_items);\n",
       "    for (const render_item of render_items) {\n",
       "      for (const root_id of render_item.root_ids) {\n",
       "\tconst id_el = document.getElementById(root_id)\n",
       "\tif (id_el.children.length && (id_el.children[0].className === 'bk-root')) {\n",
       "\t  const root_el = id_el.children[0]\n",
       "\t  root_el.id = root_el.id + '-rendered'\n",
       "\t}\n",
       "      }\n",
       "    }\n",
       "  }\n",
       "  function get_bokeh(root) {\n",
       "    if (root.Bokeh === undefined) {\n",
       "      return null\n",
       "    } else if (root.Bokeh.version !== py_version && !is_dev) {\n",
       "      if (root.Bokeh.versions === undefined || !root.Bokeh.versions.has(py_version)) {\n",
       "\treturn null\n",
       "      }\n",
       "      return root.Bokeh.versions.get(py_version);\n",
       "    } else if (root.Bokeh.version === py_version) {\n",
       "      return root.Bokeh\n",
       "    }\n",
       "    return null\n",
       "  }\n",
       "  function is_loaded(root) {\n",
       "    var Bokeh = get_bokeh(root)\n",
       "    return (Bokeh != null && Bokeh.Panel !== undefined)\n",
       "  }\n",
       "  if (is_loaded(root)) {\n",
       "    embed_document(root);\n",
       "  } else {\n",
       "    var attempts = 0;\n",
       "    var timer = setInterval(function(root) {\n",
       "      if (is_loaded(root)) {\n",
       "        clearInterval(timer);\n",
       "        embed_document(root);\n",
       "      } else if (document.readyState == \"complete\") {\n",
       "        attempts++;\n",
       "        if (attempts > 200) {\n",
       "          clearInterval(timer);\n",
       "\t  var Bokeh = get_bokeh(root)\n",
       "\t  if (Bokeh == null || Bokeh.Panel == null) {\n",
       "            console.warn(\"Panel: ERROR: Unable to run Panel code because Bokeh or Panel library is missing\");\n",
       "\t  } else {\n",
       "\t    console.warn(\"Panel: WARNING: Attempting to render but not all required libraries could be resolved.\")\n",
       "\t    embed_document(root)\n",
       "\t  }\n",
       "        }\n",
       "      }\n",
       "    }, 25, root)\n",
       "  }\n",
       "})(window);</script>"
      ],
      "text/plain": [
       ":Layout\n",
       "   .Image.I   :Image   [x,y]   (z)\n",
       "   .Image.II  :Image   [x,y]   (z)\n",
       "   .Image.III :Image   [x,y]   (z)"
      ]
     },
     "execution_count": 136,
     "metadata": {
      "application/vnd.holoviews_exec.v0+json": {
       "id": "p34775"
      }
     },
     "output_type": "execute_result"
    }
   ],
   "source": [
    "axis_lim = [ToT1[0]-50, ToT2[0]-50, ToT1[-1]+50, ToT1[-1]+50]\n",
    "hv.Layout(hv.Image(H_model, bounds=axis_lim).opts(title='model', cmap=\"viridis\") + \n",
    "          hv.Image(H_exp, bounds=axis_lim).opts(title='experiment', cmap=\"viridis\") + \n",
    "          hv.Image(H_diff, bounds=axis_lim).opts(title='Δ(model, experiment)', cmap=\"coolwarm\")\n",
    "          ).opts(\n",
    "              opts.Image(colorbar=True, axiswise=True)\n",
    "          )"
   ]
  },
  {
   "cell_type": "code",
   "execution_count": null,
   "metadata": {},
   "outputs": [],
   "source": []
  }
 ],
 "metadata": {
  "kernelspec": {
   "display_name": "timepix",
   "language": "python",
   "name": "python3"
  },
  "language_info": {
   "codemirror_mode": {
    "name": "ipython",
    "version": 3
   },
   "file_extension": ".py",
   "mimetype": "text/x-python",
   "name": "python",
   "nbconvert_exporter": "python",
   "pygments_lexer": "ipython3",
   "version": "3.11.4"
  },
  "orig_nbformat": 4
 },
 "nbformat": 4,
 "nbformat_minor": 2
}
