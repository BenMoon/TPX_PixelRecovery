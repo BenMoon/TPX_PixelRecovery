{
 "cells": [
  {
   "attachments": {},
   "cell_type": "markdown",
   "metadata": {},
   "source": [
    "# imports and custom functions"
   ]
  },
  {
   "cell_type": "code",
   "execution_count": null,
   "metadata": {},
   "outputs": [],
   "source": [
    "import numpy as np\n",
    "import pandas as pd\n",
    "import holoviews as hv\n",
    "hv.extension('bokeh')\n",
    "from scipy.optimize import curve_fit\n",
    "from scipy.stats import binned_statistic_2d\n",
    "from tqdm import tqdm\n",
    "import yaml\n",
    "import urllib.request\n",
    "import xarray as xr\n",
    "import hvplot.xarray\n",
    "import panel.widgets as pnw"
   ]
  },
  {
   "cell_type": "code",
   "execution_count": null,
   "metadata": {},
   "outputs": [],
   "source": [
    "from holoviews import opts\n",
    "opts.defaults(\n",
    "    opts.Scatter(width=1000, height=400, tools=[\"hover\"], show_grid=True, size=8),\n",
    "    opts.Histogram(width=1000, height=400, tools=[\"hover\"], ),\n",
    "    opts.Image(frame_width=400, frame_height=400, tools=[\"hover\"], xlabel=\"ToT1 (ns)\", ylabel=\"ToT2 (ns)\"),\n",
    "    opts.Curve(width=1000, height=400, tools=[\"hover\"], show_grid=True),\n",
    "    opts.Points(width=1000, height=400, tools=[\"hover\"], show_grid=True)\n",
    ")"
   ]
  },
  {
   "attachments": {},
   "cell_type": "markdown",
   "metadata": {},
   "source": [
    "## custom functions"
   ]
  },
  {
   "cell_type": "raw",
   "metadata": {},
   "source": [
    "df_scans = pd.DataFrame()\n",
    "x = np.float_(runNrs[\"scan0100\"][\"delays\"]) - 1\n",
    "\n",
    "def data_single_scan(data_raw: pd.DataFrame, scan_nr: str) -> tuple:\n",
    "    global x, df_scans\n",
    "    loss = lambda t, A, B, c: model(t, A, B, c)[0] / A\n",
    "\n",
    "    data_raw = scan_data\n",
    "    #scan_nr = 'scan0278'\n",
    "    data = data_raw.query(f\"name == '{scan_nr}'\")\n",
    "    xx = np.float_(runNrs[scan_nr][\"delays\"]) - 1\n",
    "    assert xx.all() == x.all(), \"Your x_axis seems to out of order\"\n",
    "\n",
    "    tot1 = []\n",
    "    tot1_error = []\n",
    "    # ToT1\n",
    "    for run, df in data.query(\"tof < 1\").groupby(\"run\"):        \n",
    "        tot1.append([run, df[\"tot\"].mean()])\n",
    "        tot1_error.append(df[\"tot\"].std() / len(df[\"tot\"]))\n",
    "    tot1 = np.asarray(tot1)\n",
    "\n",
    "    tot2 = []\n",
    "    tot2_error = []\n",
    "    # ToT2\n",
    "    for run, df in data.query(\"tof > 1\").groupby(\"run\"):\n",
    "        tot2.append([run, df[\"tot\"].mean()])\n",
    "        tot2_error.append(df[\"tot\"].std() / len(df[\"tot\"]))\n",
    "    tot2 = np.asarray(tot2)\n",
    "\n",
    "    y = np.full(len(x), np.nan)\n",
    "    y[np.int_(tot2[:,0])] = tot2[:,1]\n",
    "    y_err = np.full(len(x), np.nan)\n",
    "    y_err[np.int_(tot2[:,0])] = tot2_error\n",
    "\n",
    "    #assert tot1[:,0].all() == tot2[:,0].all(), f\"your x-axis seems out of order: {scan_nr}: {tot1[:,0]}, {tot2[:,0]}\"\n",
    "    df = pd.DataFrame(np.column_stack([tot1[:, 1], tot1_error, y, y_err]), columns=[\"ToT1 (ns)\", \"ToT1 error\", \"ToT2 (ns)\", \"ToT2 error\"])\n",
    "    df['tot1'] = runNrs[scan_nr]['tot1']\n",
    "    df['tot2'] = runNrs[scan_nr]['tot2']\n",
    "    df['scan name'] = scan_nr\n",
    "\n",
    "    df_scans = pd.concat((df_scans, df), ignore_index=True)"
   ]
  },
  {
   "cell_type": "raw",
   "metadata": {},
   "source": [
    "for scan in tqdm(runNrs.keys()):\n",
    "    data_single_scan(scan_data, scan)\n",
    "df_scans"
   ]
  },
  {
   "cell_type": "raw",
   "metadata": {},
   "source": [
    "df_scans.to_parquet('data/df_scans.parq')"
   ]
  },
  {
   "cell_type": "raw",
   "metadata": {},
   "source": [
    "a = np.column_stack((y0[:, 1], y[:, 1]))\n",
    "a = [[a, a], [a, a]]\n",
    "da = xr.DataArray(\n",
    "    a,\n",
    "    coords=[\n",
    "        (\"ToT1\", [100, 900]),\n",
    "        (\"ToT2\", [800, 900]),\n",
    "        (\"delay (µs)\", x[np.int_(y0[:, 0])]),\n",
    "        (\"intensity\", [\"ToT1\", \"ToT2\"]),\n",
    "    ],\n",
    ")\n",
    "da"
   ]
  },
  {
   "cell_type": "raw",
   "metadata": {},
   "source": [
    "da.hvplot(groupby='ToT1')"
   ]
  },
  {
   "cell_type": "code",
   "execution_count": null,
   "metadata": {},
   "outputs": [],
   "source": [
    "get_x_axis_from_bins = lambda x_bins: 0.5 * (x_bins[1:] + x_bins[:-1])"
   ]
  },
  {
   "attachments": {},
   "cell_type": "markdown",
   "metadata": {},
   "source": [
    "# load data"
   ]
  },
  {
   "cell_type": "code",
   "execution_count": null,
   "metadata": {},
   "outputs": [],
   "source": [
    "with urllib.request.urlopen(\"https://syncandshare.desy.de/index.php/s/zgPcWZMyBGcQ5MC/download/TOT_scans.yaml\") as f:\n",
    "    runNrs = yaml.safe_load(f)\n",
    "\n",
    "# define our x-axis from the first scans\n",
    "x_axe = np.float_(runNrs[\"scan0100\"][\"delays\"]) - 1"
   ]
  },
  {
   "cell_type": "code",
   "execution_count": null,
   "metadata": {},
   "outputs": [],
   "source": [
    "tot1s = set([i['tot1'] for i in runNrs.values()])\n",
    "tot2s = set([i['tot2'] for i in runNrs.values()])"
   ]
  },
  {
   "cell_type": "markdown",
   "metadata": {},
   "source": [
    "#scan_data = pd.read_parquet('https://syncandshare.desy.de/index.php/s/KRA42M7YimM3PAP/download/scan_data.parq')\n",
    "scan_data = pd.read_parquet('data/scan_data.parq')\n",
    "scan_data"
   ]
  },
  {
   "cell_type": "code",
   "execution_count": 184,
   "metadata": {},
   "outputs": [],
   "source": [
    "df_scans = pd.read_parquet('https://syncandshare.desy.de/index.php/s/Dw3Nf2PQ59QppYH/download/df_scans.parq')\n",
    "#df_scans = pd.read_parquet('data/df_scans.parq')"
   ]
  },
  {
   "attachments": {},
   "cell_type": "markdown",
   "metadata": {},
   "source": [
    "## convert single traces to matrix"
   ]
  },
  {
   "cell_type": "code",
   "execution_count": null,
   "metadata": {},
   "outputs": [],
   "source": [
    "offset = -32\n",
    "def fits_single_scan(scan_nr: str) -> list:\n",
    "    global x_axe, df_scans\n",
    "    model = lambda t, A, B, c: A * (1 - B * np.exp(-t / c))\n",
    "    loss = lambda t, A, B, c: model(t, A, B, c)[0] / A\n",
    "\n",
    "    df = df_scans.query(f\"`scan name` == '{scan_nr}'\")\n",
    "\n",
    "    # omit nans\n",
    "    y = df[~df['ToT2 (ns)'].isna()]['ToT2 (ns)']\n",
    "    if len(y) > -offset:\n",
    "        y = y[offset:]\n",
    "    x = x_axe[-len(y):]\n",
    "\n",
    "    p0 = [y[-6:].mean(), 1, 8]\n",
    "    popt, _ = curve_fit(\n",
    "        model,\n",
    "        x,\n",
    "        y[offset:],\n",
    "        p0=p0,\n",
    "        maxfev=5000,\n",
    "        bounds=((50, 1e-2, 1), (2150, 1, 15)),\n",
    "    )\n",
    "\n",
    "    return [\n",
    "        popt[2],  # recovery time\n",
    "        df['ToT1 (ns)'][-6:].mean(),  # mean ToT1\n",
    "        y[-6:].mean(),  # mean ToT2\n",
    "        (popt[0] - model(np.array([2]), *popt))[0],  # absolute loss 2 µs\n",
    "        (popt[0] - model(np.array([3]), *popt))[0],  # absolute loss 3 µs\n",
    "        (popt[0] - model(np.array([4]), *popt))[0],  # absolute loss 4 µs\n",
    "        (1 - loss(np.array([2]), *popt)) * 100,  # relative loss 2 µs\n",
    "        (1 - loss(np.array([3]), *popt)) * 100,  # relative loss 3 µs\n",
    "        (1 - loss(np.array([4]), *popt)) * 100,  # relative loss 4 µs\n",
    "        (1 - loss(np.array([5]), *popt)) * 100,\n",
    "        (1 - loss(np.array([6]), *popt)) * 100,\n",
    "        (1 - loss(np.array([7]), *popt)) * 100,\n",
    "        (1 - loss(np.array([8]), *popt)) * 100,\n",
    "        (1 - loss(np.array([9]), *popt)) * 100,\n",
    "        (1 - loss(np.array([10]), *popt)) * 100,\n",
    "    ]"
   ]
  },
  {
   "cell_type": "code",
   "execution_count": null,
   "metadata": {},
   "outputs": [],
   "source": [
    "tot1_tot2 = []\n",
    "for scan in tqdm(runNrs.keys()):\n",
    "    tot1_tot2.append((*fits_single_scan(scan), scan))\n",
    "\n",
    "tot1_tot2 = pd.DataFrame(\n",
    "    tot1_tot2,\n",
    "    columns=[\n",
    "        \"recovery\",\n",
    "        \"ToT1\",\n",
    "        \"ToT2\",\n",
    "        \"absolute loss 2µs\",\n",
    "        \"absolute loss 3µs\",\n",
    "        \"absolute loss 4µs\",\n",
    "        \"relativ loss 2µs\",\n",
    "        \"relativ loss 3µs\",\n",
    "        \"relativ loss 4µs\",\n",
    "        \"relativ loss 5µs\",\n",
    "        \"relativ loss 6µs\",\n",
    "        \"relativ loss 7µs\",\n",
    "        \"relativ loss 8µs\",\n",
    "        \"relativ loss 9µs\",\n",
    "        \"relativ loss 10µs\",\n",
    "        \"scan\",\n",
    "    ],\n",
    ")\n",
    "tot1_tot2[\"ToT1 / ToT2\"] = tot1_tot2[\"ToT1\"] / tot1_tot2[\"ToT2\"]\n",
    "tot1_tot2[\"ToT2 / ToT1\"] = tot1_tot2[\"ToT2\"] / tot1_tot2[\"ToT1\"]\n",
    "tot1_tot2"
   ]
  },
  {
   "attachments": {},
   "cell_type": "markdown",
   "metadata": {},
   "source": [
    "# Plots\n",
    "## single trace"
   ]
  },
  {
   "cell_type": "raw",
   "metadata": {},
   "source": [
    "single_line = plot_single_scan(scan_data, 'scan0278')[0]\n",
    "single_line.opts(xlim=(0.9, 150)).opts(opts.Curve(logx=True))"
   ]
  },
  {
   "cell_type": "raw",
   "metadata": {},
   "source": [
    "scan_nr = 'scan0437'\n",
    "model = lambda t, A, B, c: A * (1 - B * np.exp(-t / c))\n",
    "loss = lambda t, A, B, c: model(t, A, B, c)[0] / A\n",
    "\n",
    "df = df_scans.query(f'`scan name` == \"{scan_nr}\"')\n",
    "popt, _ = curve_fit(model, x[6:], df['ToT2 (ns)'][6:].to_numpy(), p0=[df['ToT2 (ns)'][-6:].mean(), 1, 8])\n",
    "hv.Overlay(\n",
    "        hv.Curve((x, df['ToT2 (ns)']), label='ToT of 2nd LED') *\n",
    "        hv.Scatter((x, df['ToT2 (ns)']), label='ToT of 2nd LED').opts(size=5) *\n",
    "        hv.Curve(\n",
    "            (x[6:], model(x[6:], *popt)),\n",
    "            label=f\"A(1-B exp(-t/c)): A={popt[0]:.1f}, B={popt[1]:.2f}, c={popt[2]:.2f}\",) *\n",
    "        hv.ErrorBars(np.column_stack([x, df['ToT2 (ns)'], df['ToT2 error']])) *\n",
    "        hv.Curve((x, df['ToT1 (ns)']), label=f\"ToT of 1st LED\") \n",
    "        ).opts(legend_position=\"bottom_right\").opts(\n",
    "            opts.Curve(\n",
    "            xlabel=\"delay (µs)\",\n",
    "            ylabel=\"mean ToT (ns)\",\n",
    "            title=f'{scan_nr}, IKrum={runNrs[scan_nr][\"IKrum\"]}',\n",
    "            xlim=(0.9, None),\n",
    "            logx=True\n",
    "        ))"
   ]
  },
  {
   "cell_type": "raw",
   "metadata": {},
   "source": [
    "[k for k,v in runNrs.items() if v['tot1'] == 1500 and v['tot2'] == 100]\n",
    "df = df_scans.query('`scan name` == \"scan0113\"')\n",
    "\n",
    "popt, _ = curve_fit(model, x_sub, y, p0=[df['ToT2 (ns)'][-6:].mean(), 1, 8])\n",
    "df"
   ]
  },
  {
   "cell_type": "code",
   "execution_count": null,
   "metadata": {},
   "outputs": [],
   "source": [
    "def load_tot_curves(tot1, tot2, **kwargs):\n",
    "    global x_axe, df_scans\n",
    "    model = lambda t, A, B, c: A * (1 - B * np.exp(-t / c))\n",
    "\n",
    "    # get scan_nr for ToT combination\n",
    "    scan_nr = [k for k, v in runNrs.items() if v['tot1'] == tot1 and v['tot2'] == tot2]\n",
    "    \n",
    "    # for few ToT combinations, there are multiple scans; just take the first one\n",
    "    if len(scan_nr) > 0:\n",
    "        scan_nr = scan_nr[0]\n",
    "    else:\n",
    "        scan_nr = 'scan0278'\n",
    "    df = df_scans.query(f'`scan name` == \"{scan_nr}\"')\n",
    "\n",
    "    # omit nans\n",
    "    y = df[~df['ToT2 (ns)'].isna()]['ToT2 (ns)']\n",
    "    if len(y) > 32:\n",
    "        y = y[-32:]\n",
    "    x = x_axe[-len(y):]\n",
    "    popt, _ = curve_fit(model, x, y, p0=[df['ToT2 (ns)'][-6:].mean(), 1, 1])\n",
    "    return hv.Overlay(\n",
    "            hv.Curve((x_axe, df['ToT2 (ns)']), label='ToT of 2nd LED') *\n",
    "            hv.Scatter((x_axe, df['ToT2 (ns)']), label='ToT of 2nd LED').opts(size=5) *\n",
    "            hv.Curve(\n",
    "                (x, model(x, *popt)),\n",
    "                label=f\"A(1-B exp(-t/c)): A={popt[0]:.1f}, B={popt[1]:.2f}, c={popt[2]:.2f}\",) *\n",
    "            hv.ErrorBars(np.column_stack([x_axe, df['ToT2 (ns)'], df['ToT2 error']])) *\n",
    "            hv.Curve((x_axe, df['ToT1 (ns)']), label=f\"ToT of 1st LED\") \n",
    "            ).opts(legend_position=\"bottom_right\", framewise=True).opts(\n",
    "                opts.Curve(\n",
    "                xlabel=\"delay (µs)\",\n",
    "                ylabel=\"mean ToT (ns)\",\n",
    "                title=f'{scan_nr}, IKrum={runNrs[scan_nr][\"IKrum\"]}',\n",
    "                xlim=(0.9, None),\n",
    "                logx=True,\n",
    "                framewise=True\n",
    "        ))\n",
    "\n",
    "dmap = hv.DynamicMap(load_tot_curves, kdims=['ToT1','ToT2'])\n",
    "dmap = dmap.redim.values(ToT1=tot1s, ToT2=tot2s)\n",
    "\n",
    "dmap.opts(framewise=True)"
   ]
  },
  {
   "attachments": {},
   "cell_type": "markdown",
   "metadata": {},
   "source": [
    "## Recovery time"
   ]
  },
  {
   "cell_type": "code",
   "execution_count": null,
   "metadata": {},
   "outputs": [],
   "source": [
    "xy_hist, x_bins, y_bins, binnumber = binned_statistic_2d(tot1_tot2['ToT1'], tot1_tot2['ToT2'], \n",
    "    tot1_tot2.recovery, bins=(range(50, 2150, 100), range(50, 2150, 100)))\n",
    "a = hv.Image(xy_hist.T[::-1], bounds=[x_bins[0], y_bins[0], x_bins[-1], y_bins[-1]])\n",
    "a.opts(cmap='coolwarm', logz=True, colorbar=True)\n",
    "\n",
    "x_hist, x_bins = np.histogram(tot1_tot2.recovery, bins=20)\n",
    "x = get_x_axis_from_bins(x_bins) \n",
    "b = hv.Curve((x, x_hist))\n",
    "c = hv.Scatter((x, x_hist))\n",
    "b.opts(width=400, xlabel='Recovery time (µs)', ylabel='counts')\n",
    "\n",
    "(a + b * c).opts(shared_axes=False)"
   ]
  },
  {
   "attachments": {},
   "cell_type": "markdown",
   "metadata": {},
   "source": [
    "## absolute loss"
   ]
  },
  {
   "cell_type": "code",
   "execution_count": null,
   "metadata": {},
   "outputs": [],
   "source": [
    "x_bins, y_bins = np.arange(50, 2150, 100), np.arange(50, 2150, 100)\n",
    "x_axe = 0.5 * (x_bins[:-1] + x_bins[1:])\n",
    "y = 0.5 * (y_bins[:-1] + y_bins[1:])\n",
    "data = []\n",
    "dims = []\n",
    "gen = (col for col in tot1_tot2.columns if col.startswith(\"absolute\"))\n",
    "for col in gen:\n",
    "    data.append(\n",
    "        binned_statistic_2d(\n",
    "            tot1_tot2[\"ToT1\"],\n",
    "            tot1_tot2[\"ToT2\"],\n",
    "            tot1_tot2[col],\n",
    "            bins=(x_bins, y_bins),\n",
    "        )[0].T\n",
    "    )\n",
    "    dims.append(col)\n",
    "data = np.array(data)\n",
    "da = xr.DataArray(data, coords=[(\"Δt\", dims), (\"ToT1\", x_axe), (\"ToT2\", y)])"
   ]
  },
  {
   "cell_type": "code",
   "execution_count": null,
   "metadata": {},
   "outputs": [],
   "source": [
    "da.hvplot(groupby='Δt', cmap='viridis')"
   ]
  },
  {
   "attachments": {},
   "cell_type": "markdown",
   "metadata": {},
   "source": [
    "## realtiv loss"
   ]
  },
  {
   "cell_type": "code",
   "execution_count": null,
   "metadata": {},
   "outputs": [],
   "source": [
    "x_bins, y_bins = np.arange(50, 2150, 100), np.arange(50, 2150, 100)\n",
    "x_axe = 0.5 * (x_bins[:-1] + x_bins[1:])\n",
    "y = 0.5 * (y_bins[:-1] + y_bins[1:])\n",
    "data = []\n",
    "dims = []\n",
    "gen = (col for col in tot1_tot2.columns if col.startswith(\"relativ\"))\n",
    "for col in gen:\n",
    "    data.append(\n",
    "        binned_statistic_2d(\n",
    "            tot1_tot2[\"ToT1\"],\n",
    "            tot1_tot2[\"ToT2\"],\n",
    "            tot1_tot2[col],\n",
    "            bins=(x_bins, y_bins),\n",
    "        )[0].T\n",
    "    )\n",
    "    dims.append(col)\n",
    "data = np.array(data)\n",
    "da = xr.DataArray(data, coords=[(\"Δt\", dims), (\"ToT1\", x_axe), (\"ToT2\", y)])"
   ]
  },
  {
   "cell_type": "code",
   "execution_count": null,
   "metadata": {},
   "outputs": [],
   "source": [
    "da.hvplot(groupby='Δt', cmap='viridis')"
   ]
  },
  {
   "cell_type": "markdown",
   "metadata": {},
   "source": [
    "# model"
   ]
  },
  {
   "attachments": {},
   "cell_type": "markdown",
   "metadata": {},
   "source": [
    "## step 1"
   ]
  },
  {
   "cell_type": "code",
   "execution_count": null,
   "metadata": {},
   "outputs": [],
   "source": [
    "xy_hist, x_bins, y_bins, binnumber = binned_statistic_2d(tot1_tot2['ToT1'], tot1_tot2['ToT2'], \n",
    "    #tot1_tot2['relativ loss 2µs'], bins=(range(50, 2150, 100), range(50, 2150, 100)))\n",
    "    tot1_tot2['relativ loss 3µs'], bins=(range(50, 2150, 100), range(50, 2150, 100)))\n",
    "x_axe = get_x_axis_from_bins(x_bins)\n",
    "y = get_x_axis_from_bins(y_bins)"
   ]
  },
  {
   "cell_type": "code",
   "execution_count": null,
   "metadata": {},
   "outputs": [],
   "source": [
    "plt.plot(x_axe, xy_hist[:, 14], label=f\"ToT2={y_bins[14]+50}\")\n",
    "plt.plot(x_axe, xy_hist[:, 9], label=f\"ToT2={y_bins[9]+50}\")\n",
    "plt.plot(x_axe, xy_hist[:, 4], label=f\"ToT2={y_bins[4]+50}\")\n",
    "plt.plot(x_axe, xy_hist[:, 1], label=f\"ToT2={y_bins[1]+50}\")\n",
    "plt.plot(x_axe, xy_hist[:, 0], label=f\"ToT2={y_bins[0]+50}\")\n",
    "#plt.plot(x, xy_hist[:, 19], label=f\"ToT2={y_bins[19]+50}\")\n",
    "plt.xlabel('ToT1 (ns)')\n",
    "plt.ylabel('relativ loss')\n",
    "plt.legend()"
   ]
  },
  {
   "attachments": {},
   "cell_type": "markdown",
   "metadata": {},
   "source": [
    "## step 1\n",
    "take the TOT2(TOT1) for every Δt the relative loss is calculated for and fit the slope from a linear function"
   ]
  },
  {
   "cell_type": "code",
   "execution_count": null,
   "metadata": {},
   "outputs": [],
   "source": [
    "plots = []\n",
    "params = []\n",
    "for Δt in tqdm(range(2, 11)):\n",
    "    xy_hist, x_bins, y_bins, binnumber = binned_statistic_2d(tot1_tot2['ToT1'], tot1_tot2['ToT2'], \n",
    "                                                             tot1_tot2[f'relativ loss {Δt}µs'], bins=(range(50, 2150, 100), range(50, 2150, 100)))\n",
    "    ToT1 = x_axe = get_x_axis_from_bins(x_bins)\n",
    "    y = get_x_axis_from_bins(y_bins)\n",
    "\n",
    "    for loss, ToT2 in zip(xy_hist.T, x_axe):\n",
    "        model1 = lambda ToT1, m: m * ToT1\n",
    "        \n",
    "        mask = ~np.isnan(loss)\n",
    "        if mask.any() == True:\n",
    "            popt1, _ = curve_fit(model1, ToT1[mask], loss[mask])\n",
    "            params.append([Δt, ToT2, *popt1])\n",
    "\n",
    "            plots.append(hv.Curve((ToT1, loss), label=f'Δt = {Δt} µs, ToT2 = {ToT2:n}').opts(xlabel='ToT1 (ns)', ylabel=\"loss (%)\", width=400) * \n",
    "                         hv.Curve((ToT1, model1(ToT1, *popt1)), label=', '.join([f'{i:.2e}' for i in popt1])) #*\n",
    "                         #hv.Curve((ToT2, model2(ToT2, *popt2)), label=', '.join([f'{i:.2f}' for i in popt2]))\n",
    "                        )\n",
    "params_ToT2 = pd.DataFrame(params, columns=['Δt', 'ToT2', 'm',])\n"
   ]
  },
  {
   "attachments": {},
   "cell_type": "markdown",
   "metadata": {},
   "source": [
    "# step 2\n",
    "fit an exponetial decay for every TOT2 for the Δt"
   ]
  },
  {
   "cell_type": "code",
   "execution_count": null,
   "metadata": {},
   "outputs": [],
   "source": [
    "model = lambda x, A, c: A * np.exp(- x / c)\n",
    "\n",
    "plots = []\n",
    "params_expfit = []\n",
    "for key, df in params_ToT2.groupby(\"ToT2\")['Δt', 'm']:\n",
    "    popt, _ = curve_fit(model, df['Δt'], df['m'])\n",
    "    params_expfit.append([key, *popt])\n",
    "    \n",
    "    plots.append(hv.Curve(  (df['Δt'], df['m']), label=f'ToT2 = {key}').opts(xlabel='Δt (ns)', ylabel='slope') *\n",
    "                 hv.Scatter((df['Δt'], df['m']), label=f'ToT2 = {key}').opts(size=5)\n",
    "                )\n",
    "\n",
    "params_expfit = pd.DataFrame(params_expfit, columns=['ToT2', 'A', 'c'])\n",
    "hv.Overlay(plots[::2]).opts(legend_position='left', fontscale=1.5)"
   ]
  },
  {
   "attachments": {},
   "cell_type": "markdown",
   "metadata": {},
   "source": [
    "## step 3\n",
    "fit the model $\\frac{d}{ToT + B}+g$ from the previously extracted fit parameter $A$"
   ]
  },
  {
   "cell_type": "code",
   "execution_count": null,
   "metadata": {},
   "outputs": [],
   "source": [
    "model = lambda ToT, d, B, g: d / (ToT + B) + g\n",
    "popt, _ = curve_fit(model, params_expfit['ToT2'][1:], params_expfit['A'][1:], p0=[6, 39, 8e-3])\n",
    "x_axe = range(200, 2000)\n",
    "\n",
    "a = hv.Curve((params_expfit['ToT2'], params_expfit['c']), label=f'fit parameter c: median={params_expfit[\"c\"].median():.3f}')\n",
    "b = (hv.Curve((params_expfit['ToT2'], params_expfit['A']), label=f'fit parameter A').opts(xlabel='ToT2 (ns)', fontscale=1.5) *\n",
    "     hv.Scatter((params_expfit['ToT2'], params_expfit['A']), label=f'fit parameter A').opts(size=5) *\n",
    "     hv.Curve((x_axe, model(x_axe, *popt)), label=', '.join([f'{i:.2e}' for i in popt])))\n",
    "\n",
    "#hv.Layout(a + b).opts(shared_axes=False)\n",
    "b"
   ]
  },
  {
   "attachments": {},
   "cell_type": "markdown",
   "metadata": {},
   "source": [
    "## step 4\n",
    "all parameters are together for the model\n",
    "$$\n",
    "ToT_1 \\exp(-t / c) \\left(\\frac{d}{ToT_2 + B} + g\\right)\n",
    "$$"
   ]
  },
  {
   "cell_type": "code",
   "execution_count": null,
   "metadata": {},
   "outputs": [],
   "source": [
    "print(f'c = {params_expfit[\"c\"][2:].median():2f}')\n",
    "print(f'd = {popt[0]:.2f}')\n",
    "print(f'B = {popt[1]:.1f}')\n",
    "print(f'g = {popt[2]:.3f}')"
   ]
  },
  {
   "cell_type": "code",
   "execution_count": null,
   "metadata": {},
   "outputs": [],
   "source": [
    "d = popt[0]\n",
    "B = popt[1]\n",
    "g = popt[2]\n",
    "c = params_expfit[\"c\"].median()\n",
    "t = 2\n",
    "model = lambda ToT1, ToT2, t, d, g, B: ToT1 * np.exp(-t / c) * (d / (ToT2 + B) + g)\n",
    "\n",
    "\n",
    "ToT1 = range(100, 2050, 100)\n",
    "ToT2 = range(200, 2050, 100)\n",
    "H_model = np.array([model(i, ToT2, t, d, g, B) for i in ToT1]).T[::-1]\n",
    "a = hv.Image(H_model, bounds=[ToT1[0]-50, ToT2[0]-50, ToT1[-1]+50, ToT2[-1]+50], label=f'model: {t} µs').opts(xlabel=\"ToT1 (ns)\", ylabel=\"ToT2 (ns)\")\n",
    "\n",
    "xy_exp, x_bins, y_bins, binnumber = binned_statistic_2d(tot1_tot2['ToT1'], tot1_tot2['ToT2'], \n",
    "    tot1_tot2[f'relativ loss {t}µs'], bins=(range(50, 2150, 100), range(150, 2150, 100)))\n",
    "H_exp = xy_exp.T[::-1]\n",
    "#x = get_x_axis_from_bins(x_bins)\n",
    "#y = get_x_axis_from_bins(y_bins)\n",
    "b = hv.Image(H_exp,\n",
    "    bounds=(x_bins[0], y_bins[0], x_bins[-1], y_bins[-1])).opts(title=f\"experiment: loss (%) at {t}µs\")\n",
    "#b = hv.Curve((x_bins, xy_hist.diagonal()*100)).opts(axiswise=True, title=\"relative loss on diagonal\", xlabel=\"ToT\", ylabel=\"relative loss (%)\")\n",
    "#(a + b).cols(1)\n",
    "\n",
    "H_diff = H_exp - H_model\n",
    "c = hv.Image(H_diff,\n",
    "    bounds=(x_bins[0], y_bins[0], x_bins[-1], y_bins[-1])).opts(title=f\"differenence (%)at {t}µs\", cmap='coolwarm', shared_axes=False)\n",
    "\n",
    "np.nanmin(H_diff), np.nanmax(H_diff)\n",
    "#(a + b + c).opts(opts.Image(xlabel='ToT1 (ns)', ylabel='ToT2 (ns)', cmap='jet', colorbar=True, clim=(0, 65), fontscale=1.5))"
   ]
  },
  {
   "cell_type": "code",
   "execution_count": null,
   "metadata": {},
   "outputs": [],
   "source": [
    "text_pos_x = 0.05\n",
    "text_pos_y = 0.85\n",
    "\n",
    "fig, ax = plt.subplots(1, 3, sharex=True, sharey=True)\n",
    "axis_lim = [ToT1[0], ToT1[-1], ToT2[0], ToT1[-1]]\n",
    "for p, c, l, abc, axe in zip((H_model, H_exp, H_diff), \n",
    "                     ('viridis', 'viridis', 'coolwarm'),\n",
    "                     (f'model (\\%) {t} µs', f'exp. (\\%) {t} µs', r'$\\Delta$(m, exp) (\\%)'),\n",
    "                     (('a', 'light'), ('b', 'light'), ('c', 'dim')),\n",
    "                     ax):\n",
    "    ax_im = axe.imshow(p, extent=axis_lim, cmap=c)\n",
    "    axe.set_xlabel('ToT1 (ns)')\n",
    "    axe.text(text_pos_x, text_pos_y, abc[0], fontsize=ftsz, color=f'{abc[1]}grey', transform=axe.transAxes)\n",
    "    \n",
    "    ax1_divider = make_axes_locatable(axe)\n",
    "    cax1 = ax1_divider.append_axes(\"top\", size=\"3%\", pad=\"2%\")\n",
    "    cbar = plt.colorbar(ax_im, cax=cax1, orientation=\"horizontal\")\n",
    "    cbar.ax.xaxis.set_label_position(\"top\")\n",
    "    cbar.set_label(l, rotation=0)\n",
    "    cax1.xaxis.set_ticks_position(\"top\")\n",
    "    \n",
    "ax[0].set_ylabel('ToT2 (ns)')\n"
   ]
  }
 ],
 "metadata": {
  "kernelspec": {
   "display_name": "timepix",
   "language": "python",
   "name": "python3"
  },
  "language_info": {
   "codemirror_mode": {
    "name": "ipython",
    "version": 3
   },
   "file_extension": ".py",
   "mimetype": "text/x-python",
   "name": "python",
   "nbconvert_exporter": "python",
   "pygments_lexer": "ipython3",
   "version": "3.11.4"
  },
  "orig_nbformat": 4
 },
 "nbformat": 4,
 "nbformat_minor": 2
}
