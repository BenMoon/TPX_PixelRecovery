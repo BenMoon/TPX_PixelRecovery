{
 "cells": [
  {
   "cell_type": "markdown",
   "metadata": {},
   "source": [
    "# Supplementary information\n",
    "\n",
    "This notebook provides supplementary information for the manuscript: \"???\"\n"
   ]
  },
  {
   "attachments": {},
   "cell_type": "markdown",
   "metadata": {},
   "source": [
    "# imports and custom functions"
   ]
  },
  {
   "cell_type": "code",
   "execution_count": 1,
   "metadata": {},
   "outputs": [
    {
     "data": {
      "application/javascript": "(function(root) {\n  function now() {\n    return new Date();\n  }\n\n  var force = true;\n  var py_version = '3.1.1'.replace('rc', '-rc.').replace('.dev', '-dev.');\n  var is_dev = py_version.indexOf(\"+\") !== -1 || py_version.indexOf(\"-\") !== -1;\n  var reloading = false;\n  var Bokeh = root.Bokeh;\n  var bokeh_loaded = Bokeh != null && (Bokeh.version === py_version || (Bokeh.versions !== undefined && Bokeh.versions.has(py_version)));\n\n  if (typeof (root._bokeh_timeout) === \"undefined\" || force) {\n    root._bokeh_timeout = Date.now() + 5000;\n    root._bokeh_failed_load = false;\n  }\n\n  function run_callbacks() {\n    try {\n      root._bokeh_onload_callbacks.forEach(function(callback) {\n        if (callback != null)\n          callback();\n      });\n    } finally {\n      delete root._bokeh_onload_callbacks;\n    }\n    console.debug(\"Bokeh: all callbacks have finished\");\n  }\n\n  function load_libs(css_urls, js_urls, js_modules, js_exports, callback) {\n    if (css_urls == null) css_urls = [];\n    if (js_urls == null) js_urls = [];\n    if (js_modules == null) js_modules = [];\n    if (js_exports == null) js_exports = {};\n\n    root._bokeh_onload_callbacks.push(callback);\n\n    if (root._bokeh_is_loading > 0) {\n      console.debug(\"Bokeh: BokehJS is being loaded, scheduling callback at\", now());\n      return null;\n    }\n    if (js_urls.length === 0 && js_modules.length === 0 && Object.keys(js_exports).length === 0) {\n      run_callbacks();\n      return null;\n    }\n    if (!reloading) {\n      console.debug(\"Bokeh: BokehJS not loaded, scheduling load and callback at\", now());\n    }\n\n    function on_load() {\n      root._bokeh_is_loading--;\n      if (root._bokeh_is_loading === 0) {\n        console.debug(\"Bokeh: all BokehJS libraries/stylesheets loaded\");\n        run_callbacks()\n      }\n    }\n    window._bokeh_on_load = on_load\n\n    function on_error() {\n      console.error(\"failed to load \" + url);\n    }\n\n    var skip = [];\n    if (window.requirejs) {\n      window.requirejs.config({'packages': {}, 'paths': {'jspanel': 'https://cdn.jsdelivr.net/npm/jspanel4@4.12.0/dist/jspanel', 'jspanel-modal': 'https://cdn.jsdelivr.net/npm/jspanel4@4.12.0/dist/extensions/modal/jspanel.modal', 'jspanel-tooltip': 'https://cdn.jsdelivr.net/npm/jspanel4@4.12.0/dist/extensions/tooltip/jspanel.tooltip', 'jspanel-hint': 'https://cdn.jsdelivr.net/npm/jspanel4@4.12.0/dist/extensions/hint/jspanel.hint', 'jspanel-layout': 'https://cdn.jsdelivr.net/npm/jspanel4@4.12.0/dist/extensions/layout/jspanel.layout', 'jspanel-contextmenu': 'https://cdn.jsdelivr.net/npm/jspanel4@4.12.0/dist/extensions/contextmenu/jspanel.contextmenu', 'jspanel-dock': 'https://cdn.jsdelivr.net/npm/jspanel4@4.12.0/dist/extensions/dock/jspanel.dock', 'gridstack': 'https://cdn.jsdelivr.net/npm/gridstack@7.2.3/dist/gridstack-all', 'notyf': 'https://cdn.jsdelivr.net/npm/notyf@3/notyf.min'}, 'shim': {'jspanel': {'exports': 'jsPanel'}, 'gridstack': {'exports': 'GridStack'}}});\n      require([\"jspanel\"], function(jsPanel) {\n\twindow.jsPanel = jsPanel\n\ton_load()\n      })\n      require([\"jspanel-modal\"], function() {\n\ton_load()\n      })\n      require([\"jspanel-tooltip\"], function() {\n\ton_load()\n      })\n      require([\"jspanel-hint\"], function() {\n\ton_load()\n      })\n      require([\"jspanel-layout\"], function() {\n\ton_load()\n      })\n      require([\"jspanel-contextmenu\"], function() {\n\ton_load()\n      })\n      require([\"jspanel-dock\"], function() {\n\ton_load()\n      })\n      require([\"gridstack\"], function(GridStack) {\n\twindow.GridStack = GridStack\n\ton_load()\n      })\n      require([\"notyf\"], function() {\n\ton_load()\n      })\n      root._bokeh_is_loading = css_urls.length + 9;\n    } else {\n      root._bokeh_is_loading = css_urls.length + js_urls.length + js_modules.length + Object.keys(js_exports).length;\n    }\n\n    var existing_stylesheets = []\n    var links = document.getElementsByTagName('link')\n    for (var i = 0; i < links.length; i++) {\n      var link = links[i]\n      if (link.href != null) {\n\texisting_stylesheets.push(link.href)\n      }\n    }\n    for (var i = 0; i < css_urls.length; i++) {\n      var url = css_urls[i];\n      if (existing_stylesheets.indexOf(url) !== -1) {\n\ton_load()\n\tcontinue;\n      }\n      const element = document.createElement(\"link\");\n      element.onload = on_load;\n      element.onerror = on_error;\n      element.rel = \"stylesheet\";\n      element.type = \"text/css\";\n      element.href = url;\n      console.debug(\"Bokeh: injecting link tag for BokehJS stylesheet: \", url);\n      document.body.appendChild(element);\n    }    if (((window['jsPanel'] !== undefined) && (!(window['jsPanel'] instanceof HTMLElement))) || window.requirejs) {\n      var urls = ['https://cdn.holoviz.org/panel/1.1.1/dist/bundled/floatpanel/jspanel4@4.12.0/dist/jspanel.js', 'https://cdn.holoviz.org/panel/1.1.1/dist/bundled/floatpanel/jspanel4@4.12.0/dist/extensions/modal/jspanel.modal.js', 'https://cdn.holoviz.org/panel/1.1.1/dist/bundled/floatpanel/jspanel4@4.12.0/dist/extensions/tooltip/jspanel.tooltip.js', 'https://cdn.holoviz.org/panel/1.1.1/dist/bundled/floatpanel/jspanel4@4.12.0/dist/extensions/hint/jspanel.hint.js', 'https://cdn.holoviz.org/panel/1.1.1/dist/bundled/floatpanel/jspanel4@4.12.0/dist/extensions/layout/jspanel.layout.js', 'https://cdn.holoviz.org/panel/1.1.1/dist/bundled/floatpanel/jspanel4@4.12.0/dist/extensions/contextmenu/jspanel.contextmenu.js', 'https://cdn.holoviz.org/panel/1.1.1/dist/bundled/floatpanel/jspanel4@4.12.0/dist/extensions/dock/jspanel.dock.js'];\n      for (var i = 0; i < urls.length; i++) {\n        skip.push(urls[i])\n      }\n    }    if (((window['GridStack'] !== undefined) && (!(window['GridStack'] instanceof HTMLElement))) || window.requirejs) {\n      var urls = ['https://cdn.holoviz.org/panel/1.1.1/dist/bundled/gridstack/gridstack@7.2.3/dist/gridstack-all.js'];\n      for (var i = 0; i < urls.length; i++) {\n        skip.push(urls[i])\n      }\n    }    if (((window['Notyf'] !== undefined) && (!(window['Notyf'] instanceof HTMLElement))) || window.requirejs) {\n      var urls = ['https://cdn.holoviz.org/panel/1.1.1/dist/bundled/notificationarea/notyf@3/notyf.min.js'];\n      for (var i = 0; i < urls.length; i++) {\n        skip.push(urls[i])\n      }\n    }    var existing_scripts = []\n    var scripts = document.getElementsByTagName('script')\n    for (var i = 0; i < scripts.length; i++) {\n      var script = scripts[i]\n      if (script.src != null) {\n\texisting_scripts.push(script.src)\n      }\n    }\n    for (var i = 0; i < js_urls.length; i++) {\n      var url = js_urls[i];\n      if (skip.indexOf(url) !== -1 || existing_scripts.indexOf(url) !== -1) {\n\tif (!window.requirejs) {\n\t  on_load();\n\t}\n\tcontinue;\n      }\n      var element = document.createElement('script');\n      element.onload = on_load;\n      element.onerror = on_error;\n      element.async = false;\n      element.src = url;\n      console.debug(\"Bokeh: injecting script tag for BokehJS library: \", url);\n      document.head.appendChild(element);\n    }\n    for (var i = 0; i < js_modules.length; i++) {\n      var url = js_modules[i];\n      if (skip.indexOf(url) !== -1 || existing_scripts.indexOf(url) !== -1) {\n\tif (!window.requirejs) {\n\t  on_load();\n\t}\n\tcontinue;\n      }\n      var element = document.createElement('script');\n      element.onload = on_load;\n      element.onerror = on_error;\n      element.async = false;\n      element.src = url;\n      element.type = \"module\";\n      console.debug(\"Bokeh: injecting script tag for BokehJS library: \", url);\n      document.head.appendChild(element);\n    }\n    for (const name in js_exports) {\n      var url = js_exports[name];\n      if (skip.indexOf(url) >= 0 || root[name] != null) {\n\tif (!window.requirejs) {\n\t  on_load();\n\t}\n\tcontinue;\n      }\n      var element = document.createElement('script');\n      element.onerror = on_error;\n      element.async = false;\n      element.type = \"module\";\n      console.debug(\"Bokeh: injecting script tag for BokehJS library: \", url);\n      element.textContent = `\n      import ${name} from \"${url}\"\n      window.${name} = ${name}\n      window._bokeh_on_load()\n      `\n      document.head.appendChild(element);\n    }\n    if (!js_urls.length && !js_modules.length) {\n      on_load()\n    }\n  };\n\n  function inject_raw_css(css) {\n    const element = document.createElement(\"style\");\n    element.appendChild(document.createTextNode(css));\n    document.body.appendChild(element);\n  }\n\n  var js_urls = [\"https://cdn.bokeh.org/bokeh/release/bokeh-3.1.1.min.js\", \"https://cdn.bokeh.org/bokeh/release/bokeh-gl-3.1.1.min.js\", \"https://cdn.bokeh.org/bokeh/release/bokeh-widgets-3.1.1.min.js\", \"https://cdn.bokeh.org/bokeh/release/bokeh-tables-3.1.1.min.js\", \"https://cdn.holoviz.org/panel/1.1.1/dist/panel.min.js\"];\n  var js_modules = [];\n  var js_exports = {};\n  var css_urls = [];\n  var inline_js = [    function(Bokeh) {\n      Bokeh.set_log_level(\"info\");\n    },\nfunction(Bokeh) {} // ensure no trailing comma for IE\n  ];\n\n  function run_inline_js() {\n    if ((root.Bokeh !== undefined) || (force === true)) {\n      for (var i = 0; i < inline_js.length; i++) {\n        inline_js[i].call(root, root.Bokeh);\n      }\n      // Cache old bokeh versions\n      if (Bokeh != undefined && !reloading) {\n\tvar NewBokeh = root.Bokeh;\n\tif (Bokeh.versions === undefined) {\n\t  Bokeh.versions = new Map();\n\t}\n\tif (NewBokeh.version !== Bokeh.version) {\n\t  Bokeh.versions.set(NewBokeh.version, NewBokeh)\n\t}\n\troot.Bokeh = Bokeh;\n      }} else if (Date.now() < root._bokeh_timeout) {\n      setTimeout(run_inline_js, 100);\n    } else if (!root._bokeh_failed_load) {\n      console.log(\"Bokeh: BokehJS failed to load within specified timeout.\");\n      root._bokeh_failed_load = true;\n    }\n    root._bokeh_is_initializing = false\n  }\n\n  function load_or_wait() {\n    // Implement a backoff loop that tries to ensure we do not load multiple\n    // versions of Bokeh and its dependencies at the same time.\n    // In recent versions we use the root._bokeh_is_initializing flag\n    // to determine whether there is an ongoing attempt to initialize\n    // bokeh, however for backward compatibility we also try to ensure\n    // that we do not start loading a newer (Panel>=1.0 and Bokeh>3) version\n    // before older versions are fully initialized.\n    if (root._bokeh_is_initializing && Date.now() > root._bokeh_timeout) {\n      root._bokeh_is_initializing = false;\n      root._bokeh_onload_callbacks = undefined;\n      console.log(\"Bokeh: BokehJS was loaded multiple times but one version failed to initialize.\");\n      load_or_wait();\n    } else if (root._bokeh_is_initializing || (typeof root._bokeh_is_initializing === \"undefined\" && root._bokeh_onload_callbacks !== undefined)) {\n      setTimeout(load_or_wait, 100);\n    } else {\n      Bokeh = root.Bokeh;\n      bokeh_loaded = Bokeh != null && (Bokeh.version === py_version || (Bokeh.versions !== undefined && Bokeh.versions.has(py_version)));\n      root._bokeh_is_initializing = true\n      root._bokeh_onload_callbacks = []\n      if (!reloading && (!bokeh_loaded || is_dev)) {\n\troot.Bokeh = undefined;\n      }\n      load_libs(css_urls, js_urls, js_modules, js_exports, function() {\n\tconsole.debug(\"Bokeh: BokehJS plotting callback run at\", now());\n\trun_inline_js();\n      });\n    }\n  }\n  // Give older versions of the autoload script a head-start to ensure\n  // they initialize before we start loading newer version.\n  setTimeout(load_or_wait, 100)\n}(window));",
      "application/vnd.holoviews_load.v0+json": ""
     },
     "metadata": {},
     "output_type": "display_data"
    },
    {
     "data": {
      "application/javascript": "\nif ((window.PyViz === undefined) || (window.PyViz instanceof HTMLElement)) {\n  window.PyViz = {comms: {}, comm_status:{}, kernels:{}, receivers: {}, plot_index: []}\n}\n\n\n    function JupyterCommManager() {\n    }\n\n    JupyterCommManager.prototype.register_target = function(plot_id, comm_id, msg_handler) {\n      if (window.comm_manager || ((window.Jupyter !== undefined) && (Jupyter.notebook.kernel != null))) {\n        var comm_manager = window.comm_manager || Jupyter.notebook.kernel.comm_manager;\n        comm_manager.register_target(comm_id, function(comm) {\n          comm.on_msg(msg_handler);\n        });\n      } else if ((plot_id in window.PyViz.kernels) && (window.PyViz.kernels[plot_id])) {\n        window.PyViz.kernels[plot_id].registerCommTarget(comm_id, function(comm) {\n          comm.onMsg = msg_handler;\n        });\n      } else if (typeof google != 'undefined' && google.colab.kernel != null) {\n        google.colab.kernel.comms.registerTarget(comm_id, (comm) => {\n          var messages = comm.messages[Symbol.asyncIterator]();\n          function processIteratorResult(result) {\n            var message = result.value;\n            console.log(message)\n            var content = {data: message.data, comm_id};\n            var buffers = []\n            for (var buffer of message.buffers || []) {\n              buffers.push(new DataView(buffer))\n            }\n            var metadata = message.metadata || {};\n            var msg = {content, buffers, metadata}\n            msg_handler(msg);\n            return messages.next().then(processIteratorResult);\n          }\n          return messages.next().then(processIteratorResult);\n        })\n      }\n    }\n\n    JupyterCommManager.prototype.get_client_comm = function(plot_id, comm_id, msg_handler) {\n      if (comm_id in window.PyViz.comms) {\n        return window.PyViz.comms[comm_id];\n      } else if (window.comm_manager || ((window.Jupyter !== undefined) && (Jupyter.notebook.kernel != null))) {\n        var comm_manager = window.comm_manager || Jupyter.notebook.kernel.comm_manager;\n        var comm = comm_manager.new_comm(comm_id, {}, {}, {}, comm_id);\n        if (msg_handler) {\n          comm.on_msg(msg_handler);\n        }\n      } else if ((plot_id in window.PyViz.kernels) && (window.PyViz.kernels[plot_id])) {\n        var comm = window.PyViz.kernels[plot_id].connectToComm(comm_id);\n        comm.open();\n        if (msg_handler) {\n          comm.onMsg = msg_handler;\n        }\n      } else if (typeof google != 'undefined' && google.colab.kernel != null) {\n        var comm_promise = google.colab.kernel.comms.open(comm_id)\n        comm_promise.then((comm) => {\n          window.PyViz.comms[comm_id] = comm;\n          if (msg_handler) {\n            var messages = comm.messages[Symbol.asyncIterator]();\n            function processIteratorResult(result) {\n              var message = result.value;\n              var content = {data: message.data};\n              var metadata = message.metadata || {comm_id};\n              var msg = {content, metadata}\n              msg_handler(msg);\n              return messages.next().then(processIteratorResult);\n            }\n            return messages.next().then(processIteratorResult);\n          }\n        }) \n        var sendClosure = (data, metadata, buffers, disposeOnDone) => {\n          return comm_promise.then((comm) => {\n            comm.send(data, metadata, buffers, disposeOnDone);\n          });\n        };\n        var comm = {\n          send: sendClosure\n        };\n      }\n      window.PyViz.comms[comm_id] = comm;\n      return comm;\n    }\n    window.PyViz.comm_manager = new JupyterCommManager();\n    \n\n\nvar JS_MIME_TYPE = 'application/javascript';\nvar HTML_MIME_TYPE = 'text/html';\nvar EXEC_MIME_TYPE = 'application/vnd.holoviews_exec.v0+json';\nvar CLASS_NAME = 'output';\n\n/**\n * Render data to the DOM node\n */\nfunction render(props, node) {\n  var div = document.createElement(\"div\");\n  var script = document.createElement(\"script\");\n  node.appendChild(div);\n  node.appendChild(script);\n}\n\n/**\n * Handle when a new output is added\n */\nfunction handle_add_output(event, handle) {\n  var output_area = handle.output_area;\n  var output = handle.output;\n  if ((output.data == undefined) || (!output.data.hasOwnProperty(EXEC_MIME_TYPE))) {\n    return\n  }\n  var id = output.metadata[EXEC_MIME_TYPE][\"id\"];\n  var toinsert = output_area.element.find(\".\" + CLASS_NAME.split(' ')[0]);\n  if (id !== undefined) {\n    var nchildren = toinsert.length;\n    var html_node = toinsert[nchildren-1].children[0];\n    html_node.innerHTML = output.data[HTML_MIME_TYPE];\n    var scripts = [];\n    var nodelist = html_node.querySelectorAll(\"script\");\n    for (var i in nodelist) {\n      if (nodelist.hasOwnProperty(i)) {\n        scripts.push(nodelist[i])\n      }\n    }\n\n    scripts.forEach( function (oldScript) {\n      var newScript = document.createElement(\"script\");\n      var attrs = [];\n      var nodemap = oldScript.attributes;\n      for (var j in nodemap) {\n        if (nodemap.hasOwnProperty(j)) {\n          attrs.push(nodemap[j])\n        }\n      }\n      attrs.forEach(function(attr) { newScript.setAttribute(attr.name, attr.value) });\n      newScript.appendChild(document.createTextNode(oldScript.innerHTML));\n      oldScript.parentNode.replaceChild(newScript, oldScript);\n    });\n    if (JS_MIME_TYPE in output.data) {\n      toinsert[nchildren-1].children[1].textContent = output.data[JS_MIME_TYPE];\n    }\n    output_area._hv_plot_id = id;\n    if ((window.Bokeh !== undefined) && (id in Bokeh.index)) {\n      window.PyViz.plot_index[id] = Bokeh.index[id];\n    } else {\n      window.PyViz.plot_index[id] = null;\n    }\n  } else if (output.metadata[EXEC_MIME_TYPE][\"server_id\"] !== undefined) {\n    var bk_div = document.createElement(\"div\");\n    bk_div.innerHTML = output.data[HTML_MIME_TYPE];\n    var script_attrs = bk_div.children[0].attributes;\n    for (var i = 0; i < script_attrs.length; i++) {\n      toinsert[toinsert.length - 1].childNodes[1].setAttribute(script_attrs[i].name, script_attrs[i].value);\n    }\n    // store reference to server id on output_area\n    output_area._bokeh_server_id = output.metadata[EXEC_MIME_TYPE][\"server_id\"];\n  }\n}\n\n/**\n * Handle when an output is cleared or removed\n */\nfunction handle_clear_output(event, handle) {\n  var id = handle.cell.output_area._hv_plot_id;\n  var server_id = handle.cell.output_area._bokeh_server_id;\n  if (((id === undefined) || !(id in PyViz.plot_index)) && (server_id !== undefined)) { return; }\n  var comm = window.PyViz.comm_manager.get_client_comm(\"hv-extension-comm\", \"hv-extension-comm\", function () {});\n  if (server_id !== null) {\n    comm.send({event_type: 'server_delete', 'id': server_id});\n    return;\n  } else if (comm !== null) {\n    comm.send({event_type: 'delete', 'id': id});\n  }\n  delete PyViz.plot_index[id];\n  if ((window.Bokeh !== undefined) & (id in window.Bokeh.index)) {\n    var doc = window.Bokeh.index[id].model.document\n    doc.clear();\n    const i = window.Bokeh.documents.indexOf(doc);\n    if (i > -1) {\n      window.Bokeh.documents.splice(i, 1);\n    }\n  }\n}\n\n/**\n * Handle kernel restart event\n */\nfunction handle_kernel_cleanup(event, handle) {\n  delete PyViz.comms[\"hv-extension-comm\"];\n  window.PyViz.plot_index = {}\n}\n\n/**\n * Handle update_display_data messages\n */\nfunction handle_update_output(event, handle) {\n  handle_clear_output(event, {cell: {output_area: handle.output_area}})\n  handle_add_output(event, handle)\n}\n\nfunction register_renderer(events, OutputArea) {\n  function append_mime(data, metadata, element) {\n    // create a DOM node to render to\n    var toinsert = this.create_output_subarea(\n    metadata,\n    CLASS_NAME,\n    EXEC_MIME_TYPE\n    );\n    this.keyboard_manager.register_events(toinsert);\n    // Render to node\n    var props = {data: data, metadata: metadata[EXEC_MIME_TYPE]};\n    render(props, toinsert[0]);\n    element.append(toinsert);\n    return toinsert\n  }\n\n  events.on('output_added.OutputArea', handle_add_output);\n  events.on('output_updated.OutputArea', handle_update_output);\n  events.on('clear_output.CodeCell', handle_clear_output);\n  events.on('delete.Cell', handle_clear_output);\n  events.on('kernel_ready.Kernel', handle_kernel_cleanup);\n\n  OutputArea.prototype.register_mime_type(EXEC_MIME_TYPE, append_mime, {\n    safe: true,\n    index: 0\n  });\n}\n\nif (window.Jupyter !== undefined) {\n  try {\n    var events = require('base/js/events');\n    var OutputArea = require('notebook/js/outputarea').OutputArea;\n    if (OutputArea.prototype.mime_types().indexOf(EXEC_MIME_TYPE) == -1) {\n      register_renderer(events, OutputArea);\n    }\n  } catch(err) {\n  }\n}\n",
      "application/vnd.holoviews_load.v0+json": ""
     },
     "metadata": {},
     "output_type": "display_data"
    },
    {
     "data": {
      "text/html": [
       "<style>*[data-root-id],\n",
       "*[data-root-id] > * {\n",
       "  box-sizing: border-box;\n",
       "  font-family: var(--jp-ui-font-family);\n",
       "  font-size: var(--jp-ui-font-size1);\n",
       "  color: var(--vscode-editor-foreground, var(--jp-ui-font-color1));\n",
       "}\n",
       "\n",
       "/* Override VSCode background color */\n",
       ".cell-output-ipywidget-background:has(> .cell-output-ipywidget-background\n",
       "    > .lm-Widget\n",
       "    > *[data-root-id]),\n",
       ".cell-output-ipywidget-background:has(> .lm-Widget > *[data-root-id]) {\n",
       "  background-color: transparent !important;\n",
       "}\n",
       "</style>"
      ]
     },
     "metadata": {},
     "output_type": "display_data"
    },
    {
     "data": {
      "text/html": [
       "\n",
       "<div class=\"logo-block\">\n",
       "<img src='data:image/png;base64,iVBORw0KGgoAAAANSUhEUgAAAEAAAABACAYAAACqaXHeAAAABHNCSVQICAgIfAhkiAAAAAlwSFlz\n",
       "AAAB+wAAAfsBxc2miwAAABl0RVh0U29mdHdhcmUAd3d3Lmlua3NjYXBlLm9yZ5vuPBoAAA6zSURB\n",
       "VHic7ZtpeFRVmsf/5966taWqUlUJ2UioBBJiIBAwCZtog9IOgjqACsogKtqirT2ttt069nQ/zDzt\n",
       "tI4+CrJIREFaFgWhBXpUNhHZQoKBkIUASchWla1S+3ar7r1nPkDaCAnZKoQP/D7mnPOe9/xy76n3\n",
       "nFSAW9ziFoPFNED2LLK5wcyBDObkb8ZkxuaoSYlI6ZcOKq1eWFdedqNzGHQBk9RMEwFAASkk0Xw3\n",
       "ETacDNi2vtvc7L0ROdw0AjoSotQVkKSvHQz/wRO1lScGModBFbDMaNRN1A4tUBCS3lk7BWhQkgpD\n",
       "lG4852/+7DWr1R3uHAZVQDsbh6ZPN7CyxUrCzJMRouusj0ipRwD2uKm0Zn5d2dFwzX1TCGhnmdGo\n",
       "G62Nna+isiUqhkzuKrkQaJlPEv5mFl2fvGg2t/VnzkEV8F5ioioOEWkLG86fvbpthynjdhXYZziQ\n",
       "x1hC9J2NFyi8vCTt91Fh04KGip0AaG9zuCk2wQCVyoNU3Hjezee9bq92duzzTmxsRJoy+jEZZZYo\n",
       "GTKJ6SJngdJqAfRzpze0+jHreUtPc7gpBLQnIYK6BYp/uGhw9YK688eu7v95ysgshcg9qSLMo3JC\n",
       "4jqLKQFBgdKDPoQ+Pltb8dUyQLpeDjeVgI6EgLIQFT5tEl3rn2losHVsexbZ3EyT9wE1uGdkIPcy\n",
       "BGxn8QUq1QrA5nqW5i2tLqvrrM9NK6AdkVIvL9E9bZL/oyfMVd/jqvc8LylzRBKDJSzIExwhQzuL\n",
       "QYGQj4rHfFTc8mUdu3E7yoLtbTe9gI4EqVgVkug2i5+uXGo919ixbRog+3fTbQ8qJe4ZOYNfMoTI\n",
       "OoshUNosgO60AisX15aeI2PSIp5KiFLI9ubb1vV3Qb2ltwLakUCDAkWX7/nHKRmmGIl9VgYsUhJm\n",
       "2NXjKYADtM1ygne9QQDIXlk49FBstMKx66D1v4+XuQr7vqTe0VcBHQlRWiOCbmmSYe2SqtL6q5rJ\n",
       "zsTb7lKx3FKOYC4DoqyS/B5bvLPxvD9Qtf6saxYLQGJErmDOdOMr/zo96km1nElr8bmPOBwI9COv\n",
       "HnFPRIwmkSOv9kcAS4heRsidOkpeWBgZM+UBrTFAXNYL5Vf2ii9c1trNzpYdaoVil3WIc+wdk+gQ\n",
       "noie3ecCcxt9ITcLAPWt/laGEO/9U6PmzZkenTtsSMQ8uYywJVW+grCstAvCIaAdArAsIWkRDDs/\n",
       "KzLm2YcjY1Lv0UdW73HabE9n6V66cxSzfEmuJssTpKGVp+0vHq73FwL46eOjpMpbRAnNmJFrGJNu\n",
       "Ukf9Yrz+3rghiumCKNXXWPhLYcjxGsIpoCMsIRoFITkW8AuyM8jC1+/QLx4bozCEJIq38+1rtpR6\n",
       "V/yzb8eBlRb3fo5l783N0CWolAzJHaVNzkrTzlEp2bQ2q3TC5gn6wpnoQAmwSiGh2GitnTmVMc5O\n",
       "UyfKWUKCIsU7+fZDKwqdT6DDpvkzAX4/+AMFjk0tDp5GRXLpQ2MUmhgDp5gxQT8+Y7hyPsMi8uxF\n",
       "71H0oebujHALECjFKaW9Lm68n18wXp2kVzIcABytD5iXFzg+WVXkegpAsOOYziqo0OkK76GyquC3\n",
       "ltZAzMhhqlSNmmWTE5T6e3IN05ITFLM4GdN0vtZ3ob8Jh1NAKXFbm5PtLU/eqTSlGjkNAJjdgn/N\n",
       "aedXa0tdi7+t9G0FIF49rtMSEgAs1kDLkTPO7ebm4IUWeyh1bKomXqlgMG6kJmHcSM0clYLJ8XtR\n",
       "1GTnbV3F6I5wCGikAb402npp1h1s7LQUZZSMIfALFOuL3UUrfnS8+rez7v9qcold5tilgHbO1fjK\n",
       "9ubb17u9oshxzMiUBKXWqJNxd+fqb0tLVs4lILFnK71H0Ind7uiPgACVcFJlrb0tV6DzxqqTIhUM\n",
       "CwDf1/rrVhTa33/3pGPxJYdQ2l2cbgVcQSosdx8uqnDtbGjh9SlDVSMNWhlnilfqZk42Th2ZpLpf\n",
       "xrHec5e815zrr0dfBZSwzkZfqsv+1FS1KUknUwPARVvItfKUY+cn57yP7qv07UE3p8B2uhUwLk09\n",
       "e0SCOrK+hbdYHYLjRIl71wWzv9jpEoeOHhGRrJAzyEyNiJuUqX0g2sBN5kGK6y2Blp5M3lsB9Qh4\n",
       "y2Ja6x6+i0ucmKgwMATwhSjdUu49tKrQ/pvN5d53ml2CGwCmJipmKjgmyuaXzNeL2a0AkQ01Th5j\n",
       "2DktO3Jyk8f9vcOBQHV94OK+fPumJmvQHxJoWkaKWq9Vs+yUsbq0zGT1I4RgeH2b5wef7+c7bl8F\n",
       "eKgoHVVZa8ZPEORzR6sT1BzDUAD/d9F78e2Tzv99v8D+fLVTqAKAsbGamKey1Mt9Ann4eH3gTXTz\n",
       "idWtAJ8PQWOk7NzSeQn/OTHDuEikVF1R4z8BQCy+6D1aWRfY0tTGG2OM8rRoPaeIj5ZHzJxszElN\n",
       "VM8K8JS5WOfv8mzRnQAKoEhmt8gyPM4lU9SmBK1MCQBnW4KONT86v1hZ1PbwSXPw4JWussVjtH9Y\n",
       "NCoiL9UoH/6PSu8jFrfY2t36erQHXLIEakMi1SydmzB31h3GGXFDFNPaK8Rme9B79Ixrd0WN+1ij\n",
       "NRQ/doRmuFLBkHSTOm5GruG+pFjFdAmorG4IXH1Qua6ASniclfFtDYt+oUjKipPrCQB7QBQ2lrgP\n",
       "fFzm+9XWUtcqJ3/5vDLDpJ79XHZk3u8nGZ42qlj1+ydtbxysCezrydp6ugmipNJ7WBPB5tydY0jP\n",
       "HaVNzs3QzeE4ZpTbI+ZbnSFPbVOw9vsfnVvqWnirPyCNGD08IlqtYkh2hjZ5dErEQzoNm+6ykyOt\n",
       "Lt5/PQEuSRRKo22VkydK+vvS1XEKlhCJAnsqvcVvH7f/ZU2R67eXbMEGAMiIV5oWZWiWvz5Fv2xG\n",
       "sjqNJQRvn3Rs2lji/lNP19VjAQDgD7FHhujZB9OGqYxRkZxixgRDVlqS6uEOFaJUVu0rPFzctrnF\n",
       "JqijImVp8dEKVWyUXDk92zAuMZ6bFwpBU1HrOw6AdhQgUooChb0+ItMbWJitSo5Ws3IAOGEOtL53\n",
       "0vHZih9sC4vtofZ7Qu6523V/fmGcds1TY3V36pUsBwAbSlxnVh2xLfAD/IAIMDf7XYIkNmXfpp2l\n",
       "18rkAJAy9HKFaIr/qULkeQQKy9zf1JgDB2uaeFNGijo5QsUyacNUUTOnGO42xSnv4oOwpDi1zYkc\n",
       "efUc3I5Gk6PhyTuVKaOGyLUAYPGIoY9Pu/atL/L92+4q9wbflRJ2Trpm/jPjdBtfnqB/dIThcl8A\n",
       "KG7hbRuKnb8qsQsVvVlTrwQAQMUlf3kwJI24Z4JhPMtcfng5GcH49GsrxJpGvvHIaeem2ma+KSjQ\n",
       "lIwUdYyCY8j4dE1KzijNnIP2llF2wcXNnsoapw9XxsgYAl6k+KzUXbi2yP3KR2ecf6z3BFsBICdW\n",
       "nvnIaG3eHybqX7vbpEqUMT+9OL4Qpe8VON7dXuFd39v19FoAABRVePbGGuXTszO0P7tu6lghUonE\n",
       "llRdrhArLvmKdh9u29jcFiRRkfLUxBiFNiqSU9icoZQHo5mYBI1MBgBH6wMNb+U7Pnw337H4gi1Y\n",
       "ciWs+uks3Z9fztUvfzxTm9Ne8XXkvQLHNytOOZeiD4e0PgkAIAYCYknKUNUDSXEKzdWNpnil7r4p\n",
       "xqkjTarZMtk/K8TQ6Qve78qqvXurGwIJqcOUKfUWHsm8KGvxSP68YudXq4pcj39X49uOK2X142O0\n",
       "Tz5/u/7TVybqH0rSya6ZBwD21/gubbrgWdDgEOx9WUhfBaC2ibcEBYm7a7x+ukrBMNcEZggyR0TE\n",
       "T8zUPjikQ4VosQZbTpS4vqizBKvqmvjsqnpfzaZyx9JPiz1/bfGKdgD45XB1zoIMzYbfTdS/NClB\n",
       "Gct0USiY3YL/g0LHy/uq/Ef6uo5+n0R/vyhp17Klpge763f8rMu6YU/zrn2nml+2WtH+Z+5IAAFc\n",
       "2bUTdTDOSNa9+cQY7YLsOIXhevEkCvzph7a8laecz/Un/z4/Ae04XeL3UQb57IwU9ZDr9UuKVajv\n",
       "nxp1+1UVIo/LjztZkKH59fO3G/JemqCfmaCRqbqbd90ZZ8FfjtkfAyD0J/9+C2h1hDwsSxvGjNDc\n",
       "b4zk5NfrSwiQblLHzZhg+Jf4aPlUwpDqkQqa9nimbt1/TDH8OitGMaQnj+RJS6B1fbF7SY1TqO5v\n",
       "/v0WAADl1f7zokgS7s7VT2DZ7pegUjBM7mjtiDZbcN4j0YrHH0rXpCtY0qPX0cVL0rv5jv/ZXend\n",
       "0u/EESYBAFBU4T4Qa5TflZOhTe7pmKpaP8kCVUVw1+yhXfJWvn1P3hnXi33JsTN6PnP3hHZ8Z3/h\n",
       "aLHzmkNPuPj7Bc/F/Q38CwjTpSwQXgE4Vmwry9tpfq/ZFgqFMy4AVDtCvi8rvMvOmv0N4YwbVgEA\n",
       "sPM72/KVnzfspmH7HQGCRLG2yL1+z8XwvPcdCbsAANh+xPzstgMtxeGKt+6MK3/tacfvwhWvIwMi\n",
       "oKEBtm0H7W+UVfkc/Y1V0BhoPlDr/w1w/eu1vjIgAgDg22OtX6/eYfnEz/focrZTHAFR+PSs56/7\n",
       "q32nwpjazxgwAQCwcU/T62t3WL7r6/jVRa6/byp1rei+Z98ZUAEAhEPHPc8fKnTU9nbgtnOe8h0l\n",
       "9hcGIqmODLQAHCy2Xti6v/XNRivf43f4fFvIteu854+VHnR7q9tfBlwAAGz+pnndB9vM26UebAe8\n",
       "SLHujPOTPVW+rwY+sxskAAC2HrA8t2Vvc7ffP1r9o+vwR2dcr92InIAbKKC1FZ5tB1tf+/G8p8sv\n",
       "N/9Q5zd/XR34LYCwV5JdccMEAMDBk45DH243r/X4xGvqxFa/GNpS7n6rwOwNWwHVE26oAADYurf1\n",
       "zx/utOzt+DMKYM0p17YtZZ5VNzqfsB2HewG1WXE8PoZ7gOclbTIvynZf9JV+fqZtfgs/8F/Nu5rB\n",
       "EIBmJ+8QRMmpU7EzGRsf2FzuePqYRbzh/zE26EwdrT10f6r6o8HOYzCJB9Dpff8tbnGLG8L/A/WE\n",
       "roTBs2RqAAAAAElFTkSuQmCC'\n",
       "     style='height:25px; border-radius:12px; display: inline-block; float: left; vertical-align: middle'></img>\n",
       "\n",
       "\n",
       "  <img src='data:image/png;base64,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'\n",
       "       style='height:15px; border-radius:12px; display: inline-block; float: left'></img>\n",
       "  \n",
       "\n",
       "\n",
       "\n",
       "\n",
       "</div>\n"
      ]
     },
     "metadata": {},
     "output_type": "display_data"
    }
   ],
   "source": [
    "import numpy as np\n",
    "import pandas as pd\n",
    "import holoviews as hv\n",
    "hv.extension('bokeh')\n",
    "from scipy.optimize import curve_fit\n",
    "from scipy.stats import binned_statistic_2d\n",
    "from tqdm import tqdm\n",
    "import yaml\n",
    "import xarray as xr\n",
    "import hvplot.xarray\n",
    "import urllib.request\n",
    "import panel.widgets as pnw"
   ]
  },
  {
   "cell_type": "code",
   "execution_count": 2,
   "metadata": {},
   "outputs": [],
   "source": [
    "from holoviews import opts\n",
    "opts.defaults(\n",
    "    opts.Scatter(width=1000, height=400, tools=[\"hover\"], show_grid=True, size=8),\n",
    "    opts.Histogram(width=1000, height=400, tools=[\"hover\"], ),\n",
    "    opts.Image(frame_width=400, frame_height=400, tools=[\"hover\"], xlabel=\"ToT1 (ns)\", ylabel=\"ToT2 (ns)\"),\n",
    "    opts.Curve(width=1000, height=400, tools=[\"hover\"], show_grid=True),\n",
    "    opts.Points(width=1000, height=400, tools=[\"hover\"], show_grid=True)\n",
    ")"
   ]
  },
  {
   "attachments": {},
   "cell_type": "markdown",
   "metadata": {},
   "source": [
    "## custom functions"
   ]
  },
  {
   "cell_type": "code",
   "execution_count": 3,
   "metadata": {},
   "outputs": [],
   "source": [
    "offset = -29\n",
    "def fit_single_scan(scan_nr: str) -> list:\n",
    "    global df_scans\n",
    "    model = lambda t, A, B, c: A * (1 - B * np.exp(-t / c))\n",
    "    loss = lambda t, A, B, c: model(t, A, B, c)[0] / A\n",
    "\n",
    "    # define our x-axis from the first scans\n",
    "    x_axe = np.float_(runNrs[\"scan0100\"][\"delays\"]) - 1\n",
    "\n",
    "    # fetch data\n",
    "    df = df_scans.query(f\"`scan name` == '{scan_nr}'\")\n",
    "\n",
    "    # omit nans\n",
    "    y = df[~df['ToT2 (ns)'].isna()]['ToT2 (ns)']\n",
    "    if len(y) > -offset:\n",
    "        y = y[offset:]\n",
    "    x = x_axe[-len(y):]\n",
    "    # unequal starting for fit\n",
    "    #y = y[4:]\n",
    "    #x = x_axe[-(len(y)):]\n",
    "    #assert len(y) == len(x)\n",
    "\n",
    "    p0 = [y[-6:].mean(), 1, 8]\n",
    "    popt, _ = curve_fit(\n",
    "        model,\n",
    "        x, y,\n",
    "        p0=p0,\n",
    "        maxfev=5000,\n",
    "        bounds=((50, 1e-2, 1), (2150, 1, 15)),\n",
    "    )\n",
    "\n",
    "    return [\n",
    "        popt[2],  # recovery time\n",
    "        df['ToT1 (ns)'][-6:].mean(),  # mean ToT1\n",
    "        y[-6:].mean(),  # mean ToT2\n",
    "        (popt[0] - model(np.array([2]), *popt))[0],  # absolute loss 2 µs\n",
    "        (popt[0] - model(np.array([3]), *popt))[0],  # absolute loss 3 µs\n",
    "        (popt[0] - model(np.array([4]), *popt))[0],  # absolute loss 4 µs\n",
    "        (1 - loss(np.array([2]), *popt)) * 100,  # relative loss 2 µs\n",
    "        (1 - loss(np.array([3]), *popt)) * 100,  # relative loss 3 µs\n",
    "        (1 - loss(np.array([4]), *popt)) * 100,  # relative loss 4 µs\n",
    "        (1 - loss(np.array([5]), *popt)) * 100,\n",
    "        (1 - loss(np.array([6]), *popt)) * 100,\n",
    "        (1 - loss(np.array([7]), *popt)) * 100,\n",
    "        (1 - loss(np.array([8]), *popt)) * 100,\n",
    "        (1 - loss(np.array([9]), *popt)) * 100,\n",
    "        (1 - loss(np.array([10]), *popt)) * 100,\n",
    "    ]"
   ]
  },
  {
   "cell_type": "code",
   "execution_count": 4,
   "metadata": {},
   "outputs": [],
   "source": [
    "get_x_axis_from_bins = lambda x_bins: 0.5 * (x_bins[1:] + x_bins[:-1])"
   ]
  },
  {
   "attachments": {},
   "cell_type": "markdown",
   "metadata": {},
   "source": [
    "# load data"
   ]
  },
  {
   "cell_type": "code",
   "execution_count": 5,
   "metadata": {},
   "outputs": [],
   "source": [
    "with urllib.request.urlopen(\"https://syncandshare.desy.de/index.php/s/zgPcWZMyBGcQ5MC/download/TOT_scans.yaml\") as f:\n",
    "    runNrs = yaml.safe_load(f)"
   ]
  },
  {
   "cell_type": "code",
   "execution_count": 6,
   "metadata": {},
   "outputs": [],
   "source": [
    "tot1s = set([i['tot1'] for i in runNrs.values()])\n",
    "tot2s = set([i['tot2'] for i in runNrs.values()])"
   ]
  },
  {
   "cell_type": "markdown",
   "metadata": {},
   "source": [
    "#scan_data = pd.read_parquet('https://syncandshare.desy.de/index.php/s/KRA42M7YimM3PAP/download/scan_data.parq')\n",
    "scan_data = pd.read_parquet('data/scan_data.parq')\n",
    "scan_data"
   ]
  },
  {
   "cell_type": "code",
   "execution_count": 7,
   "metadata": {},
   "outputs": [],
   "source": [
    "df_scans = pd.read_parquet('https://syncandshare.desy.de/index.php/s/Dw3Nf2PQ59QppYH/download/df_scans.parq')\n",
    "#df_scans = pd.read_parquet('data/df_scans.parq')"
   ]
  },
  {
   "attachments": {},
   "cell_type": "markdown",
   "metadata": {},
   "source": [
    "## convert single traces to matrix"
   ]
  },
  {
   "cell_type": "code",
   "execution_count": 8,
   "metadata": {},
   "outputs": [
    {
     "name": "stderr",
     "output_type": "stream",
     "text": [
      "  0%|          | 0/412 [00:00<?, ?it/s]"
     ]
    },
    {
     "name": "stderr",
     "output_type": "stream",
     "text": [
      "100%|██████████| 412/412 [00:01<00:00, 353.00it/s]\n"
     ]
    },
    {
     "data": {
      "text/html": [
       "<div>\n",
       "<style scoped>\n",
       "    .dataframe tbody tr th:only-of-type {\n",
       "        vertical-align: middle;\n",
       "    }\n",
       "\n",
       "    .dataframe tbody tr th {\n",
       "        vertical-align: top;\n",
       "    }\n",
       "\n",
       "    .dataframe thead th {\n",
       "        text-align: right;\n",
       "    }\n",
       "</style>\n",
       "<table border=\"1\" class=\"dataframe\">\n",
       "  <thead>\n",
       "    <tr style=\"text-align: right;\">\n",
       "      <th></th>\n",
       "      <th>recovery</th>\n",
       "      <th>ToT1</th>\n",
       "      <th>ToT2</th>\n",
       "      <th>absolute loss 2µs</th>\n",
       "      <th>absolute loss 3µs</th>\n",
       "      <th>absolute loss 4µs</th>\n",
       "      <th>relativ loss 2µs</th>\n",
       "      <th>relativ loss 3µs</th>\n",
       "      <th>relativ loss 4µs</th>\n",
       "      <th>relativ loss 5µs</th>\n",
       "      <th>relativ loss 6µs</th>\n",
       "      <th>relativ loss 7µs</th>\n",
       "      <th>relativ loss 8µs</th>\n",
       "      <th>relativ loss 9µs</th>\n",
       "      <th>relativ loss 10µs</th>\n",
       "      <th>scan</th>\n",
       "      <th>ToT1 / ToT2</th>\n",
       "      <th>ToT2 / ToT1</th>\n",
       "    </tr>\n",
       "  </thead>\n",
       "  <tbody>\n",
       "    <tr>\n",
       "      <th>0</th>\n",
       "      <td>9.647081</td>\n",
       "      <td>110.218292</td>\n",
       "      <td>95.838674</td>\n",
       "      <td>5.257831</td>\n",
       "      <td>4.740110</td>\n",
       "      <td>4.273367</td>\n",
       "      <td>5.497636</td>\n",
       "      <td>4.956302</td>\n",
       "      <td>4.468271</td>\n",
       "      <td>4.028295</td>\n",
       "      <td>3.631642</td>\n",
       "      <td>3.274046</td>\n",
       "      <td>2.951662</td>\n",
       "      <td>2.661021</td>\n",
       "      <td>2.398999</td>\n",
       "      <td>scan0100</td>\n",
       "      <td>1.150040</td>\n",
       "      <td>0.869535</td>\n",
       "    </tr>\n",
       "    <tr>\n",
       "      <th>1</th>\n",
       "      <td>9.788179</td>\n",
       "      <td>109.101351</td>\n",
       "      <td>184.368724</td>\n",
       "      <td>6.010761</td>\n",
       "      <td>5.427005</td>\n",
       "      <td>4.899942</td>\n",
       "      <td>3.258105</td>\n",
       "      <td>2.941682</td>\n",
       "      <td>2.655990</td>\n",
       "      <td>2.398044</td>\n",
       "      <td>2.165150</td>\n",
       "      <td>1.954873</td>\n",
       "      <td>1.765019</td>\n",
       "      <td>1.593603</td>\n",
       "      <td>1.438834</td>\n",
       "      <td>scan0101</td>\n",
       "      <td>0.591756</td>\n",
       "      <td>1.689885</td>\n",
       "    </tr>\n",
       "    <tr>\n",
       "      <th>2</th>\n",
       "      <td>6.605791</td>\n",
       "      <td>110.070967</td>\n",
       "      <td>275.348234</td>\n",
       "      <td>5.261923</td>\n",
       "      <td>4.522722</td>\n",
       "      <td>3.887366</td>\n",
       "      <td>1.908957</td>\n",
       "      <td>1.640785</td>\n",
       "      <td>1.410286</td>\n",
       "      <td>1.212168</td>\n",
       "      <td>1.041881</td>\n",
       "      <td>0.895517</td>\n",
       "      <td>0.769714</td>\n",
       "      <td>0.661583</td>\n",
       "      <td>0.568644</td>\n",
       "      <td>scan0102</td>\n",
       "      <td>0.399752</td>\n",
       "      <td>2.501552</td>\n",
       "    </tr>\n",
       "    <tr>\n",
       "      <th>3</th>\n",
       "      <td>5.817301</td>\n",
       "      <td>110.373419</td>\n",
       "      <td>366.552883</td>\n",
       "      <td>4.814469</td>\n",
       "      <td>4.054084</td>\n",
       "      <td>3.413792</td>\n",
       "      <td>1.312184</td>\n",
       "      <td>1.104941</td>\n",
       "      <td>0.930430</td>\n",
       "      <td>0.783480</td>\n",
       "      <td>0.659739</td>\n",
       "      <td>0.555542</td>\n",
       "      <td>0.467801</td>\n",
       "      <td>0.393917</td>\n",
       "      <td>0.331703</td>\n",
       "      <td>scan0103</td>\n",
       "      <td>0.301112</td>\n",
       "      <td>3.321025</td>\n",
       "    </tr>\n",
       "    <tr>\n",
       "      <th>4</th>\n",
       "      <td>5.007892</td>\n",
       "      <td>109.339787</td>\n",
       "      <td>456.059330</td>\n",
       "      <td>3.864229</td>\n",
       "      <td>3.164760</td>\n",
       "      <td>2.591903</td>\n",
       "      <td>0.847849</td>\n",
       "      <td>0.694379</td>\n",
       "      <td>0.568688</td>\n",
       "      <td>0.465749</td>\n",
       "      <td>0.381444</td>\n",
       "      <td>0.312398</td>\n",
       "      <td>0.255851</td>\n",
       "      <td>0.209539</td>\n",
       "      <td>0.171610</td>\n",
       "      <td>scan0104</td>\n",
       "      <td>0.239749</td>\n",
       "      <td>4.171028</td>\n",
       "    </tr>\n",
       "    <tr>\n",
       "      <th>...</th>\n",
       "      <td>...</td>\n",
       "      <td>...</td>\n",
       "      <td>...</td>\n",
       "      <td>...</td>\n",
       "      <td>...</td>\n",
       "      <td>...</td>\n",
       "      <td>...</td>\n",
       "      <td>...</td>\n",
       "      <td>...</td>\n",
       "      <td>...</td>\n",
       "      <td>...</td>\n",
       "      <td>...</td>\n",
       "      <td>...</td>\n",
       "      <td>...</td>\n",
       "      <td>...</td>\n",
       "      <td>...</td>\n",
       "      <td>...</td>\n",
       "      <td>...</td>\n",
       "    </tr>\n",
       "    <tr>\n",
       "      <th>407</th>\n",
       "      <td>7.362864</td>\n",
       "      <td>1979.918792</td>\n",
       "      <td>1598.531834</td>\n",
       "      <td>341.375255</td>\n",
       "      <td>298.021494</td>\n",
       "      <td>260.173547</td>\n",
       "      <td>21.373000</td>\n",
       "      <td>18.658685</td>\n",
       "      <td>16.289081</td>\n",
       "      <td>14.220411</td>\n",
       "      <td>12.414456</td>\n",
       "      <td>10.837852</td>\n",
       "      <td>9.461474</td>\n",
       "      <td>8.259891</td>\n",
       "      <td>7.210907</td>\n",
       "      <td>scan0507</td>\n",
       "      <td>1.238586</td>\n",
       "      <td>0.807372</td>\n",
       "    </tr>\n",
       "    <tr>\n",
       "      <th>408</th>\n",
       "      <td>7.412749</td>\n",
       "      <td>1981.671597</td>\n",
       "      <td>1698.670732</td>\n",
       "      <td>355.777610</td>\n",
       "      <td>310.878797</td>\n",
       "      <td>271.646174</td>\n",
       "      <td>20.955317</td>\n",
       "      <td>18.310775</td>\n",
       "      <td>15.999972</td>\n",
       "      <td>13.980790</td>\n",
       "      <td>12.216427</td>\n",
       "      <td>10.674725</td>\n",
       "      <td>9.327584</td>\n",
       "      <td>8.150451</td>\n",
       "      <td>7.121872</td>\n",
       "      <td>scan0508</td>\n",
       "      <td>1.166601</td>\n",
       "      <td>0.857191</td>\n",
       "    </tr>\n",
       "    <tr>\n",
       "      <th>409</th>\n",
       "      <td>7.499262</td>\n",
       "      <td>1983.302672</td>\n",
       "      <td>1802.637679</td>\n",
       "      <td>373.307254</td>\n",
       "      <td>326.704259</td>\n",
       "      <td>285.919097</td>\n",
       "      <td>20.723995</td>\n",
       "      <td>18.136849</td>\n",
       "      <td>15.872678</td>\n",
       "      <td>13.891162</td>\n",
       "      <td>12.157015</td>\n",
       "      <td>10.639355</td>\n",
       "      <td>9.311158</td>\n",
       "      <td>8.148770</td>\n",
       "      <td>7.131492</td>\n",
       "      <td>scan0509</td>\n",
       "      <td>1.100223</td>\n",
       "      <td>0.908907</td>\n",
       "    </tr>\n",
       "    <tr>\n",
       "      <th>410</th>\n",
       "      <td>7.524066</td>\n",
       "      <td>1982.324999</td>\n",
       "      <td>1899.832321</td>\n",
       "      <td>390.009109</td>\n",
       "      <td>341.471162</td>\n",
       "      <td>298.973925</td>\n",
       "      <td>20.543060</td>\n",
       "      <td>17.986407</td>\n",
       "      <td>15.747938</td>\n",
       "      <td>13.788054</td>\n",
       "      <td>12.072084</td>\n",
       "      <td>10.569673</td>\n",
       "      <td>9.254241</td>\n",
       "      <td>8.102520</td>\n",
       "      <td>7.094134</td>\n",
       "      <td>scan0510</td>\n",
       "      <td>1.043421</td>\n",
       "      <td>0.958386</td>\n",
       "    </tr>\n",
       "    <tr>\n",
       "      <th>411</th>\n",
       "      <td>7.530561</td>\n",
       "      <td>1983.216390</td>\n",
       "      <td>1999.808771</td>\n",
       "      <td>406.832071</td>\n",
       "      <td>356.241287</td>\n",
       "      <td>311.941619</td>\n",
       "      <td>20.354107</td>\n",
       "      <td>17.823013</td>\n",
       "      <td>15.606668</td>\n",
       "      <td>13.665932</td>\n",
       "      <td>11.966533</td>\n",
       "      <td>10.478459</td>\n",
       "      <td>9.175431</td>\n",
       "      <td>8.034439</td>\n",
       "      <td>7.035332</td>\n",
       "      <td>scan0511</td>\n",
       "      <td>0.991703</td>\n",
       "      <td>1.008366</td>\n",
       "    </tr>\n",
       "  </tbody>\n",
       "</table>\n",
       "<p>412 rows × 18 columns</p>\n",
       "</div>"
      ],
      "text/plain": [
       "     recovery         ToT1         ToT2  absolute loss 2µs  absolute loss 3µs  \\\n",
       "0    9.647081   110.218292    95.838674           5.257831           4.740110   \n",
       "1    9.788179   109.101351   184.368724           6.010761           5.427005   \n",
       "2    6.605791   110.070967   275.348234           5.261923           4.522722   \n",
       "3    5.817301   110.373419   366.552883           4.814469           4.054084   \n",
       "4    5.007892   109.339787   456.059330           3.864229           3.164760   \n",
       "..        ...          ...          ...                ...                ...   \n",
       "407  7.362864  1979.918792  1598.531834         341.375255         298.021494   \n",
       "408  7.412749  1981.671597  1698.670732         355.777610         310.878797   \n",
       "409  7.499262  1983.302672  1802.637679         373.307254         326.704259   \n",
       "410  7.524066  1982.324999  1899.832321         390.009109         341.471162   \n",
       "411  7.530561  1983.216390  1999.808771         406.832071         356.241287   \n",
       "\n",
       "     absolute loss 4µs  relativ loss 2µs  relativ loss 3µs  relativ loss 4µs  \\\n",
       "0             4.273367          5.497636          4.956302          4.468271   \n",
       "1             4.899942          3.258105          2.941682          2.655990   \n",
       "2             3.887366          1.908957          1.640785          1.410286   \n",
       "3             3.413792          1.312184          1.104941          0.930430   \n",
       "4             2.591903          0.847849          0.694379          0.568688   \n",
       "..                 ...               ...               ...               ...   \n",
       "407         260.173547         21.373000         18.658685         16.289081   \n",
       "408         271.646174         20.955317         18.310775         15.999972   \n",
       "409         285.919097         20.723995         18.136849         15.872678   \n",
       "410         298.973925         20.543060         17.986407         15.747938   \n",
       "411         311.941619         20.354107         17.823013         15.606668   \n",
       "\n",
       "     relativ loss 5µs  relativ loss 6µs  relativ loss 7µs  relativ loss 8µs  \\\n",
       "0            4.028295          3.631642          3.274046          2.951662   \n",
       "1            2.398044          2.165150          1.954873          1.765019   \n",
       "2            1.212168          1.041881          0.895517          0.769714   \n",
       "3            0.783480          0.659739          0.555542          0.467801   \n",
       "4            0.465749          0.381444          0.312398          0.255851   \n",
       "..                ...               ...               ...               ...   \n",
       "407         14.220411         12.414456         10.837852          9.461474   \n",
       "408         13.980790         12.216427         10.674725          9.327584   \n",
       "409         13.891162         12.157015         10.639355          9.311158   \n",
       "410         13.788054         12.072084         10.569673          9.254241   \n",
       "411         13.665932         11.966533         10.478459          9.175431   \n",
       "\n",
       "     relativ loss 9µs  relativ loss 10µs      scan  ToT1 / ToT2  ToT2 / ToT1  \n",
       "0            2.661021           2.398999  scan0100     1.150040     0.869535  \n",
       "1            1.593603           1.438834  scan0101     0.591756     1.689885  \n",
       "2            0.661583           0.568644  scan0102     0.399752     2.501552  \n",
       "3            0.393917           0.331703  scan0103     0.301112     3.321025  \n",
       "4            0.209539           0.171610  scan0104     0.239749     4.171028  \n",
       "..                ...                ...       ...          ...          ...  \n",
       "407          8.259891           7.210907  scan0507     1.238586     0.807372  \n",
       "408          8.150451           7.121872  scan0508     1.166601     0.857191  \n",
       "409          8.148770           7.131492  scan0509     1.100223     0.908907  \n",
       "410          8.102520           7.094134  scan0510     1.043421     0.958386  \n",
       "411          8.034439           7.035332  scan0511     0.991703     1.008366  \n",
       "\n",
       "[412 rows x 18 columns]"
      ]
     },
     "execution_count": 8,
     "metadata": {},
     "output_type": "execute_result"
    }
   ],
   "source": [
    "tot1_tot2 = []\n",
    "for scan in tqdm(runNrs.keys()):\n",
    "    tot1_tot2.append((*fit_single_scan(scan), scan))\n",
    "\n",
    "tot1_tot2 = pd.DataFrame(\n",
    "    tot1_tot2,\n",
    "    columns=[\n",
    "        \"recovery\",\n",
    "        \"ToT1\",\n",
    "        \"ToT2\",\n",
    "        \"absolute loss 2µs\",\n",
    "        \"absolute loss 3µs\",\n",
    "        \"absolute loss 4µs\",\n",
    "        \"relativ loss 2µs\",\n",
    "        \"relativ loss 3µs\",\n",
    "        \"relativ loss 4µs\",\n",
    "        \"relativ loss 5µs\",\n",
    "        \"relativ loss 6µs\",\n",
    "        \"relativ loss 7µs\",\n",
    "        \"relativ loss 8µs\",\n",
    "        \"relativ loss 9µs\",\n",
    "        \"relativ loss 10µs\",\n",
    "        \"scan\",\n",
    "    ],\n",
    ")\n",
    "tot1_tot2[\"ToT1 / ToT2\"] = tot1_tot2[\"ToT1\"] / tot1_tot2[\"ToT2\"]\n",
    "tot1_tot2[\"ToT2 / ToT1\"] = tot1_tot2[\"ToT2\"] / tot1_tot2[\"ToT1\"]\n",
    "tot1_tot2"
   ]
  },
  {
   "attachments": {},
   "cell_type": "markdown",
   "metadata": {},
   "source": [
    "# Plots\n",
    "## Single trace\n",
    "\n",
    "- yellow mostly straigt line: ToT1\n",
    "- blue dots: values for ToT2\n",
    "- green curve of the dots\n",
    "- vertical blue line: average ToT1 of first 6 values + 475 ns"
   ]
  },
  {
   "cell_type": "code",
   "execution_count": 9,
   "metadata": {},
   "outputs": [
    {
     "data": {
      "application/vnd.jupyter.widget-view+json": {
       "model_id": "b494ee3f29eb4618a88849a66440844b",
       "version_major": 2,
       "version_minor": 0
      },
      "text/plain": [
       "BokehModel(combine_events=True, render_bundle={'docs_json': {'3f8591c6-3fdc-4016-8510-1a833ed5e2ca': {'version…"
      ]
     },
     "execution_count": 9,
     "metadata": {},
     "output_type": "execute_result"
    }
   ],
   "source": [
    "def load_tot_curves(tot1, tot2, **kwargs):\n",
    "    global df_scans\n",
    "    # define our x-axis from the first scans\n",
    "    x_axe = np.float_(runNrs[\"scan0100\"][\"delays\"]) - 1\n",
    "    model = lambda tau, A, B, c: A * (1 - B * np.exp(-tau / c))\n",
    "\n",
    "    # get scan_nr for ToT combination\n",
    "    scan_nr = [k for k, v in runNrs.items() if v['tot1'] == tot1 and v['tot2'] == tot2]\n",
    "    \n",
    "    # for few ToT combinations, there are multiple scans; just take the first one\n",
    "    if len(scan_nr) > 0:\n",
    "        scan_nr = scan_nr[0]\n",
    "    else:\n",
    "        scan_nr = 'scan0278'\n",
    "    df = df_scans.query(f'`scan name` == \"{scan_nr}\"')\n",
    "\n",
    "    # omit nans\n",
    "    y = df[~df['ToT2 (ns)'].isna()]['ToT2 (ns)']\n",
    "    if len(y) > -offset:\n",
    "        y = y[offset:]\n",
    "    x = x_axe[-len(y):]\n",
    "    p0 = [df['ToT2 (ns)'][-6:].mean(), 1, 1]\n",
    "    try:\n",
    "        popt, _ = curve_fit(model, x, y, p0=p0)\n",
    "    except:\n",
    "        popt = p0\n",
    "\n",
    "    return hv.Overlay(\n",
    "            hv.Curve((x_axe, df['ToT2 (ns)']), label='ToT of 2nd LED') *\n",
    "            hv.Scatter((x_axe, df['ToT2 (ns)']), label='ToT of 2nd LED').opts(size=5) *\n",
    "            hv.Curve(\n",
    "                (x, model(x, *popt)),\n",
    "                label=f\"A(1-B exp(-t/c)): A={popt[0]:.1f}, B={popt[1]:.2f}, c={popt[2]:.2f}\",).opts(color='green') *\n",
    "            hv.ErrorBars(np.column_stack([x_axe, df['ToT2 (ns)'], df['ToT2 error']])) #*\n",
    "            * hv.Curve((x_axe, df['ToT1 (ns)']), label=f\"ToT of 1st LED\") \n",
    "            * hv.VLine((df['ToT1 (ns)'][:5].mean()+475)*1e-3)\n",
    "            ).opts(legend_position=\"bottom_right\", framewise=True).opts(\n",
    "                opts.Curve(\n",
    "                xlabel=\"delay (µs)\",\n",
    "                ylabel=\"mean ToT (ns)\",\n",
    "                title=f'{scan_nr}, IKrum={runNrs[scan_nr][\"IKrum\"]}',\n",
    "                xlim=(0.5, None),\n",
    "                logx=True,\n",
    "                framewise=True\n",
    "        ))\n",
    "\n",
    "dmap = hv.DynamicMap(load_tot_curves, kdims=['ToT1','ToT2'])\n",
    "dmap = dmap.redim.values(ToT1=tot1s, ToT2=tot2s)\n",
    "\n",
    "dmap.opts(framewise=True)"
   ]
  },
  {
   "attachments": {},
   "cell_type": "markdown",
   "metadata": {},
   "source": [
    "## Recovery time"
   ]
  },
  {
   "cell_type": "code",
   "execution_count": 10,
   "metadata": {},
   "outputs": [
    {
     "data": {},
     "metadata": {},
     "output_type": "display_data"
    },
    {
     "data": {
      "application/vnd.holoviews_exec.v0+json": "",
      "text/html": [
       "<div id='p1349'>\n",
       "  <div id=\"e93ed003-405f-43b0-9ce9-89a59e535df6\" data-root-id=\"p1349\" style=\"display: contents;\"></div>\n",
       "</div>\n",
       "<script type=\"application/javascript\">(function(root) {\n",
       "  var docs_json = {\"65549b48-b9c1-4cae-a25f-3809ec8c083d\":{\"version\":\"3.1.1\",\"title\":\"Bokeh Application\",\"defs\":[{\"type\":\"model\",\"name\":\"ReactiveHTML1\"},{\"type\":\"model\",\"name\":\"FlexBox1\",\"properties\":[{\"name\":\"align_content\",\"kind\":\"Any\",\"default\":\"flex-start\"},{\"name\":\"align_items\",\"kind\":\"Any\",\"default\":\"flex-start\"},{\"name\":\"flex_direction\",\"kind\":\"Any\",\"default\":\"row\"},{\"name\":\"flex_wrap\",\"kind\":\"Any\",\"default\":\"wrap\"},{\"name\":\"justify_content\",\"kind\":\"Any\",\"default\":\"flex-start\"}]},{\"type\":\"model\",\"name\":\"FloatPanel1\",\"properties\":[{\"name\":\"config\",\"kind\":\"Any\",\"default\":{\"type\":\"map\"}},{\"name\":\"contained\",\"kind\":\"Any\",\"default\":true},{\"name\":\"position\",\"kind\":\"Any\",\"default\":\"right-top\"},{\"name\":\"offsetx\",\"kind\":\"Any\",\"default\":null},{\"name\":\"offsety\",\"kind\":\"Any\",\"default\":null},{\"name\":\"theme\",\"kind\":\"Any\",\"default\":\"primary\"},{\"name\":\"status\",\"kind\":\"Any\",\"default\":\"normalized\"}]},{\"type\":\"model\",\"name\":\"GridStack1\",\"properties\":[{\"name\":\"mode\",\"kind\":\"Any\",\"default\":\"warn\"},{\"name\":\"ncols\",\"kind\":\"Any\",\"default\":null},{\"name\":\"nrows\",\"kind\":\"Any\",\"default\":null},{\"name\":\"allow_resize\",\"kind\":\"Any\",\"default\":true},{\"name\":\"allow_drag\",\"kind\":\"Any\",\"default\":true},{\"name\":\"state\",\"kind\":\"Any\",\"default\":[]}]},{\"type\":\"model\",\"name\":\"drag1\",\"properties\":[{\"name\":\"slider_width\",\"kind\":\"Any\",\"default\":5},{\"name\":\"slider_color\",\"kind\":\"Any\",\"default\":\"black\"},{\"name\":\"value\",\"kind\":\"Any\",\"default\":50}]},{\"type\":\"model\",\"name\":\"click1\",\"properties\":[{\"name\":\"terminal_output\",\"kind\":\"Any\",\"default\":\"\"},{\"name\":\"debug_name\",\"kind\":\"Any\",\"default\":\"\"},{\"name\":\"clears\",\"kind\":\"Any\",\"default\":0}]},{\"type\":\"model\",\"name\":\"FastWrapper1\",\"properties\":[{\"name\":\"object\",\"kind\":\"Any\",\"default\":null},{\"name\":\"style\",\"kind\":\"Any\",\"default\":null}]},{\"type\":\"model\",\"name\":\"NotificationAreaBase1\",\"properties\":[{\"name\":\"position\",\"kind\":\"Any\",\"default\":\"bottom-right\"},{\"name\":\"_clear\",\"kind\":\"Any\",\"default\":0}]},{\"type\":\"model\",\"name\":\"NotificationArea1\",\"properties\":[{\"name\":\"notifications\",\"kind\":\"Any\",\"default\":[]},{\"name\":\"position\",\"kind\":\"Any\",\"default\":\"bottom-right\"},{\"name\":\"_clear\",\"kind\":\"Any\",\"default\":0},{\"name\":\"types\",\"kind\":\"Any\",\"default\":[{\"type\":\"map\",\"entries\":[[\"type\",\"warning\"],[\"background\",\"#ffc107\"],[\"icon\",{\"type\":\"map\",\"entries\":[[\"className\",\"fas fa-exclamation-triangle\"],[\"tagName\",\"i\"],[\"color\",\"white\"]]}]]},{\"type\":\"map\",\"entries\":[[\"type\",\"info\"],[\"background\",\"#007bff\"],[\"icon\",{\"type\":\"map\",\"entries\":[[\"className\",\"fas fa-info-circle\"],[\"tagName\",\"i\"],[\"color\",\"white\"]]}]]}]}]},{\"type\":\"model\",\"name\":\"Notification\",\"properties\":[{\"name\":\"background\",\"kind\":\"Any\",\"default\":null},{\"name\":\"duration\",\"kind\":\"Any\",\"default\":3000},{\"name\":\"icon\",\"kind\":\"Any\",\"default\":null},{\"name\":\"message\",\"kind\":\"Any\",\"default\":\"\"},{\"name\":\"notification_type\",\"kind\":\"Any\",\"default\":null},{\"name\":\"_destroyed\",\"kind\":\"Any\",\"default\":false}]},{\"type\":\"model\",\"name\":\"TemplateActions1\",\"properties\":[{\"name\":\"open_modal\",\"kind\":\"Any\",\"default\":0},{\"name\":\"close_modal\",\"kind\":\"Any\",\"default\":0}]},{\"type\":\"model\",\"name\":\"BootstrapTemplateActions1\",\"properties\":[{\"name\":\"open_modal\",\"kind\":\"Any\",\"default\":0},{\"name\":\"close_modal\",\"kind\":\"Any\",\"default\":0}]},{\"type\":\"model\",\"name\":\"MaterialTemplateActions1\",\"properties\":[{\"name\":\"open_modal\",\"kind\":\"Any\",\"default\":0},{\"name\":\"close_modal\",\"kind\":\"Any\",\"default\":0}]}],\"roots\":[{\"type\":\"object\",\"name\":\"Row\",\"id\":\"p1349\",\"attributes\":{\"name\":\"Row01685\",\"tags\":[\"embedded\"],\"stylesheets\":[\"\\n:host(.pn-loading.pn-arc):before, .pn-loading.pn-arc:before {\\n  background-image: url(\\\"data:image/svg+xml;base64,PHN2ZyB4bWxucz0iaHR0cDovL3d3dy53My5vcmcvMjAwMC9zdmciIHN0eWxlPSJtYXJnaW46IGF1dG87IGJhY2tncm91bmQ6IG5vbmU7IGRpc3BsYXk6IGJsb2NrOyBzaGFwZS1yZW5kZXJpbmc6IGF1dG87IiB2aWV3Qm94PSIwIDAgMTAwIDEwMCIgcHJlc2VydmVBc3BlY3RSYXRpbz0ieE1pZFlNaWQiPiAgPGNpcmNsZSBjeD0iNTAiIGN5PSI1MCIgZmlsbD0ibm9uZSIgc3Ryb2tlPSIjYzNjM2MzIiBzdHJva2Utd2lkdGg9IjEwIiByPSIzNSIgc3Ryb2tlLWRhc2hhcnJheT0iMTY0LjkzMzYxNDMxMzQ2NDE1IDU2Ljk3Nzg3MTQzNzgyMTM4Ij4gICAgPGFuaW1hdGVUcmFuc2Zvcm0gYXR0cmlidXRlTmFtZT0idHJhbnNmb3JtIiB0eXBlPSJyb3RhdGUiIHJlcGVhdENvdW50PSJpbmRlZmluaXRlIiBkdXI9IjFzIiB2YWx1ZXM9IjAgNTAgNTA7MzYwIDUwIDUwIiBrZXlUaW1lcz0iMDsxIj48L2FuaW1hdGVUcmFuc2Zvcm0+ICA8L2NpcmNsZT48L3N2Zz4=\\\");\\n  background-size: auto calc(min(50%, 400px));\\n}\",{\"type\":\"object\",\"name\":\"ImportedStyleSheet\",\"id\":\"p1352\",\"attributes\":{\"url\":\"https://cdn.holoviz.org/panel/1.1.1/dist/css/loading.css\"}},{\"type\":\"object\",\"name\":\"ImportedStyleSheet\",\"id\":\"p1647\",\"attributes\":{\"url\":\"https://cdn.holoviz.org/panel/1.1.1/dist/css/listpanel.css\"}},{\"type\":\"object\",\"name\":\"ImportedStyleSheet\",\"id\":\"p1350\",\"attributes\":{\"url\":\"https://cdn.holoviz.org/panel/1.1.1/dist/bundled/theme/default.css\"}},{\"type\":\"object\",\"name\":\"ImportedStyleSheet\",\"id\":\"p1351\",\"attributes\":{\"url\":\"https://cdn.holoviz.org/panel/1.1.1/dist/bundled/theme/native.css\"}}],\"margin\":0,\"sizing_mode\":\"stretch_width\",\"align\":\"start\",\"children\":[{\"type\":\"object\",\"name\":\"Spacer\",\"id\":\"p1353\",\"attributes\":{\"name\":\"HSpacer01696\",\"stylesheets\":[\"\\n:host(.pn-loading.pn-arc):before, .pn-loading.pn-arc:before {\\n  background-image: url(\\\"data:image/svg+xml;base64,PHN2ZyB4bWxucz0iaHR0cDovL3d3dy53My5vcmcvMjAwMC9zdmciIHN0eWxlPSJtYXJnaW46IGF1dG87IGJhY2tncm91bmQ6IG5vbmU7IGRpc3BsYXk6IGJsb2NrOyBzaGFwZS1yZW5kZXJpbmc6IGF1dG87IiB2aWV3Qm94PSIwIDAgMTAwIDEwMCIgcHJlc2VydmVBc3BlY3RSYXRpbz0ieE1pZFlNaWQiPiAgPGNpcmNsZSBjeD0iNTAiIGN5PSI1MCIgZmlsbD0ibm9uZSIgc3Ryb2tlPSIjYzNjM2MzIiBzdHJva2Utd2lkdGg9IjEwIiByPSIzNSIgc3Ryb2tlLWRhc2hhcnJheT0iMTY0LjkzMzYxNDMxMzQ2NDE1IDU2Ljk3Nzg3MTQzNzgyMTM4Ij4gICAgPGFuaW1hdGVUcmFuc2Zvcm0gYXR0cmlidXRlTmFtZT0idHJhbnNmb3JtIiB0eXBlPSJyb3RhdGUiIHJlcGVhdENvdW50PSJpbmRlZmluaXRlIiBkdXI9IjFzIiB2YWx1ZXM9IjAgNTAgNTA7MzYwIDUwIDUwIiBrZXlUaW1lcz0iMDsxIj48L2FuaW1hdGVUcmFuc2Zvcm0+ICA8L2NpcmNsZT48L3N2Zz4=\\\");\\n  background-size: auto calc(min(50%, 400px));\\n}\",{\"id\":\"p1352\"},{\"id\":\"p1350\"},{\"id\":\"p1351\"}],\"margin\":0,\"sizing_mode\":\"stretch_width\",\"align\":\"start\"}},{\"type\":\"object\",\"name\":\"GridPlot\",\"id\":\"p1565\",\"attributes\":{\"rows\":null,\"cols\":null,\"toolbar\":{\"type\":\"object\",\"name\":\"Toolbar\",\"id\":\"p1611\",\"attributes\":{\"tools\":[{\"type\":\"object\",\"name\":\"ToolProxy\",\"id\":\"p1605\",\"attributes\":{\"tools\":[{\"type\":\"object\",\"name\":\"HoverTool\",\"id\":\"p1356\",\"attributes\":{\"tags\":[\"hv_created\"],\"renderers\":[{\"type\":\"object\",\"name\":\"GlyphRenderer\",\"id\":\"p1415\",\"attributes\":{\"data_source\":{\"type\":\"object\",\"name\":\"ColumnDataSource\",\"id\":\"p1402\",\"attributes\":{\"selected\":{\"type\":\"object\",\"name\":\"Selection\",\"id\":\"p1403\",\"attributes\":{\"indices\":[],\"line_indices\":[]}},\"selection_policy\":{\"type\":\"object\",\"name\":\"UnionRenderers\",\"id\":\"p1404\"},\"data\":{\"type\":\"map\",\"entries\":[[\"x\",[50.0]],[\"y\",[50.0]],[\"dw\",[2000.0]],[\"dh\",[2000.0]],[\"image\",[{\"type\":\"ndarray\",\"array\":{\"type\":\"bytes\",\"data\":\"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\"},\"shape\":[20,20],\"dtype\":\"float64\",\"order\":\"little\"}]]]}}},\"view\":{\"type\":\"object\",\"name\":\"CDSView\",\"id\":\"p1416\",\"attributes\":{\"filter\":{\"type\":\"object\",\"name\":\"AllIndices\",\"id\":\"p1417\"}}},\"glyph\":{\"type\":\"object\",\"name\":\"Image\",\"id\":\"p1409\",\"attributes\":{\"tags\":[\"apply_ranges\"],\"x\":{\"type\":\"field\",\"field\":\"x\"},\"y\":{\"type\":\"field\",\"field\":\"y\"},\"dw\":{\"type\":\"field\",\"field\":\"dw\"},\"dh\":{\"type\":\"field\",\"field\":\"dh\"},\"image\":{\"type\":\"field\",\"field\":\"image\"},\"color_mapper\":{\"type\":\"object\",\"name\":\"LogColorMapper\",\"id\":\"p1401\",\"attributes\":{\"palette\":[\"#3a4cc0\",\"#3b4dc1\",\"#3c4fc3\",\"#3e51c4\",\"#3f53c6\",\"#4054c7\",\"#4156c9\",\"#4258ca\",\"#435acc\",\"#455bcd\",\"#465dcf\",\"#475fd0\",\"#4860d1\",\"#4962d3\",\"#4b64d4\",\"#4c66d6\",\"#4d67d7\",\"#4e69d8\",\"#506bda\",\"#516cdb\",\"#526edc\",\"#5370dd\",\"#5571de\",\"#5673e0\",\"#5775e1\",\"#5876e2\",\"#5a78e3\",\"#5b79e4\",\"#5c7be5\",\"#5d7de6\",\"#5f7ee7\",\"#6080e8\",\"#6182ea\",\"#6383ea\",\"#6485eb\",\"#6586ec\",\"#6788ed\",\"#6889ee\",\"#698bef\",\"#6b8df0\",\"#6c8ef1\",\"#6d90f1\",\"#6f91f2\",\"#7093f3\",\"#7194f4\",\"#7395f4\",\"#7497f5\",\"#7598f6\",\"#779af6\",\"#789bf7\",\"#7a9df8\",\"#7b9ef8\",\"#7ca0f9\",\"#7ea1f9\",\"#7fa2fa\",\"#80a4fa\",\"#82a5fb\",\"#83a6fb\",\"#85a8fb\",\"#86a9fc\",\"#87aafc\",\"#89acfc\",\"#8aadfd\",\"#8baefd\",\"#8daffd\",\"#8eb1fd\",\"#90b2fe\",\"#91b3fe\",\"#92b4fe\",\"#94b5fe\",\"#95b7fe\",\"#97b8fe\",\"#98b9fe\",\"#99bafe\",\"#9bbbfe\",\"#9cbcfe\",\"#9dbdfe\",\"#9fbefe\",\"#a0bffe\",\"#a2c0fe\",\"#a3c1fe\",\"#a4c2fe\",\"#a6c3fd\",\"#a7c4fd\",\"#a8c5fd\",\"#aac6fd\",\"#abc7fc\",\"#acc8fc\",\"#aec9fc\",\"#afcafb\",\"#b0cbfb\",\"#b2cbfb\",\"#b3ccfa\",\"#b4cdfa\",\"#b6cef9\",\"#b7cff9\",\"#b8cff8\",\"#b9d0f8\",\"#bbd1f7\",\"#bcd1f6\",\"#bdd2f6\",\"#bed3f5\",\"#c0d3f5\",\"#c1d4f4\",\"#c2d4f3\",\"#c3d5f2\",\"#c5d5f2\",\"#c6d6f1\",\"#c7d6f0\",\"#c8d7ef\",\"#c9d7ee\",\"#cad8ee\",\"#ccd8ed\",\"#cdd9ec\",\"#ced9eb\",\"#cfd9ea\",\"#d0dae9\",\"#d1dae8\",\"#d2dae7\",\"#d3dbe6\",\"#d5dbe5\",\"#d6dbe4\",\"#d7dbe2\",\"#d8dbe1\",\"#d9dce0\",\"#dadcdf\",\"#dbdcde\",\"#dcdcdd\",\"#dddcdb\",\"#dedbda\",\"#dfdbd9\",\"#e0dad7\",\"#e1dad6\",\"#e2d9d4\",\"#e3d9d3\",\"#e4d8d1\",\"#e5d8d0\",\"#e6d7cf\",\"#e7d6cd\",\"#e7d6cc\",\"#e8d5ca\",\"#e9d4c9\",\"#ead3c7\",\"#ebd3c6\",\"#ecd2c4\",\"#ecd1c3\",\"#edd0c1\",\"#edcfc0\",\"#eecfbe\",\"#efcebc\",\"#efcdbb\",\"#f0ccb9\",\"#f1cbb8\",\"#f1cab6\",\"#f2c9b5\",\"#f2c8b3\",\"#f2c7b2\",\"#f3c6b0\",\"#f3c5af\",\"#f4c4ad\",\"#f4c3ab\",\"#f4c2aa\",\"#f5c1a8\",\"#f5c0a7\",\"#f5bfa5\",\"#f6bda4\",\"#f6bca2\",\"#f6bba0\",\"#f6ba9f\",\"#f6b99d\",\"#f6b79c\",\"#f6b69a\",\"#f7b598\",\"#f7b397\",\"#f7b295\",\"#f7b194\",\"#f7b092\",\"#f7ae91\",\"#f7ad8f\",\"#f6ab8d\",\"#f6aa8c\",\"#f6a98a\",\"#f6a789\",\"#f6a687\",\"#f6a486\",\"#f6a384\",\"#f5a182\",\"#f5a081\",\"#f59e7f\",\"#f49d7e\",\"#f49b7c\",\"#f49a7b\",\"#f39879\",\"#f39678\",\"#f39576\",\"#f29375\",\"#f29173\",\"#f19072\",\"#f18e70\",\"#f08d6f\",\"#f08b6d\",\"#ef896c\",\"#ee876a\",\"#ee8669\",\"#ed8467\",\"#ec8266\",\"#ec8064\",\"#eb7f63\",\"#ea7d61\",\"#ea7b60\",\"#e9795e\",\"#e8775d\",\"#e7755c\",\"#e6745a\",\"#e67259\",\"#e57057\",\"#e46e56\",\"#e36c54\",\"#e26a53\",\"#e16852\",\"#e06650\",\"#df644f\",\"#de624e\",\"#dd604c\",\"#dc5e4b\",\"#db5c4a\",\"#da5a48\",\"#d95847\",\"#d85646\",\"#d75444\",\"#d65243\",\"#d44f42\",\"#d34d40\",\"#d24b3f\",\"#d1493e\",\"#cf463d\",\"#ce443c\",\"#cd423a\",\"#cc3f39\",\"#ca3d38\",\"#c93b37\",\"#c83835\",\"#c63534\",\"#c53233\",\"#c43032\",\"#c22d31\",\"#c12a30\",\"#bf282e\",\"#be232d\",\"#bc1f2c\",\"#bb1a2b\",\"#b9162a\",\"#b81129\",\"#b60d28\",\"#b50827\",\"#b30326\"],\"nan_color\":\"rgba(0, 0, 0, 0)\",\"low\":1.0000009034718063,\"high\":14.999999999999998}}}},\"selection_glyph\":{\"type\":\"object\",\"name\":\"Image\",\"id\":\"p1421\",\"attributes\":{\"tags\":[\"apply_ranges\"],\"x\":{\"type\":\"field\",\"field\":\"x\"},\"y\":{\"type\":\"field\",\"field\":\"y\"},\"dw\":{\"type\":\"field\",\"field\":\"dw\"},\"dh\":{\"type\":\"field\",\"field\":\"dh\"},\"global_alpha\":{\"type\":\"value\",\"value\":1.0},\"image\":{\"type\":\"field\",\"field\":\"image\"},\"color_mapper\":{\"id\":\"p1401\"}}},\"nonselection_glyph\":{\"type\":\"object\",\"name\":\"Image\",\"id\":\"p1411\",\"attributes\":{\"tags\":[\"apply_ranges\"],\"x\":{\"type\":\"field\",\"field\":\"x\"},\"y\":{\"type\":\"field\",\"field\":\"y\"},\"dw\":{\"type\":\"field\",\"field\":\"dw\"},\"dh\":{\"type\":\"field\",\"field\":\"dh\"},\"global_alpha\":{\"type\":\"value\",\"value\":0.1},\"image\":{\"type\":\"field\",\"field\":\"image\"},\"color_mapper\":{\"id\":\"p1401\"}}},\"muted_glyph\":{\"type\":\"object\",\"name\":\"Image\",\"id\":\"p1413\",\"attributes\":{\"tags\":[\"apply_ranges\"],\"x\":{\"type\":\"field\",\"field\":\"x\"},\"y\":{\"type\":\"field\",\"field\":\"y\"},\"dw\":{\"type\":\"field\",\"field\":\"dw\"},\"dh\":{\"type\":\"field\",\"field\":\"dh\"},\"global_alpha\":{\"type\":\"value\",\"value\":0.2},\"image\":{\"type\":\"field\",\"field\":\"image\"},\"color_mapper\":{\"id\":\"p1401\"}}}}}],\"tooltips\":[[\"x\",\"$x\"],[\"y\",\"$y\"],[\"z\",\"@image\"]]}},{\"type\":\"object\",\"name\":\"HoverTool\",\"id\":\"p1435\",\"attributes\":{\"tags\":[\"hv_created\"],\"renderers\":[{\"type\":\"object\",\"name\":\"GlyphRenderer\",\"id\":\"p1499\",\"attributes\":{\"data_source\":{\"type\":\"object\",\"name\":\"ColumnDataSource\",\"id\":\"p1489\",\"attributes\":{\"selected\":{\"type\":\"object\",\"name\":\"Selection\",\"id\":\"p1490\",\"attributes\":{\"indices\":[],\"line_indices\":[]}},\"selection_policy\":{\"type\":\"object\",\"name\":\"UnionRenderers\",\"id\":\"p1491\"},\"data\":{\"type\":\"map\",\"entries\":[[\"x\",{\"type\":\"ndarray\",\"array\":{\"type\":\"bytes\",\"data\":\"QJqZmZmZ9T+2ZmZmZmYAQEsAAAAAAAZA4JmZmZmZC0C6mZmZmZkQQIZmZmZmZhNAUDMzMzMzFkAaAAAAAAAZQObMzMzMzBtAsJmZmZmZHkA9MzMzM7MgQKKZmZmZGSJACAAAAACAI0BsZmZmZuYkQNLMzMzMTCZAODMzMzOzJ0CcmZmZmRkpQAIAAAAAgCpAaGZmZmbmK0DMzMzMzEwtQA==\"},\"shape\":[20],\"dtype\":\"float64\",\"order\":\"little\"}],[\"y\",{\"type\":\"ndarray\",\"array\":{\"type\":\"bytes\",\"data\":\"AgAAAAEAAAABAAAAAgAAAAEAAAACAAAAAgAAAAIAAAAbAAAAowAAAKYAAAAQAAAADgAAAAIAAAACAAAAAgAAAAAAAAAAAAAAAAAAAAcAAAA=\"},\"shape\":[20],\"dtype\":\"int32\",\"order\":\"little\"}]]}}},\"view\":{\"type\":\"object\",\"name\":\"CDSView\",\"id\":\"p1500\",\"attributes\":{\"filter\":{\"type\":\"object\",\"name\":\"AllIndices\",\"id\":\"p1501\"}}},\"glyph\":{\"type\":\"object\",\"name\":\"Line\",\"id\":\"p1496\",\"attributes\":{\"tags\":[\"apply_ranges\"],\"x\":{\"type\":\"field\",\"field\":\"x\"},\"y\":{\"type\":\"field\",\"field\":\"y\"},\"line_color\":\"#30a2da\",\"line_width\":2}},\"selection_glyph\":{\"type\":\"object\",\"name\":\"Line\",\"id\":\"p1502\",\"attributes\":{\"tags\":[\"apply_ranges\"],\"x\":{\"type\":\"field\",\"field\":\"x\"},\"y\":{\"type\":\"field\",\"field\":\"y\"},\"line_color\":\"#30a2da\",\"line_width\":2}},\"nonselection_glyph\":{\"type\":\"object\",\"name\":\"Line\",\"id\":\"p1497\",\"attributes\":{\"tags\":[\"apply_ranges\"],\"x\":{\"type\":\"field\",\"field\":\"x\"},\"y\":{\"type\":\"field\",\"field\":\"y\"},\"line_color\":\"#30a2da\",\"line_alpha\":0.1,\"line_width\":2}},\"muted_glyph\":{\"type\":\"object\",\"name\":\"Line\",\"id\":\"p1498\",\"attributes\":{\"tags\":[\"apply_ranges\"],\"x\":{\"type\":\"field\",\"field\":\"x\"},\"y\":{\"type\":\"field\",\"field\":\"y\"},\"line_color\":\"#30a2da\",\"line_alpha\":0.2,\"line_width\":2}}}},{\"type\":\"object\",\"name\":\"GlyphRenderer\",\"id\":\"p1513\",\"attributes\":{\"data_source\":{\"type\":\"object\",\"name\":\"ColumnDataSource\",\"id\":\"p1503\",\"attributes\":{\"selected\":{\"type\":\"object\",\"name\":\"Selection\",\"id\":\"p1504\",\"attributes\":{\"indices\":[],\"line_indices\":[]}},\"selection_policy\":{\"type\":\"object\",\"name\":\"UnionRenderers\",\"id\":\"p1505\"},\"data\":{\"type\":\"map\",\"entries\":[[\"x\",{\"type\":\"ndarray\",\"array\":{\"type\":\"bytes\",\"data\":\"QJqZmZmZ9T+2ZmZmZmYAQEsAAAAAAAZA4JmZmZmZC0C6mZmZmZkQQIZmZmZmZhNAUDMzMzMzFkAaAAAAAAAZQObMzMzMzBtAsJmZmZmZHkA9MzMzM7MgQKKZmZmZGSJACAAAAACAI0BsZmZmZuYkQNLMzMzMTCZAODMzMzOzJ0CcmZmZmRkpQAIAAAAAgCpAaGZmZmbmK0DMzMzMzEwtQA==\"},\"shape\":[20],\"dtype\":\"float64\",\"order\":\"little\"}],[\"y\",{\"type\":\"ndarray\",\"array\":{\"type\":\"bytes\",\"data\":\"AgAAAAEAAAABAAAAAgAAAAEAAAACAAAAAgAAAAIAAAAbAAAAowAAAKYAAAAQAAAADgAAAAIAAAACAAAAAgAAAAAAAAAAAAAAAAAAAAcAAAA=\"},\"shape\":[20],\"dtype\":\"int32\",\"order\":\"little\"}]]}}},\"view\":{\"type\":\"object\",\"name\":\"CDSView\",\"id\":\"p1514\",\"attributes\":{\"filter\":{\"type\":\"object\",\"name\":\"AllIndices\",\"id\":\"p1515\"}}},\"glyph\":{\"type\":\"object\",\"name\":\"Scatter\",\"id\":\"p1510\",\"attributes\":{\"tags\":[\"apply_ranges\"],\"x\":{\"type\":\"field\",\"field\":\"x\"},\"y\":{\"type\":\"field\",\"field\":\"y\"},\"size\":{\"type\":\"value\",\"value\":8},\"line_color\":{\"type\":\"value\",\"value\":\"#30a2da\"},\"fill_color\":{\"type\":\"value\",\"value\":\"#30a2da\"},\"hatch_color\":{\"type\":\"value\",\"value\":\"#30a2da\"}}},\"selection_glyph\":{\"type\":\"object\",\"name\":\"Scatter\",\"id\":\"p1516\",\"attributes\":{\"tags\":[\"apply_ranges\"],\"x\":{\"type\":\"field\",\"field\":\"x\"},\"y\":{\"type\":\"field\",\"field\":\"y\"},\"size\":{\"type\":\"value\",\"value\":8},\"angle\":{\"type\":\"value\",\"value\":0.0},\"line_color\":{\"type\":\"value\",\"value\":\"#30a2da\"},\"line_alpha\":{\"type\":\"value\",\"value\":1.0},\"line_width\":{\"type\":\"value\",\"value\":1},\"line_join\":{\"type\":\"value\",\"value\":\"bevel\"},\"line_cap\":{\"type\":\"value\",\"value\":\"butt\"},\"line_dash\":{\"type\":\"value\",\"value\":[]},\"line_dash_offset\":{\"type\":\"value\",\"value\":0},\"fill_color\":{\"type\":\"value\",\"value\":\"#30a2da\"},\"fill_alpha\":{\"type\":\"value\",\"value\":1.0},\"hatch_color\":{\"type\":\"value\",\"value\":\"#30a2da\"},\"hatch_alpha\":{\"type\":\"value\",\"value\":1.0},\"hatch_scale\":{\"type\":\"value\",\"value\":12.0},\"hatch_pattern\":{\"type\":\"value\",\"value\":null},\"hatch_weight\":{\"type\":\"value\",\"value\":1.0},\"marker\":{\"type\":\"value\",\"value\":\"circle\"}}},\"nonselection_glyph\":{\"type\":\"object\",\"name\":\"Scatter\",\"id\":\"p1511\",\"attributes\":{\"tags\":[\"apply_ranges\"],\"x\":{\"type\":\"field\",\"field\":\"x\"},\"y\":{\"type\":\"field\",\"field\":\"y\"},\"size\":{\"type\":\"value\",\"value\":8},\"line_color\":{\"type\":\"value\",\"value\":\"#30a2da\"},\"line_alpha\":{\"type\":\"value\",\"value\":0.1},\"fill_color\":{\"type\":\"value\",\"value\":\"#30a2da\"},\"fill_alpha\":{\"type\":\"value\",\"value\":0.1},\"hatch_color\":{\"type\":\"value\",\"value\":\"#30a2da\"},\"hatch_alpha\":{\"type\":\"value\",\"value\":0.1}}},\"muted_glyph\":{\"type\":\"object\",\"name\":\"Scatter\",\"id\":\"p1512\",\"attributes\":{\"tags\":[\"apply_ranges\"],\"x\":{\"type\":\"field\",\"field\":\"x\"},\"y\":{\"type\":\"field\",\"field\":\"y\"},\"size\":{\"type\":\"value\",\"value\":8},\"line_color\":{\"type\":\"value\",\"value\":\"#30a2da\"},\"line_alpha\":{\"type\":\"value\",\"value\":0.2},\"fill_color\":{\"type\":\"value\",\"value\":\"#30a2da\"},\"fill_alpha\":{\"type\":\"value\",\"value\":0.2},\"hatch_color\":{\"type\":\"value\",\"value\":\"#30a2da\"},\"hatch_alpha\":{\"type\":\"value\",\"value\":0.2}}}}}],\"tooltips\":[[\"x\",\"@{x}\"],[\"y\",\"@{y}\"]]}}]}},{\"type\":\"object\",\"name\":\"SaveTool\",\"id\":\"p1606\"},{\"type\":\"object\",\"name\":\"ToolProxy\",\"id\":\"p1607\",\"attributes\":{\"tools\":[{\"type\":\"object\",\"name\":\"PanTool\",\"id\":\"p1388\"},{\"type\":\"object\",\"name\":\"PanTool\",\"id\":\"p1468\"}]}},{\"type\":\"object\",\"name\":\"ToolProxy\",\"id\":\"p1608\",\"attributes\":{\"tools\":[{\"type\":\"object\",\"name\":\"WheelZoomTool\",\"id\":\"p1389\"},{\"type\":\"object\",\"name\":\"WheelZoomTool\",\"id\":\"p1469\"}]}},{\"type\":\"object\",\"name\":\"ToolProxy\",\"id\":\"p1609\",\"attributes\":{\"tools\":[{\"type\":\"object\",\"name\":\"BoxZoomTool\",\"id\":\"p1390\",\"attributes\":{\"overlay\":{\"type\":\"object\",\"name\":\"BoxAnnotation\",\"id\":\"p1391\",\"attributes\":{\"syncable\":false,\"level\":\"overlay\",\"visible\":false,\"left_units\":\"canvas\",\"right_units\":\"canvas\",\"bottom_units\":\"canvas\",\"top_units\":\"canvas\",\"line_color\":\"black\",\"line_alpha\":1.0,\"line_width\":2,\"line_dash\":[4,4],\"fill_color\":\"lightgrey\",\"fill_alpha\":0.5}}}},{\"type\":\"object\",\"name\":\"BoxZoomTool\",\"id\":\"p1470\",\"attributes\":{\"overlay\":{\"type\":\"object\",\"name\":\"BoxAnnotation\",\"id\":\"p1471\",\"attributes\":{\"syncable\":false,\"level\":\"overlay\",\"visible\":false,\"left_units\":\"canvas\",\"right_units\":\"canvas\",\"bottom_units\":\"canvas\",\"top_units\":\"canvas\",\"line_color\":\"black\",\"line_alpha\":1.0,\"line_width\":2,\"line_dash\":[4,4],\"fill_color\":\"lightgrey\",\"fill_alpha\":0.5}}}}]}},{\"type\":\"object\",\"name\":\"ToolProxy\",\"id\":\"p1610\",\"attributes\":{\"tools\":[{\"type\":\"object\",\"name\":\"ResetTool\",\"id\":\"p1392\"},{\"type\":\"object\",\"name\":\"ResetTool\",\"id\":\"p1472\"}]}}]}},\"children\":[[{\"type\":\"object\",\"name\":\"Figure\",\"id\":\"p1357\",\"attributes\":{\"width\":null,\"height\":null,\"sizing_mode\":\"fixed\",\"align\":\"start\",\"x_range\":{\"type\":\"object\",\"name\":\"Range1d\",\"id\":\"p1354\",\"attributes\":{\"tags\":[[[\"x\",\"x\",null]]],\"start\":50.0,\"end\":2050.0,\"reset_start\":50.0,\"reset_end\":2050.0}},\"y_range\":{\"type\":\"object\",\"name\":\"Range1d\",\"id\":\"p1355\",\"attributes\":{\"tags\":[[[\"y\",\"y\",null]]],\"start\":50.0,\"end\":2050.0,\"reset_start\":50.0,\"reset_end\":2050.0}},\"x_scale\":{\"type\":\"object\",\"name\":\"LinearScale\",\"id\":\"p1369\"},\"y_scale\":{\"type\":\"object\",\"name\":\"LinearScale\",\"id\":\"p1371\"},\"title\":{\"type\":\"object\",\"name\":\"Title\",\"id\":\"p1360\",\"attributes\":{\"text_color\":\"black\",\"text_font_size\":\"12pt\"}},\"renderers\":[{\"id\":\"p1415\"}],\"toolbar\":{\"type\":\"object\",\"name\":\"Toolbar\",\"id\":\"p1362\",\"attributes\":{\"tools\":[{\"id\":\"p1356\"},{\"type\":\"object\",\"name\":\"SaveTool\",\"id\":\"p1387\"},{\"id\":\"p1388\"},{\"id\":\"p1389\"},{\"id\":\"p1390\"},{\"id\":\"p1392\"}],\"active_drag\":{\"id\":\"p1388\"},\"active_scroll\":{\"id\":\"p1389\"}}},\"toolbar_location\":null,\"left\":[{\"type\":\"object\",\"name\":\"LinearAxis\",\"id\":\"p1380\",\"attributes\":{\"ticker\":{\"type\":\"object\",\"name\":\"BasicTicker\",\"id\":\"p1383\",\"attributes\":{\"mantissas\":[1,2,5]}},\"formatter\":{\"type\":\"object\",\"name\":\"BasicTickFormatter\",\"id\":\"p1381\"},\"axis_label\":\"ToT2 (ns)\",\"major_label_policy\":{\"type\":\"object\",\"name\":\"AllLabels\",\"id\":\"p1382\"}}}],\"right\":[{\"type\":\"object\",\"name\":\"ColorBar\",\"id\":\"p1419\",\"attributes\":{\"location\":[0,0],\"ticker\":{\"type\":\"object\",\"name\":\"LogTicker\",\"id\":\"p1418\",\"attributes\":{\"mantissas\":[1,5]}},\"major_label_policy\":{\"type\":\"object\",\"name\":\"NoOverlap\",\"id\":\"p1420\"},\"label_standoff\":8,\"major_tick_line_color\":\"black\",\"bar_line_color\":\"black\",\"color_mapper\":{\"id\":\"p1401\"}}}],\"below\":[{\"type\":\"object\",\"name\":\"LinearAxis\",\"id\":\"p1373\",\"attributes\":{\"ticker\":{\"type\":\"object\",\"name\":\"BasicTicker\",\"id\":\"p1376\",\"attributes\":{\"mantissas\":[1,2,5]}},\"formatter\":{\"type\":\"object\",\"name\":\"BasicTickFormatter\",\"id\":\"p1374\"},\"axis_label\":\"ToT1 (ns)\",\"major_label_policy\":{\"type\":\"object\",\"name\":\"AllLabels\",\"id\":\"p1375\"}}}],\"center\":[{\"type\":\"object\",\"name\":\"Grid\",\"id\":\"p1379\",\"attributes\":{\"axis\":{\"id\":\"p1373\"},\"grid_line_color\":null}},{\"type\":\"object\",\"name\":\"Grid\",\"id\":\"p1386\",\"attributes\":{\"dimension\":1,\"axis\":{\"id\":\"p1380\"},\"grid_line_color\":null}}],\"frame_width\":400,\"frame_height\":400,\"min_border_top\":10,\"min_border_bottom\":10,\"min_border_left\":10,\"min_border_right\":10,\"output_backend\":\"webgl\"}},0,0],[{\"type\":\"object\",\"name\":\"Figure\",\"id\":\"p1437\",\"attributes\":{\"width\":400,\"height\":400,\"sizing_mode\":\"fixed\",\"align\":\"start\",\"x_range\":{\"type\":\"object\",\"name\":\"Range1d\",\"id\":\"p1433\",\"attributes\":{\"tags\":[[[\"x\",\"x\",null]]],\"start\":1.350000000000037,\"end\":14.649999999999999,\"reset_start\":1.350000000000037,\"reset_end\":14.649999999999999}},\"y_range\":{\"type\":\"object\",\"name\":\"Range1d\",\"id\":\"p1434\",\"attributes\":{\"tags\":[[[\"y\",\"y\",null]]],\"start\":-16.6,\"end\":182.6,\"reset_start\":-16.6,\"reset_end\":182.6}},\"x_scale\":{\"type\":\"object\",\"name\":\"LinearScale\",\"id\":\"p1449\"},\"y_scale\":{\"type\":\"object\",\"name\":\"LinearScale\",\"id\":\"p1451\"},\"title\":{\"type\":\"object\",\"name\":\"Title\",\"id\":\"p1440\",\"attributes\":{\"text_color\":\"black\",\"text_font_size\":\"12pt\"}},\"renderers\":[{\"id\":\"p1499\"},{\"id\":\"p1513\"}],\"toolbar\":{\"type\":\"object\",\"name\":\"Toolbar\",\"id\":\"p1442\",\"attributes\":{\"tools\":[{\"id\":\"p1435\"},{\"type\":\"object\",\"name\":\"SaveTool\",\"id\":\"p1467\"},{\"id\":\"p1468\"},{\"id\":\"p1469\"},{\"id\":\"p1470\"},{\"id\":\"p1472\"}],\"active_drag\":{\"id\":\"p1468\"},\"active_scroll\":{\"id\":\"p1469\"}}},\"toolbar_location\":null,\"left\":[{\"type\":\"object\",\"name\":\"LinearAxis\",\"id\":\"p1460\",\"attributes\":{\"ticker\":{\"type\":\"object\",\"name\":\"BasicTicker\",\"id\":\"p1463\",\"attributes\":{\"mantissas\":[1,2,5]}},\"formatter\":{\"type\":\"object\",\"name\":\"BasicTickFormatter\",\"id\":\"p1461\"},\"axis_label\":\"counts\",\"major_label_policy\":{\"type\":\"object\",\"name\":\"AllLabels\",\"id\":\"p1462\"}}}],\"below\":[{\"type\":\"object\",\"name\":\"LinearAxis\",\"id\":\"p1453\",\"attributes\":{\"ticker\":{\"type\":\"object\",\"name\":\"BasicTicker\",\"id\":\"p1456\",\"attributes\":{\"mantissas\":[1,2,5]}},\"formatter\":{\"type\":\"object\",\"name\":\"BasicTickFormatter\",\"id\":\"p1454\"},\"axis_label\":\"Recovery time (\\u00b5s)\",\"major_label_policy\":{\"type\":\"object\",\"name\":\"AllLabels\",\"id\":\"p1455\"}}}],\"center\":[{\"type\":\"object\",\"name\":\"Grid\",\"id\":\"p1459\",\"attributes\":{\"axis\":{\"id\":\"p1453\"},\"ticker\":{\"id\":\"p1456\"}}},{\"type\":\"object\",\"name\":\"Grid\",\"id\":\"p1466\",\"attributes\":{\"dimension\":1,\"axis\":{\"id\":\"p1460\"},\"ticker\":{\"id\":\"p1463\"}}}],\"min_border_top\":10,\"min_border_bottom\":10,\"min_border_left\":10,\"min_border_right\":10,\"output_backend\":\"webgl\"}},0,1]]}},{\"type\":\"object\",\"name\":\"Spacer\",\"id\":\"p1645\",\"attributes\":{\"name\":\"HSpacer01699\",\"stylesheets\":[\"\\n:host(.pn-loading.pn-arc):before, .pn-loading.pn-arc:before {\\n  background-image: url(\\\"data:image/svg+xml;base64,PHN2ZyB4bWxucz0iaHR0cDovL3d3dy53My5vcmcvMjAwMC9zdmciIHN0eWxlPSJtYXJnaW46IGF1dG87IGJhY2tncm91bmQ6IG5vbmU7IGRpc3BsYXk6IGJsb2NrOyBzaGFwZS1yZW5kZXJpbmc6IGF1dG87IiB2aWV3Qm94PSIwIDAgMTAwIDEwMCIgcHJlc2VydmVBc3BlY3RSYXRpbz0ieE1pZFlNaWQiPiAgPGNpcmNsZSBjeD0iNTAiIGN5PSI1MCIgZmlsbD0ibm9uZSIgc3Ryb2tlPSIjYzNjM2MzIiBzdHJva2Utd2lkdGg9IjEwIiByPSIzNSIgc3Ryb2tlLWRhc2hhcnJheT0iMTY0LjkzMzYxNDMxMzQ2NDE1IDU2Ljk3Nzg3MTQzNzgyMTM4Ij4gICAgPGFuaW1hdGVUcmFuc2Zvcm0gYXR0cmlidXRlTmFtZT0idHJhbnNmb3JtIiB0eXBlPSJyb3RhdGUiIHJlcGVhdENvdW50PSJpbmRlZmluaXRlIiBkdXI9IjFzIiB2YWx1ZXM9IjAgNTAgNTA7MzYwIDUwIDUwIiBrZXlUaW1lcz0iMDsxIj48L2FuaW1hdGVUcmFuc2Zvcm0+ICA8L2NpcmNsZT48L3N2Zz4=\\\");\\n  background-size: auto calc(min(50%, 400px));\\n}\",{\"id\":\"p1352\"},{\"id\":\"p1350\"},{\"id\":\"p1351\"}],\"margin\":0,\"sizing_mode\":\"stretch_width\",\"align\":\"start\"}}]}}],\"callbacks\":{\"type\":\"map\"}}};\n",
       "  var render_items = [{\"docid\":\"65549b48-b9c1-4cae-a25f-3809ec8c083d\",\"roots\":{\"p1349\":\"e93ed003-405f-43b0-9ce9-89a59e535df6\"},\"root_ids\":[\"p1349\"]}];\n",
       "  var docs = Object.values(docs_json)\n",
       "  if (!docs) {\n",
       "    return\n",
       "  }\n",
       "  const py_version = docs[0].version.replace('rc', '-rc.').replace('.dev', '-dev.')\n",
       "  const is_dev = py_version.indexOf(\"+\") !== -1 || py_version.indexOf(\"-\") !== -1\n",
       "  function embed_document(root) {\n",
       "    var Bokeh = get_bokeh(root)\n",
       "    Bokeh.embed.embed_items_notebook(docs_json, render_items);\n",
       "    for (const render_item of render_items) {\n",
       "      for (const root_id of render_item.root_ids) {\n",
       "\tconst id_el = document.getElementById(root_id)\n",
       "\tif (id_el.children.length && (id_el.children[0].className === 'bk-root')) {\n",
       "\t  const root_el = id_el.children[0]\n",
       "\t  root_el.id = root_el.id + '-rendered'\n",
       "\t}\n",
       "      }\n",
       "    }\n",
       "  }\n",
       "  function get_bokeh(root) {\n",
       "    if (root.Bokeh === undefined) {\n",
       "      return null\n",
       "    } else if (root.Bokeh.version !== py_version && !is_dev) {\n",
       "      if (root.Bokeh.versions === undefined || !root.Bokeh.versions.has(py_version)) {\n",
       "\treturn null\n",
       "      }\n",
       "      return root.Bokeh.versions.get(py_version);\n",
       "    } else if (root.Bokeh.version === py_version) {\n",
       "      return root.Bokeh\n",
       "    }\n",
       "    return null\n",
       "  }\n",
       "  function is_loaded(root) {\n",
       "    var Bokeh = get_bokeh(root)\n",
       "    return (Bokeh != null && Bokeh.Panel !== undefined)\n",
       "  }\n",
       "  if (is_loaded(root)) {\n",
       "    embed_document(root);\n",
       "  } else {\n",
       "    var attempts = 0;\n",
       "    var timer = setInterval(function(root) {\n",
       "      if (is_loaded(root)) {\n",
       "        clearInterval(timer);\n",
       "        embed_document(root);\n",
       "      } else if (document.readyState == \"complete\") {\n",
       "        attempts++;\n",
       "        if (attempts > 200) {\n",
       "          clearInterval(timer);\n",
       "\t  var Bokeh = get_bokeh(root)\n",
       "\t  if (Bokeh == null || Bokeh.Panel == null) {\n",
       "            console.warn(\"Panel: ERROR: Unable to run Panel code because Bokeh or Panel library is missing\");\n",
       "\t  } else {\n",
       "\t    console.warn(\"Panel: WARNING: Attempting to render but not all required libraries could be resolved.\")\n",
       "\t    embed_document(root)\n",
       "\t  }\n",
       "        }\n",
       "      }\n",
       "    }, 25, root)\n",
       "  }\n",
       "})(window);</script>"
      ],
      "text/plain": [
       ":Layout\n",
       "   .Image.I   :Image   [x,y]   (z)\n",
       "   .Overlay.I :Overlay\n",
       "      .Curve.I   :Curve   [x]   (y)\n",
       "      .Scatter.I :Scatter   [x]   (y)"
      ]
     },
     "execution_count": 10,
     "metadata": {
      "application/vnd.holoviews_exec.v0+json": {
       "id": "p1349"
      }
     },
     "output_type": "execute_result"
    }
   ],
   "source": [
    "xy_hist, x_bins, y_bins, binnumber = binned_statistic_2d(tot1_tot2['ToT1'], tot1_tot2['ToT2'], \n",
    "    tot1_tot2.recovery, bins=(range(50, 2150, 100), range(50, 2150, 100)))\n",
    "a = hv.Image(xy_hist.T[::-1], bounds=[x_bins[0], y_bins[0], x_bins[-1], y_bins[-1]])\n",
    "a.opts(cmap='coolwarm', logz=True, colorbar=True)\n",
    "\n",
    "x_hist, x_bins = np.histogram(tot1_tot2.recovery, bins=20)\n",
    "x = get_x_axis_from_bins(x_bins) \n",
    "b = hv.Curve((x, x_hist))\n",
    "c = hv.Scatter((x, x_hist))\n",
    "b.opts(width=400, xlabel='Recovery time (µs)', ylabel='counts')\n",
    "\n",
    "(a + b * c).opts(shared_axes=False)"
   ]
  },
  {
   "attachments": {},
   "cell_type": "markdown",
   "metadata": {},
   "source": [
    "## absolute loss"
   ]
  },
  {
   "cell_type": "code",
   "execution_count": 11,
   "metadata": {},
   "outputs": [],
   "source": [
    "x_bins, y_bins = np.arange(50, 2150, 100), np.arange(50, 2150, 100)\n",
    "x = get_x_axis_from_bins(x_bins)\n",
    "y = get_x_axis_from_bins(y_bins)\n",
    "data = []\n",
    "dims = []\n",
    "gen = (col for col in tot1_tot2.columns if col.startswith(\"absolute\"))\n",
    "for col in gen:\n",
    "    data.append(\n",
    "        binned_statistic_2d(\n",
    "            tot1_tot2[\"ToT1\"],\n",
    "            tot1_tot2[\"ToT2\"],\n",
    "            tot1_tot2[col],\n",
    "            bins=(x_bins, y_bins),\n",
    "        )[0].T\n",
    "    )\n",
    "    dims.append(col)\n",
    "data = np.array(data)\n",
    "da = xr.DataArray(data, coords=[(\"Δt\", dims), (\"ToT1\", x), (\"ToT2\", y)])"
   ]
  },
  {
   "cell_type": "code",
   "execution_count": 12,
   "metadata": {},
   "outputs": [
    {
     "data": {
      "application/vnd.jupyter.widget-view+json": {
       "model_id": "5ed4bc7cfc104f7eac3d94bfcd0b5906",
       "version_major": 2,
       "version_minor": 0
      },
      "text/plain": [
       "BokehModel(combine_events=True, render_bundle={'docs_json': {'1830a1b7-ff89-4821-802f-81c1cb99b52c': {'version…"
      ]
     },
     "execution_count": 12,
     "metadata": {},
     "output_type": "execute_result"
    }
   ],
   "source": [
    "da.hvplot(groupby='Δt', cmap='viridis')"
   ]
  },
  {
   "attachments": {},
   "cell_type": "markdown",
   "metadata": {},
   "source": [
    "## realtiv loss"
   ]
  },
  {
   "cell_type": "code",
   "execution_count": 13,
   "metadata": {},
   "outputs": [],
   "source": [
    "x_bins, y_bins = np.arange(50, 2150, 100), np.arange(50, 2150, 100)\n",
    "x = get_x_axis_from_bins(x_bins)\n",
    "y = get_x_axis_from_bins(y_bins)\n",
    "data = []\n",
    "dims = []\n",
    "gen = (col for col in tot1_tot2.columns if col.startswith(\"relativ\"))\n",
    "for col in gen:\n",
    "    data.append(\n",
    "        binned_statistic_2d(\n",
    "            tot1_tot2[\"ToT1\"],\n",
    "            tot1_tot2[\"ToT2\"],\n",
    "            tot1_tot2[col],\n",
    "            bins=(x_bins, y_bins),\n",
    "        )[0].T\n",
    "    )\n",
    "    dims.append(col)\n",
    "data = np.array(data)\n",
    "da = xr.DataArray(data, coords=[(\"Δt\", dims), (\"ToT1\", x), (\"ToT2\", y)])"
   ]
  },
  {
   "cell_type": "code",
   "execution_count": 14,
   "metadata": {},
   "outputs": [
    {
     "data": {
      "application/vnd.jupyter.widget-view+json": {
       "model_id": "90dd99d6ad614357a2d5103d63751798",
       "version_major": 2,
       "version_minor": 0
      },
      "text/plain": [
       "BokehModel(combine_events=True, render_bundle={'docs_json': {'d8e8dc90-75b0-4f3d-bbd1-95c905419239': {'version…"
      ]
     },
     "execution_count": 14,
     "metadata": {},
     "output_type": "execute_result"
    }
   ],
   "source": [
    "da.hvplot(groupby='Δt', cmap='viridis')"
   ]
  },
  {
   "cell_type": "markdown",
   "metadata": {},
   "source": [
    "# model"
   ]
  },
  {
   "attachments": {},
   "cell_type": "markdown",
   "metadata": {},
   "source": [
    "## step 1"
   ]
  },
  {
   "cell_type": "raw",
   "metadata": {},
   "source": [
    "xy_hist, x_bins, y_bins, binnumber = binned_statistic_2d(tot1_tot2['ToT1'], tot1_tot2['ToT2'], \n",
    "    #tot1_tot2['relativ loss 2µs'], bins=(range(50, 2150, 100), range(50, 2150, 100)))\n",
    "    tot1_tot2['relativ loss 3µs'], bins=(range(50, 2150, 100), range(50, 2150, 100)))\n",
    "x_axe = get_x_axis_from_bins(x_bins)\n",
    "y = get_x_axis_from_bins(y_bins)"
   ]
  },
  {
   "cell_type": "raw",
   "metadata": {},
   "source": [
    "plt.plot(x_axe, xy_hist[:, 14], label=f\"ToT2={y_bins[14]+50}\")\n",
    "plt.plot(x_axe, xy_hist[:, 9], label=f\"ToT2={y_bins[9]+50}\")\n",
    "plt.plot(x_axe, xy_hist[:, 4], label=f\"ToT2={y_bins[4]+50}\")\n",
    "plt.plot(x_axe, xy_hist[:, 1], label=f\"ToT2={y_bins[1]+50}\")\n",
    "plt.plot(x_axe, xy_hist[:, 0], label=f\"ToT2={y_bins[0]+50}\")\n",
    "#plt.plot(x, xy_hist[:, 19], label=f\"ToT2={y_bins[19]+50}\")\n",
    "plt.xlabel('ToT1 (ns)')\n",
    "plt.ylabel('relativ loss')\n",
    "plt.legend()"
   ]
  },
  {
   "attachments": {},
   "cell_type": "markdown",
   "metadata": {},
   "source": [
    "## step 1\n",
    "take the TOT2(TOT1) for every Δt the relative loss is calculated for and fit the slope from a linear function"
   ]
  },
  {
   "cell_type": "code",
   "execution_count": 15,
   "metadata": {},
   "outputs": [
    {
     "name": "stderr",
     "output_type": "stream",
     "text": [
      "100%|██████████| 9/9 [00:00<00:00, 26.68it/s]\n"
     ]
    }
   ],
   "source": [
    "plots = []\n",
    "params = []\n",
    "for Δt in tqdm(range(2, 11)):\n",
    "    xy_hist, x_bins, y_bins, binnumber = binned_statistic_2d(tot1_tot2['ToT1'], tot1_tot2['ToT2'], \n",
    "                                                             tot1_tot2[f'relativ loss {Δt}µs'], bins=(range(50, 2150, 100), range(50, 2150, 100)))\n",
    "    ToT1 = x = get_x_axis_from_bins(x_bins)\n",
    "    y = get_x_axis_from_bins(y_bins)\n",
    "\n",
    "    for loss, ToT2 in zip(xy_hist.T, x):\n",
    "        model1 = lambda ToT1, m: m * ToT1\n",
    "        \n",
    "        mask = ~np.isnan(loss)\n",
    "        if mask.any() == True:\n",
    "            popt1, _ = curve_fit(model1, ToT1[mask], loss[mask])\n",
    "            params.append([Δt, ToT2, *popt1])\n",
    "\n",
    "            plots.append(hv.Curve((ToT1, loss), label=f'Δt = {Δt} µs, ToT2 = {ToT2:n}').opts(xlabel='ToT1 (ns)', ylabel=\"loss (%)\", width=400) * \n",
    "                         hv.Curve((ToT1, model1(ToT1, *popt1)), label=', '.join([f'{i:.2e}' for i in popt1])) #*\n",
    "                         #hv.Curve((ToT2, model2(ToT2, *popt2)), label=', '.join([f'{i:.2f}' for i in popt2]))\n",
    "                        )\n",
    "params_ToT2 = pd.DataFrame(params, columns=['Δt', 'ToT2', 'm',])\n"
   ]
  },
  {
   "attachments": {},
   "cell_type": "markdown",
   "metadata": {},
   "source": [
    "# step 2\n",
    "fit an exponetial decay for every TOT2 for the Δt"
   ]
  },
  {
   "cell_type": "code",
   "execution_count": 16,
   "metadata": {},
   "outputs": [
    {
     "name": "stderr",
     "output_type": "stream",
     "text": [
      "/var/folders/cs/c4lgxx9j45x3bkbb8590h85r0000gp/T/ipykernel_40179/3666404399.py:5: FutureWarning: Indexing with multiple keys (implicitly converted to a tuple of keys) will be deprecated, use a list instead.\n",
      "  for key, df in params_ToT2.groupby(\"ToT2\")['Δt', 'm']:\n"
     ]
    },
    {
     "data": {},
     "metadata": {},
     "output_type": "display_data"
    },
    {
     "data": {
      "application/vnd.holoviews_exec.v0+json": "",
      "text/html": [
       "<div id='p2166'>\n",
       "  <div id=\"d85f567b-675d-4c5a-9fb2-23d0089dc64c\" data-root-id=\"p2166\" style=\"display: contents;\"></div>\n",
       "</div>\n",
       "<script type=\"application/javascript\">(function(root) {\n",
       "  var docs_json = {\"1aaebf61-4b45-4c2a-8d2f-35183e2cdc1c\":{\"version\":\"3.1.1\",\"title\":\"Bokeh Application\",\"defs\":[{\"type\":\"model\",\"name\":\"ReactiveHTML1\"},{\"type\":\"model\",\"name\":\"FlexBox1\",\"properties\":[{\"name\":\"align_content\",\"kind\":\"Any\",\"default\":\"flex-start\"},{\"name\":\"align_items\",\"kind\":\"Any\",\"default\":\"flex-start\"},{\"name\":\"flex_direction\",\"kind\":\"Any\",\"default\":\"row\"},{\"name\":\"flex_wrap\",\"kind\":\"Any\",\"default\":\"wrap\"},{\"name\":\"justify_content\",\"kind\":\"Any\",\"default\":\"flex-start\"}]},{\"type\":\"model\",\"name\":\"FloatPanel1\",\"properties\":[{\"name\":\"config\",\"kind\":\"Any\",\"default\":{\"type\":\"map\"}},{\"name\":\"contained\",\"kind\":\"Any\",\"default\":true},{\"name\":\"position\",\"kind\":\"Any\",\"default\":\"right-top\"},{\"name\":\"offsetx\",\"kind\":\"Any\",\"default\":null},{\"name\":\"offsety\",\"kind\":\"Any\",\"default\":null},{\"name\":\"theme\",\"kind\":\"Any\",\"default\":\"primary\"},{\"name\":\"status\",\"kind\":\"Any\",\"default\":\"normalized\"}]},{\"type\":\"model\",\"name\":\"GridStack1\",\"properties\":[{\"name\":\"mode\",\"kind\":\"Any\",\"default\":\"warn\"},{\"name\":\"ncols\",\"kind\":\"Any\",\"default\":null},{\"name\":\"nrows\",\"kind\":\"Any\",\"default\":null},{\"name\":\"allow_resize\",\"kind\":\"Any\",\"default\":true},{\"name\":\"allow_drag\",\"kind\":\"Any\",\"default\":true},{\"name\":\"state\",\"kind\":\"Any\",\"default\":[]}]},{\"type\":\"model\",\"name\":\"drag1\",\"properties\":[{\"name\":\"slider_width\",\"kind\":\"Any\",\"default\":5},{\"name\":\"slider_color\",\"kind\":\"Any\",\"default\":\"black\"},{\"name\":\"value\",\"kind\":\"Any\",\"default\":50}]},{\"type\":\"model\",\"name\":\"click1\",\"properties\":[{\"name\":\"terminal_output\",\"kind\":\"Any\",\"default\":\"\"},{\"name\":\"debug_name\",\"kind\":\"Any\",\"default\":\"\"},{\"name\":\"clears\",\"kind\":\"Any\",\"default\":0}]},{\"type\":\"model\",\"name\":\"FastWrapper1\",\"properties\":[{\"name\":\"object\",\"kind\":\"Any\",\"default\":null},{\"name\":\"style\",\"kind\":\"Any\",\"default\":null}]},{\"type\":\"model\",\"name\":\"NotificationAreaBase1\",\"properties\":[{\"name\":\"position\",\"kind\":\"Any\",\"default\":\"bottom-right\"},{\"name\":\"_clear\",\"kind\":\"Any\",\"default\":0}]},{\"type\":\"model\",\"name\":\"NotificationArea1\",\"properties\":[{\"name\":\"notifications\",\"kind\":\"Any\",\"default\":[]},{\"name\":\"position\",\"kind\":\"Any\",\"default\":\"bottom-right\"},{\"name\":\"_clear\",\"kind\":\"Any\",\"default\":0},{\"name\":\"types\",\"kind\":\"Any\",\"default\":[{\"type\":\"map\",\"entries\":[[\"type\",\"warning\"],[\"background\",\"#ffc107\"],[\"icon\",{\"type\":\"map\",\"entries\":[[\"className\",\"fas fa-exclamation-triangle\"],[\"tagName\",\"i\"],[\"color\",\"white\"]]}]]},{\"type\":\"map\",\"entries\":[[\"type\",\"info\"],[\"background\",\"#007bff\"],[\"icon\",{\"type\":\"map\",\"entries\":[[\"className\",\"fas fa-info-circle\"],[\"tagName\",\"i\"],[\"color\",\"white\"]]}]]}]}]},{\"type\":\"model\",\"name\":\"Notification\",\"properties\":[{\"name\":\"background\",\"kind\":\"Any\",\"default\":null},{\"name\":\"duration\",\"kind\":\"Any\",\"default\":3000},{\"name\":\"icon\",\"kind\":\"Any\",\"default\":null},{\"name\":\"message\",\"kind\":\"Any\",\"default\":\"\"},{\"name\":\"notification_type\",\"kind\":\"Any\",\"default\":null},{\"name\":\"_destroyed\",\"kind\":\"Any\",\"default\":false}]},{\"type\":\"model\",\"name\":\"TemplateActions1\",\"properties\":[{\"name\":\"open_modal\",\"kind\":\"Any\",\"default\":0},{\"name\":\"close_modal\",\"kind\":\"Any\",\"default\":0}]},{\"type\":\"model\",\"name\":\"BootstrapTemplateActions1\",\"properties\":[{\"name\":\"open_modal\",\"kind\":\"Any\",\"default\":0},{\"name\":\"close_modal\",\"kind\":\"Any\",\"default\":0}]},{\"type\":\"model\",\"name\":\"MaterialTemplateActions1\",\"properties\":[{\"name\":\"open_modal\",\"kind\":\"Any\",\"default\":0},{\"name\":\"close_modal\",\"kind\":\"Any\",\"default\":0}]}],\"roots\":[{\"type\":\"object\",\"name\":\"Row\",\"id\":\"p2166\",\"attributes\":{\"name\":\"Row06998\",\"tags\":[\"embedded\"],\"stylesheets\":[\"\\n:host(.pn-loading.pn-arc):before, .pn-loading.pn-arc:before {\\n  background-image: url(\\\"data:image/svg+xml;base64,PHN2ZyB4bWxucz0iaHR0cDovL3d3dy53My5vcmcvMjAwMC9zdmciIHN0eWxlPSJtYXJnaW46IGF1dG87IGJhY2tncm91bmQ6IG5vbmU7IGRpc3BsYXk6IGJsb2NrOyBzaGFwZS1yZW5kZXJpbmc6IGF1dG87IiB2aWV3Qm94PSIwIDAgMTAwIDEwMCIgcHJlc2VydmVBc3BlY3RSYXRpbz0ieE1pZFlNaWQiPiAgPGNpcmNsZSBjeD0iNTAiIGN5PSI1MCIgZmlsbD0ibm9uZSIgc3Ryb2tlPSIjYzNjM2MzIiBzdHJva2Utd2lkdGg9IjEwIiByPSIzNSIgc3Ryb2tlLWRhc2hhcnJheT0iMTY0LjkzMzYxNDMxMzQ2NDE1IDU2Ljk3Nzg3MTQzNzgyMTM4Ij4gICAgPGFuaW1hdGVUcmFuc2Zvcm0gYXR0cmlidXRlTmFtZT0idHJhbnNmb3JtIiB0eXBlPSJyb3RhdGUiIHJlcGVhdENvdW50PSJpbmRlZmluaXRlIiBkdXI9IjFzIiB2YWx1ZXM9IjAgNTAgNTA7MzYwIDUwIDUwIiBrZXlUaW1lcz0iMDsxIj48L2FuaW1hdGVUcmFuc2Zvcm0+ICA8L2NpcmNsZT48L3N2Zz4=\\\");\\n  background-size: auto calc(min(50%, 400px));\\n}\",{\"type\":\"object\",\"name\":\"ImportedStyleSheet\",\"id\":\"p2169\",\"attributes\":{\"url\":\"https://cdn.holoviz.org/panel/1.1.1/dist/css/loading.css\"}},{\"type\":\"object\",\"name\":\"ImportedStyleSheet\",\"id\":\"p2651\",\"attributes\":{\"url\":\"https://cdn.holoviz.org/panel/1.1.1/dist/css/listpanel.css\"}},{\"type\":\"object\",\"name\":\"ImportedStyleSheet\",\"id\":\"p2167\",\"attributes\":{\"url\":\"https://cdn.holoviz.org/panel/1.1.1/dist/bundled/theme/default.css\"}},{\"type\":\"object\",\"name\":\"ImportedStyleSheet\",\"id\":\"p2168\",\"attributes\":{\"url\":\"https://cdn.holoviz.org/panel/1.1.1/dist/bundled/theme/native.css\"}}],\"min_width\":1000,\"margin\":0,\"sizing_mode\":\"stretch_width\",\"align\":\"start\",\"children\":[{\"type\":\"object\",\"name\":\"Spacer\",\"id\":\"p2170\",\"attributes\":{\"name\":\"HSpacer07009\",\"stylesheets\":[\"\\n:host(.pn-loading.pn-arc):before, .pn-loading.pn-arc:before {\\n  background-image: url(\\\"data:image/svg+xml;base64,PHN2ZyB4bWxucz0iaHR0cDovL3d3dy53My5vcmcvMjAwMC9zdmciIHN0eWxlPSJtYXJnaW46IGF1dG87IGJhY2tncm91bmQ6IG5vbmU7IGRpc3BsYXk6IGJsb2NrOyBzaGFwZS1yZW5kZXJpbmc6IGF1dG87IiB2aWV3Qm94PSIwIDAgMTAwIDEwMCIgcHJlc2VydmVBc3BlY3RSYXRpbz0ieE1pZFlNaWQiPiAgPGNpcmNsZSBjeD0iNTAiIGN5PSI1MCIgZmlsbD0ibm9uZSIgc3Ryb2tlPSIjYzNjM2MzIiBzdHJva2Utd2lkdGg9IjEwIiByPSIzNSIgc3Ryb2tlLWRhc2hhcnJheT0iMTY0LjkzMzYxNDMxMzQ2NDE1IDU2Ljk3Nzg3MTQzNzgyMTM4Ij4gICAgPGFuaW1hdGVUcmFuc2Zvcm0gYXR0cmlidXRlTmFtZT0idHJhbnNmb3JtIiB0eXBlPSJyb3RhdGUiIHJlcGVhdENvdW50PSJpbmRlZmluaXRlIiBkdXI9IjFzIiB2YWx1ZXM9IjAgNTAgNTA7MzYwIDUwIDUwIiBrZXlUaW1lcz0iMDsxIj48L2FuaW1hdGVUcmFuc2Zvcm0+ICA8L2NpcmNsZT48L3N2Zz4=\\\");\\n  background-size: auto calc(min(50%, 400px));\\n}\",{\"id\":\"p2169\"},{\"id\":\"p2167\"},{\"id\":\"p2168\"}],\"margin\":0,\"sizing_mode\":\"stretch_width\",\"align\":\"start\"}},{\"type\":\"object\",\"name\":\"Figure\",\"id\":\"p2193\",\"attributes\":{\"width\":1000,\"height\":400,\"margin\":[5,10],\"sizing_mode\":\"fixed\",\"align\":\"start\",\"x_range\":{\"type\":\"object\",\"name\":\"Range1d\",\"id\":\"p2171\",\"attributes\":{\"tags\":[[[\"x\",\"x\",null]]],\"start\":2.0,\"end\":10.0,\"reset_start\":2.0,\"reset_end\":10.0}},\"y_range\":{\"type\":\"object\",\"name\":\"Range1d\",\"id\":\"p2172\",\"attributes\":{\"tags\":[[[\"y\",\"y\",null]]],\"start\":6.860646083816854e-05,\"end\":0.040485313039633854,\"reset_start\":6.860646083816854e-05,\"reset_end\":0.040485313039633854}},\"x_scale\":{\"type\":\"object\",\"name\":\"LinearScale\",\"id\":\"p2205\"},\"y_scale\":{\"type\":\"object\",\"name\":\"LinearScale\",\"id\":\"p2207\"},\"title\":{\"type\":\"object\",\"name\":\"Title\",\"id\":\"p2196\",\"attributes\":{\"text_color\":\"black\",\"text_font_size\":\"18pt\"}},\"renderers\":[{\"type\":\"object\",\"name\":\"GlyphRenderer\",\"id\":\"p2255\",\"attributes\":{\"data_source\":{\"type\":\"object\",\"name\":\"ColumnDataSource\",\"id\":\"p2245\",\"attributes\":{\"selected\":{\"type\":\"object\",\"name\":\"Selection\",\"id\":\"p2246\",\"attributes\":{\"indices\":[],\"line_indices\":[]}},\"selection_policy\":{\"type\":\"object\",\"name\":\"UnionRenderers\",\"id\":\"p2247\"},\"data\":{\"type\":\"map\",\"entries\":[[\"x\",{\"type\":\"ndarray\",\"array\":{\"type\":\"bytes\",\"data\":\"AgAAAAMAAAAEAAAABQAAAAYAAAAHAAAACAAAAAkAAAAKAAAA\"},\"shape\":[9],\"dtype\":\"int32\",\"order\":\"little\"}],[\"y\",{\"type\":\"ndarray\",\"array\":{\"type\":\"bytes\",\"data\":\"INNzYQgBoz9byYXUlxChP6L4Xk4mp54/e+f2ZSWJmz+LxRzChL2YPwBK1GWjO5Y/xU6EF8v7kz9QNr0QF/eRP0AnkHNdJ5A/\"},\"shape\":[9],\"dtype\":\"float64\",\"order\":\"little\"}]]}}},\"view\":{\"type\":\"object\",\"name\":\"CDSView\",\"id\":\"p2256\",\"attributes\":{\"filter\":{\"type\":\"object\",\"name\":\"AllIndices\",\"id\":\"p2257\"}}},\"glyph\":{\"type\":\"object\",\"name\":\"Line\",\"id\":\"p2252\",\"attributes\":{\"tags\":[\"apply_ranges\"],\"x\":{\"type\":\"field\",\"field\":\"x\"},\"y\":{\"type\":\"field\",\"field\":\"y\"},\"line_color\":\"#30a2da\",\"line_width\":2}},\"selection_glyph\":{\"type\":\"object\",\"name\":\"Line\",\"id\":\"p2260\",\"attributes\":{\"tags\":[\"apply_ranges\"],\"x\":{\"type\":\"field\",\"field\":\"x\"},\"y\":{\"type\":\"field\",\"field\":\"y\"},\"line_color\":\"#30a2da\",\"line_width\":2}},\"nonselection_glyph\":{\"type\":\"object\",\"name\":\"Line\",\"id\":\"p2253\",\"attributes\":{\"tags\":[\"apply_ranges\"],\"x\":{\"type\":\"field\",\"field\":\"x\"},\"y\":{\"type\":\"field\",\"field\":\"y\"},\"line_color\":\"#30a2da\",\"line_alpha\":0.1,\"line_width\":2}},\"muted_glyph\":{\"type\":\"object\",\"name\":\"Line\",\"id\":\"p2254\",\"attributes\":{\"tags\":[\"apply_ranges\"],\"x\":{\"type\":\"field\",\"field\":\"x\"},\"y\":{\"type\":\"field\",\"field\":\"y\"},\"line_color\":\"#30a2da\",\"line_alpha\":0.2,\"line_width\":2}}}},{\"type\":\"object\",\"name\":\"GlyphRenderer\",\"id\":\"p2271\",\"attributes\":{\"data_source\":{\"type\":\"object\",\"name\":\"ColumnDataSource\",\"id\":\"p2261\",\"attributes\":{\"selected\":{\"type\":\"object\",\"name\":\"Selection\",\"id\":\"p2262\",\"attributes\":{\"indices\":[],\"line_indices\":[]}},\"selection_policy\":{\"type\":\"object\",\"name\":\"UnionRenderers\",\"id\":\"p2263\"},\"data\":{\"type\":\"map\",\"entries\":[[\"x\",{\"type\":\"ndarray\",\"array\":{\"type\":\"bytes\",\"data\":\"AgAAAAMAAAAEAAAABQAAAAYAAAAHAAAACAAAAAkAAAAKAAAA\"},\"shape\":[9],\"dtype\":\"int32\",\"order\":\"little\"}],[\"y\",{\"type\":\"ndarray\",\"array\":{\"type\":\"bytes\",\"data\":\"INNzYQgBoz9byYXUlxChP6L4Xk4mp54/e+f2ZSWJmz+LxRzChL2YPwBK1GWjO5Y/xU6EF8v7kz9QNr0QF/eRP0AnkHNdJ5A/\"},\"shape\":[9],\"dtype\":\"float64\",\"order\":\"little\"}]]}}},\"view\":{\"type\":\"object\",\"name\":\"CDSView\",\"id\":\"p2272\",\"attributes\":{\"filter\":{\"type\":\"object\",\"name\":\"AllIndices\",\"id\":\"p2273\"}}},\"glyph\":{\"type\":\"object\",\"name\":\"Scatter\",\"id\":\"p2268\",\"attributes\":{\"tags\":[\"apply_ranges\"],\"x\":{\"type\":\"field\",\"field\":\"x\"},\"y\":{\"type\":\"field\",\"field\":\"y\"},\"size\":{\"type\":\"value\",\"value\":5},\"line_color\":{\"type\":\"value\",\"value\":\"#30a2da\"},\"fill_color\":{\"type\":\"value\",\"value\":\"#30a2da\"},\"hatch_color\":{\"type\":\"value\",\"value\":\"#30a2da\"}}},\"selection_glyph\":{\"type\":\"object\",\"name\":\"Scatter\",\"id\":\"p2274\",\"attributes\":{\"tags\":[\"apply_ranges\"],\"x\":{\"type\":\"field\",\"field\":\"x\"},\"y\":{\"type\":\"field\",\"field\":\"y\"},\"size\":{\"type\":\"value\",\"value\":5},\"angle\":{\"type\":\"value\",\"value\":0.0},\"line_color\":{\"type\":\"value\",\"value\":\"#30a2da\"},\"line_alpha\":{\"type\":\"value\",\"value\":1.0},\"line_width\":{\"type\":\"value\",\"value\":1},\"line_join\":{\"type\":\"value\",\"value\":\"bevel\"},\"line_cap\":{\"type\":\"value\",\"value\":\"butt\"},\"line_dash\":{\"type\":\"value\",\"value\":[]},\"line_dash_offset\":{\"type\":\"value\",\"value\":0},\"fill_color\":{\"type\":\"value\",\"value\":\"#30a2da\"},\"fill_alpha\":{\"type\":\"value\",\"value\":1.0},\"hatch_color\":{\"type\":\"value\",\"value\":\"#30a2da\"},\"hatch_alpha\":{\"type\":\"value\",\"value\":1.0},\"hatch_scale\":{\"type\":\"value\",\"value\":12.0},\"hatch_pattern\":{\"type\":\"value\",\"value\":null},\"hatch_weight\":{\"type\":\"value\",\"value\":1.0},\"marker\":{\"type\":\"value\",\"value\":\"circle\"}}},\"nonselection_glyph\":{\"type\":\"object\",\"name\":\"Scatter\",\"id\":\"p2269\",\"attributes\":{\"tags\":[\"apply_ranges\"],\"x\":{\"type\":\"field\",\"field\":\"x\"},\"y\":{\"type\":\"field\",\"field\":\"y\"},\"size\":{\"type\":\"value\",\"value\":5},\"line_color\":{\"type\":\"value\",\"value\":\"#30a2da\"},\"line_alpha\":{\"type\":\"value\",\"value\":0.1},\"fill_color\":{\"type\":\"value\",\"value\":\"#30a2da\"},\"fill_alpha\":{\"type\":\"value\",\"value\":0.1},\"hatch_color\":{\"type\":\"value\",\"value\":\"#30a2da\"},\"hatch_alpha\":{\"type\":\"value\",\"value\":0.1}}},\"muted_glyph\":{\"type\":\"object\",\"name\":\"Scatter\",\"id\":\"p2270\",\"attributes\":{\"tags\":[\"apply_ranges\"],\"x\":{\"type\":\"field\",\"field\":\"x\"},\"y\":{\"type\":\"field\",\"field\":\"y\"},\"size\":{\"type\":\"value\",\"value\":5},\"line_color\":{\"type\":\"value\",\"value\":\"#30a2da\"},\"line_alpha\":{\"type\":\"value\",\"value\":0.2},\"fill_color\":{\"type\":\"value\",\"value\":\"#30a2da\"},\"fill_alpha\":{\"type\":\"value\",\"value\":0.2},\"hatch_color\":{\"type\":\"value\",\"value\":\"#30a2da\"},\"hatch_alpha\":{\"type\":\"value\",\"value\":0.2}}}}},{\"type\":\"object\",\"name\":\"GlyphRenderer\",\"id\":\"p2285\",\"attributes\":{\"data_source\":{\"type\":\"object\",\"name\":\"ColumnDataSource\",\"id\":\"p2275\",\"attributes\":{\"selected\":{\"type\":\"object\",\"name\":\"Selection\",\"id\":\"p2276\",\"attributes\":{\"indices\":[],\"line_indices\":[]}},\"selection_policy\":{\"type\":\"object\",\"name\":\"UnionRenderers\",\"id\":\"p2277\"},\"data\":{\"type\":\"map\",\"entries\":[[\"x\",{\"type\":\"ndarray\",\"array\":{\"type\":\"bytes\",\"data\":\"AgAAAAMAAAAEAAAABQAAAAYAAAAHAAAACAAAAAkAAAAKAAAA\"},\"shape\":[9],\"dtype\":\"int32\",\"order\":\"little\"}],[\"y\",{\"type\":\"ndarray\",\"array\":{\"type\":\"bytes\",\"data\":\"NtBIB2/fkj9p8Lzi0muQP8CnDdm6low/ACjw4pLliD8AHT5tx7CFP4B2JD+h54I/ABH/M7Z7gD8ArBPCK8F8P/l82PUEF3k/\"},\"shape\":[9],\"dtype\":\"float64\",\"order\":\"little\"}]]}}},\"view\":{\"type\":\"object\",\"name\":\"CDSView\",\"id\":\"p2286\",\"attributes\":{\"filter\":{\"type\":\"object\",\"name\":\"AllIndices\",\"id\":\"p2287\"}}},\"glyph\":{\"type\":\"object\",\"name\":\"Line\",\"id\":\"p2282\",\"attributes\":{\"tags\":[\"apply_ranges\"],\"x\":{\"type\":\"field\",\"field\":\"x\"},\"y\":{\"type\":\"field\",\"field\":\"y\"},\"line_color\":\"#fc4f30\",\"line_width\":2}},\"selection_glyph\":{\"type\":\"object\",\"name\":\"Line\",\"id\":\"p2289\",\"attributes\":{\"tags\":[\"apply_ranges\"],\"x\":{\"type\":\"field\",\"field\":\"x\"},\"y\":{\"type\":\"field\",\"field\":\"y\"},\"line_color\":\"#fc4f30\",\"line_width\":2}},\"nonselection_glyph\":{\"type\":\"object\",\"name\":\"Line\",\"id\":\"p2283\",\"attributes\":{\"tags\":[\"apply_ranges\"],\"x\":{\"type\":\"field\",\"field\":\"x\"},\"y\":{\"type\":\"field\",\"field\":\"y\"},\"line_color\":\"#fc4f30\",\"line_alpha\":0.1,\"line_width\":2}},\"muted_glyph\":{\"type\":\"object\",\"name\":\"Line\",\"id\":\"p2284\",\"attributes\":{\"tags\":[\"apply_ranges\"],\"x\":{\"type\":\"field\",\"field\":\"x\"},\"y\":{\"type\":\"field\",\"field\":\"y\"},\"line_color\":\"#fc4f30\",\"line_alpha\":0.2,\"line_width\":2}}}},{\"type\":\"object\",\"name\":\"GlyphRenderer\",\"id\":\"p2300\",\"attributes\":{\"data_source\":{\"type\":\"object\",\"name\":\"ColumnDataSource\",\"id\":\"p2290\",\"attributes\":{\"selected\":{\"type\":\"object\",\"name\":\"Selection\",\"id\":\"p2291\",\"attributes\":{\"indices\":[],\"line_indices\":[]}},\"selection_policy\":{\"type\":\"object\",\"name\":\"UnionRenderers\",\"id\":\"p2292\"},\"data\":{\"type\":\"map\",\"entries\":[[\"x\",{\"type\":\"ndarray\",\"array\":{\"type\":\"bytes\",\"data\":\"AgAAAAMAAAAEAAAABQAAAAYAAAAHAAAACAAAAAkAAAAKAAAA\"},\"shape\":[9],\"dtype\":\"int32\",\"order\":\"little\"}],[\"y\",{\"type\":\"ndarray\",\"array\":{\"type\":\"bytes\",\"data\":\"NtBIB2/fkj9p8Lzi0muQP8CnDdm6low/ACjw4pLliD8AHT5tx7CFP4B2JD+h54I/ABH/M7Z7gD8ArBPCK8F8P/l82PUEF3k/\"},\"shape\":[9],\"dtype\":\"float64\",\"order\":\"little\"}]]}}},\"view\":{\"type\":\"object\",\"name\":\"CDSView\",\"id\":\"p2301\",\"attributes\":{\"filter\":{\"type\":\"object\",\"name\":\"AllIndices\",\"id\":\"p2302\"}}},\"glyph\":{\"type\":\"object\",\"name\":\"Scatter\",\"id\":\"p2297\",\"attributes\":{\"tags\":[\"apply_ranges\"],\"x\":{\"type\":\"field\",\"field\":\"x\"},\"y\":{\"type\":\"field\",\"field\":\"y\"},\"size\":{\"type\":\"value\",\"value\":5},\"line_color\":{\"type\":\"value\",\"value\":\"#fc4f30\"},\"fill_color\":{\"type\":\"value\",\"value\":\"#fc4f30\"},\"hatch_color\":{\"type\":\"value\",\"value\":\"#fc4f30\"}}},\"selection_glyph\":{\"type\":\"object\",\"name\":\"Scatter\",\"id\":\"p2303\",\"attributes\":{\"tags\":[\"apply_ranges\"],\"x\":{\"type\":\"field\",\"field\":\"x\"},\"y\":{\"type\":\"field\",\"field\":\"y\"},\"size\":{\"type\":\"value\",\"value\":5},\"angle\":{\"type\":\"value\",\"value\":0.0},\"line_color\":{\"type\":\"value\",\"value\":\"#fc4f30\"},\"line_alpha\":{\"type\":\"value\",\"value\":1.0},\"line_width\":{\"type\":\"value\",\"value\":1},\"line_join\":{\"type\":\"value\",\"value\":\"bevel\"},\"line_cap\":{\"type\":\"value\",\"value\":\"butt\"},\"line_dash\":{\"type\":\"value\",\"value\":[]},\"line_dash_offset\":{\"type\":\"value\",\"value\":0},\"fill_color\":{\"type\":\"value\",\"value\":\"#fc4f30\"},\"fill_alpha\":{\"type\":\"value\",\"value\":1.0},\"hatch_color\":{\"type\":\"value\",\"value\":\"#fc4f30\"},\"hatch_alpha\":{\"type\":\"value\",\"value\":1.0},\"hatch_scale\":{\"type\":\"value\",\"value\":12.0},\"hatch_pattern\":{\"type\":\"value\",\"value\":null},\"hatch_weight\":{\"type\":\"value\",\"value\":1.0},\"marker\":{\"type\":\"value\",\"value\":\"circle\"}}},\"nonselection_glyph\":{\"type\":\"object\",\"name\":\"Scatter\",\"id\":\"p2298\",\"attributes\":{\"tags\":[\"apply_ranges\"],\"x\":{\"type\":\"field\",\"field\":\"x\"},\"y\":{\"type\":\"field\",\"field\":\"y\"},\"size\":{\"type\":\"value\",\"value\":5},\"line_color\":{\"type\":\"value\",\"value\":\"#fc4f30\"},\"line_alpha\":{\"type\":\"value\",\"value\":0.1},\"fill_color\":{\"type\":\"value\",\"value\":\"#fc4f30\"},\"fill_alpha\":{\"type\":\"value\",\"value\":0.1},\"hatch_color\":{\"type\":\"value\",\"value\":\"#fc4f30\"},\"hatch_alpha\":{\"type\":\"value\",\"value\":0.1}}},\"muted_glyph\":{\"type\":\"object\",\"name\":\"Scatter\",\"id\":\"p2299\",\"attributes\":{\"tags\":[\"apply_ranges\"],\"x\":{\"type\":\"field\",\"field\":\"x\"},\"y\":{\"type\":\"field\",\"field\":\"y\"},\"size\":{\"type\":\"value\",\"value\":5},\"line_color\":{\"type\":\"value\",\"value\":\"#fc4f30\"},\"line_alpha\":{\"type\":\"value\",\"value\":0.2},\"fill_color\":{\"type\":\"value\",\"value\":\"#fc4f30\"},\"fill_alpha\":{\"type\":\"value\",\"value\":0.2},\"hatch_color\":{\"type\":\"value\",\"value\":\"#fc4f30\"},\"hatch_alpha\":{\"type\":\"value\",\"value\":0.2}}}}},{\"type\":\"object\",\"name\":\"GlyphRenderer\",\"id\":\"p2314\",\"attributes\":{\"data_source\":{\"type\":\"object\",\"name\":\"ColumnDataSource\",\"id\":\"p2304\",\"attributes\":{\"selected\":{\"type\":\"object\",\"name\":\"Selection\",\"id\":\"p2305\",\"attributes\":{\"indices\":[],\"line_indices\":[]}},\"selection_policy\":{\"type\":\"object\",\"name\":\"UnionRenderers\",\"id\":\"p2306\"},\"data\":{\"type\":\"map\",\"entries\":[[\"x\",{\"type\":\"ndarray\",\"array\":{\"type\":\"bytes\",\"data\":\"AgAAAAMAAAAEAAAABQAAAAYAAAAHAAAACAAAAAkAAAAKAAAA\"},\"shape\":[9],\"dtype\":\"int32\",\"order\":\"little\"}],[\"y\",{\"type\":\"ndarray\",\"array\":{\"type\":\"bytes\",\"data\":\"wKzKB4qpij8IcucIJXiHP8Cl0MTqqIQ/gKs3LAgwgj9gtO3qFwOAP4CxWyjsMXw/gFx/ZjLTeD89k58s4Nt1P8jifYOHP3M/\"},\"shape\":[9],\"dtype\":\"float64\",\"order\":\"little\"}]]}}},\"view\":{\"type\":\"object\",\"name\":\"CDSView\",\"id\":\"p2315\",\"attributes\":{\"filter\":{\"type\":\"object\",\"name\":\"AllIndices\",\"id\":\"p2316\"}}},\"glyph\":{\"type\":\"object\",\"name\":\"Line\",\"id\":\"p2311\",\"attributes\":{\"tags\":[\"apply_ranges\"],\"x\":{\"type\":\"field\",\"field\":\"x\"},\"y\":{\"type\":\"field\",\"field\":\"y\"},\"line_color\":\"#e5ae38\",\"line_width\":2}},\"selection_glyph\":{\"type\":\"object\",\"name\":\"Line\",\"id\":\"p2318\",\"attributes\":{\"tags\":[\"apply_ranges\"],\"x\":{\"type\":\"field\",\"field\":\"x\"},\"y\":{\"type\":\"field\",\"field\":\"y\"},\"line_color\":\"#e5ae38\",\"line_width\":2}},\"nonselection_glyph\":{\"type\":\"object\",\"name\":\"Line\",\"id\":\"p2312\",\"attributes\":{\"tags\":[\"apply_ranges\"],\"x\":{\"type\":\"field\",\"field\":\"x\"},\"y\":{\"type\":\"field\",\"field\":\"y\"},\"line_color\":\"#e5ae38\",\"line_alpha\":0.1,\"line_width\":2}},\"muted_glyph\":{\"type\":\"object\",\"name\":\"Line\",\"id\":\"p2313\",\"attributes\":{\"tags\":[\"apply_ranges\"],\"x\":{\"type\":\"field\",\"field\":\"x\"},\"y\":{\"type\":\"field\",\"field\":\"y\"},\"line_color\":\"#e5ae38\",\"line_alpha\":0.2,\"line_width\":2}}}},{\"type\":\"object\",\"name\":\"GlyphRenderer\",\"id\":\"p2329\",\"attributes\":{\"data_source\":{\"type\":\"object\",\"name\":\"ColumnDataSource\",\"id\":\"p2319\",\"attributes\":{\"selected\":{\"type\":\"object\",\"name\":\"Selection\",\"id\":\"p2320\",\"attributes\":{\"indices\":[],\"line_indices\":[]}},\"selection_policy\":{\"type\":\"object\",\"name\":\"UnionRenderers\",\"id\":\"p2321\"},\"data\":{\"type\":\"map\",\"entries\":[[\"x\",{\"type\":\"ndarray\",\"array\":{\"type\":\"bytes\",\"data\":\"AgAAAAMAAAAEAAAABQAAAAYAAAAHAAAACAAAAAkAAAAKAAAA\"},\"shape\":[9],\"dtype\":\"int32\",\"order\":\"little\"}],[\"y\",{\"type\":\"ndarray\",\"array\":{\"type\":\"bytes\",\"data\":\"wKzKB4qpij8IcucIJXiHP8Cl0MTqqIQ/gKs3LAgwgj9gtO3qFwOAP4CxWyjsMXw/gFx/ZjLTeD89k58s4Nt1P8jifYOHP3M/\"},\"shape\":[9],\"dtype\":\"float64\",\"order\":\"little\"}]]}}},\"view\":{\"type\":\"object\",\"name\":\"CDSView\",\"id\":\"p2330\",\"attributes\":{\"filter\":{\"type\":\"object\",\"name\":\"AllIndices\",\"id\":\"p2331\"}}},\"glyph\":{\"type\":\"object\",\"name\":\"Scatter\",\"id\":\"p2326\",\"attributes\":{\"tags\":[\"apply_ranges\"],\"x\":{\"type\":\"field\",\"field\":\"x\"},\"y\":{\"type\":\"field\",\"field\":\"y\"},\"size\":{\"type\":\"value\",\"value\":5},\"line_color\":{\"type\":\"value\",\"value\":\"#e5ae38\"},\"fill_color\":{\"type\":\"value\",\"value\":\"#e5ae38\"},\"hatch_color\":{\"type\":\"value\",\"value\":\"#e5ae38\"}}},\"selection_glyph\":{\"type\":\"object\",\"name\":\"Scatter\",\"id\":\"p2332\",\"attributes\":{\"tags\":[\"apply_ranges\"],\"x\":{\"type\":\"field\",\"field\":\"x\"},\"y\":{\"type\":\"field\",\"field\":\"y\"},\"size\":{\"type\":\"value\",\"value\":5},\"angle\":{\"type\":\"value\",\"value\":0.0},\"line_color\":{\"type\":\"value\",\"value\":\"#e5ae38\"},\"line_alpha\":{\"type\":\"value\",\"value\":1.0},\"line_width\":{\"type\":\"value\",\"value\":1},\"line_join\":{\"type\":\"value\",\"value\":\"bevel\"},\"line_cap\":{\"type\":\"value\",\"value\":\"butt\"},\"line_dash\":{\"type\":\"value\",\"value\":[]},\"line_dash_offset\":{\"type\":\"value\",\"value\":0},\"fill_color\":{\"type\":\"value\",\"value\":\"#e5ae38\"},\"fill_alpha\":{\"type\":\"value\",\"value\":1.0},\"hatch_color\":{\"type\":\"value\",\"value\":\"#e5ae38\"},\"hatch_alpha\":{\"type\":\"value\",\"value\":1.0},\"hatch_scale\":{\"type\":\"value\",\"value\":12.0},\"hatch_pattern\":{\"type\":\"value\",\"value\":null},\"hatch_weight\":{\"type\":\"value\",\"value\":1.0},\"marker\":{\"type\":\"value\",\"value\":\"circle\"}}},\"nonselection_glyph\":{\"type\":\"object\",\"name\":\"Scatter\",\"id\":\"p2327\",\"attributes\":{\"tags\":[\"apply_ranges\"],\"x\":{\"type\":\"field\",\"field\":\"x\"},\"y\":{\"type\":\"field\",\"field\":\"y\"},\"size\":{\"type\":\"value\",\"value\":5},\"line_color\":{\"type\":\"value\",\"value\":\"#e5ae38\"},\"line_alpha\":{\"type\":\"value\",\"value\":0.1},\"fill_color\":{\"type\":\"value\",\"value\":\"#e5ae38\"},\"fill_alpha\":{\"type\":\"value\",\"value\":0.1},\"hatch_color\":{\"type\":\"value\",\"value\":\"#e5ae38\"},\"hatch_alpha\":{\"type\":\"value\",\"value\":0.1}}},\"muted_glyph\":{\"type\":\"object\",\"name\":\"Scatter\",\"id\":\"p2328\",\"attributes\":{\"tags\":[\"apply_ranges\"],\"x\":{\"type\":\"field\",\"field\":\"x\"},\"y\":{\"type\":\"field\",\"field\":\"y\"},\"size\":{\"type\":\"value\",\"value\":5},\"line_color\":{\"type\":\"value\",\"value\":\"#e5ae38\"},\"line_alpha\":{\"type\":\"value\",\"value\":0.2},\"fill_color\":{\"type\":\"value\",\"value\":\"#e5ae38\"},\"fill_alpha\":{\"type\":\"value\",\"value\":0.2},\"hatch_color\":{\"type\":\"value\",\"value\":\"#e5ae38\"},\"hatch_alpha\":{\"type\":\"value\",\"value\":0.2}}}}},{\"type\":\"object\",\"name\":\"GlyphRenderer\",\"id\":\"p2343\",\"attributes\":{\"data_source\":{\"type\":\"object\",\"name\":\"ColumnDataSource\",\"id\":\"p2333\",\"attributes\":{\"selected\":{\"type\":\"object\",\"name\":\"Selection\",\"id\":\"p2334\",\"attributes\":{\"indices\":[],\"line_indices\":[]}},\"selection_policy\":{\"type\":\"object\",\"name\":\"UnionRenderers\",\"id\":\"p2335\"},\"data\":{\"type\":\"map\",\"entries\":[[\"x\",{\"type\":\"ndarray\",\"array\":{\"type\":\"bytes\",\"data\":\"AgAAAAMAAAAEAAAABQAAAAYAAAAHAAAACAAAAAkAAAAKAAAA\"},\"shape\":[9],\"dtype\":\"int32\",\"order\":\"little\"}],[\"y\",{\"type\":\"ndarray\",\"array\":{\"type\":\"bytes\",\"data\":\"ALouQboeiD9bqAIUAT+FP8B+Wnwpt4I/ADI+Uax8gD/faY/0jAx9P2mXQYujl3k/rSCIBkWMdj+hezOc0t1zPwCxkQAxgXE/\"},\"shape\":[9],\"dtype\":\"float64\",\"order\":\"little\"}]]}}},\"view\":{\"type\":\"object\",\"name\":\"CDSView\",\"id\":\"p2344\",\"attributes\":{\"filter\":{\"type\":\"object\",\"name\":\"AllIndices\",\"id\":\"p2345\"}}},\"glyph\":{\"type\":\"object\",\"name\":\"Line\",\"id\":\"p2340\",\"attributes\":{\"tags\":[\"apply_ranges\"],\"x\":{\"type\":\"field\",\"field\":\"x\"},\"y\":{\"type\":\"field\",\"field\":\"y\"},\"line_color\":\"#6d904f\",\"line_width\":2}},\"selection_glyph\":{\"type\":\"object\",\"name\":\"Line\",\"id\":\"p2347\",\"attributes\":{\"tags\":[\"apply_ranges\"],\"x\":{\"type\":\"field\",\"field\":\"x\"},\"y\":{\"type\":\"field\",\"field\":\"y\"},\"line_color\":\"#6d904f\",\"line_width\":2}},\"nonselection_glyph\":{\"type\":\"object\",\"name\":\"Line\",\"id\":\"p2341\",\"attributes\":{\"tags\":[\"apply_ranges\"],\"x\":{\"type\":\"field\",\"field\":\"x\"},\"y\":{\"type\":\"field\",\"field\":\"y\"},\"line_color\":\"#6d904f\",\"line_alpha\":0.1,\"line_width\":2}},\"muted_glyph\":{\"type\":\"object\",\"name\":\"Line\",\"id\":\"p2342\",\"attributes\":{\"tags\":[\"apply_ranges\"],\"x\":{\"type\":\"field\",\"field\":\"x\"},\"y\":{\"type\":\"field\",\"field\":\"y\"},\"line_color\":\"#6d904f\",\"line_alpha\":0.2,\"line_width\":2}}}},{\"type\":\"object\",\"name\":\"GlyphRenderer\",\"id\":\"p2358\",\"attributes\":{\"data_source\":{\"type\":\"object\",\"name\":\"ColumnDataSource\",\"id\":\"p2348\",\"attributes\":{\"selected\":{\"type\":\"object\",\"name\":\"Selection\",\"id\":\"p2349\",\"attributes\":{\"indices\":[],\"line_indices\":[]}},\"selection_policy\":{\"type\":\"object\",\"name\":\"UnionRenderers\",\"id\":\"p2350\"},\"data\":{\"type\":\"map\",\"entries\":[[\"x\",{\"type\":\"ndarray\",\"array\":{\"type\":\"bytes\",\"data\":\"AgAAAAMAAAAEAAAABQAAAAYAAAAHAAAACAAAAAkAAAAKAAAA\"},\"shape\":[9],\"dtype\":\"int32\",\"order\":\"little\"}],[\"y\",{\"type\":\"ndarray\",\"array\":{\"type\":\"bytes\",\"data\":\"ALouQboeiD9bqAIUAT+FP8B+Wnwpt4I/ADI+Uax8gD/faY/0jAx9P2mXQYujl3k/rSCIBkWMdj+hezOc0t1zPwCxkQAxgXE/\"},\"shape\":[9],\"dtype\":\"float64\",\"order\":\"little\"}]]}}},\"view\":{\"type\":\"object\",\"name\":\"CDSView\",\"id\":\"p2359\",\"attributes\":{\"filter\":{\"type\":\"object\",\"name\":\"AllIndices\",\"id\":\"p2360\"}}},\"glyph\":{\"type\":\"object\",\"name\":\"Scatter\",\"id\":\"p2355\",\"attributes\":{\"tags\":[\"apply_ranges\"],\"x\":{\"type\":\"field\",\"field\":\"x\"},\"y\":{\"type\":\"field\",\"field\":\"y\"},\"size\":{\"type\":\"value\",\"value\":5},\"line_color\":{\"type\":\"value\",\"value\":\"#6d904f\"},\"fill_color\":{\"type\":\"value\",\"value\":\"#6d904f\"},\"hatch_color\":{\"type\":\"value\",\"value\":\"#6d904f\"}}},\"selection_glyph\":{\"type\":\"object\",\"name\":\"Scatter\",\"id\":\"p2361\",\"attributes\":{\"tags\":[\"apply_ranges\"],\"x\":{\"type\":\"field\",\"field\":\"x\"},\"y\":{\"type\":\"field\",\"field\":\"y\"},\"size\":{\"type\":\"value\",\"value\":5},\"angle\":{\"type\":\"value\",\"value\":0.0},\"line_color\":{\"type\":\"value\",\"value\":\"#6d904f\"},\"line_alpha\":{\"type\":\"value\",\"value\":1.0},\"line_width\":{\"type\":\"value\",\"value\":1},\"line_join\":{\"type\":\"value\",\"value\":\"bevel\"},\"line_cap\":{\"type\":\"value\",\"value\":\"butt\"},\"line_dash\":{\"type\":\"value\",\"value\":[]},\"line_dash_offset\":{\"type\":\"value\",\"value\":0},\"fill_color\":{\"type\":\"value\",\"value\":\"#6d904f\"},\"fill_alpha\":{\"type\":\"value\",\"value\":1.0},\"hatch_color\":{\"type\":\"value\",\"value\":\"#6d904f\"},\"hatch_alpha\":{\"type\":\"value\",\"value\":1.0},\"hatch_scale\":{\"type\":\"value\",\"value\":12.0},\"hatch_pattern\":{\"type\":\"value\",\"value\":null},\"hatch_weight\":{\"type\":\"value\",\"value\":1.0},\"marker\":{\"type\":\"value\",\"value\":\"circle\"}}},\"nonselection_glyph\":{\"type\":\"object\",\"name\":\"Scatter\",\"id\":\"p2356\",\"attributes\":{\"tags\":[\"apply_ranges\"],\"x\":{\"type\":\"field\",\"field\":\"x\"},\"y\":{\"type\":\"field\",\"field\":\"y\"},\"size\":{\"type\":\"value\",\"value\":5},\"line_color\":{\"type\":\"value\",\"value\":\"#6d904f\"},\"line_alpha\":{\"type\":\"value\",\"value\":0.1},\"fill_color\":{\"type\":\"value\",\"value\":\"#6d904f\"},\"fill_alpha\":{\"type\":\"value\",\"value\":0.1},\"hatch_color\":{\"type\":\"value\",\"value\":\"#6d904f\"},\"hatch_alpha\":{\"type\":\"value\",\"value\":0.1}}},\"muted_glyph\":{\"type\":\"object\",\"name\":\"Scatter\",\"id\":\"p2357\",\"attributes\":{\"tags\":[\"apply_ranges\"],\"x\":{\"type\":\"field\",\"field\":\"x\"},\"y\":{\"type\":\"field\",\"field\":\"y\"},\"size\":{\"type\":\"value\",\"value\":5},\"line_color\":{\"type\":\"value\",\"value\":\"#6d904f\"},\"line_alpha\":{\"type\":\"value\",\"value\":0.2},\"fill_color\":{\"type\":\"value\",\"value\":\"#6d904f\"},\"fill_alpha\":{\"type\":\"value\",\"value\":0.2},\"hatch_color\":{\"type\":\"value\",\"value\":\"#6d904f\"},\"hatch_alpha\":{\"type\":\"value\",\"value\":0.2}}}}},{\"type\":\"object\",\"name\":\"GlyphRenderer\",\"id\":\"p2372\",\"attributes\":{\"data_source\":{\"type\":\"object\",\"name\":\"ColumnDataSource\",\"id\":\"p2362\",\"attributes\":{\"selected\":{\"type\":\"object\",\"name\":\"Selection\",\"id\":\"p2363\",\"attributes\":{\"indices\":[],\"line_indices\":[]}},\"selection_policy\":{\"type\":\"object\",\"name\":\"UnionRenderers\",\"id\":\"p2364\"},\"data\":{\"type\":\"map\",\"entries\":[[\"x\",{\"type\":\"ndarray\",\"array\":{\"type\":\"bytes\",\"data\":\"AgAAAAMAAAAEAAAABQAAAAYAAAAHAAAACAAAAAkAAAAKAAAA\"},\"shape\":[9],\"dtype\":\"int32\",\"order\":\"little\"}],[\"y\",{\"type\":\"ndarray\",\"array\":{\"type\":\"bytes\",\"data\":\"YbpADZ2Uhj/mhHzjvOGDP8B7XZqfgYE/ANiDS6fUfj9reTpGNSZ7P+KK+QqI6Hc/ccfOsxgOdT+AgYMeAYtyP4BHwYPJVHA/\"},\"shape\":[9],\"dtype\":\"float64\",\"order\":\"little\"}]]}}},\"view\":{\"type\":\"object\",\"name\":\"CDSView\",\"id\":\"p2373\",\"attributes\":{\"filter\":{\"type\":\"object\",\"name\":\"AllIndices\",\"id\":\"p2374\"}}},\"glyph\":{\"type\":\"object\",\"name\":\"Line\",\"id\":\"p2369\",\"attributes\":{\"tags\":[\"apply_ranges\"],\"x\":{\"type\":\"field\",\"field\":\"x\"},\"y\":{\"type\":\"field\",\"field\":\"y\"},\"line_color\":\"#8b8b8b\",\"line_width\":2}},\"selection_glyph\":{\"type\":\"object\",\"name\":\"Line\",\"id\":\"p2376\",\"attributes\":{\"tags\":[\"apply_ranges\"],\"x\":{\"type\":\"field\",\"field\":\"x\"},\"y\":{\"type\":\"field\",\"field\":\"y\"},\"line_color\":\"#8b8b8b\",\"line_width\":2}},\"nonselection_glyph\":{\"type\":\"object\",\"name\":\"Line\",\"id\":\"p2370\",\"attributes\":{\"tags\":[\"apply_ranges\"],\"x\":{\"type\":\"field\",\"field\":\"x\"},\"y\":{\"type\":\"field\",\"field\":\"y\"},\"line_color\":\"#8b8b8b\",\"line_alpha\":0.1,\"line_width\":2}},\"muted_glyph\":{\"type\":\"object\",\"name\":\"Line\",\"id\":\"p2371\",\"attributes\":{\"tags\":[\"apply_ranges\"],\"x\":{\"type\":\"field\",\"field\":\"x\"},\"y\":{\"type\":\"field\",\"field\":\"y\"},\"line_color\":\"#8b8b8b\",\"line_alpha\":0.2,\"line_width\":2}}}},{\"type\":\"object\",\"name\":\"GlyphRenderer\",\"id\":\"p2387\",\"attributes\":{\"data_source\":{\"type\":\"object\",\"name\":\"ColumnDataSource\",\"id\":\"p2377\",\"attributes\":{\"selected\":{\"type\":\"object\",\"name\":\"Selection\",\"id\":\"p2378\",\"attributes\":{\"indices\":[],\"line_indices\":[]}},\"selection_policy\":{\"type\":\"object\",\"name\":\"UnionRenderers\",\"id\":\"p2379\"},\"data\":{\"type\":\"map\",\"entries\":[[\"x\",{\"type\":\"ndarray\",\"array\":{\"type\":\"bytes\",\"data\":\"AgAAAAMAAAAEAAAABQAAAAYAAAAHAAAACAAAAAkAAAAKAAAA\"},\"shape\":[9],\"dtype\":\"int32\",\"order\":\"little\"}],[\"y\",{\"type\":\"ndarray\",\"array\":{\"type\":\"bytes\",\"data\":\"YbpADZ2Uhj/mhHzjvOGDP8B7XZqfgYE/ANiDS6fUfj9reTpGNSZ7P+KK+QqI6Hc/ccfOsxgOdT+AgYMeAYtyP4BHwYPJVHA/\"},\"shape\":[9],\"dtype\":\"float64\",\"order\":\"little\"}]]}}},\"view\":{\"type\":\"object\",\"name\":\"CDSView\",\"id\":\"p2388\",\"attributes\":{\"filter\":{\"type\":\"object\",\"name\":\"AllIndices\",\"id\":\"p2389\"}}},\"glyph\":{\"type\":\"object\",\"name\":\"Scatter\",\"id\":\"p2384\",\"attributes\":{\"tags\":[\"apply_ranges\"],\"x\":{\"type\":\"field\",\"field\":\"x\"},\"y\":{\"type\":\"field\",\"field\":\"y\"},\"size\":{\"type\":\"value\",\"value\":5},\"line_color\":{\"type\":\"value\",\"value\":\"#8b8b8b\"},\"fill_color\":{\"type\":\"value\",\"value\":\"#8b8b8b\"},\"hatch_color\":{\"type\":\"value\",\"value\":\"#8b8b8b\"}}},\"selection_glyph\":{\"type\":\"object\",\"name\":\"Scatter\",\"id\":\"p2390\",\"attributes\":{\"tags\":[\"apply_ranges\"],\"x\":{\"type\":\"field\",\"field\":\"x\"},\"y\":{\"type\":\"field\",\"field\":\"y\"},\"size\":{\"type\":\"value\",\"value\":5},\"angle\":{\"type\":\"value\",\"value\":0.0},\"line_color\":{\"type\":\"value\",\"value\":\"#8b8b8b\"},\"line_alpha\":{\"type\":\"value\",\"value\":1.0},\"line_width\":{\"type\":\"value\",\"value\":1},\"line_join\":{\"type\":\"value\",\"value\":\"bevel\"},\"line_cap\":{\"type\":\"value\",\"value\":\"butt\"},\"line_dash\":{\"type\":\"value\",\"value\":[]},\"line_dash_offset\":{\"type\":\"value\",\"value\":0},\"fill_color\":{\"type\":\"value\",\"value\":\"#8b8b8b\"},\"fill_alpha\":{\"type\":\"value\",\"value\":1.0},\"hatch_color\":{\"type\":\"value\",\"value\":\"#8b8b8b\"},\"hatch_alpha\":{\"type\":\"value\",\"value\":1.0},\"hatch_scale\":{\"type\":\"value\",\"value\":12.0},\"hatch_pattern\":{\"type\":\"value\",\"value\":null},\"hatch_weight\":{\"type\":\"value\",\"value\":1.0},\"marker\":{\"type\":\"value\",\"value\":\"circle\"}}},\"nonselection_glyph\":{\"type\":\"object\",\"name\":\"Scatter\",\"id\":\"p2385\",\"attributes\":{\"tags\":[\"apply_ranges\"],\"x\":{\"type\":\"field\",\"field\":\"x\"},\"y\":{\"type\":\"field\",\"field\":\"y\"},\"size\":{\"type\":\"value\",\"value\":5},\"line_color\":{\"type\":\"value\",\"value\":\"#8b8b8b\"},\"line_alpha\":{\"type\":\"value\",\"value\":0.1},\"fill_color\":{\"type\":\"value\",\"value\":\"#8b8b8b\"},\"fill_alpha\":{\"type\":\"value\",\"value\":0.1},\"hatch_color\":{\"type\":\"value\",\"value\":\"#8b8b8b\"},\"hatch_alpha\":{\"type\":\"value\",\"value\":0.1}}},\"muted_glyph\":{\"type\":\"object\",\"name\":\"Scatter\",\"id\":\"p2386\",\"attributes\":{\"tags\":[\"apply_ranges\"],\"x\":{\"type\":\"field\",\"field\":\"x\"},\"y\":{\"type\":\"field\",\"field\":\"y\"},\"size\":{\"type\":\"value\",\"value\":5},\"line_color\":{\"type\":\"value\",\"value\":\"#8b8b8b\"},\"line_alpha\":{\"type\":\"value\",\"value\":0.2},\"fill_color\":{\"type\":\"value\",\"value\":\"#8b8b8b\"},\"fill_alpha\":{\"type\":\"value\",\"value\":0.2},\"hatch_color\":{\"type\":\"value\",\"value\":\"#8b8b8b\"},\"hatch_alpha\":{\"type\":\"value\",\"value\":0.2}}}}},{\"type\":\"object\",\"name\":\"GlyphRenderer\",\"id\":\"p2401\",\"attributes\":{\"data_source\":{\"type\":\"object\",\"name\":\"ColumnDataSource\",\"id\":\"p2391\",\"attributes\":{\"selected\":{\"type\":\"object\",\"name\":\"Selection\",\"id\":\"p2392\",\"attributes\":{\"indices\":[],\"line_indices\":[]}},\"selection_policy\":{\"type\":\"object\",\"name\":\"UnionRenderers\",\"id\":\"p2393\"},\"data\":{\"type\":\"map\",\"entries\":[[\"x\",{\"type\":\"ndarray\",\"array\":{\"type\":\"bytes\",\"data\":\"AgAAAAMAAAAEAAAABQAAAAYAAAAHAAAACAAAAAkAAAAKAAAA\"},\"shape\":[9],\"dtype\":\"int32\",\"order\":\"little\"}],[\"y\",{\"type\":\"ndarray\",\"array\":{\"type\":\"bytes\",\"data\":\"ABeMOVONhT8AJreVQ/6CP8BuoPwYvYA/gDjz8BiBfT8AyP3F5AB6P8y/vhYx63Y/gMoK0lAzdD8AiHDAGc5xPwBotqNsY28/\"},\"shape\":[9],\"dtype\":\"float64\",\"order\":\"little\"}]]}}},\"view\":{\"type\":\"object\",\"name\":\"CDSView\",\"id\":\"p2402\",\"attributes\":{\"filter\":{\"type\":\"object\",\"name\":\"AllIndices\",\"id\":\"p2403\"}}},\"glyph\":{\"type\":\"object\",\"name\":\"Line\",\"id\":\"p2398\",\"attributes\":{\"tags\":[\"apply_ranges\"],\"x\":{\"type\":\"field\",\"field\":\"x\"},\"y\":{\"type\":\"field\",\"field\":\"y\"},\"line_color\":\"#17becf\",\"line_width\":2}},\"selection_glyph\":{\"type\":\"object\",\"name\":\"Line\",\"id\":\"p2405\",\"attributes\":{\"tags\":[\"apply_ranges\"],\"x\":{\"type\":\"field\",\"field\":\"x\"},\"y\":{\"type\":\"field\",\"field\":\"y\"},\"line_color\":\"#17becf\",\"line_width\":2}},\"nonselection_glyph\":{\"type\":\"object\",\"name\":\"Line\",\"id\":\"p2399\",\"attributes\":{\"tags\":[\"apply_ranges\"],\"x\":{\"type\":\"field\",\"field\":\"x\"},\"y\":{\"type\":\"field\",\"field\":\"y\"},\"line_color\":\"#17becf\",\"line_alpha\":0.1,\"line_width\":2}},\"muted_glyph\":{\"type\":\"object\",\"name\":\"Line\",\"id\":\"p2400\",\"attributes\":{\"tags\":[\"apply_ranges\"],\"x\":{\"type\":\"field\",\"field\":\"x\"},\"y\":{\"type\":\"field\",\"field\":\"y\"},\"line_color\":\"#17becf\",\"line_alpha\":0.2,\"line_width\":2}}}},{\"type\":\"object\",\"name\":\"GlyphRenderer\",\"id\":\"p2416\",\"attributes\":{\"data_source\":{\"type\":\"object\",\"name\":\"ColumnDataSource\",\"id\":\"p2406\",\"attributes\":{\"selected\":{\"type\":\"object\",\"name\":\"Selection\",\"id\":\"p2407\",\"attributes\":{\"indices\":[],\"line_indices\":[]}},\"selection_policy\":{\"type\":\"object\",\"name\":\"UnionRenderers\",\"id\":\"p2408\"},\"data\":{\"type\":\"map\",\"entries\":[[\"x\",{\"type\":\"ndarray\",\"array\":{\"type\":\"bytes\",\"data\":\"AgAAAAMAAAAEAAAABQAAAAYAAAAHAAAACAAAAAkAAAAKAAAA\"},\"shape\":[9],\"dtype\":\"int32\",\"order\":\"little\"}],[\"y\",{\"type\":\"ndarray\",\"array\":{\"type\":\"bytes\",\"data\":\"ABeMOVONhT8AJreVQ/6CP8BuoPwYvYA/gDjz8BiBfT8AyP3F5AB6P8y/vhYx63Y/gMoK0lAzdD8AiHDAGc5xPwBotqNsY28/\"},\"shape\":[9],\"dtype\":\"float64\",\"order\":\"little\"}]]}}},\"view\":{\"type\":\"object\",\"name\":\"CDSView\",\"id\":\"p2417\",\"attributes\":{\"filter\":{\"type\":\"object\",\"name\":\"AllIndices\",\"id\":\"p2418\"}}},\"glyph\":{\"type\":\"object\",\"name\":\"Scatter\",\"id\":\"p2413\",\"attributes\":{\"tags\":[\"apply_ranges\"],\"x\":{\"type\":\"field\",\"field\":\"x\"},\"y\":{\"type\":\"field\",\"field\":\"y\"},\"size\":{\"type\":\"value\",\"value\":5},\"line_color\":{\"type\":\"value\",\"value\":\"#17becf\"},\"fill_color\":{\"type\":\"value\",\"value\":\"#17becf\"},\"hatch_color\":{\"type\":\"value\",\"value\":\"#17becf\"}}},\"selection_glyph\":{\"type\":\"object\",\"name\":\"Scatter\",\"id\":\"p2419\",\"attributes\":{\"tags\":[\"apply_ranges\"],\"x\":{\"type\":\"field\",\"field\":\"x\"},\"y\":{\"type\":\"field\",\"field\":\"y\"},\"size\":{\"type\":\"value\",\"value\":5},\"angle\":{\"type\":\"value\",\"value\":0.0},\"line_color\":{\"type\":\"value\",\"value\":\"#17becf\"},\"line_alpha\":{\"type\":\"value\",\"value\":1.0},\"line_width\":{\"type\":\"value\",\"value\":1},\"line_join\":{\"type\":\"value\",\"value\":\"bevel\"},\"line_cap\":{\"type\":\"value\",\"value\":\"butt\"},\"line_dash\":{\"type\":\"value\",\"value\":[]},\"line_dash_offset\":{\"type\":\"value\",\"value\":0},\"fill_color\":{\"type\":\"value\",\"value\":\"#17becf\"},\"fill_alpha\":{\"type\":\"value\",\"value\":1.0},\"hatch_color\":{\"type\":\"value\",\"value\":\"#17becf\"},\"hatch_alpha\":{\"type\":\"value\",\"value\":1.0},\"hatch_scale\":{\"type\":\"value\",\"value\":12.0},\"hatch_pattern\":{\"type\":\"value\",\"value\":null},\"hatch_weight\":{\"type\":\"value\",\"value\":1.0},\"marker\":{\"type\":\"value\",\"value\":\"circle\"}}},\"nonselection_glyph\":{\"type\":\"object\",\"name\":\"Scatter\",\"id\":\"p2414\",\"attributes\":{\"tags\":[\"apply_ranges\"],\"x\":{\"type\":\"field\",\"field\":\"x\"},\"y\":{\"type\":\"field\",\"field\":\"y\"},\"size\":{\"type\":\"value\",\"value\":5},\"line_color\":{\"type\":\"value\",\"value\":\"#17becf\"},\"line_alpha\":{\"type\":\"value\",\"value\":0.1},\"fill_color\":{\"type\":\"value\",\"value\":\"#17becf\"},\"fill_alpha\":{\"type\":\"value\",\"value\":0.1},\"hatch_color\":{\"type\":\"value\",\"value\":\"#17becf\"},\"hatch_alpha\":{\"type\":\"value\",\"value\":0.1}}},\"muted_glyph\":{\"type\":\"object\",\"name\":\"Scatter\",\"id\":\"p2415\",\"attributes\":{\"tags\":[\"apply_ranges\"],\"x\":{\"type\":\"field\",\"field\":\"x\"},\"y\":{\"type\":\"field\",\"field\":\"y\"},\"size\":{\"type\":\"value\",\"value\":5},\"line_color\":{\"type\":\"value\",\"value\":\"#17becf\"},\"line_alpha\":{\"type\":\"value\",\"value\":0.2},\"fill_color\":{\"type\":\"value\",\"value\":\"#17becf\"},\"fill_alpha\":{\"type\":\"value\",\"value\":0.2},\"hatch_color\":{\"type\":\"value\",\"value\":\"#17becf\"},\"hatch_alpha\":{\"type\":\"value\",\"value\":0.2}}}}},{\"type\":\"object\",\"name\":\"GlyphRenderer\",\"id\":\"p2430\",\"attributes\":{\"data_source\":{\"type\":\"object\",\"name\":\"ColumnDataSource\",\"id\":\"p2420\",\"attributes\":{\"selected\":{\"type\":\"object\",\"name\":\"Selection\",\"id\":\"p2421\",\"attributes\":{\"indices\":[],\"line_indices\":[]}},\"selection_policy\":{\"type\":\"object\",\"name\":\"UnionRenderers\",\"id\":\"p2422\"},\"data\":{\"type\":\"map\",\"entries\":[[\"x\",{\"type\":\"ndarray\",\"array\":{\"type\":\"bytes\",\"data\":\"AgAAAAMAAAAEAAAABQAAAAYAAAAHAAAACAAAAAkAAAAKAAAA\"},\"shape\":[9],\"dtype\":\"int32\",\"order\":\"little\"}],[\"y\",{\"type\":\"ndarray\",\"array\":{\"type\":\"bytes\",\"data\":\"gAYgeDjMhD/A2TUh0lCCP8B3oRJxIYA/ZcQjZulpfD/ShhxkrQZ5PwC1i+8QC3Y/5QNx56lqcz8AwApijBpxPwAmZsg4Im4/\"},\"shape\":[9],\"dtype\":\"float64\",\"order\":\"little\"}]]}}},\"view\":{\"type\":\"object\",\"name\":\"CDSView\",\"id\":\"p2431\",\"attributes\":{\"filter\":{\"type\":\"object\",\"name\":\"AllIndices\",\"id\":\"p2432\"}}},\"glyph\":{\"type\":\"object\",\"name\":\"Line\",\"id\":\"p2427\",\"attributes\":{\"tags\":[\"apply_ranges\"],\"x\":{\"type\":\"field\",\"field\":\"x\"},\"y\":{\"type\":\"field\",\"field\":\"y\"},\"line_color\":\"#9467bd\",\"line_width\":2}},\"selection_glyph\":{\"type\":\"object\",\"name\":\"Line\",\"id\":\"p2434\",\"attributes\":{\"tags\":[\"apply_ranges\"],\"x\":{\"type\":\"field\",\"field\":\"x\"},\"y\":{\"type\":\"field\",\"field\":\"y\"},\"line_color\":\"#9467bd\",\"line_width\":2}},\"nonselection_glyph\":{\"type\":\"object\",\"name\":\"Line\",\"id\":\"p2428\",\"attributes\":{\"tags\":[\"apply_ranges\"],\"x\":{\"type\":\"field\",\"field\":\"x\"},\"y\":{\"type\":\"field\",\"field\":\"y\"},\"line_color\":\"#9467bd\",\"line_alpha\":0.1,\"line_width\":2}},\"muted_glyph\":{\"type\":\"object\",\"name\":\"Line\",\"id\":\"p2429\",\"attributes\":{\"tags\":[\"apply_ranges\"],\"x\":{\"type\":\"field\",\"field\":\"x\"},\"y\":{\"type\":\"field\",\"field\":\"y\"},\"line_color\":\"#9467bd\",\"line_alpha\":0.2,\"line_width\":2}}}},{\"type\":\"object\",\"name\":\"GlyphRenderer\",\"id\":\"p2445\",\"attributes\":{\"data_source\":{\"type\":\"object\",\"name\":\"ColumnDataSource\",\"id\":\"p2435\",\"attributes\":{\"selected\":{\"type\":\"object\",\"name\":\"Selection\",\"id\":\"p2436\",\"attributes\":{\"indices\":[],\"line_indices\":[]}},\"selection_policy\":{\"type\":\"object\",\"name\":\"UnionRenderers\",\"id\":\"p2437\"},\"data\":{\"type\":\"map\",\"entries\":[[\"x\",{\"type\":\"ndarray\",\"array\":{\"type\":\"bytes\",\"data\":\"AgAAAAMAAAAEAAAABQAAAAYAAAAHAAAACAAAAAkAAAAKAAAA\"},\"shape\":[9],\"dtype\":\"int32\",\"order\":\"little\"}],[\"y\",{\"type\":\"ndarray\",\"array\":{\"type\":\"bytes\",\"data\":\"gAYgeDjMhD/A2TUh0lCCP8B3oRJxIYA/ZcQjZulpfD/ShhxkrQZ5PwC1i+8QC3Y/5QNx56lqcz8AwApijBpxPwAmZsg4Im4/\"},\"shape\":[9],\"dtype\":\"float64\",\"order\":\"little\"}]]}}},\"view\":{\"type\":\"object\",\"name\":\"CDSView\",\"id\":\"p2446\",\"attributes\":{\"filter\":{\"type\":\"object\",\"name\":\"AllIndices\",\"id\":\"p2447\"}}},\"glyph\":{\"type\":\"object\",\"name\":\"Scatter\",\"id\":\"p2442\",\"attributes\":{\"tags\":[\"apply_ranges\"],\"x\":{\"type\":\"field\",\"field\":\"x\"},\"y\":{\"type\":\"field\",\"field\":\"y\"},\"size\":{\"type\":\"value\",\"value\":5},\"line_color\":{\"type\":\"value\",\"value\":\"#9467bd\"},\"fill_color\":{\"type\":\"value\",\"value\":\"#9467bd\"},\"hatch_color\":{\"type\":\"value\",\"value\":\"#9467bd\"}}},\"selection_glyph\":{\"type\":\"object\",\"name\":\"Scatter\",\"id\":\"p2448\",\"attributes\":{\"tags\":[\"apply_ranges\"],\"x\":{\"type\":\"field\",\"field\":\"x\"},\"y\":{\"type\":\"field\",\"field\":\"y\"},\"size\":{\"type\":\"value\",\"value\":5},\"angle\":{\"type\":\"value\",\"value\":0.0},\"line_color\":{\"type\":\"value\",\"value\":\"#9467bd\"},\"line_alpha\":{\"type\":\"value\",\"value\":1.0},\"line_width\":{\"type\":\"value\",\"value\":1},\"line_join\":{\"type\":\"value\",\"value\":\"bevel\"},\"line_cap\":{\"type\":\"value\",\"value\":\"butt\"},\"line_dash\":{\"type\":\"value\",\"value\":[]},\"line_dash_offset\":{\"type\":\"value\",\"value\":0},\"fill_color\":{\"type\":\"value\",\"value\":\"#9467bd\"},\"fill_alpha\":{\"type\":\"value\",\"value\":1.0},\"hatch_color\":{\"type\":\"value\",\"value\":\"#9467bd\"},\"hatch_alpha\":{\"type\":\"value\",\"value\":1.0},\"hatch_scale\":{\"type\":\"value\",\"value\":12.0},\"hatch_pattern\":{\"type\":\"value\",\"value\":null},\"hatch_weight\":{\"type\":\"value\",\"value\":1.0},\"marker\":{\"type\":\"value\",\"value\":\"circle\"}}},\"nonselection_glyph\":{\"type\":\"object\",\"name\":\"Scatter\",\"id\":\"p2443\",\"attributes\":{\"tags\":[\"apply_ranges\"],\"x\":{\"type\":\"field\",\"field\":\"x\"},\"y\":{\"type\":\"field\",\"field\":\"y\"},\"size\":{\"type\":\"value\",\"value\":5},\"line_color\":{\"type\":\"value\",\"value\":\"#9467bd\"},\"line_alpha\":{\"type\":\"value\",\"value\":0.1},\"fill_color\":{\"type\":\"value\",\"value\":\"#9467bd\"},\"fill_alpha\":{\"type\":\"value\",\"value\":0.1},\"hatch_color\":{\"type\":\"value\",\"value\":\"#9467bd\"},\"hatch_alpha\":{\"type\":\"value\",\"value\":0.1}}},\"muted_glyph\":{\"type\":\"object\",\"name\":\"Scatter\",\"id\":\"p2444\",\"attributes\":{\"tags\":[\"apply_ranges\"],\"x\":{\"type\":\"field\",\"field\":\"x\"},\"y\":{\"type\":\"field\",\"field\":\"y\"},\"size\":{\"type\":\"value\",\"value\":5},\"line_color\":{\"type\":\"value\",\"value\":\"#9467bd\"},\"line_alpha\":{\"type\":\"value\",\"value\":0.2},\"fill_color\":{\"type\":\"value\",\"value\":\"#9467bd\"},\"fill_alpha\":{\"type\":\"value\",\"value\":0.2},\"hatch_color\":{\"type\":\"value\",\"value\":\"#9467bd\"},\"hatch_alpha\":{\"type\":\"value\",\"value\":0.2}}}}},{\"type\":\"object\",\"name\":\"GlyphRenderer\",\"id\":\"p2459\",\"attributes\":{\"data_source\":{\"type\":\"object\",\"name\":\"ColumnDataSource\",\"id\":\"p2449\",\"attributes\":{\"selected\":{\"type\":\"object\",\"name\":\"Selection\",\"id\":\"p2450\",\"attributes\":{\"indices\":[],\"line_indices\":[]}},\"selection_policy\":{\"type\":\"object\",\"name\":\"UnionRenderers\",\"id\":\"p2451\"},\"data\":{\"type\":\"map\",\"entries\":[[\"x\",{\"type\":\"ndarray\",\"array\":{\"type\":\"bytes\",\"data\":\"AgAAAAMAAAAEAAAABQAAAAYAAAAHAAAACAAAAAkAAAAKAAAA\"},\"shape\":[9],\"dtype\":\"int32\",\"order\":\"little\"}],[\"y\",{\"type\":\"ndarray\",\"array\":{\"type\":\"bytes\",\"data\":\"wDqNLfgthD/ggKYUxsaBP9Wc7CzDUn8/ACnekEOZez87T9GMYVF4Pyl8MWV7bXU/AKF6gJ/hcj+AM0OsTqNwPwDlP1qYUm0/\"},\"shape\":[9],\"dtype\":\"float64\",\"order\":\"little\"}]]}}},\"view\":{\"type\":\"object\",\"name\":\"CDSView\",\"id\":\"p2460\",\"attributes\":{\"filter\":{\"type\":\"object\",\"name\":\"AllIndices\",\"id\":\"p2461\"}}},\"glyph\":{\"type\":\"object\",\"name\":\"Line\",\"id\":\"p2456\",\"attributes\":{\"tags\":[\"apply_ranges\"],\"x\":{\"type\":\"field\",\"field\":\"x\"},\"y\":{\"type\":\"field\",\"field\":\"y\"},\"line_color\":\"#d62728\",\"line_width\":2}},\"selection_glyph\":{\"type\":\"object\",\"name\":\"Line\",\"id\":\"p2463\",\"attributes\":{\"tags\":[\"apply_ranges\"],\"x\":{\"type\":\"field\",\"field\":\"x\"},\"y\":{\"type\":\"field\",\"field\":\"y\"},\"line_color\":\"#d62728\",\"line_width\":2}},\"nonselection_glyph\":{\"type\":\"object\",\"name\":\"Line\",\"id\":\"p2457\",\"attributes\":{\"tags\":[\"apply_ranges\"],\"x\":{\"type\":\"field\",\"field\":\"x\"},\"y\":{\"type\":\"field\",\"field\":\"y\"},\"line_color\":\"#d62728\",\"line_alpha\":0.1,\"line_width\":2}},\"muted_glyph\":{\"type\":\"object\",\"name\":\"Line\",\"id\":\"p2458\",\"attributes\":{\"tags\":[\"apply_ranges\"],\"x\":{\"type\":\"field\",\"field\":\"x\"},\"y\":{\"type\":\"field\",\"field\":\"y\"},\"line_color\":\"#d62728\",\"line_alpha\":0.2,\"line_width\":2}}}},{\"type\":\"object\",\"name\":\"GlyphRenderer\",\"id\":\"p2474\",\"attributes\":{\"data_source\":{\"type\":\"object\",\"name\":\"ColumnDataSource\",\"id\":\"p2464\",\"attributes\":{\"selected\":{\"type\":\"object\",\"name\":\"Selection\",\"id\":\"p2465\",\"attributes\":{\"indices\":[],\"line_indices\":[]}},\"selection_policy\":{\"type\":\"object\",\"name\":\"UnionRenderers\",\"id\":\"p2466\"},\"data\":{\"type\":\"map\",\"entries\":[[\"x\",{\"type\":\"ndarray\",\"array\":{\"type\":\"bytes\",\"data\":\"AgAAAAMAAAAEAAAABQAAAAYAAAAHAAAACAAAAAkAAAAKAAAA\"},\"shape\":[9],\"dtype\":\"int32\",\"order\":\"little\"}],[\"y\",{\"type\":\"ndarray\",\"array\":{\"type\":\"bytes\",\"data\":\"wDqNLfgthD/ggKYUxsaBP9Wc7CzDUn8/ACnekEOZez87T9GMYVF4Pyl8MWV7bXU/AKF6gJ/hcj+AM0OsTqNwPwDlP1qYUm0/\"},\"shape\":[9],\"dtype\":\"float64\",\"order\":\"little\"}]]}}},\"view\":{\"type\":\"object\",\"name\":\"CDSView\",\"id\":\"p2475\",\"attributes\":{\"filter\":{\"type\":\"object\",\"name\":\"AllIndices\",\"id\":\"p2476\"}}},\"glyph\":{\"type\":\"object\",\"name\":\"Scatter\",\"id\":\"p2471\",\"attributes\":{\"tags\":[\"apply_ranges\"],\"x\":{\"type\":\"field\",\"field\":\"x\"},\"y\":{\"type\":\"field\",\"field\":\"y\"},\"size\":{\"type\":\"value\",\"value\":5},\"line_color\":{\"type\":\"value\",\"value\":\"#d62728\"},\"fill_color\":{\"type\":\"value\",\"value\":\"#d62728\"},\"hatch_color\":{\"type\":\"value\",\"value\":\"#d62728\"}}},\"selection_glyph\":{\"type\":\"object\",\"name\":\"Scatter\",\"id\":\"p2477\",\"attributes\":{\"tags\":[\"apply_ranges\"],\"x\":{\"type\":\"field\",\"field\":\"x\"},\"y\":{\"type\":\"field\",\"field\":\"y\"},\"size\":{\"type\":\"value\",\"value\":5},\"angle\":{\"type\":\"value\",\"value\":0.0},\"line_color\":{\"type\":\"value\",\"value\":\"#d62728\"},\"line_alpha\":{\"type\":\"value\",\"value\":1.0},\"line_width\":{\"type\":\"value\",\"value\":1},\"line_join\":{\"type\":\"value\",\"value\":\"bevel\"},\"line_cap\":{\"type\":\"value\",\"value\":\"butt\"},\"line_dash\":{\"type\":\"value\",\"value\":[]},\"line_dash_offset\":{\"type\":\"value\",\"value\":0},\"fill_color\":{\"type\":\"value\",\"value\":\"#d62728\"},\"fill_alpha\":{\"type\":\"value\",\"value\":1.0},\"hatch_color\":{\"type\":\"value\",\"value\":\"#d62728\"},\"hatch_alpha\":{\"type\":\"value\",\"value\":1.0},\"hatch_scale\":{\"type\":\"value\",\"value\":12.0},\"hatch_pattern\":{\"type\":\"value\",\"value\":null},\"hatch_weight\":{\"type\":\"value\",\"value\":1.0},\"marker\":{\"type\":\"value\",\"value\":\"circle\"}}},\"nonselection_glyph\":{\"type\":\"object\",\"name\":\"Scatter\",\"id\":\"p2472\",\"attributes\":{\"tags\":[\"apply_ranges\"],\"x\":{\"type\":\"field\",\"field\":\"x\"},\"y\":{\"type\":\"field\",\"field\":\"y\"},\"size\":{\"type\":\"value\",\"value\":5},\"line_color\":{\"type\":\"value\",\"value\":\"#d62728\"},\"line_alpha\":{\"type\":\"value\",\"value\":0.1},\"fill_color\":{\"type\":\"value\",\"value\":\"#d62728\"},\"fill_alpha\":{\"type\":\"value\",\"value\":0.1},\"hatch_color\":{\"type\":\"value\",\"value\":\"#d62728\"},\"hatch_alpha\":{\"type\":\"value\",\"value\":0.1}}},\"muted_glyph\":{\"type\":\"object\",\"name\":\"Scatter\",\"id\":\"p2473\",\"attributes\":{\"tags\":[\"apply_ranges\"],\"x\":{\"type\":\"field\",\"field\":\"x\"},\"y\":{\"type\":\"field\",\"field\":\"y\"},\"size\":{\"type\":\"value\",\"value\":5},\"line_color\":{\"type\":\"value\",\"value\":\"#d62728\"},\"line_alpha\":{\"type\":\"value\",\"value\":0.2},\"fill_color\":{\"type\":\"value\",\"value\":\"#d62728\"},\"fill_alpha\":{\"type\":\"value\",\"value\":0.2},\"hatch_color\":{\"type\":\"value\",\"value\":\"#d62728\"},\"hatch_alpha\":{\"type\":\"value\",\"value\":0.2}}}}},{\"type\":\"object\",\"name\":\"GlyphRenderer\",\"id\":\"p2488\",\"attributes\":{\"data_source\":{\"type\":\"object\",\"name\":\"ColumnDataSource\",\"id\":\"p2478\",\"attributes\":{\"selected\":{\"type\":\"object\",\"name\":\"Selection\",\"id\":\"p2479\",\"attributes\":{\"indices\":[],\"line_indices\":[]}},\"selection_policy\":{\"type\":\"object\",\"name\":\"UnionRenderers\",\"id\":\"p2480\"},\"data\":{\"type\":\"map\",\"entries\":[[\"x\",{\"type\":\"ndarray\",\"array\":{\"type\":\"bytes\",\"data\":\"AgAAAAMAAAAEAAAABQAAAAYAAAAHAAAACAAAAAkAAAAKAAAA\"},\"shape\":[9],\"dtype\":\"int32\",\"order\":\"little\"}],[\"y\",{\"type\":\"ndarray\",\"array\":{\"type\":\"bytes\",\"data\":\"gD05Z76vgz8/ZmpcDlSBPwAF3bKIgX4/ALt15l3aej8Al8qRUKN3PwCNOJ/rznQ/ADnU/1dRcj8AYpTZKiBwPwBtQmxzZGw/\"},\"shape\":[9],\"dtype\":\"float64\",\"order\":\"little\"}]]}}},\"view\":{\"type\":\"object\",\"name\":\"CDSView\",\"id\":\"p2489\",\"attributes\":{\"filter\":{\"type\":\"object\",\"name\":\"AllIndices\",\"id\":\"p2490\"}}},\"glyph\":{\"type\":\"object\",\"name\":\"Line\",\"id\":\"p2485\",\"attributes\":{\"tags\":[\"apply_ranges\"],\"x\":{\"type\":\"field\",\"field\":\"x\"},\"y\":{\"type\":\"field\",\"field\":\"y\"},\"line_color\":\"#1f77b4\",\"line_width\":2}},\"selection_glyph\":{\"type\":\"object\",\"name\":\"Line\",\"id\":\"p2492\",\"attributes\":{\"tags\":[\"apply_ranges\"],\"x\":{\"type\":\"field\",\"field\":\"x\"},\"y\":{\"type\":\"field\",\"field\":\"y\"},\"line_color\":\"#1f77b4\",\"line_width\":2}},\"nonselection_glyph\":{\"type\":\"object\",\"name\":\"Line\",\"id\":\"p2486\",\"attributes\":{\"tags\":[\"apply_ranges\"],\"x\":{\"type\":\"field\",\"field\":\"x\"},\"y\":{\"type\":\"field\",\"field\":\"y\"},\"line_color\":\"#1f77b4\",\"line_alpha\":0.1,\"line_width\":2}},\"muted_glyph\":{\"type\":\"object\",\"name\":\"Line\",\"id\":\"p2487\",\"attributes\":{\"tags\":[\"apply_ranges\"],\"x\":{\"type\":\"field\",\"field\":\"x\"},\"y\":{\"type\":\"field\",\"field\":\"y\"},\"line_color\":\"#1f77b4\",\"line_alpha\":0.2,\"line_width\":2}}}},{\"type\":\"object\",\"name\":\"GlyphRenderer\",\"id\":\"p2503\",\"attributes\":{\"data_source\":{\"type\":\"object\",\"name\":\"ColumnDataSource\",\"id\":\"p2493\",\"attributes\":{\"selected\":{\"type\":\"object\",\"name\":\"Selection\",\"id\":\"p2494\",\"attributes\":{\"indices\":[],\"line_indices\":[]}},\"selection_policy\":{\"type\":\"object\",\"name\":\"UnionRenderers\",\"id\":\"p2495\"},\"data\":{\"type\":\"map\",\"entries\":[[\"x\",{\"type\":\"ndarray\",\"array\":{\"type\":\"bytes\",\"data\":\"AgAAAAMAAAAEAAAABQAAAAYAAAAHAAAACAAAAAkAAAAKAAAA\"},\"shape\":[9],\"dtype\":\"int32\",\"order\":\"little\"}],[\"y\",{\"type\":\"ndarray\",\"array\":{\"type\":\"bytes\",\"data\":\"gD05Z76vgz8/ZmpcDlSBPwAF3bKIgX4/ALt15l3aej8Al8qRUKN3PwCNOJ/rznQ/ADnU/1dRcj8AYpTZKiBwPwBtQmxzZGw/\"},\"shape\":[9],\"dtype\":\"float64\",\"order\":\"little\"}]]}}},\"view\":{\"type\":\"object\",\"name\":\"CDSView\",\"id\":\"p2504\",\"attributes\":{\"filter\":{\"type\":\"object\",\"name\":\"AllIndices\",\"id\":\"p2505\"}}},\"glyph\":{\"type\":\"object\",\"name\":\"Scatter\",\"id\":\"p2500\",\"attributes\":{\"tags\":[\"apply_ranges\"],\"x\":{\"type\":\"field\",\"field\":\"x\"},\"y\":{\"type\":\"field\",\"field\":\"y\"},\"size\":{\"type\":\"value\",\"value\":5},\"line_color\":{\"type\":\"value\",\"value\":\"#1f77b4\"},\"fill_color\":{\"type\":\"value\",\"value\":\"#1f77b4\"},\"hatch_color\":{\"type\":\"value\",\"value\":\"#1f77b4\"}}},\"selection_glyph\":{\"type\":\"object\",\"name\":\"Scatter\",\"id\":\"p2506\",\"attributes\":{\"tags\":[\"apply_ranges\"],\"x\":{\"type\":\"field\",\"field\":\"x\"},\"y\":{\"type\":\"field\",\"field\":\"y\"},\"size\":{\"type\":\"value\",\"value\":5},\"angle\":{\"type\":\"value\",\"value\":0.0},\"line_color\":{\"type\":\"value\",\"value\":\"#1f77b4\"},\"line_alpha\":{\"type\":\"value\",\"value\":1.0},\"line_width\":{\"type\":\"value\",\"value\":1},\"line_join\":{\"type\":\"value\",\"value\":\"bevel\"},\"line_cap\":{\"type\":\"value\",\"value\":\"butt\"},\"line_dash\":{\"type\":\"value\",\"value\":[]},\"line_dash_offset\":{\"type\":\"value\",\"value\":0},\"fill_color\":{\"type\":\"value\",\"value\":\"#1f77b4\"},\"fill_alpha\":{\"type\":\"value\",\"value\":1.0},\"hatch_color\":{\"type\":\"value\",\"value\":\"#1f77b4\"},\"hatch_alpha\":{\"type\":\"value\",\"value\":1.0},\"hatch_scale\":{\"type\":\"value\",\"value\":12.0},\"hatch_pattern\":{\"type\":\"value\",\"value\":null},\"hatch_weight\":{\"type\":\"value\",\"value\":1.0},\"marker\":{\"type\":\"value\",\"value\":\"circle\"}}},\"nonselection_glyph\":{\"type\":\"object\",\"name\":\"Scatter\",\"id\":\"p2501\",\"attributes\":{\"tags\":[\"apply_ranges\"],\"x\":{\"type\":\"field\",\"field\":\"x\"},\"y\":{\"type\":\"field\",\"field\":\"y\"},\"size\":{\"type\":\"value\",\"value\":5},\"line_color\":{\"type\":\"value\",\"value\":\"#1f77b4\"},\"line_alpha\":{\"type\":\"value\",\"value\":0.1},\"fill_color\":{\"type\":\"value\",\"value\":\"#1f77b4\"},\"fill_alpha\":{\"type\":\"value\",\"value\":0.1},\"hatch_color\":{\"type\":\"value\",\"value\":\"#1f77b4\"},\"hatch_alpha\":{\"type\":\"value\",\"value\":0.1}}},\"muted_glyph\":{\"type\":\"object\",\"name\":\"Scatter\",\"id\":\"p2502\",\"attributes\":{\"tags\":[\"apply_ranges\"],\"x\":{\"type\":\"field\",\"field\":\"x\"},\"y\":{\"type\":\"field\",\"field\":\"y\"},\"size\":{\"type\":\"value\",\"value\":5},\"line_color\":{\"type\":\"value\",\"value\":\"#1f77b4\"},\"line_alpha\":{\"type\":\"value\",\"value\":0.2},\"fill_color\":{\"type\":\"value\",\"value\":\"#1f77b4\"},\"fill_alpha\":{\"type\":\"value\",\"value\":0.2},\"hatch_color\":{\"type\":\"value\",\"value\":\"#1f77b4\"},\"hatch_alpha\":{\"type\":\"value\",\"value\":0.2}}}}},{\"type\":\"object\",\"name\":\"GlyphRenderer\",\"id\":\"p2517\",\"attributes\":{\"data_source\":{\"type\":\"object\",\"name\":\"ColumnDataSource\",\"id\":\"p2507\",\"attributes\":{\"selected\":{\"type\":\"object\",\"name\":\"Selection\",\"id\":\"p2508\",\"attributes\":{\"indices\":[],\"line_indices\":[]}},\"selection_policy\":{\"type\":\"object\",\"name\":\"UnionRenderers\",\"id\":\"p2509\"},\"data\":{\"type\":\"map\",\"entries\":[[\"x\",{\"type\":\"ndarray\",\"array\":{\"type\":\"bytes\",\"data\":\"AgAAAAMAAAAEAAAABQAAAAYAAAAHAAAACAAAAAkAAAAKAAAA\"},\"shape\":[9],\"dtype\":\"int32\",\"order\":\"little\"}],[\"y\",{\"type\":\"ndarray\",\"array\":{\"type\":\"bytes\",\"data\":\"ANlX8OZIgz+LSTO4MwCBP4BYBiaj+X0/gOaGkQ1tej9cxzJ8J0x3P4D6x28qinQ/gE3sUtQbcj/gQJR9cu5vP8rzF6g1J2w/\"},\"shape\":[9],\"dtype\":\"float64\",\"order\":\"little\"}]]}}},\"view\":{\"type\":\"object\",\"name\":\"CDSView\",\"id\":\"p2518\",\"attributes\":{\"filter\":{\"type\":\"object\",\"name\":\"AllIndices\",\"id\":\"p2519\"}}},\"glyph\":{\"type\":\"object\",\"name\":\"Line\",\"id\":\"p2514\",\"attributes\":{\"tags\":[\"apply_ranges\"],\"x\":{\"type\":\"field\",\"field\":\"x\"},\"y\":{\"type\":\"field\",\"field\":\"y\"},\"line_color\":\"#e377c2\",\"line_width\":2}},\"selection_glyph\":{\"type\":\"object\",\"name\":\"Line\",\"id\":\"p2521\",\"attributes\":{\"tags\":[\"apply_ranges\"],\"x\":{\"type\":\"field\",\"field\":\"x\"},\"y\":{\"type\":\"field\",\"field\":\"y\"},\"line_color\":\"#e377c2\",\"line_width\":2}},\"nonselection_glyph\":{\"type\":\"object\",\"name\":\"Line\",\"id\":\"p2515\",\"attributes\":{\"tags\":[\"apply_ranges\"],\"x\":{\"type\":\"field\",\"field\":\"x\"},\"y\":{\"type\":\"field\",\"field\":\"y\"},\"line_color\":\"#e377c2\",\"line_alpha\":0.1,\"line_width\":2}},\"muted_glyph\":{\"type\":\"object\",\"name\":\"Line\",\"id\":\"p2516\",\"attributes\":{\"tags\":[\"apply_ranges\"],\"x\":{\"type\":\"field\",\"field\":\"x\"},\"y\":{\"type\":\"field\",\"field\":\"y\"},\"line_color\":\"#e377c2\",\"line_alpha\":0.2,\"line_width\":2}}}},{\"type\":\"object\",\"name\":\"GlyphRenderer\",\"id\":\"p2532\",\"attributes\":{\"data_source\":{\"type\":\"object\",\"name\":\"ColumnDataSource\",\"id\":\"p2522\",\"attributes\":{\"selected\":{\"type\":\"object\",\"name\":\"Selection\",\"id\":\"p2523\",\"attributes\":{\"indices\":[],\"line_indices\":[]}},\"selection_policy\":{\"type\":\"object\",\"name\":\"UnionRenderers\",\"id\":\"p2524\"},\"data\":{\"type\":\"map\",\"entries\":[[\"x\",{\"type\":\"ndarray\",\"array\":{\"type\":\"bytes\",\"data\":\"AgAAAAMAAAAEAAAABQAAAAYAAAAHAAAACAAAAAkAAAAKAAAA\"},\"shape\":[9],\"dtype\":\"int32\",\"order\":\"little\"}],[\"y\",{\"type\":\"ndarray\",\"array\":{\"type\":\"bytes\",\"data\":\"ANlX8OZIgz+LSTO4MwCBP4BYBiaj+X0/gOaGkQ1tej9cxzJ8J0x3P4D6x28qinQ/gE3sUtQbcj/gQJR9cu5vP8rzF6g1J2w/\"},\"shape\":[9],\"dtype\":\"float64\",\"order\":\"little\"}]]}}},\"view\":{\"type\":\"object\",\"name\":\"CDSView\",\"id\":\"p2533\",\"attributes\":{\"filter\":{\"type\":\"object\",\"name\":\"AllIndices\",\"id\":\"p2534\"}}},\"glyph\":{\"type\":\"object\",\"name\":\"Scatter\",\"id\":\"p2529\",\"attributes\":{\"tags\":[\"apply_ranges\"],\"x\":{\"type\":\"field\",\"field\":\"x\"},\"y\":{\"type\":\"field\",\"field\":\"y\"},\"size\":{\"type\":\"value\",\"value\":5},\"line_color\":{\"type\":\"value\",\"value\":\"#e377c2\"},\"fill_color\":{\"type\":\"value\",\"value\":\"#e377c2\"},\"hatch_color\":{\"type\":\"value\",\"value\":\"#e377c2\"}}},\"selection_glyph\":{\"type\":\"object\",\"name\":\"Scatter\",\"id\":\"p2535\",\"attributes\":{\"tags\":[\"apply_ranges\"],\"x\":{\"type\":\"field\",\"field\":\"x\"},\"y\":{\"type\":\"field\",\"field\":\"y\"},\"size\":{\"type\":\"value\",\"value\":5},\"angle\":{\"type\":\"value\",\"value\":0.0},\"line_color\":{\"type\":\"value\",\"value\":\"#e377c2\"},\"line_alpha\":{\"type\":\"value\",\"value\":1.0},\"line_width\":{\"type\":\"value\",\"value\":1},\"line_join\":{\"type\":\"value\",\"value\":\"bevel\"},\"line_cap\":{\"type\":\"value\",\"value\":\"butt\"},\"line_dash\":{\"type\":\"value\",\"value\":[]},\"line_dash_offset\":{\"type\":\"value\",\"value\":0},\"fill_color\":{\"type\":\"value\",\"value\":\"#e377c2\"},\"fill_alpha\":{\"type\":\"value\",\"value\":1.0},\"hatch_color\":{\"type\":\"value\",\"value\":\"#e377c2\"},\"hatch_alpha\":{\"type\":\"value\",\"value\":1.0},\"hatch_scale\":{\"type\":\"value\",\"value\":12.0},\"hatch_pattern\":{\"type\":\"value\",\"value\":null},\"hatch_weight\":{\"type\":\"value\",\"value\":1.0},\"marker\":{\"type\":\"value\",\"value\":\"circle\"}}},\"nonselection_glyph\":{\"type\":\"object\",\"name\":\"Scatter\",\"id\":\"p2530\",\"attributes\":{\"tags\":[\"apply_ranges\"],\"x\":{\"type\":\"field\",\"field\":\"x\"},\"y\":{\"type\":\"field\",\"field\":\"y\"},\"size\":{\"type\":\"value\",\"value\":5},\"line_color\":{\"type\":\"value\",\"value\":\"#e377c2\"},\"line_alpha\":{\"type\":\"value\",\"value\":0.1},\"fill_color\":{\"type\":\"value\",\"value\":\"#e377c2\"},\"fill_alpha\":{\"type\":\"value\",\"value\":0.1},\"hatch_color\":{\"type\":\"value\",\"value\":\"#e377c2\"},\"hatch_alpha\":{\"type\":\"value\",\"value\":0.1}}},\"muted_glyph\":{\"type\":\"object\",\"name\":\"Scatter\",\"id\":\"p2531\",\"attributes\":{\"tags\":[\"apply_ranges\"],\"x\":{\"type\":\"field\",\"field\":\"x\"},\"y\":{\"type\":\"field\",\"field\":\"y\"},\"size\":{\"type\":\"value\",\"value\":5},\"line_color\":{\"type\":\"value\",\"value\":\"#e377c2\"},\"line_alpha\":{\"type\":\"value\",\"value\":0.2},\"fill_color\":{\"type\":\"value\",\"value\":\"#e377c2\"},\"fill_alpha\":{\"type\":\"value\",\"value\":0.2},\"hatch_color\":{\"type\":\"value\",\"value\":\"#e377c2\"},\"hatch_alpha\":{\"type\":\"value\",\"value\":0.2}}}}}],\"toolbar\":{\"type\":\"object\",\"name\":\"Toolbar\",\"id\":\"p2198\",\"attributes\":{\"tools\":[{\"type\":\"object\",\"name\":\"HoverTool\",\"id\":\"p2173\",\"attributes\":{\"tags\":[\"hv_created\"],\"renderers\":[{\"id\":\"p2255\"},{\"id\":\"p2271\"},{\"id\":\"p2285\"},{\"id\":\"p2300\"},{\"id\":\"p2314\"},{\"id\":\"p2329\"},{\"id\":\"p2343\"},{\"id\":\"p2358\"},{\"id\":\"p2372\"},{\"id\":\"p2387\"},{\"id\":\"p2401\"},{\"id\":\"p2416\"},{\"id\":\"p2430\"},{\"id\":\"p2445\"},{\"id\":\"p2459\"},{\"id\":\"p2474\"},{\"id\":\"p2488\"},{\"id\":\"p2503\"},{\"id\":\"p2517\"},{\"id\":\"p2532\"}],\"tooltips\":[[\"x\",\"@{x}\"],[\"y\",\"@{y}\"]]}},{\"type\":\"object\",\"name\":\"SaveTool\",\"id\":\"p2223\"},{\"type\":\"object\",\"name\":\"PanTool\",\"id\":\"p2224\"},{\"type\":\"object\",\"name\":\"WheelZoomTool\",\"id\":\"p2225\"},{\"type\":\"object\",\"name\":\"BoxZoomTool\",\"id\":\"p2226\",\"attributes\":{\"overlay\":{\"type\":\"object\",\"name\":\"BoxAnnotation\",\"id\":\"p2227\",\"attributes\":{\"syncable\":false,\"level\":\"overlay\",\"visible\":false,\"left_units\":\"canvas\",\"right_units\":\"canvas\",\"bottom_units\":\"canvas\",\"top_units\":\"canvas\",\"line_color\":\"black\",\"line_alpha\":1.0,\"line_width\":2,\"line_dash\":[4,4],\"fill_color\":\"lightgrey\",\"fill_alpha\":0.5}}}},{\"type\":\"object\",\"name\":\"ResetTool\",\"id\":\"p2228\"}],\"active_drag\":{\"id\":\"p2224\"},\"active_scroll\":{\"id\":\"p2225\"}}},\"left\":[{\"type\":\"object\",\"name\":\"LinearAxis\",\"id\":\"p2216\",\"attributes\":{\"ticker\":{\"type\":\"object\",\"name\":\"BasicTicker\",\"id\":\"p2219\",\"attributes\":{\"mantissas\":[1,2,5]}},\"formatter\":{\"type\":\"object\",\"name\":\"BasicTickFormatter\",\"id\":\"p2217\"},\"axis_label\":\"slope\",\"axis_label_text_font_size\":\"19.5px\",\"major_label_policy\":{\"type\":\"object\",\"name\":\"AllLabels\",\"id\":\"p2218\"},\"major_label_text_font_size\":\"16.5px\"}},{\"type\":\"object\",\"name\":\"Legend\",\"id\":\"p2258\",\"attributes\":{\"location\":[0,0],\"title_text_font_size\":\"19.5px\",\"click_policy\":\"mute\",\"label_text_font_size\":\"19.5px\",\"items\":[{\"type\":\"object\",\"name\":\"LegendItem\",\"id\":\"p2259\",\"attributes\":{\"label\":{\"type\":\"value\",\"value\":\"ToT2 = 100.0\"},\"renderers\":[{\"id\":\"p2255\"},{\"id\":\"p2271\"}]}},{\"type\":\"object\",\"name\":\"LegendItem\",\"id\":\"p2288\",\"attributes\":{\"label\":{\"type\":\"value\",\"value\":\"ToT2 = 300.0\"},\"renderers\":[{\"id\":\"p2285\"},{\"id\":\"p2300\"}]}},{\"type\":\"object\",\"name\":\"LegendItem\",\"id\":\"p2317\",\"attributes\":{\"label\":{\"type\":\"value\",\"value\":\"ToT2 = 500.0\"},\"renderers\":[{\"id\":\"p2314\"},{\"id\":\"p2329\"}]}},{\"type\":\"object\",\"name\":\"LegendItem\",\"id\":\"p2346\",\"attributes\":{\"label\":{\"type\":\"value\",\"value\":\"ToT2 = 700.0\"},\"renderers\":[{\"id\":\"p2343\"},{\"id\":\"p2358\"}]}},{\"type\":\"object\",\"name\":\"LegendItem\",\"id\":\"p2375\",\"attributes\":{\"label\":{\"type\":\"value\",\"value\":\"ToT2 = 900.0\"},\"renderers\":[{\"id\":\"p2372\"},{\"id\":\"p2387\"}]}},{\"type\":\"object\",\"name\":\"LegendItem\",\"id\":\"p2404\",\"attributes\":{\"label\":{\"type\":\"value\",\"value\":\"ToT2 = 1100.0\"},\"renderers\":[{\"id\":\"p2401\"},{\"id\":\"p2416\"}]}},{\"type\":\"object\",\"name\":\"LegendItem\",\"id\":\"p2433\",\"attributes\":{\"label\":{\"type\":\"value\",\"value\":\"ToT2 = 1300.0\"},\"renderers\":[{\"id\":\"p2430\"},{\"id\":\"p2445\"}]}},{\"type\":\"object\",\"name\":\"LegendItem\",\"id\":\"p2462\",\"attributes\":{\"label\":{\"type\":\"value\",\"value\":\"ToT2 = 1500.0\"},\"renderers\":[{\"id\":\"p2459\"},{\"id\":\"p2474\"}]}},{\"type\":\"object\",\"name\":\"LegendItem\",\"id\":\"p2491\",\"attributes\":{\"label\":{\"type\":\"value\",\"value\":\"ToT2 = 1700.0\"},\"renderers\":[{\"id\":\"p2488\"},{\"id\":\"p2503\"}]}},{\"type\":\"object\",\"name\":\"LegendItem\",\"id\":\"p2520\",\"attributes\":{\"label\":{\"type\":\"value\",\"value\":\"ToT2 = 1900.0\"},\"renderers\":[{\"id\":\"p2517\"},{\"id\":\"p2532\"}]}}]}}],\"below\":[{\"type\":\"object\",\"name\":\"LinearAxis\",\"id\":\"p2209\",\"attributes\":{\"ticker\":{\"type\":\"object\",\"name\":\"BasicTicker\",\"id\":\"p2212\",\"attributes\":{\"mantissas\":[1,2,5]}},\"formatter\":{\"type\":\"object\",\"name\":\"BasicTickFormatter\",\"id\":\"p2210\"},\"axis_label\":\"\\u0394t (ns)\",\"axis_label_text_font_size\":\"19.5px\",\"major_label_policy\":{\"type\":\"object\",\"name\":\"AllLabels\",\"id\":\"p2211\"},\"major_label_text_font_size\":\"16.5px\"}}],\"center\":[{\"type\":\"object\",\"name\":\"Grid\",\"id\":\"p2215\",\"attributes\":{\"axis\":{\"id\":\"p2209\"},\"ticker\":{\"id\":\"p2212\"}}},{\"type\":\"object\",\"name\":\"Grid\",\"id\":\"p2222\",\"attributes\":{\"dimension\":1,\"axis\":{\"id\":\"p2216\"},\"ticker\":{\"id\":\"p2219\"}}}],\"min_border_top\":10,\"min_border_bottom\":10,\"min_border_left\":10,\"min_border_right\":10,\"output_backend\":\"webgl\"}},{\"type\":\"object\",\"name\":\"Spacer\",\"id\":\"p2649\",\"attributes\":{\"name\":\"HSpacer07012\",\"stylesheets\":[\"\\n:host(.pn-loading.pn-arc):before, .pn-loading.pn-arc:before {\\n  background-image: url(\\\"data:image/svg+xml;base64,PHN2ZyB4bWxucz0iaHR0cDovL3d3dy53My5vcmcvMjAwMC9zdmciIHN0eWxlPSJtYXJnaW46IGF1dG87IGJhY2tncm91bmQ6IG5vbmU7IGRpc3BsYXk6IGJsb2NrOyBzaGFwZS1yZW5kZXJpbmc6IGF1dG87IiB2aWV3Qm94PSIwIDAgMTAwIDEwMCIgcHJlc2VydmVBc3BlY3RSYXRpbz0ieE1pZFlNaWQiPiAgPGNpcmNsZSBjeD0iNTAiIGN5PSI1MCIgZmlsbD0ibm9uZSIgc3Ryb2tlPSIjYzNjM2MzIiBzdHJva2Utd2lkdGg9IjEwIiByPSIzNSIgc3Ryb2tlLWRhc2hhcnJheT0iMTY0LjkzMzYxNDMxMzQ2NDE1IDU2Ljk3Nzg3MTQzNzgyMTM4Ij4gICAgPGFuaW1hdGVUcmFuc2Zvcm0gYXR0cmlidXRlTmFtZT0idHJhbnNmb3JtIiB0eXBlPSJyb3RhdGUiIHJlcGVhdENvdW50PSJpbmRlZmluaXRlIiBkdXI9IjFzIiB2YWx1ZXM9IjAgNTAgNTA7MzYwIDUwIDUwIiBrZXlUaW1lcz0iMDsxIj48L2FuaW1hdGVUcmFuc2Zvcm0+ICA8L2NpcmNsZT48L3N2Zz4=\\\");\\n  background-size: auto calc(min(50%, 400px));\\n}\",{\"id\":\"p2169\"},{\"id\":\"p2167\"},{\"id\":\"p2168\"}],\"margin\":0,\"sizing_mode\":\"stretch_width\",\"align\":\"start\"}}]}}],\"callbacks\":{\"type\":\"map\"}}};\n",
       "  var render_items = [{\"docid\":\"1aaebf61-4b45-4c2a-8d2f-35183e2cdc1c\",\"roots\":{\"p2166\":\"d85f567b-675d-4c5a-9fb2-23d0089dc64c\"},\"root_ids\":[\"p2166\"]}];\n",
       "  var docs = Object.values(docs_json)\n",
       "  if (!docs) {\n",
       "    return\n",
       "  }\n",
       "  const py_version = docs[0].version.replace('rc', '-rc.').replace('.dev', '-dev.')\n",
       "  const is_dev = py_version.indexOf(\"+\") !== -1 || py_version.indexOf(\"-\") !== -1\n",
       "  function embed_document(root) {\n",
       "    var Bokeh = get_bokeh(root)\n",
       "    Bokeh.embed.embed_items_notebook(docs_json, render_items);\n",
       "    for (const render_item of render_items) {\n",
       "      for (const root_id of render_item.root_ids) {\n",
       "\tconst id_el = document.getElementById(root_id)\n",
       "\tif (id_el.children.length && (id_el.children[0].className === 'bk-root')) {\n",
       "\t  const root_el = id_el.children[0]\n",
       "\t  root_el.id = root_el.id + '-rendered'\n",
       "\t}\n",
       "      }\n",
       "    }\n",
       "  }\n",
       "  function get_bokeh(root) {\n",
       "    if (root.Bokeh === undefined) {\n",
       "      return null\n",
       "    } else if (root.Bokeh.version !== py_version && !is_dev) {\n",
       "      if (root.Bokeh.versions === undefined || !root.Bokeh.versions.has(py_version)) {\n",
       "\treturn null\n",
       "      }\n",
       "      return root.Bokeh.versions.get(py_version);\n",
       "    } else if (root.Bokeh.version === py_version) {\n",
       "      return root.Bokeh\n",
       "    }\n",
       "    return null\n",
       "  }\n",
       "  function is_loaded(root) {\n",
       "    var Bokeh = get_bokeh(root)\n",
       "    return (Bokeh != null && Bokeh.Panel !== undefined)\n",
       "  }\n",
       "  if (is_loaded(root)) {\n",
       "    embed_document(root);\n",
       "  } else {\n",
       "    var attempts = 0;\n",
       "    var timer = setInterval(function(root) {\n",
       "      if (is_loaded(root)) {\n",
       "        clearInterval(timer);\n",
       "        embed_document(root);\n",
       "      } else if (document.readyState == \"complete\") {\n",
       "        attempts++;\n",
       "        if (attempts > 200) {\n",
       "          clearInterval(timer);\n",
       "\t  var Bokeh = get_bokeh(root)\n",
       "\t  if (Bokeh == null || Bokeh.Panel == null) {\n",
       "            console.warn(\"Panel: ERROR: Unable to run Panel code because Bokeh or Panel library is missing\");\n",
       "\t  } else {\n",
       "\t    console.warn(\"Panel: WARNING: Attempting to render but not all required libraries could be resolved.\")\n",
       "\t    embed_document(root)\n",
       "\t  }\n",
       "        }\n",
       "      }\n",
       "    }, 25, root)\n",
       "  }\n",
       "})(window);</script>"
      ],
      "text/plain": [
       ":Overlay\n",
       "   .Curve.ToT2_equals_100_full_stop_0    :Curve   [x]   (y)\n",
       "   .Scatter.ToT2_equals_100_full_stop_0  :Scatter   [x]   (y)\n",
       "   .Curve.ToT2_equals_300_full_stop_0    :Curve   [x]   (y)\n",
       "   .Scatter.ToT2_equals_300_full_stop_0  :Scatter   [x]   (y)\n",
       "   .Curve.ToT2_equals_500_full_stop_0    :Curve   [x]   (y)\n",
       "   .Scatter.ToT2_equals_500_full_stop_0  :Scatter   [x]   (y)\n",
       "   .Curve.ToT2_equals_700_full_stop_0    :Curve   [x]   (y)\n",
       "   .Scatter.ToT2_equals_700_full_stop_0  :Scatter   [x]   (y)\n",
       "   .Curve.ToT2_equals_900_full_stop_0    :Curve   [x]   (y)\n",
       "   .Scatter.ToT2_equals_900_full_stop_0  :Scatter   [x]   (y)\n",
       "   .Curve.ToT2_equals_1100_full_stop_0   :Curve   [x]   (y)\n",
       "   .Scatter.ToT2_equals_1100_full_stop_0 :Scatter   [x]   (y)\n",
       "   .Curve.ToT2_equals_1300_full_stop_0   :Curve   [x]   (y)\n",
       "   .Scatter.ToT2_equals_1300_full_stop_0 :Scatter   [x]   (y)\n",
       "   .Curve.ToT2_equals_1500_full_stop_0   :Curve   [x]   (y)\n",
       "   .Scatter.ToT2_equals_1500_full_stop_0 :Scatter   [x]   (y)\n",
       "   .Curve.ToT2_equals_1700_full_stop_0   :Curve   [x]   (y)\n",
       "   .Scatter.ToT2_equals_1700_full_stop_0 :Scatter   [x]   (y)\n",
       "   .Curve.ToT2_equals_1900_full_stop_0   :Curve   [x]   (y)\n",
       "   .Scatter.ToT2_equals_1900_full_stop_0 :Scatter   [x]   (y)"
      ]
     },
     "execution_count": 16,
     "metadata": {
      "application/vnd.holoviews_exec.v0+json": {
       "id": "p2166"
      }
     },
     "output_type": "execute_result"
    }
   ],
   "source": [
    "model = lambda x, A, c: A * np.exp(- x / c)\n",
    "\n",
    "plots = []\n",
    "params_expfit = []\n",
    "for key, df in params_ToT2.groupby(\"ToT2\")['Δt', 'm']:\n",
    "    popt, _ = curve_fit(model, df['Δt'], df['m'])\n",
    "    params_expfit.append([key, *popt])\n",
    "    \n",
    "    plots.append(hv.Curve(  (df['Δt'], df['m']), label=f'ToT2 = {key}').opts(xlabel='Δt (ns)', ylabel='slope') *\n",
    "                 hv.Scatter((df['Δt'], df['m']), label=f'ToT2 = {key}').opts(size=5)\n",
    "                )\n",
    "\n",
    "params_expfit = pd.DataFrame(params_expfit, columns=['ToT2', 'A', 'c'])\n",
    "hv.Overlay(plots[::2]).opts(legend_position='left', fontscale=1.5)"
   ]
  },
  {
   "attachments": {},
   "cell_type": "markdown",
   "metadata": {},
   "source": [
    "## step 3\n",
    "fit the model $\\frac{d}{ToT + B}+g$ from the previously extracted fit parameter $A$"
   ]
  },
  {
   "cell_type": "code",
   "execution_count": 17,
   "metadata": {},
   "outputs": [
    {
     "data": {},
     "metadata": {},
     "output_type": "display_data"
    },
    {
     "data": {
      "application/vnd.holoviews_exec.v0+json": "",
      "text/html": [
       "<div id='p3233'>\n",
       "  <div id=\"eb039141-4f4f-4e2a-b265-4a7234c7b993\" data-root-id=\"p3233\" style=\"display: contents;\"></div>\n",
       "</div>\n",
       "<script type=\"application/javascript\">(function(root) {\n",
       "  var docs_json = {\"9167a121-96b7-4349-a73e-21767254ceaa\":{\"version\":\"3.1.1\",\"title\":\"Bokeh Application\",\"defs\":[{\"type\":\"model\",\"name\":\"ReactiveHTML1\"},{\"type\":\"model\",\"name\":\"FlexBox1\",\"properties\":[{\"name\":\"align_content\",\"kind\":\"Any\",\"default\":\"flex-start\"},{\"name\":\"align_items\",\"kind\":\"Any\",\"default\":\"flex-start\"},{\"name\":\"flex_direction\",\"kind\":\"Any\",\"default\":\"row\"},{\"name\":\"flex_wrap\",\"kind\":\"Any\",\"default\":\"wrap\"},{\"name\":\"justify_content\",\"kind\":\"Any\",\"default\":\"flex-start\"}]},{\"type\":\"model\",\"name\":\"FloatPanel1\",\"properties\":[{\"name\":\"config\",\"kind\":\"Any\",\"default\":{\"type\":\"map\"}},{\"name\":\"contained\",\"kind\":\"Any\",\"default\":true},{\"name\":\"position\",\"kind\":\"Any\",\"default\":\"right-top\"},{\"name\":\"offsetx\",\"kind\":\"Any\",\"default\":null},{\"name\":\"offsety\",\"kind\":\"Any\",\"default\":null},{\"name\":\"theme\",\"kind\":\"Any\",\"default\":\"primary\"},{\"name\":\"status\",\"kind\":\"Any\",\"default\":\"normalized\"}]},{\"type\":\"model\",\"name\":\"GridStack1\",\"properties\":[{\"name\":\"mode\",\"kind\":\"Any\",\"default\":\"warn\"},{\"name\":\"ncols\",\"kind\":\"Any\",\"default\":null},{\"name\":\"nrows\",\"kind\":\"Any\",\"default\":null},{\"name\":\"allow_resize\",\"kind\":\"Any\",\"default\":true},{\"name\":\"allow_drag\",\"kind\":\"Any\",\"default\":true},{\"name\":\"state\",\"kind\":\"Any\",\"default\":[]}]},{\"type\":\"model\",\"name\":\"drag1\",\"properties\":[{\"name\":\"slider_width\",\"kind\":\"Any\",\"default\":5},{\"name\":\"slider_color\",\"kind\":\"Any\",\"default\":\"black\"},{\"name\":\"value\",\"kind\":\"Any\",\"default\":50}]},{\"type\":\"model\",\"name\":\"click1\",\"properties\":[{\"name\":\"terminal_output\",\"kind\":\"Any\",\"default\":\"\"},{\"name\":\"debug_name\",\"kind\":\"Any\",\"default\":\"\"},{\"name\":\"clears\",\"kind\":\"Any\",\"default\":0}]},{\"type\":\"model\",\"name\":\"FastWrapper1\",\"properties\":[{\"name\":\"object\",\"kind\":\"Any\",\"default\":null},{\"name\":\"style\",\"kind\":\"Any\",\"default\":null}]},{\"type\":\"model\",\"name\":\"NotificationAreaBase1\",\"properties\":[{\"name\":\"position\",\"kind\":\"Any\",\"default\":\"bottom-right\"},{\"name\":\"_clear\",\"kind\":\"Any\",\"default\":0}]},{\"type\":\"model\",\"name\":\"NotificationArea1\",\"properties\":[{\"name\":\"notifications\",\"kind\":\"Any\",\"default\":[]},{\"name\":\"position\",\"kind\":\"Any\",\"default\":\"bottom-right\"},{\"name\":\"_clear\",\"kind\":\"Any\",\"default\":0},{\"name\":\"types\",\"kind\":\"Any\",\"default\":[{\"type\":\"map\",\"entries\":[[\"type\",\"warning\"],[\"background\",\"#ffc107\"],[\"icon\",{\"type\":\"map\",\"entries\":[[\"className\",\"fas fa-exclamation-triangle\"],[\"tagName\",\"i\"],[\"color\",\"white\"]]}]]},{\"type\":\"map\",\"entries\":[[\"type\",\"info\"],[\"background\",\"#007bff\"],[\"icon\",{\"type\":\"map\",\"entries\":[[\"className\",\"fas fa-info-circle\"],[\"tagName\",\"i\"],[\"color\",\"white\"]]}]]}]}]},{\"type\":\"model\",\"name\":\"Notification\",\"properties\":[{\"name\":\"background\",\"kind\":\"Any\",\"default\":null},{\"name\":\"duration\",\"kind\":\"Any\",\"default\":3000},{\"name\":\"icon\",\"kind\":\"Any\",\"default\":null},{\"name\":\"message\",\"kind\":\"Any\",\"default\":\"\"},{\"name\":\"notification_type\",\"kind\":\"Any\",\"default\":null},{\"name\":\"_destroyed\",\"kind\":\"Any\",\"default\":false}]},{\"type\":\"model\",\"name\":\"TemplateActions1\",\"properties\":[{\"name\":\"open_modal\",\"kind\":\"Any\",\"default\":0},{\"name\":\"close_modal\",\"kind\":\"Any\",\"default\":0}]},{\"type\":\"model\",\"name\":\"BootstrapTemplateActions1\",\"properties\":[{\"name\":\"open_modal\",\"kind\":\"Any\",\"default\":0},{\"name\":\"close_modal\",\"kind\":\"Any\",\"default\":0}]},{\"type\":\"model\",\"name\":\"MaterialTemplateActions1\",\"properties\":[{\"name\":\"open_modal\",\"kind\":\"Any\",\"default\":0},{\"name\":\"close_modal\",\"kind\":\"Any\",\"default\":0}]}],\"roots\":[{\"type\":\"object\",\"name\":\"Row\",\"id\":\"p3233\",\"attributes\":{\"name\":\"Row07445\",\"tags\":[\"embedded\"],\"stylesheets\":[\"\\n:host(.pn-loading.pn-arc):before, .pn-loading.pn-arc:before {\\n  background-image: url(\\\"data:image/svg+xml;base64,PHN2ZyB4bWxucz0iaHR0cDovL3d3dy53My5vcmcvMjAwMC9zdmciIHN0eWxlPSJtYXJnaW46IGF1dG87IGJhY2tncm91bmQ6IG5vbmU7IGRpc3BsYXk6IGJsb2NrOyBzaGFwZS1yZW5kZXJpbmc6IGF1dG87IiB2aWV3Qm94PSIwIDAgMTAwIDEwMCIgcHJlc2VydmVBc3BlY3RSYXRpbz0ieE1pZFlNaWQiPiAgPGNpcmNsZSBjeD0iNTAiIGN5PSI1MCIgZmlsbD0ibm9uZSIgc3Ryb2tlPSIjYzNjM2MzIiBzdHJva2Utd2lkdGg9IjEwIiByPSIzNSIgc3Ryb2tlLWRhc2hhcnJheT0iMTY0LjkzMzYxNDMxMzQ2NDE1IDU2Ljk3Nzg3MTQzNzgyMTM4Ij4gICAgPGFuaW1hdGVUcmFuc2Zvcm0gYXR0cmlidXRlTmFtZT0idHJhbnNmb3JtIiB0eXBlPSJyb3RhdGUiIHJlcGVhdENvdW50PSJpbmRlZmluaXRlIiBkdXI9IjFzIiB2YWx1ZXM9IjAgNTAgNTA7MzYwIDUwIDUwIiBrZXlUaW1lcz0iMDsxIj48L2FuaW1hdGVUcmFuc2Zvcm0+ICA8L2NpcmNsZT48L3N2Zz4=\\\");\\n  background-size: auto calc(min(50%, 400px));\\n}\",{\"type\":\"object\",\"name\":\"ImportedStyleSheet\",\"id\":\"p3236\",\"attributes\":{\"url\":\"https://cdn.holoviz.org/panel/1.1.1/dist/css/loading.css\"}},{\"type\":\"object\",\"name\":\"ImportedStyleSheet\",\"id\":\"p3370\",\"attributes\":{\"url\":\"https://cdn.holoviz.org/panel/1.1.1/dist/css/listpanel.css\"}},{\"type\":\"object\",\"name\":\"ImportedStyleSheet\",\"id\":\"p3234\",\"attributes\":{\"url\":\"https://cdn.holoviz.org/panel/1.1.1/dist/bundled/theme/default.css\"}},{\"type\":\"object\",\"name\":\"ImportedStyleSheet\",\"id\":\"p3235\",\"attributes\":{\"url\":\"https://cdn.holoviz.org/panel/1.1.1/dist/bundled/theme/native.css\"}}],\"min_width\":1000,\"margin\":0,\"sizing_mode\":\"stretch_width\",\"align\":\"start\",\"children\":[{\"type\":\"object\",\"name\":\"Spacer\",\"id\":\"p3237\",\"attributes\":{\"name\":\"HSpacer07455\",\"stylesheets\":[\"\\n:host(.pn-loading.pn-arc):before, .pn-loading.pn-arc:before {\\n  background-image: url(\\\"data:image/svg+xml;base64,PHN2ZyB4bWxucz0iaHR0cDovL3d3dy53My5vcmcvMjAwMC9zdmciIHN0eWxlPSJtYXJnaW46IGF1dG87IGJhY2tncm91bmQ6IG5vbmU7IGRpc3BsYXk6IGJsb2NrOyBzaGFwZS1yZW5kZXJpbmc6IGF1dG87IiB2aWV3Qm94PSIwIDAgMTAwIDEwMCIgcHJlc2VydmVBc3BlY3RSYXRpbz0ieE1pZFlNaWQiPiAgPGNpcmNsZSBjeD0iNTAiIGN5PSI1MCIgZmlsbD0ibm9uZSIgc3Ryb2tlPSIjYzNjM2MzIiBzdHJva2Utd2lkdGg9IjEwIiByPSIzNSIgc3Ryb2tlLWRhc2hhcnJheT0iMTY0LjkzMzYxNDMxMzQ2NDE1IDU2Ljk3Nzg3MTQzNzgyMTM4Ij4gICAgPGFuaW1hdGVUcmFuc2Zvcm0gYXR0cmlidXRlTmFtZT0idHJhbnNmb3JtIiB0eXBlPSJyb3RhdGUiIHJlcGVhdENvdW50PSJpbmRlZmluaXRlIiBkdXI9IjFzIiB2YWx1ZXM9IjAgNTAgNTA7MzYwIDUwIDUwIiBrZXlUaW1lcz0iMDsxIj48L2FuaW1hdGVUcmFuc2Zvcm0+ICA8L2NpcmNsZT48L3N2Zz4=\\\");\\n  background-size: auto calc(min(50%, 400px));\\n}\",{\"id\":\"p3236\"},{\"id\":\"p3234\"},{\"id\":\"p3235\"}],\"margin\":0,\"sizing_mode\":\"stretch_width\",\"align\":\"start\"}},{\"type\":\"object\",\"name\":\"Figure\",\"id\":\"p3243\",\"attributes\":{\"width\":1000,\"height\":400,\"margin\":[5,10],\"sizing_mode\":\"fixed\",\"align\":\"start\",\"x_range\":{\"type\":\"object\",\"name\":\"Range1d\",\"id\":\"p3238\",\"attributes\":{\"tags\":[[[\"x\",\"x\",null]]],\"start\":100.0,\"end\":2000.0,\"reset_start\":100.0,\"reset_end\":2000.0}},\"y_range\":{\"type\":\"object\",\"name\":\"Range1d\",\"id\":\"p3239\",\"attributes\":{\"tags\":[[[\"y\",\"y\",null]]],\"start\":0.008630181387819114,\"end\":0.0493478941770374,\"reset_start\":0.008630181387819114,\"reset_end\":0.0493478941770374}},\"x_scale\":{\"type\":\"object\",\"name\":\"LinearScale\",\"id\":\"p3255\"},\"y_scale\":{\"type\":\"object\",\"name\":\"LinearScale\",\"id\":\"p3257\"},\"title\":{\"type\":\"object\",\"name\":\"Title\",\"id\":\"p3246\",\"attributes\":{\"text_color\":\"black\",\"text_font_size\":\"18pt\"}},\"renderers\":[{\"type\":\"object\",\"name\":\"GlyphRenderer\",\"id\":\"p3305\",\"attributes\":{\"data_source\":{\"type\":\"object\",\"name\":\"ColumnDataSource\",\"id\":\"p3295\",\"attributes\":{\"selected\":{\"type\":\"object\",\"name\":\"Selection\",\"id\":\"p3296\",\"attributes\":{\"indices\":[],\"line_indices\":[]}},\"selection_policy\":{\"type\":\"object\",\"name\":\"UnionRenderers\",\"id\":\"p3297\"},\"data\":{\"type\":\"map\",\"entries\":[[\"x\",{\"type\":\"ndarray\",\"array\":{\"type\":\"bytes\",\"data\":\"AAAAAAAAWUAAAAAAAABpQAAAAAAAwHJAAAAAAAAAeUAAAAAAAEB/QAAAAAAAwIJAAAAAAADghUAAAAAAAACJQAAAAAAAIIxAAAAAAABAj0AAAAAAADCRQAAAAAAAwJJAAAAAAABQlEAAAAAAAOCVQAAAAAAAcJdAAAAAAAAAmUAAAAAAAJCaQAAAAAAAIJxAAAAAAACwnUAAAAAAAECfQA==\"},\"shape\":[20],\"dtype\":\"float64\",\"order\":\"little\"}],[\"y\",{\"type\":\"ndarray\",\"array\":{\"type\":\"bytes\",\"data\":\"+coZlWGHpz8QzhCm70ulP5DOEYRV2Jg/eiDE7Iqukj+9bVvhojKRP2bHHus2GZA/LLapkEwTjz9sMnfXMOONP8Ffgkz4HY0/x3986JNFjD+xdPZRcr6LP0n85119Fos/rlxXgpTOij8tg551OluKP77duipq/Yk/IXIGJV+3iT9J0YB4l2eJP7wsaDAfFok/DQ5lfZPPiD8+6RU/r5+IPw==\"},\"shape\":[20],\"dtype\":\"float64\",\"order\":\"little\"}]]}}},\"view\":{\"type\":\"object\",\"name\":\"CDSView\",\"id\":\"p3306\",\"attributes\":{\"filter\":{\"type\":\"object\",\"name\":\"AllIndices\",\"id\":\"p3307\"}}},\"glyph\":{\"type\":\"object\",\"name\":\"Line\",\"id\":\"p3302\",\"attributes\":{\"tags\":[\"apply_ranges\"],\"x\":{\"type\":\"field\",\"field\":\"x\"},\"y\":{\"type\":\"field\",\"field\":\"y\"},\"line_color\":\"#30a2da\",\"line_width\":2}},\"selection_glyph\":{\"type\":\"object\",\"name\":\"Line\",\"id\":\"p3310\",\"attributes\":{\"tags\":[\"apply_ranges\"],\"x\":{\"type\":\"field\",\"field\":\"x\"},\"y\":{\"type\":\"field\",\"field\":\"y\"},\"line_color\":\"#30a2da\",\"line_width\":2}},\"nonselection_glyph\":{\"type\":\"object\",\"name\":\"Line\",\"id\":\"p3303\",\"attributes\":{\"tags\":[\"apply_ranges\"],\"x\":{\"type\":\"field\",\"field\":\"x\"},\"y\":{\"type\":\"field\",\"field\":\"y\"},\"line_color\":\"#30a2da\",\"line_alpha\":0.1,\"line_width\":2}},\"muted_glyph\":{\"type\":\"object\",\"name\":\"Line\",\"id\":\"p3304\",\"attributes\":{\"tags\":[\"apply_ranges\"],\"x\":{\"type\":\"field\",\"field\":\"x\"},\"y\":{\"type\":\"field\",\"field\":\"y\"},\"line_color\":\"#30a2da\",\"line_alpha\":0.2,\"line_width\":2}}}},{\"type\":\"object\",\"name\":\"GlyphRenderer\",\"id\":\"p3321\",\"attributes\":{\"data_source\":{\"type\":\"object\",\"name\":\"ColumnDataSource\",\"id\":\"p3311\",\"attributes\":{\"selected\":{\"type\":\"object\",\"name\":\"Selection\",\"id\":\"p3312\",\"attributes\":{\"indices\":[],\"line_indices\":[]}},\"selection_policy\":{\"type\":\"object\",\"name\":\"UnionRenderers\",\"id\":\"p3313\"},\"data\":{\"type\":\"map\",\"entries\":[[\"x\",{\"type\":\"ndarray\",\"array\":{\"type\":\"bytes\",\"data\":\"AAAAAAAAWUAAAAAAAABpQAAAAAAAwHJAAAAAAAAAeUAAAAAAAEB/QAAAAAAAwIJAAAAAAADghUAAAAAAAACJQAAAAAAAIIxAAAAAAABAj0AAAAAAADCRQAAAAAAAwJJAAAAAAABQlEAAAAAAAOCVQAAAAAAAcJdAAAAAAAAAmUAAAAAAAJCaQAAAAAAAIJxAAAAAAACwnUAAAAAAAECfQA==\"},\"shape\":[20],\"dtype\":\"float64\",\"order\":\"little\"}],[\"y\",{\"type\":\"ndarray\",\"array\":{\"type\":\"bytes\",\"data\":\"+coZlWGHpz8QzhCm70ulP5DOEYRV2Jg/eiDE7Iqukj+9bVvhojKRP2bHHus2GZA/LLapkEwTjz9sMnfXMOONP8Ffgkz4HY0/x3986JNFjD+xdPZRcr6LP0n85119Fos/rlxXgpTOij8tg551OluKP77duipq/Yk/IXIGJV+3iT9J0YB4l2eJP7wsaDAfFok/DQ5lfZPPiD8+6RU/r5+IPw==\"},\"shape\":[20],\"dtype\":\"float64\",\"order\":\"little\"}]]}}},\"view\":{\"type\":\"object\",\"name\":\"CDSView\",\"id\":\"p3322\",\"attributes\":{\"filter\":{\"type\":\"object\",\"name\":\"AllIndices\",\"id\":\"p3323\"}}},\"glyph\":{\"type\":\"object\",\"name\":\"Scatter\",\"id\":\"p3318\",\"attributes\":{\"tags\":[\"apply_ranges\"],\"x\":{\"type\":\"field\",\"field\":\"x\"},\"y\":{\"type\":\"field\",\"field\":\"y\"},\"size\":{\"type\":\"value\",\"value\":5},\"line_color\":{\"type\":\"value\",\"value\":\"#30a2da\"},\"fill_color\":{\"type\":\"value\",\"value\":\"#30a2da\"},\"hatch_color\":{\"type\":\"value\",\"value\":\"#30a2da\"}}},\"selection_glyph\":{\"type\":\"object\",\"name\":\"Scatter\",\"id\":\"p3324\",\"attributes\":{\"tags\":[\"apply_ranges\"],\"x\":{\"type\":\"field\",\"field\":\"x\"},\"y\":{\"type\":\"field\",\"field\":\"y\"},\"size\":{\"type\":\"value\",\"value\":5},\"angle\":{\"type\":\"value\",\"value\":0.0},\"line_color\":{\"type\":\"value\",\"value\":\"#30a2da\"},\"line_alpha\":{\"type\":\"value\",\"value\":1.0},\"line_width\":{\"type\":\"value\",\"value\":1},\"line_join\":{\"type\":\"value\",\"value\":\"bevel\"},\"line_cap\":{\"type\":\"value\",\"value\":\"butt\"},\"line_dash\":{\"type\":\"value\",\"value\":[]},\"line_dash_offset\":{\"type\":\"value\",\"value\":0},\"fill_color\":{\"type\":\"value\",\"value\":\"#30a2da\"},\"fill_alpha\":{\"type\":\"value\",\"value\":1.0},\"hatch_color\":{\"type\":\"value\",\"value\":\"#30a2da\"},\"hatch_alpha\":{\"type\":\"value\",\"value\":1.0},\"hatch_scale\":{\"type\":\"value\",\"value\":12.0},\"hatch_pattern\":{\"type\":\"value\",\"value\":null},\"hatch_weight\":{\"type\":\"value\",\"value\":1.0},\"marker\":{\"type\":\"value\",\"value\":\"circle\"}}},\"nonselection_glyph\":{\"type\":\"object\",\"name\":\"Scatter\",\"id\":\"p3319\",\"attributes\":{\"tags\":[\"apply_ranges\"],\"x\":{\"type\":\"field\",\"field\":\"x\"},\"y\":{\"type\":\"field\",\"field\":\"y\"},\"size\":{\"type\":\"value\",\"value\":5},\"line_color\":{\"type\":\"value\",\"value\":\"#30a2da\"},\"line_alpha\":{\"type\":\"value\",\"value\":0.1},\"fill_color\":{\"type\":\"value\",\"value\":\"#30a2da\"},\"fill_alpha\":{\"type\":\"value\",\"value\":0.1},\"hatch_color\":{\"type\":\"value\",\"value\":\"#30a2da\"},\"hatch_alpha\":{\"type\":\"value\",\"value\":0.1}}},\"muted_glyph\":{\"type\":\"object\",\"name\":\"Scatter\",\"id\":\"p3320\",\"attributes\":{\"tags\":[\"apply_ranges\"],\"x\":{\"type\":\"field\",\"field\":\"x\"},\"y\":{\"type\":\"field\",\"field\":\"y\"},\"size\":{\"type\":\"value\",\"value\":5},\"line_color\":{\"type\":\"value\",\"value\":\"#30a2da\"},\"line_alpha\":{\"type\":\"value\",\"value\":0.2},\"fill_color\":{\"type\":\"value\",\"value\":\"#30a2da\"},\"fill_alpha\":{\"type\":\"value\",\"value\":0.2},\"hatch_color\":{\"type\":\"value\",\"value\":\"#30a2da\"},\"hatch_alpha\":{\"type\":\"value\",\"value\":0.2}}}}},{\"type\":\"object\",\"name\":\"GlyphRenderer\",\"id\":\"p3335\",\"attributes\":{\"data_source\":{\"type\":\"object\",\"name\":\"ColumnDataSource\",\"id\":\"p3325\",\"attributes\":{\"selected\":{\"type\":\"object\",\"name\":\"Selection\",\"id\":\"p3326\",\"attributes\":{\"indices\":[],\"line_indices\":[]}},\"selection_policy\":{\"type\":\"object\",\"name\":\"UnionRenderers\",\"id\":\"p3327\"},\"data\":{\"type\":\"map\",\"entries\":[[\"x\",{\"type\":\"ndarray\",\"array\":{\"type\":\"bytes\",\"data\":\"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\"},\"shape\":[1800],\"dtype\":\"int32\",\"order\":\"little\"}],[\"y\",{\"type\":\"ndarray\",\"array\":{\"type\":\"bytes\",\"data\":\"TAwCLRZPpT+y3c8osRelP36xdsPP4aQ/MAVKT2KtpD/2ujH0WXqkP2D6pKGoSKQ/wh+8AUEYpD/6vEBtFumjP8M0peAcu6M/vrfP8UiOoz9QaKbGj2KjPyExTAznN6M/6W7/7kQOoz9U+IwSoOWiPzZSS4vvvaI/NgCT1yqXoj/y5anZSXGiP/aVGNJETKI/uz1hWhQooj/QmhBgsQSiP04PIiAV4qE/rIWwIjnAoT90Xu42F5+hPyEgX2+pfqE/5BJOHupeoT8cWX3S0z+hP9RyCVRhIaE/WG99oY0DoT9SXRTtU+agP/bPJJqvyaA/3o+zOpytoD+VyCqNFZKgP/g4M3oXd6A/eh2tEp5coD+Kt8aNpUKgP3p+LkcqKaA/HitfvSgQoD8L5AcgO++fP4G+5vwKv58/Qsd+zLqPnz+de7KDRGGfP+UDkE6iM58/QTLhjc4Gnz+tTNzUw9qeP9qj8+Z8r54/0hvCtfSEnj+/6xJfJluePwv4AisNMp4/6UU6iqQJnj/gIDwU6OGdP7KizIXTup0/+WNqv2KUnT8qMNvDkW6dP5qqyrZcSZ0/qeN5278knT+B7X6TtwCdP/iOk11A3Zw/M0Fy1Fa6nD/NscCt95ecP1sPB7kfdpw/pHGz3stUnD9LuSgf+TOcP7NM2JGkE5w/8iBmZMvzmz9dhtbZatSbPyY4xUmAtZs/CDalHwmXmz8W9gjaAnmbPx6D8glrW5s/byIrUj8+mz9aIaJmfSGbP05w0gsjBZs/VbYuFi7pmj+cjJNpnM2aP/aVv/hrspo/jCrRxJqXmj/GU8ncJn2aPzjYE10OY5o/qhoUb09Jmj/IkrZI6C+aP9KoBizXFpo/ssDIZhr+mT+PQxhSsOWZP055CVKXzZk/GgZP1c21mT8k4uJUUp6ZP+CjslMjh5k/QPdOXj9wmT8OHp4KpVmZP3dXkfdSQ5k/iw7dzEctmT/vsLM6gheZP6QQg/kAApk/DjW0ycLsmD/tgG1zxteYP/kTV8YKw5g/YFBhmY6umD8wbY3KUJqYPxMAuD5Qhpg/jmll4YtymD8gEJCkAl+YP1xXeICzS5g/FkF2c504mD+Gp8yBvyWYP/v/fbUYE5g/kpYiHqgAmD8INMDQbO6XP3Afo+dl3Jc/Km44gpLKlz8nlenE8biXPxwv+diCp5c/p+tg7ESWlz8qnLAxN4WXP3JT7t9YdJc/w413Mqljlz9mV+NoJ1OXPyho5cbSQpc/tCoylKoylz8Cp2McriKXP51H367cEpc/jnG8njUDlz9u56tCuPOWPybw3/Rj5JY/Wjr1EjjVlj+vddz9M8aWP4mbxBlXt5Y/5OAFzqColj9qSw2FEJqWP/jjSKyli5Y/I4EUtF99lj9WJKcPPm+WP5vkADVAYZY/BmLZnGVTlj88vY7CrUWWP2gOFSQYOJY/clfmQaQqlj847fKeUR2WP8ZTksAfEJY/xol0Lg4Dlj9mv5NyHPaVPx51JhlK6ZU//f6RsJbclT8jaV3JAdCVPzO6JPaKw5U/xJCMyzG3lT/IGDbg9aqVPyZWs8zWnpU/wMF7K9SSlT9DNuGY7YaVPzoqBbMie5U//jTOGXNvlT8L3N1u3mOVP5CmhlVkWJU/+3TCcgRNlT9rGiltvkGVP/A15+yRNpU/tUm1m34rlT8gDs8khCCVPxr/6jSiFZU/ryEyetgKlT9qADikJgCVP6Tc8mOM9ZQ/UBO0awnrlD+gsyBvneCUPx9GKiNI1pQ/tcIHPgnMlD9OtC534MGUP7qITIfNt5Q/ggtAKNCtlD9vChMV6KOUP44i9AkVmpQ/jLQwxFaQlD81/y4CrYaUPxtfaIMXfZQ/NrJjCJZzlD+Q3q9SKGqUP/R63iTOYJQ/qJh+QodXlD9LrRdwU06UP++bJHMyRZQ/i9wOEiQ8lD/2wCkUKDOUP5DWrUE+KpQ/3mO0Y2YhlD88ATNEoBiUPwBM963rD5Q/VLOibEgHlD/0XaZMtv6TP1koPxs19pM/eLpxpsTtkz+TtAa9ZOWTP2nyhi4V3ZM/QeQ3y9XUkz8q/RdkpsyTP+s128qGxJM/EqTn0Xa8kz+jJFJMdrSTP9YZ2w2FrJM/eTvr6qKkkz9ieZC4z5yTP5DvekwLlZM/gOv5fFWNkz80AvkgroWTP5o2/Q8VfpM/2i8iIop2kz8hfxcwDW+TP4r0HROeZ5M/yAIFpTxgkz8nMSjA6FiTP5KbbD+iUZM/QYA+/mhKkz+22o7YPEOTP7gL0aodPJM//Y34UQs1kz8rt3arBS6TP+mEOJUMJ5M/sXWk7R8gkz8hbZiTPxmTP3ijZ2ZrEpM/CKDYRaMLkz9LPiMS5wSTP2O97qs2/pI/ytlP9JH3kj/i8MbM+PCSPz8uPhdr6pI/XMIHtujjkj+UItyLcd2SPxpS2HsF15I/vzN8aaTQkj9S5Kg4TsqSP20dn80CxJI/aKD9DMK9kj9gqb/bi7eSPwhqOx9gsZI/IowgvT6rkj97u3abJ6WSPyY3nKAan5I/7GlEsxeZkj+liXa6HpOSP3Y9jJ0vjZI/qkowREqHkj8USF2WboGSP9lXXHyce5I/aefD3tN1kj+VdXamFHCSP55eobxeapI/DK67CrJkkj9H9oR6Dl+SP7MtBPZzWZI/S5GGZ+JTkj+NjJ65WU6SP5qmItfZSJI/dHQsq2JDkj8/kBch9D2SP1eVgCSOOJI/PCFEoTAzkj8j2X2D2y2SPyF0h7eOKJI/y8n3KUojkj885aHHDR6SP2gclH3ZGJI/oCsXOa0Tkj81Va3niA6SPyGFEXdsCZI/ong21VcEkj+z6UXwSv+RP0y+n7ZF+pE/WDvZFkj1kT9HO7z/UfCRPzJoRmBj65E/fHmoJ3zmkT/QdEVFnOGRP4XysajD3JE/P2WzQfLXkT/CZD8AKNORP+/7etRkzpE/1Pm5rqjJkT+5RX5/88SRPyo2dzdFwJE/5OqAx527kT+OqaMg/baRP1E9EzRjspE/DVku88+tkT9T/H1PQ6mRP/DatDq9pJE/C8eupj2gkT/NHXCFxJuRP3s2JclRl5E//dMhZOWSkT/JmOBIf46RPxp9AmofipE/d0dOusWFkT9zB7AscoGRP56SOLQkfZE/oAMdRN14kT9vO7bPm3SRP5pkgEpgcJE/mHgaqCpskT8Yx0Xc+meRP0Z/5drQY5E//Dr+l6xfkT/Si7UHjluRPwmKUR51V5E/SWU40GFTkT8h9+8RVE+RP0lXHdhLS5E/nHGEF0lHkT/AnQfFS0ORP3I4p9VTP5E/cT6BPmE7kT8J6dD0czeRPyFM7u2LM5E/2PVNH6kvkT+oj4B+yyuRP/eAMgHzJ5E/KpMrnR8kkT8Yl05IUSCRP+4LmfiHHJE/Z8cipMMYkT9snx1BBBWRP/oU1cVJEZE/WwCuKJQNkT+rPiZg4wmRP5Fg1GI3BpE/RVpnJ5ACkT+9NKak7f6QPxTAb9FP+5A/G0e6pLb3kD8KRJMVIvSQP1wWHxuS8JA/v7mYrAbtkD8eflHBf+mQP7vAsFD95ZA/XaYzUn/ikD9+1my9Bd+QP4I3BIqQ25A/7qu2rx/YkD+Y0FUms9SQP9C7x+VK0ZA/fL0G5ubNkD8eICEfh8qQP9DqOIkrx5A/FqSDHNTDkD+iFUrRgMCQP+8Q6J8xvZA/uzTMgOa5kD9Rs3dsn7aQP7MZfltcs5A/iReFRh2wkD/kR0Qm4qyQP8n6hPOqqZA/fv8hp3emkD+fbwc6SKOQP/J6MqUcoJA/9jOx4fSckD8pXaLo0JmQPwo3NbOwlpA/yk6pOpSTkD+wTU54e5CQPyjJg2VmjZA/gBO5+1SKkD9KDW00R4eQP2b3LQk9hJA/qkWZczaBkD8wclttM36QP0HRL/Aze5A/0GXg9Td4kD+ftkV4P3WQP+2jRnFKcpA/vD3Y2lhvkD+mmv2uamyQP0ivx+d/aZA/LSZVf5hmkD9UONJvtGOQPy6GeLPTYJA/LfGORPZdkD/UdWkdHFuQP0YGaThFWJA/XGX7j3FVkD8xApseoVKQPzDUzt7TT5A/lzcqywlNkD96ykzeQkqQPzRK4hJ/R5A/T3GiY75EkD/m1VDLAEKQP2nIvERGP5A/4jLByo48kD+aeERY2jmQPy5WOOgoN5A/EsKZdXo0kD98zXD7zjGQP6qF0HQmL5A/o9XW3IAskD9KaKwu3imQP9uKhGU+J5A/yA+dfKEkkD/5MT5vByKQP194ujhwH5A/9Zlu1NsckD8MYsE9ShqQP/qUI3C7F5A/IdUPZy8VkD9KiAoephKQP1y9oZAfEJA/XRJtupsNkD/Umg2XGguQP3XGLSKcCJA/IEiBVyAGkD8u/cQypwOQPxLVvq8wAZA/jHJ7lHn9jz/66jL8lviPP1dAZY65848/qgblQuHujz9CC5YRDuqPP3wnbfI/5Y8/BhRw3Xbgjz/GPLXKstuPPzGVY7Lz1o8/QG2yjDnSjz/fRulRhM2PP+arX/rTyI8/kgR9fijEjz+CbrjWgb+PPyuUmPvfuo8/14Sz5UK2jz8Sja6NqrGPP5YPPuwWrY8/tF4l+oeojz8qljaw/aOPP3J1Ugd4n48/hjpo+Paajz8WfXV8epaPPyYKhowCko8/I8CzIY+Njz9kayY1IImPPw6jE8C1hI8/bqa+u0+Ajz+yOngh7nuPPw6JnuqQd48/Qv2cEDhzjz+KJOyM426PP+qMEVmTao8/5qSfbkdmjz+MmzXH/2GPP+lAf1y8XY8/0uY0KH1Zjz8UQhskQlWPP/dLA0oLUY8/GCTKk9hMjz+o8lj7qUiPP/jKpHp/RI8/XI6uC1lAjz9pz4KoNjyPP4C1OUsYOI8/s+D27f0zjz/2TemK5y+PP6A7SxzVK48/Rg5inMYnjz/WNX4FvCOPPwYT+1G1H48/F90+fLIbjz/Wh7p+sxePP/Kp6VO4E48/lGNS9sAPjz9IRYVgzQuPPyI3HY3dB48/OmC/dvEDjz9dDhsYCQCPPwye6Wsk/I4/wGLubEP4jj9sj/YVZvSOP0Uf2WGM8I4/yb52S7bsjj8JtbnN4+iOPzPNleMU5Y4/VkAIiEnhjj9snxe2gd2OP5e902i92Y4/qZpVm/zVjj/YTb9IP9KOP7jwO2yFzo4/bIr/AM/Kjj8R+0YCHMeOP13nV2tsw44/f6SAN8C/jj8xJBhiF7yOPwDhfeZxuI4/zMoZwM+0jj+AM1zqMLGOP/S7vWCVrY4/FkG/Hv2pjj8xyekfaKaOP3dxzl/Woo4/tFsG2kefjj84nDKKvJuOP+4n/Gs0mI4/pMITe6+Ujj+G7TGzLZGOP8bVFhCvjY4/b0OKjTOKjj9riFsnu4aOP7VvYdlFg44/uSx6n9N/jj/cSot1ZHyOPzWdgVf4eI4/bi5RQY91jj/QMPUuKXKOP3vubxzGbo4/ybnKBWZrjj/T3RXnCGiOPyePaLyuZI4/otzggVdhjj9yoKMzA16OP0Jx3M2xWo4/iJO9TGNXjj/96n+sF1SOPzzsYunOUI4/go6s/4hNjj+WPanrRUqOP9PLq6kFR44/XmQNNshDjj9zfS2NjUCOP+DKcatVPY4/njBGjSA6jj+PtRwv7jaOP1d2bY2+M44/ZJi2pJEwjj8JPXxxZy2OP8V0SPA/Ko4/oDKrHRsnjj+2Pzr2+COOP9IukXbZII4/NFBRm7wdjj9xpSFhohqOP3TVrsSKF44/miCrwnUUjj/vVM5XYxGOP4nC1YBTDo4//C+EOkYLjj/wzqGBOwiOP9Iw/FIzBY4/njtmqy0Cjj/LHriHKv+NP0pIz+Qp/I0/r1mOvyv5jT9iHd0UMPaNP/p7qOE2840/qnHiIkDwjT/QA4LVS+2NP5E2g/ZZ6o0/nALngmrnjT8BS7N3feSNPxzT8tGS4Y0/ojS1jqrejT++1Q6rxNuNP0vfGCTh2I0/JzPx9v/VjT+ZYrogIdONP8+km55E0I0/eM3AbWrNjT9wQ1qLksqNP4X3nPS8x40/T1vCpunEjT8kWAifGMKNPxxGsdpJv40/LOMDV328jT9bSksRs7mNPwbr1gbrto0/OoD6NCW0jT8qCA6ZYbGNP6q7bTCgro0/0AV6+OCrjT+de5fuI6mNP8DTLhBppo0/ZN6sWrCjjT8hfYLL+aCNP+6aJGBFno0/MiQMFpObjT/m/rXq4piNP8QCo9s0lo0/kvFX5oiTjT9wb10I35CNP0z7Pz83jo0/VeePiJGLjT+MUeHh7YiNP2AczEhMho0/YOfruqyDjT/0B+A1D4GNPzqCS7dzfo0/2gHVPNp7jT8G0ybEQnmNP3Hb7kqtdo0/aJPezhl0jT/0/qpNiHGNPwqnDMX4bo0/0JK/MmtsjT/rQIOU32mNP+egGuhVZ40/nQxMK85kjT+6QeFbSGKNP0pbp3fEX40/VMtufEJdjT+IVAtowlqNP/IDVDhEWI0/zCoj68dVjT9HWFZ+TVONP3xTzu/UUI0/UxVvPV5OjT+Iwh9l6UuNP7elymR2SY0/cyldOgVHjT9y0sfjlUSNP7w5/l4oQo0/8gb3qbw/jT+a6qvCUj2NP3eYGafqOo0/9cE/VYQ4jT+cECHLHzaNP44gwwa9M40/FnsuBlwxjT8/kW7H/C6NP3q2kUifLI0/TBuph0MqjT8QyMiC6SeNP7aXBziRJY0/njJ/pTojjT9vCUzJ5SCNPwtQjaGSHo0/evhkLEEcjT/wrfdn8RmNP9XPbFKjF40/3Gzu6VYVjT8lPqksDBONP2SizBjDEI0/GpmKrHsOjT/TvRfmNQyNP3JDq8PxCY0/hu9+Q68HjT+jFc9jbgWNP9KS2iIvA40//MjifvEAjT9wmit2tf6MP11l+wZ7/Iw/av+aL0L6jD9LsVXuCviMP2cyeUHV9Yw/gKRVJ6HzjD9ojz2ebvGMP8LchaQ974w/ytOFOA7tjD8cFZdY4OqMP5uWFQO06Iw/SJ9fNonmjD8vw9XwX+SMP13f2jA44ow/2hXU9BHgjD+sySg77d2MP+SaQgLK24w/tmKNSKjZjD+QL3cMiNeMP0RBcExp1Yw/MwXrBkzTjD+FElw6MNGMP2ImOuUVz4w/OyD+Bf3MjD8S/iKb5cqMP9XYJaPPyIw/suCFHLvGjD+DWcQFqMSMPzOXZF2Wwow/M/rrIYbAjD/y6+FRd76MP2Lbz+tpvIw/ejlB7l26jD/MdcNXU7iMPxj75SZKtow/6Ss6WkK0jD86X1PwO7KMPyLdxuc2sIw/h9srPzOujD/Tehv1MKyMP7fCMAgwqow/8Z4IdzCojD8U3EFAMqaMP2QkfWI1pIw/pfxc3DmijD8EwYWsP6CMP/ehndFGnow/LaFMSk+cjD+AjjwVWZqMP+wEGTFkmIw/kGePnHCWjD+13k5WfpSMP9JUCF2Nkow/pHNur52QjD9AoTVMr46MPzX9EzLCjIw/pl3BX9aKjD96TPfT64iMP4QEcY0Ch4w/vW7rihqFjD9zHyXLM4OMP5FT3kxOgYw/3e3YDmp/jD9DdNgPh32MPyINok6le4w/pXz8ycR5jD8UIrCA5XeMPzr1hnEHdow/w4NMmyp0jD+o7s38TnKMP5rn2ZR0cIw/eq5AYptujD/JDtRjw2yMPyldZ5jsaow/4XTP/hZpjD9eteKVQmeMP8L/eFxvZYw/crRrUZ1jjD+ssJVzzGGMPyBM08H8X4w/jVYCOy5ejD9nFQLeYFyMP3hBs6mUWow/lAT4nMlYjD9B97O2/1aMP3IezPU2VYw/O+kmWW9TjD+SLqzfqFGMPxIrRYjjT4w/un7cUR9OjD/BKl47XEyMP1qPt0OaSow/kmnXadlIjD8c0a2sGUeMPzU2LAtbRYw/e19FhJ1DjD/YZ+0W4UGMP2G8GcIlQIw/SBrBhGs+jD/IjNtdsjyMPxZrYkz6Oow/WlZQT0M5jD+qN6FljTeMPwk+Uo7YNYw/Y9xhyCQ0jD+ax88ScjKMP4/0nGzAMIw/KpbL1A8vjD9vG19KYC2MP5EtXMyxK4w/Da7IWQQqjD+/tKvxVyiMPwmODZOsJow/8Lj3PAIljD9D5XTuWCOMP8jxkKawIYw/ZepYZAkgjD9RBtsmYx6MP0imJu29HIw/w1JMthkbjD8wul2BdhmMPzOvbU3UF4w/4iaQGTMWjD8NN9rkkhSMP4IUYq7zEow/WhE/dVURjD9Em4k4uA+MP9c5W/cbDow/5IzOsIAMjD/QSv9j5gqMP+k+ChBNCYw/xkcNtLQHjD+kVSdPHQaMP8toeOCGBIw/9I8hZ/ECjD+s5kTiXAGMP8WTBVHJ/4s/xMeHsjb+iz9Nu/AFpfyLP5utZkoU+4s/9eIQf4T5iz8noxej9feLPwA4pLVn9os/z+vgtdr0iz/iB/miTvOLPxDTGHzD8Ys/O5BtQDnwiz/bfCXvr+6LP4rPb4cn7Ys/krZ8CKDriz9/Vn1xGeqLP7LIo8GT6Is/9xkj+A7niz8eSS8Ui+WLP5hF/RQI5Is/D+7C+YXiiz8PD7fBBOGLP6BhEWyE34s/7okK+ATeiz/1FdxkhtyLPyF8wLEI24s/Ahrz3YvZiz/4MrDoD9iLP+TuNNGU1os/11i/lhrViz/OXY44odOLP2TL4bUo0os/j076DbHQiz9achlAOs+LP6OegUvEzYs/3RZ2L0/Miz/S+Drr2sqLP2c7FX5nyYs/Yq1K5/THiz8z9CEmg8aLP8KK4jkSxYs/OcDUIaLDiz/UtkHdMsKLP7Jic2vEwIs/qIi0y1a/iz8YvVD96b2LP8RilP99vIs/rqnM0RK7iz/rjUdzqLmLP4jWU+M+uIs/YhRBIda2iz8OoV8sbrWLP7idAAQHtIs/BPJ1p6Cyiz/9ShIWO7GLP/kZKU/Wr4s/g5MOUnKuiz9IrhceD62LPwcimrKsq4s/fWbsDkuqiz9ZsmUy6qiLPzD6XRyKp4s/c+8tzCqmiz9i/y5BzKSLPwhSu3puo4s/NMkteBGiiz96/+E4taCLPyZHNLxZn4s/SKmBAf+diz+u5CcIpZyLP+Zshc9Lm4s/SGn5VvOZiz/4s+Odm5iLP/DYpKNEl4s/BxWeZ+6Viz/+VDHpmJSLP440wSdEk4s/cP2wIvCRiz92pmTZnJCLP5XSQEtKj4s/+c+qd/iNiz8dlwhep4yLP93JwP1Wi4s/kLI6VgeKiz8gQ95muIiLPyMUFC9qh4s/+GNFrhyGiz/mFdzjz4SLPzmxQs+Dg4s/YWDkbziCiz8W8CzF7YCLP3rOiM6jf4s/Pgpli1p+iz/HUS/7EX2LP1byVR3Ke4s/MNdH8YJ6iz/JiHR2PHmLP+4rTKz2d4s/9IA/krF2iz/j4r8nbXWLP6ZGP2wpdIs/QDowX+Zyiz/44wUApHGLP44BNE5icIs/c+cuSSFviz/6f2vw4G2LP5RKX0OhbIs/BFuAQWJriz+aWEXqI2qLP3B9JT3maIs/pJWYOalniz+U/hbfbGaLPyKmGS0xZYs/7gkaI/Zjiz+YNpLAu2KLPwXH/ASCYYs/oePU70hgiz+hQZaAEF+LP04ivbbYXYs/RFLGkaFciz/EKC8Ra1uLP/OGdTQ1Wos/LNcX+/9Yiz9GDJVky1eLP+WgbHCXVos/xJYeHmRViz8FdittMVSLP4FMFF3/Uos/GK1a7c1Riz8Gr4AdnVCLPy/tCO1sT4s/fIV2Wz1Oiz8pGE1oDk2LPyDHEBPgS4s/SjVGW7JKiz/xhXJAhUmLPw9cG8JYSIs/rtnG3yxHiz9Bn/uYAUaLPwTLQO3WRIs/Uvgd3KxDiz8NPxtlg0KLP/MywYdaQYs/BuOYQzJAiz/p2CuYCj+LP0QYBIXjPYs/JR6sCb08iz9o4K4llzuLPxfNl9hxOos/0snyIU05iz84M0wBKTiLP0zcMHYFN4s/3Q0ugOI1iz/yhdEewDSLPzR3qVGeM4s/V4hEGH0yiz+K0zFyXDGLP9/lAF88MIs/wL5B3hwviz9Vz4Tv/S2LP/75WpLfLIs/uJFVxsEriz+aWQaLpCqLP0CE/9+HKYs/PbPTxGsoiz+V9hU5UCeLPy/MWTw1Jos/SB8zzholiz/rRzbuACSLP20K+JvnIos/3JYN184hiz9/iAyftiCLP03livOeH4s/aB0f1Iceiz+WCmBAcR2LP8Hv5DdbHIs/cHhFukUbiz9GuBnHMBqLP4Iq+l0cGYs/erF/fggYiz8glkMo9RaLP3qH31riFYs/MJrtFdAUiz8DSAhZvhOLP1JvyiOtEos/olLPdZwRiz8gmLJOjBCLPyBJEK58D4s/rdGEk20Oiz8IAK3+Xg2LPzIEJu9QDIs/cG+NZEMLiz/YM4FeNgqLP9qjn9wpCYs/xnGH3h0Iiz9Zr9djEgeLP0bNL2wHBos/x5ov9/wEiz8kRXcE8wOLP0BXp5PpAos/LblgpOABiz+zr0Q22ACLP+Tb9EjQ/4o/qjoT3Mj+ij9YJELvwf2KPzhMJIK7/Io/IcBclLX7ij8J6I4lsPqKP5OFXjWr+Yo/qbNvw6b4ij8K5mbPoveKP+To6Fif9oo/ZeCaX5z1ij9VSCLjmfSKP6nzJOOX84o/HQxJX5byij/JETVXlfGKP7zaj8qU8Io/kpIAuZTvij8Qui4ile6KP7wmwgWW7Yo/fAJjY5fsij8ry7k6meuKPzdSb4ub6oo/QLwsVZ7pij+zgJuXoeiKP2ZpZVKl54o/N5I0hanmij+saLMvruWKP5GrjFGz5Io/lmpr6rjjij/yBfv5vuKKPwEu53/F4Yo/5+Lbe8zgij8zdIXt09+KP3yAkNTb3oo/CvWpMOTdij90DX8B7dyKP0pTvUb224o/sJ0SAADbij8PES0tCtqKP64eu80U2Yo/YIRr4R/Yij8pTO1nK9eKP+DL72A31oo/3qQizEPVij+dwzWpUNSKP2pf2fdd04o/BPq9t2vSij9NX5ToedGKP++kDYqI0Io/CCrbm5fPij/Ulq4dp86KP1jcOQ+3zYo/DzQvcMfMij+VH0FA2MuKP1JoIn/pyoo/KB+GLPvJij8jnB9IDcmKPyN+otEfyIo/iqrCyDLHij/wTDQtRsaKP83Wq/5ZxYo/KP/dPG7Eij9Lwn/ngsOKP3NhRv6Xwoo/fGLngK3Bij+ajxhvw8CKPwL3j8jZv4o/o+oDjfC+ij/W/yq8B76KPxAPvFUfvYo/mTNuWTe8ij86y/jGT7uKP/Z1E55ouoo/vhV23oG5ij8iztiHm7iKPw4E9Jm1t4o/d12AFNC2ij8YwTb36rWKPyVW0EEGtYo/A4QG9CG0ij//8ZINPrOKPwiHL45asoo/Y2mWdXexij9n/oHDlLCKPzTqrHeyr4o/bQ/SkdCuij/zjqwR762KP5rH9/YNrYo/7FVvQS2sij/aE8/wTKuKP38Y0wRtqoo/1bc3fY2pij94grlZrqiKP1tFFZrPp4o/igkIPvGmij/jE09FE6aKP9bkp681pYo/ITjQfFikij+QBIase6OKP7Z7hz6fooo/tAmTMsOhij/xVGeI56CKP9w9wz8MoIo/qt5lWDGfij8Ziw7SVp6KPy/QfKx8nYo/+HNw56Kcij9MdamCyZuKP4wL6H3wmoo/ZKbs2Beaij+Q7XeTP5mKP5zASq1nmIo/pjYmJpCXij8insv9uJaKP558/DPilYo/hI56yAuVij/dxge7NZSKPxlPZgtgk4o/z4ZYuYqSij+FA6HEtZGKP3OQAi3hkIo/SS5A8gyQij/2Eh0UOY+KP2ypXJJljoo/ZpHCbJKNij8xnxKjv4yKP3HbEDXti4o/6YKBIhuLij9CBilrSYqKP9AJzA54iYo/YWUvDaeIij/+Ixhm1oeKP7iDSxkGh4o/bvWOJjaGij+ZHKiNZoWKPxPPXE6XhIo/4RRzaMiDij//J7Hb+YKKPyh03acrgoo/opa+zF2Bij8GXhtKkICKPxDKuh/Df4o/ZAtkTfZ+ij9gg97SKX6KP+LD8a9dfYo/Go9l5JF8ij9R1wFwxnuKP7i+jlL7eoo/NJfUizB6ij8u4psbZnmKP1xQrQGceIo/ksHRPdJ3ij+PRNLPCHeKP8kWeLc/doo/PqSM9HZ1ij9Eh9mGrnSKP1GIKG7mc4o/1J1Dqh5zij/66/Q6V3KKP4jEBiCQcYo/oqZDWclwij+fPnbmAnCKP9llacc8b4o/gCLo+3Zuij9kp72DsW2KP89TtV7sbIo/TbOajCdsij+GfTkNY2uKPwiWXeCeaoo/IAzTBdtpij+nGmZ9F2mKP9Yn40ZUaIo/GsUWYpFnij/mrs3OzmaKP4PM1IwMZoo/6C/5m0plij+NFQj8iGSKPznkzqzHY4o/3iwbrgZjij9nqrr/RWKKP5BBe6GFYYo/uAArk8Vgij+4H5jUBWCKP7X/kGVGX4o/+SrkRYdeij/HVGB1yF2KPy5Z1PMJXYo/4jwPwUtcij8SLeDcjVuKPzx/FkfQWoo/A7GB/xJaij8MaPEFVlmKP8txNVqZWIo/YsMd/NxXij90eXrrIFeKPwDYGyhlVoo/M0rSsalVij9GYm6I7lSKP1DZwKszVIo/Jo+aG3lTij8qiszXvlKKPyv3J+AEUoo/Oyl+NEtRij+HmaDUkVCKPzLnYMDYT4o/LdeQ9x9Pij8QVAJ6Z06KP/hth0evTYo/WVryX/dMij/hcxXDP0yKP0o6w3CIS4o/O1LOaNFKij8fhQmrGkqKPwDBRzdkSYo/YxhcDa5Iij8jwhkt+EeKP0wZVJZCR4o/95zeSI1Gij8i8IxE2EWKP5PZMokjRYo/rkOkFm9Eij9TPLXsukOKP7r0OQsHQ4o/UcEGclNCij+WGfAgoEGKP/iXyhftQIo/r/lqVjpAij+cHqbchz+KPyYJUarVPoo/GN5AvyM+ij985Eobcj2KP32FRL7APIo/QkwDqA88ij/M5VzYXjuKP9cgJ0+uOoo/s+03DP45ij8rXmUPTjmKP1ulhVieOIo/lBdv5+43ij87Kvi7PzeKP6Zz99WQNoo//KpDNeI1ij8WqLPZMzWKP15jHsOFNIo/rPVa8dczij8smEBkKjOKPzikpht9Moo/OpNkF9Axij+R/lFXIzGKP2qfRtt2MIo/pk4ao8ovij+5BKWuHi+KP4zZvv1yLoo/XARAkMctij+f2wBmHC2KP+DU2X5xLIo/poSj2sYrij9SnjZ5HCuKPwT0a1pyKoo/eXYcfsgpij/wNCHkHimKPw1dU4x1KIo/tjqMdswnij/+N6WiIyeKPwDddxB7Joo/xs/dv9Ilij8q1LCwKiWKP7rLyuKCJIo/nLUFVtsjij9vrjsKNCOKPzDwRv+MIoo/HtIBNeYhij+byEarPyGKPxRl8GGZIIo/41XZWPMfij8wZtyPTR+KP9t91AaoHoo/W6GcvQIeij+n8Q+0XR2KPxesCeq4HIo/TCplXxQcij8P4v0TcBuKPz5lrwfMGoo/rGFVOigaij8FocurhBmKP7gI7lvhGIo/2pmYSj4Yij8Icad3mxeKP1XG9uL4Foo/KO1ijFYWij8mVMhztBWKPxWFA5kSFYo/xiTx+3AUij/58m2czxOKP0PKVnouE4o/9Z+IlY0Sij8EhODt7BGKP+2gO4NMEYo/njt3VawQij9cs3BkDBCKP6uBBbBsD4o/MjoTOM0Oij+oinf8LQ6KP7U6EP2ODYo/3yu7OfAMij9tWVayUQyKP1PYv2azC4o/FtfVVhULij+2nXaCdwqKP5aNgOnZCYo/YyHSizwJij/97ElpnwiKP2CdxoECCIo/i/gm1WUHij9q3UljyQaKP7xDDiwtBoo/AjxTL5EFij9e7/ds9QSKP4Wf2+RZBIo/pKbdlr4Dij9Jd92CIwOKP06cuqiIAoo/wLhUCO4Bij/Jh4uhUwGKP57cPnS5AIo/YqJOgB8Aij8S3JrFhf+JP3OkA0Ts/ok/9C1p+1L+iT+hwqvruf2JPwXEqxQh/Yk/GqtJdoj8iT8xCGYQ8PuJP9yC4eJX+4k/2tmc7b/6iT/+4ngwKPqJPyKLVquQ+Yk/BtYWXvn4iT9F3ppIYviJPzvVw2rL94k/8QJzxDT3iT8IxolVnvaJP6aT6R0I9ok/XvdzHXL1iT8dkwpU3PSJPxkfj8FG9Ik/tmnjZbHziT92V+lAHPOJP+TiglKH8ok/gRySmvLxiT+sKvkYXvGJP5NJms3J8Ik/G8tXuDXwiT/PFhTZoe+JP8upsS8O74k/qRYTvHruiT9sBRt+5+2JP28zrHVU7Yk/T3OposHsiT/arPUEL+yJP/ncc5yc64k/ohUHaQrriT+8fZJqeOqJPxhR+aDm6Yk/UuAeDFXpiT/IkOarw+iJP4DcM4Ay6Ik/GlLqiKHniT+9lO3FEOeJPwBcITeA5ok/3nNp3O/liT+gvKm1X+WJP8sqxsLP5Ik/DMeiA0DkiT8triN4sOOJP/oQLSAh44k/MzSj+5HiiT99cGoKA+KJP0syZ0x04Yk/0Pl9weXgiT/qWpNpV+CJPxX9i0TJ34k/VZtMUjvfiT8oBLqSrd6JP3AZuQUg3ok/adAuq5LdiT+QMQCDBd2JP5hYEo143Ik/VXRKyevbiT+rxo03X9uJP4KkwdfS2ok/rnXLqUbaiT/jtJCtutmJP6Tv9uIu2Yk/McbjSaPYiT906zziF9iJP/gk6KuM14k/0ErLpgHXiT+MR8zSdtaJPyYY0S/s1Yk/9cu/vWHViT+ZhH5819SJP+x182tN1Ik/9eUEjMPTiT/TLJncOdOJP7C0ll2w0ok/svnjDifSiT/qiWfwndGJP0MFCAIV0Yk/dB2sQ4zQiT/xlTq1A9CJP9pDmlZ7z4k/6w2yJ/POiT9v7Ggoa86JPy7ppVjjzYk/YR9QuFvNiT+gu05H1MyJP9L7iAVNzIk/Iy/m8sXLiT/ttU0PP8uJP7IBp1q4yok/B5XZ1DHKiT+GA819q8mJP8HxaFUlyYk/MxWVW5/IiT8vNDmQGciJP9UlPfOTx4k/ANKIhA7HiT85MQREicaJP6tMlzEExok/ED4qTX/FiT+lL6WW+sSJPx1c8A12xIk/kQ70svHDiT9yopiFbcOJP32DxoXpwok/qC1ms2XCiT8aLWAO4sGJPxsenZZewYk/Aq0FTNvAiT8wloIuWMCJP/il/D3Vv4k/mbhcelK/iT8uuovjz76JP56mcnlNvok/lIn6O8u9iT9rfgwrSb2JPyWwkUbHvIk/XVlzjkW8iT84xJoCxLuJP1lK8aJCu4k/1FRgb8G6iT8iXNFnQLqJPw7oLYy/uYk/so9f3D65iT9f+U9YvriJP5ra6P89uIk/B/gT0723iT9hJbvRPbeJP25FyPu9tok/7EklUT62iT+LM7zRvrWJP98Rd30/tYk/UANAVMC0iT8QNQFWQbSJPw/jpILCs4k/7lcV2kOziT/z7DxcxbKJP/kJBglHsok/aiVb4MixiT8uxCbiSrGJP6J5Uw7NsIk/iOfLZE+wiT//vXrl0a+JP3S7SpBUr4k/l6wmZdeuiT9QbPljWq6JP7HjrYzdrYk/7Qkv32CtiT9K5Gdb5KyJPxSGQwForIk/lRCt0OuriT8Hs4/Jb6uJP4qq1uvzqok/E0JtN3iqiT9q0j6s/KmJPxXCNkqBqYk/U4VAEQapiT8OnkcBi6iJP86bNxoQqIk/shv8W5WniT9hyIDGGqeJPwBasVmgpok/KpZ5FSamiT/cT8X5q6WJP3VngAYypYk/o8qWO7ikiT9adPSYPqSJP81shR7Fo4k/XMk1zEujiT+OrPGh0qKJPwdGpZ9Zook/eNI8xeChiT+am6QSaKGJPx/4yIfvoIk/qkuWJHegiT/EBvno/p+JP86m3dSGn4k//bUw6A6fiT9Ky94il56JP2iK1IQfnok/vaP+DaidiT9U1Em+MJ2JP9blopW5nIk/eq72k0KciT8EETK5y5uJP7D8QQVVm4k/MG0TeN6aiT+eapMRaJqJP3QJr9HxmYk/f2pTuHuZiT/Yum3FBZmJP9gz6/iPmIk/Dhu5UhqYiT85wsTSpJeJPzeH+3gvl4k/AdRKRbqWiT+fHqA3RZaJPx/p6E/QlYk/isESjluViT/bQQvy5pSJP/YPwHtylIk/nt0eK/6TiT9paBUAipOJP7x5kfoVk4k/vOaAGqKSiT9FkNFfLpKJP+diccq6kYk/01ZOWkeRiT/Yb1YP1JCJP1m9d+lgkIk/Qlqg6O2PiT8Abb4Me4+JP3UnwFUIj4k/9MaTw5WOiT8ylCdWI46JP0TjaQ2xjYk/jBNJ6T6NiT+7j7PpzIyJP77Nlw5bjIk/vE7kV+mLiT8Ln4fFd4uJPyVWcFcGi4k/ohaNDZWKiT8tjsznI4qJP3x1HeayiYk/SpBuCEKJiT9Gra5O0YiJPxamzLhgiIk/RF+3RvCHiT87yF34f4eJPzvbrs0Ph4k/Vp2Zxp+GiT9eHg3jL4aJP+h4+CLAhYk/OtJKhlCFiT9HWvMM4YSJP6VL4bZxhIk/husDhAKEiT+wiUp0k4OJP3GApIckg4k/mjQBvrWCiT94FVAXR4KJP8ecgJPYgYk/rk6CMmqBiT+0uUT0+4CJP7p2t9iNgIk/8yjK3x+AiT/YfWwJsn+JPyUtjlVEf4k/zvgexNZ+iT/4rA5VaX6JP/AfTQj8fYk/JDLK3Y59iT8cznXVIX2JP2/oP++0fIk/v38YK0h8iT+unO+I23uJP9dRtQhve4k/yLtZqgJ7iT/4AM1tlnqJP8BR/1Iqeok/VOjgWb55iT+7CGKCUnmJP8UAc8zmeIk/CSgEOHt4iT/X3wXFD3iJPzSTaHOkd4k/1LYcQzl3iT8NyRI0znaJP9VRO0Zjdok/t+KGefh1iT/PFubNjXWJP7+SSUMjdYk/qgSi2bh0iT8qJOCQTnSJP02y9Gjkc4k/innQYXpziT+8TWR7EHOJPxgMobWmcok/Kpt3ED1yiT/I6tiL03GJPxH0tSdqcYk/Y7n/4wBxiT9SRqfAl3CJP6Svnb0ucIk/ShPU2sVviT9WmDsYXW+JP/ZuxXX0bok/btBi84tuiT8P/wSRI26JPzBGnU67bYk/K/ocLFNtiT9QeHUp62yJP+ImmEaDbIk/EXV2gxtsiT/w2gHgs2uJP3DZK1xMa4k/W/rl9+RqiT9I0CGzfWqJP5r20I0Waok/dxHlh69piT/AzU+hSGmJPw7hAtrhaIk/pgnwMXtoiT93DgmpFGiJPxO/Pz+uZ4k/pfOF9EdniT/ujM3I4WaJPz50CLx7Zok/a5sozhVmiT/P/B//r2WJPz2b4E5KZYk//YFcveRkiT/ExIVKf2SJP7J/TvYZZIk/RteowLRjiT9a+IapT2OJPx0Y27DqYok/DnSX1oViiT/0Ua4aIWKJP9b/EX28YYk/+tO0/VdhiT/aLImc82CJPx5xgVmPYIk/mg+QNCtgiT9Ff6ctx1+JPzI/ukRjX4k/jNa6ef9eiT+P1JvMm16JP4LQTz04Xok/r2nJy9RdiT9jR/t3cV2JP+AY2EEOXYk/X5VSKatciT8CfF0uSFyJP9eT61DlW4k/yKvvkIJbiT+gmlzuH1uJP/s+JWm9Wok/R388AVtaiT+9SZW2+FmJP1iUIomWWYk/01zXeDRZiT+hqKaF0liJP+mEg69wWIk/fQZh9g5YiT/aSTJarVeJPx1z6tpLV4k//q18eOpWiT/PLdwyiVaJP3At/AkoVok/Te/P/cZViT9avUoOZlWJPwrpXzsFVYk/SssChaRUiT99xCbrQ1SJP3c8v23jU4k/dKK/DINTiT8WbRvIIlOJP2Aaxp/CUok/rS+zk2JSiT+tOdajAlKJP2DMItCiUYk/EIOMGENRiT9KAAd941CJP9zthf2DUIk/zPz8mSRQiT9Y5V9SxU+JP+lmoiZmT4k/Fki4FgdPiT+ZVpUiqE6JP0tnLUpJTok/IlZ0jepNiT8mBl7si02JP3Fh3mYtTYk/KVnp/M5MiT945XKucEyJP4oFb3sSTIk/hb/RY7RLiT+HII9nVkuJP6A8m4b4Sok/yi7qwJpKiT/qGHAWPUqJP8QjIYffSYk//X7xEoJJiT8OYdW5JEmJP0gHwXvHSIk/yLWoWGpIiT92t4BQDUiJP/1dPWOwR4k/yQHTkFNHiT8CAjbZ9kaJP4TEWjyaRok/3rU1uj1GiT9MSbtS4UWJP6/43wWFRYk/jUSY0yhFiT8JtNi7zESJP+LUlb5wRIk/aDvE2xREiT98glgTuUOJP4xLR2VdQ4k/iz6F0QFDiT/uCQdYpkKJP6ZiwfhKQok/HwSps+9BiT82sLKIlEGJPzov03c5QYk/5E//gN5AiT9Q5yukg0CJPwDRTeEoQIk/0O5ZOM4/iT/1KEWpcz+JP/ltBDQZP4k/tLKM2L4+iT9J8tKWZD6JPyIuzG4KPok/7G1tYLA9iT+Ov6trVj2JPyw3fJD8PIk/G+/TzqI8iT/kB6gmSTyJPzio7ZfvO4k/8/yZIpY7iT8SOaLGPDuJP7CV+4PjOok/BFKbWoo6iT9cs3ZKMTqJPxUFg1PYOYk/nJi1dX85iT9lxQOxJjmJP+voYgXOOIk/qGbIcnU4iT8VqCn5HDiJP6AcfJjEN4k/rTm1UGw3iT+PesohFDeJP4dgsQu8Nok/unJfDmQ2iT8zPsopDDaJP9tV5120NYk/dlKsqlw1iT+h0g4QBTWJP8h6BI6tNIk/K/WCJFY0iT/Q8X/T/jOJP4cm8ZqnM4k/4E7MelAziT8sLAdz+TKJP3aFl4OiMok/fSdzrEsyiT+45I/t9DGJP0eV40aeMYk/+BZkuEcxiT9ATQdC8TCJPzQhw+OaMIk/i4GNnUQwiT+VYlxv7i+JPzq+JVmYL4k/9JPfWkIviT/P6H907C6JP17H/KWWLok/wD9M70AuiT+WZ2RQ6y2JPwBaO8mVLYk/mzfHWUAtiT9+Jv4B6yyJPzBS1sGVLIk/r+tFmUAsiT9gKUOI6yuJPxVHxI6WK4k/BIa/rEEriT/GLCvi7CqJP1GH/S6YKok/9uYsk0MqiT9boq8O7ymJP3wVfKGaKYk/oqGIS0YpiT9ircsM8iiJP5ukO+WdKIk/bfjO1EkoiT88H3zb9SeJP6eUOfmhJ4k/iNn9LU4niT/vc795+iaJPx7vdNymJok/hNsUVlMmiT+/zpXm/yWJP5Jj7o2sJYk/\"},\"shape\":[1800],\"dtype\":\"float64\",\"order\":\"little\"}]]}}},\"view\":{\"type\":\"object\",\"name\":\"CDSView\",\"id\":\"p3336\",\"attributes\":{\"filter\":{\"type\":\"object\",\"name\":\"AllIndices\",\"id\":\"p3337\"}}},\"glyph\":{\"type\":\"object\",\"name\":\"Line\",\"id\":\"p3332\",\"attributes\":{\"tags\":[\"apply_ranges\"],\"x\":{\"type\":\"field\",\"field\":\"x\"},\"y\":{\"type\":\"field\",\"field\":\"y\"},\"line_color\":\"#fc4f30\",\"line_width\":2}},\"selection_glyph\":{\"type\":\"object\",\"name\":\"Line\",\"id\":\"p3339\",\"attributes\":{\"tags\":[\"apply_ranges\"],\"x\":{\"type\":\"field\",\"field\":\"x\"},\"y\":{\"type\":\"field\",\"field\":\"y\"},\"line_color\":\"#fc4f30\",\"line_width\":2}},\"nonselection_glyph\":{\"type\":\"object\",\"name\":\"Line\",\"id\":\"p3333\",\"attributes\":{\"tags\":[\"apply_ranges\"],\"x\":{\"type\":\"field\",\"field\":\"x\"},\"y\":{\"type\":\"field\",\"field\":\"y\"},\"line_color\":\"#fc4f30\",\"line_alpha\":0.1,\"line_width\":2}},\"muted_glyph\":{\"type\":\"object\",\"name\":\"Line\",\"id\":\"p3334\",\"attributes\":{\"tags\":[\"apply_ranges\"],\"x\":{\"type\":\"field\",\"field\":\"x\"},\"y\":{\"type\":\"field\",\"field\":\"y\"},\"line_color\":\"#fc4f30\",\"line_alpha\":0.2,\"line_width\":2}}}}],\"toolbar\":{\"type\":\"object\",\"name\":\"Toolbar\",\"id\":\"p3248\",\"attributes\":{\"tools\":[{\"type\":\"object\",\"name\":\"HoverTool\",\"id\":\"p3240\",\"attributes\":{\"tags\":[\"hv_created\"],\"renderers\":[{\"id\":\"p3305\"},{\"id\":\"p3321\"},{\"id\":\"p3335\"}],\"tooltips\":[[\"x\",\"@{x}\"],[\"y\",\"@{y}\"]]}},{\"type\":\"object\",\"name\":\"SaveTool\",\"id\":\"p3273\"},{\"type\":\"object\",\"name\":\"PanTool\",\"id\":\"p3274\"},{\"type\":\"object\",\"name\":\"WheelZoomTool\",\"id\":\"p3275\"},{\"type\":\"object\",\"name\":\"BoxZoomTool\",\"id\":\"p3276\",\"attributes\":{\"overlay\":{\"type\":\"object\",\"name\":\"BoxAnnotation\",\"id\":\"p3277\",\"attributes\":{\"syncable\":false,\"level\":\"overlay\",\"visible\":false,\"left_units\":\"canvas\",\"right_units\":\"canvas\",\"bottom_units\":\"canvas\",\"top_units\":\"canvas\",\"line_color\":\"black\",\"line_alpha\":1.0,\"line_width\":2,\"line_dash\":[4,4],\"fill_color\":\"lightgrey\",\"fill_alpha\":0.5}}}},{\"type\":\"object\",\"name\":\"ResetTool\",\"id\":\"p3278\"}],\"active_drag\":{\"id\":\"p3274\"},\"active_scroll\":{\"id\":\"p3275\"}}},\"left\":[{\"type\":\"object\",\"name\":\"LinearAxis\",\"id\":\"p3266\",\"attributes\":{\"ticker\":{\"type\":\"object\",\"name\":\"BasicTicker\",\"id\":\"p3269\",\"attributes\":{\"mantissas\":[1,2,5]}},\"formatter\":{\"type\":\"object\",\"name\":\"BasicTickFormatter\",\"id\":\"p3267\"},\"axis_label\":\"y\",\"axis_label_text_font_size\":\"19.5px\",\"major_label_policy\":{\"type\":\"object\",\"name\":\"AllLabels\",\"id\":\"p3268\"},\"major_label_text_font_size\":\"16.5px\"}}],\"below\":[{\"type\":\"object\",\"name\":\"LinearAxis\",\"id\":\"p3259\",\"attributes\":{\"ticker\":{\"type\":\"object\",\"name\":\"BasicTicker\",\"id\":\"p3262\",\"attributes\":{\"mantissas\":[1,2,5]}},\"formatter\":{\"type\":\"object\",\"name\":\"BasicTickFormatter\",\"id\":\"p3260\"},\"axis_label\":\"ToT2 (ns)\",\"axis_label_text_font_size\":\"19.5px\",\"major_label_policy\":{\"type\":\"object\",\"name\":\"AllLabels\",\"id\":\"p3261\"},\"major_label_text_font_size\":\"16.5px\"}}],\"center\":[{\"type\":\"object\",\"name\":\"Grid\",\"id\":\"p3265\",\"attributes\":{\"axis\":{\"id\":\"p3259\"},\"ticker\":{\"id\":\"p3262\"}}},{\"type\":\"object\",\"name\":\"Grid\",\"id\":\"p3272\",\"attributes\":{\"dimension\":1,\"axis\":{\"id\":\"p3266\"},\"ticker\":{\"id\":\"p3269\"}}},{\"type\":\"object\",\"name\":\"Legend\",\"id\":\"p3308\",\"attributes\":{\"title_text_font_size\":\"19.5px\",\"click_policy\":\"mute\",\"label_text_font_size\":\"19.5px\",\"items\":[{\"type\":\"object\",\"name\":\"LegendItem\",\"id\":\"p3309\",\"attributes\":{\"label\":{\"type\":\"value\",\"value\":\"fit parameter A\"},\"renderers\":[{\"id\":\"p3305\"},{\"id\":\"p3321\"}]}},{\"type\":\"object\",\"name\":\"LegendItem\",\"id\":\"p3338\",\"attributes\":{\"label\":{\"type\":\"value\",\"value\":\"2.17e+00, -1.29e+02, 1.11e-02\"},\"renderers\":[{\"id\":\"p3335\"}]}}]}}],\"min_border_top\":10,\"min_border_bottom\":10,\"min_border_left\":10,\"min_border_right\":10,\"output_backend\":\"webgl\"}},{\"type\":\"object\",\"name\":\"Spacer\",\"id\":\"p3368\",\"attributes\":{\"name\":\"HSpacer07458\",\"stylesheets\":[\"\\n:host(.pn-loading.pn-arc):before, .pn-loading.pn-arc:before {\\n  background-image: url(\\\"data:image/svg+xml;base64,PHN2ZyB4bWxucz0iaHR0cDovL3d3dy53My5vcmcvMjAwMC9zdmciIHN0eWxlPSJtYXJnaW46IGF1dG87IGJhY2tncm91bmQ6IG5vbmU7IGRpc3BsYXk6IGJsb2NrOyBzaGFwZS1yZW5kZXJpbmc6IGF1dG87IiB2aWV3Qm94PSIwIDAgMTAwIDEwMCIgcHJlc2VydmVBc3BlY3RSYXRpbz0ieE1pZFlNaWQiPiAgPGNpcmNsZSBjeD0iNTAiIGN5PSI1MCIgZmlsbD0ibm9uZSIgc3Ryb2tlPSIjYzNjM2MzIiBzdHJva2Utd2lkdGg9IjEwIiByPSIzNSIgc3Ryb2tlLWRhc2hhcnJheT0iMTY0LjkzMzYxNDMxMzQ2NDE1IDU2Ljk3Nzg3MTQzNzgyMTM4Ij4gICAgPGFuaW1hdGVUcmFuc2Zvcm0gYXR0cmlidXRlTmFtZT0idHJhbnNmb3JtIiB0eXBlPSJyb3RhdGUiIHJlcGVhdENvdW50PSJpbmRlZmluaXRlIiBkdXI9IjFzIiB2YWx1ZXM9IjAgNTAgNTA7MzYwIDUwIDUwIiBrZXlUaW1lcz0iMDsxIj48L2FuaW1hdGVUcmFuc2Zvcm0+ICA8L2NpcmNsZT48L3N2Zz4=\\\");\\n  background-size: auto calc(min(50%, 400px));\\n}\",{\"id\":\"p3236\"},{\"id\":\"p3234\"},{\"id\":\"p3235\"}],\"margin\":0,\"sizing_mode\":\"stretch_width\",\"align\":\"start\"}}]}}],\"callbacks\":{\"type\":\"map\"}}};\n",
       "  var render_items = [{\"docid\":\"9167a121-96b7-4349-a73e-21767254ceaa\",\"roots\":{\"p3233\":\"eb039141-4f4f-4e2a-b265-4a7234c7b993\"},\"root_ids\":[\"p3233\"]}];\n",
       "  var docs = Object.values(docs_json)\n",
       "  if (!docs) {\n",
       "    return\n",
       "  }\n",
       "  const py_version = docs[0].version.replace('rc', '-rc.').replace('.dev', '-dev.')\n",
       "  const is_dev = py_version.indexOf(\"+\") !== -1 || py_version.indexOf(\"-\") !== -1\n",
       "  function embed_document(root) {\n",
       "    var Bokeh = get_bokeh(root)\n",
       "    Bokeh.embed.embed_items_notebook(docs_json, render_items);\n",
       "    for (const render_item of render_items) {\n",
       "      for (const root_id of render_item.root_ids) {\n",
       "\tconst id_el = document.getElementById(root_id)\n",
       "\tif (id_el.children.length && (id_el.children[0].className === 'bk-root')) {\n",
       "\t  const root_el = id_el.children[0]\n",
       "\t  root_el.id = root_el.id + '-rendered'\n",
       "\t}\n",
       "      }\n",
       "    }\n",
       "  }\n",
       "  function get_bokeh(root) {\n",
       "    if (root.Bokeh === undefined) {\n",
       "      return null\n",
       "    } else if (root.Bokeh.version !== py_version && !is_dev) {\n",
       "      if (root.Bokeh.versions === undefined || !root.Bokeh.versions.has(py_version)) {\n",
       "\treturn null\n",
       "      }\n",
       "      return root.Bokeh.versions.get(py_version);\n",
       "    } else if (root.Bokeh.version === py_version) {\n",
       "      return root.Bokeh\n",
       "    }\n",
       "    return null\n",
       "  }\n",
       "  function is_loaded(root) {\n",
       "    var Bokeh = get_bokeh(root)\n",
       "    return (Bokeh != null && Bokeh.Panel !== undefined)\n",
       "  }\n",
       "  if (is_loaded(root)) {\n",
       "    embed_document(root);\n",
       "  } else {\n",
       "    var attempts = 0;\n",
       "    var timer = setInterval(function(root) {\n",
       "      if (is_loaded(root)) {\n",
       "        clearInterval(timer);\n",
       "        embed_document(root);\n",
       "      } else if (document.readyState == \"complete\") {\n",
       "        attempts++;\n",
       "        if (attempts > 200) {\n",
       "          clearInterval(timer);\n",
       "\t  var Bokeh = get_bokeh(root)\n",
       "\t  if (Bokeh == null || Bokeh.Panel == null) {\n",
       "            console.warn(\"Panel: ERROR: Unable to run Panel code because Bokeh or Panel library is missing\");\n",
       "\t  } else {\n",
       "\t    console.warn(\"Panel: WARNING: Attempting to render but not all required libraries could be resolved.\")\n",
       "\t    embed_document(root)\n",
       "\t  }\n",
       "        }\n",
       "      }\n",
       "    }, 25, root)\n",
       "  }\n",
       "})(window);</script>"
      ],
      "text/plain": [
       ":Overlay\n",
       "   .Curve.Fit_parameter_A                                                                                            :Curve   [x]   (y)\n",
       "   .Scatter.Fit_parameter_A                                                                                          :Scatter   [x]   (y)\n",
       "   .Curve.A_2_full_stop_17e_plus_00_comma_hyphen_minus_1_full_stop_29e_plus_02_comma_1_full_stop_11e_hyphen_minus_02 :Curve   [x]   (y)"
      ]
     },
     "execution_count": 17,
     "metadata": {
      "application/vnd.holoviews_exec.v0+json": {
       "id": "p3233"
      }
     },
     "output_type": "execute_result"
    }
   ],
   "source": [
    "model = lambda ToT, d, B, g: d / (ToT + B) + g\n",
    "popt, _ = curve_fit(model, params_expfit['ToT2'][1:], params_expfit['A'][1:], p0=[6, 39, 8e-3])\n",
    "x_axe = range(200, 2000)\n",
    "\n",
    "a = hv.Curve((params_expfit['ToT2'], params_expfit['c']), label=f'fit parameter c: median={params_expfit[\"c\"].median():.3f}')\n",
    "b = (hv.Curve((params_expfit['ToT2'], params_expfit['A']), label=f'fit parameter A').opts(xlabel='ToT2 (ns)', fontscale=1.5) *\n",
    "     hv.Scatter((params_expfit['ToT2'], params_expfit['A']), label=f'fit parameter A').opts(size=5) *\n",
    "     hv.Curve((x_axe, model(x_axe, *popt)), label=', '.join([f'{i:.2e}' for i in popt])))\n",
    "\n",
    "#hv.Layout(a + b).opts(shared_axes=False)\n",
    "b"
   ]
  },
  {
   "attachments": {},
   "cell_type": "markdown",
   "metadata": {},
   "source": [
    "## step 4\n",
    "all parameters are together for the model\n",
    "$$\n",
    "ToT_1 \\exp(-t / c) \\left(\\frac{d}{ToT_2 + B} + g\\right)\n",
    "$$"
   ]
  },
  {
   "cell_type": "code",
   "execution_count": 18,
   "metadata": {},
   "outputs": [
    {
     "name": "stdout",
     "output_type": "stream",
     "text": [
      "c = 7.871193\n",
      "d = 2.17\n",
      "B = -128.8\n",
      "g = 0.011\n"
     ]
    }
   ],
   "source": [
    "print(f'c = {params_expfit[\"c\"][2:].median():2f}')\n",
    "print(f'd = {popt[0]:.2f}')\n",
    "print(f'B = {popt[1]:.1f}')\n",
    "print(f'g = {popt[2]:.3f}')"
   ]
  },
  {
   "cell_type": "code",
   "execution_count": 19,
   "metadata": {},
   "outputs": [
    {
     "data": {
      "text/plain": [
       "(-3.6713603917653774, 9.869431633223648)"
      ]
     },
     "execution_count": 19,
     "metadata": {},
     "output_type": "execute_result"
    }
   ],
   "source": [
    "d = popt[0]\n",
    "B = popt[1]\n",
    "g = popt[2]\n",
    "c = params_expfit[\"c\"].median()\n",
    "t = 2\n",
    "model = lambda ToT1, ToT2, t, d, g, B: ToT1 * np.exp(-t / c) * (d / (ToT2 + B) + g)\n",
    "\n",
    "\n",
    "ToT1 = range(100, 2050, 100)\n",
    "ToT2 = range(200, 2050, 100)\n",
    "H_model = np.array([model(i, ToT2, t, d, g, B) for i in ToT1]).T[::-1]\n",
    "a = hv.Image(H_model, bounds=[ToT1[0]-50, ToT2[0]-50, ToT1[-1]+50, ToT2[-1]+50], label=f'model: {t} µs').opts(xlabel=\"ToT1 (ns)\", ylabel=\"ToT2 (ns)\")\n",
    "\n",
    "xy_exp, x_bins, y_bins, binnumber = binned_statistic_2d(tot1_tot2['ToT1'], tot1_tot2['ToT2'], \n",
    "    tot1_tot2[f'relativ loss {t}µs'], bins=(range(50, 2150, 100), range(150, 2150, 100)))\n",
    "H_exp = xy_exp.T[::-1]\n",
    "#x = get_x_axis_from_bins(x_bins)\n",
    "#y = get_x_axis_from_bins(y_bins)\n",
    "b = hv.Image(H_exp,\n",
    "    bounds=(x_bins[0], y_bins[0], x_bins[-1], y_bins[-1])).opts(title=f\"experiment: loss (%) at {t}µs\")\n",
    "#b = hv.Curve((x_bins, xy_hist.diagonal()*100)).opts(axiswise=True, title=\"relative loss on diagonal\", xlabel=\"ToT\", ylabel=\"relative loss (%)\")\n",
    "#(a + b).cols(1)\n",
    "\n",
    "H_diff = H_exp - H_model\n",
    "c = hv.Image(H_diff,\n",
    "    bounds=(x_bins[0], y_bins[0], x_bins[-1], y_bins[-1])).opts(title=f\"differenence (%)at {t}µs\", cmap='coolwarm', shared_axes=False)\n",
    "\n",
    "np.nanmin(H_diff), np.nanmax(H_diff)\n",
    "#(a + b + c).opts(opts.Image(xlabel='ToT1 (ns)', ylabel='ToT2 (ns)', cmap='jet', colorbar=True, clim=(0, 65), fontscale=1.5))"
   ]
  },
  {
   "cell_type": "code",
   "execution_count": 20,
   "metadata": {},
   "outputs": [
    {
     "ename": "NameError",
     "evalue": "name 'plt' is not defined",
     "output_type": "error",
     "traceback": [
      "\u001b[0;31m---------------------------------------------------------------------------\u001b[0m",
      "\u001b[0;31mNameError\u001b[0m                                 Traceback (most recent call last)",
      "Cell \u001b[0;32mIn[20], line 4\u001b[0m\n\u001b[1;32m      1\u001b[0m text_pos_x \u001b[39m=\u001b[39m \u001b[39m0.05\u001b[39m\n\u001b[1;32m      2\u001b[0m text_pos_y \u001b[39m=\u001b[39m \u001b[39m0.85\u001b[39m\n\u001b[0;32m----> 4\u001b[0m fig, ax \u001b[39m=\u001b[39m plt\u001b[39m.\u001b[39msubplots(\u001b[39m1\u001b[39m, \u001b[39m3\u001b[39m, sharex\u001b[39m=\u001b[39m\u001b[39mTrue\u001b[39;00m, sharey\u001b[39m=\u001b[39m\u001b[39mTrue\u001b[39;00m)\n\u001b[1;32m      5\u001b[0m axis_lim \u001b[39m=\u001b[39m [ToT1[\u001b[39m0\u001b[39m], ToT1[\u001b[39m-\u001b[39m\u001b[39m1\u001b[39m], ToT2[\u001b[39m0\u001b[39m], ToT1[\u001b[39m-\u001b[39m\u001b[39m1\u001b[39m]]\n\u001b[1;32m      6\u001b[0m \u001b[39mfor\u001b[39;00m p, c, l, abc, axe \u001b[39min\u001b[39;00m \u001b[39mzip\u001b[39m((H_model, H_exp, H_diff), \n\u001b[1;32m      7\u001b[0m                      (\u001b[39m'\u001b[39m\u001b[39mviridis\u001b[39m\u001b[39m'\u001b[39m, \u001b[39m'\u001b[39m\u001b[39mviridis\u001b[39m\u001b[39m'\u001b[39m, \u001b[39m'\u001b[39m\u001b[39mcoolwarm\u001b[39m\u001b[39m'\u001b[39m),\n\u001b[1;32m      8\u001b[0m                      (\u001b[39mf\u001b[39m\u001b[39m'\u001b[39m\u001b[39mmodel (\u001b[39m\u001b[39m\\\u001b[39m\u001b[39m%) \u001b[39m\u001b[39m{\u001b[39;00mt\u001b[39m}\u001b[39;00m\u001b[39m µs\u001b[39m\u001b[39m'\u001b[39m, \u001b[39mf\u001b[39m\u001b[39m'\u001b[39m\u001b[39mexp. (\u001b[39m\u001b[39m\\\u001b[39m\u001b[39m%) \u001b[39m\u001b[39m{\u001b[39;00mt\u001b[39m}\u001b[39;00m\u001b[39m µs\u001b[39m\u001b[39m'\u001b[39m, \u001b[39mr\u001b[39m\u001b[39m'\u001b[39m\u001b[39m$\u001b[39m\u001b[39m\\\u001b[39m\u001b[39mDelta$(m, exp) (\u001b[39m\u001b[39m\\\u001b[39m\u001b[39m%\u001b[39m\u001b[39m)\u001b[39m\u001b[39m'\u001b[39m),\n\u001b[1;32m      9\u001b[0m                      ((\u001b[39m'\u001b[39m\u001b[39ma\u001b[39m\u001b[39m'\u001b[39m, \u001b[39m'\u001b[39m\u001b[39mlight\u001b[39m\u001b[39m'\u001b[39m), (\u001b[39m'\u001b[39m\u001b[39mb\u001b[39m\u001b[39m'\u001b[39m, \u001b[39m'\u001b[39m\u001b[39mlight\u001b[39m\u001b[39m'\u001b[39m), (\u001b[39m'\u001b[39m\u001b[39mc\u001b[39m\u001b[39m'\u001b[39m, \u001b[39m'\u001b[39m\u001b[39mdim\u001b[39m\u001b[39m'\u001b[39m)),\n\u001b[1;32m     10\u001b[0m                      ax):\n",
      "\u001b[0;31mNameError\u001b[0m: name 'plt' is not defined"
     ]
    }
   ],
   "source": [
    "text_pos_x = 0.05\n",
    "text_pos_y = 0.85\n",
    "\n",
    "fig, ax = plt.subplots(1, 3, sharex=True, sharey=True)\n",
    "axis_lim = [ToT1[0], ToT1[-1], ToT2[0], ToT1[-1]]\n",
    "for p, c, l, abc, axe in zip((H_model, H_exp, H_diff), \n",
    "                     ('viridis', 'viridis', 'coolwarm'),\n",
    "                     (f'model (\\%) {t} µs', f'exp. (\\%) {t} µs', r'$\\Delta$(m, exp) (\\%)'),\n",
    "                     (('a', 'light'), ('b', 'light'), ('c', 'dim')),\n",
    "                     ax):\n",
    "    ax_im = axe.imshow(p, extent=axis_lim, cmap=c)\n",
    "    axe.set_xlabel('ToT1 (ns)')\n",
    "    axe.text(text_pos_x, text_pos_y, abc[0], fontsize=ftsz, color=f'{abc[1]}grey', transform=axe.transAxes)\n",
    "    \n",
    "    ax1_divider = make_axes_locatable(axe)\n",
    "    cax1 = ax1_divider.append_axes(\"top\", size=\"3%\", pad=\"2%\")\n",
    "    cbar = plt.colorbar(ax_im, cax=cax1, orientation=\"horizontal\")\n",
    "    cbar.ax.xaxis.set_label_position(\"top\")\n",
    "    cbar.set_label(l, rotation=0)\n",
    "    cax1.xaxis.set_ticks_position(\"top\")\n",
    "    \n",
    "ax[0].set_ylabel('ToT2 (ns)')\n"
   ]
  }
 ],
 "metadata": {
  "kernelspec": {
   "display_name": "timepix",
   "language": "python",
   "name": "python3"
  },
  "language_info": {
   "codemirror_mode": {
    "name": "ipython",
    "version": 3
   },
   "file_extension": ".py",
   "mimetype": "text/x-python",
   "name": "python",
   "nbconvert_exporter": "python",
   "pygments_lexer": "ipython3",
   "version": "3.11.4"
  },
  "orig_nbformat": 4
 },
 "nbformat": 4,
 "nbformat_minor": 2
}
